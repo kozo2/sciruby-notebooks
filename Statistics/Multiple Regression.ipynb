{
 "cells": [
  {
   "cell_type": "markdown",
   "metadata": {},
   "source": [
    "# Multiple Regression\n",
    "\n",
    "This example shows how multiple regression can be performed using statsample and daru.\n",
    "\n",
    "The `lr()` shorthand will call the function Statsample::Regression.multiple. It should be\n",
    "noted that internally statsample implements multiple regression using either Ruby methods\n",
    "or GSL methods. This lets statsample run even in the absence of gsl. But ruby implementations\n",
    "of functions are much much slower than those from GSL, and hence it is recomended that you\n",
    "install the [rb-gsl](https://github.com/blackwinter/rb-gsl) or [gsl-nmatrix](https://github.com/v0dro/gsl-nmatrix) gems before proceeding (these will work only on MRI).\n",
    "\n",
    "Rb-gsl can be installed from rubygems directly with `gem install rb-gsl`. To see how to install\n",
    "gsl-nmatrix, see [this blog post](http://v0dro.github.io/blog/2015/05/12/making-statsample-work-with-rb-gsl-and-gsl-nmatrix/)."
   ]
  },
  {
   "cell_type": "code",
   "execution_count": 1,
   "metadata": {
    "collapsed": false
   },
   "outputs": [
    {
     "data": {
      "application/javascript": [
       "if(window['d3'] === undefined ||\n",
       "   window['Nyaplot'] === undefined){\n",
       "    var path = {\"d3\":\"https://cdnjs.cloudflare.com/ajax/libs/d3/3.5.5/d3.min\",\"downloadable\":\"https://cdn.rawgit.com/domitry/d3-downloadable/master/d3-downloadable\"};\n",
       "\n",
       "\n",
       "\n",
       "    var shim = {\"d3\":{\"exports\":\"d3\"},\"downloadable\":{\"exports\":\"downloadable\"}};\n",
       "\n",
       "    require.config({paths: path, shim:shim});\n",
       "\n",
       "\n",
       "require(['d3'], function(d3){window['d3']=d3;console.log('finished loading d3');require(['downloadable'], function(downloadable){window['downloadable']=downloadable;console.log('finished loading downloadable');\n",
       "\n",
       "\tvar script = d3.select(\"head\")\n",
       "\t    .append(\"script\")\n",
       "\t    .attr(\"src\", \"https://cdn.rawgit.com/domitry/Nyaplotjs/master/release/nyaplot.js\")\n",
       "\t    .attr(\"async\", true);\n",
       "\n",
       "\tscript[0][0].onload = script[0][0].onreadystatechange = function(){\n",
       "\n",
       "\n",
       "\t    var event = document.createEvent(\"HTMLEvents\");\n",
       "\t    event.initEvent(\"load_nyaplot\",false,false);\n",
       "\t    window.dispatchEvent(event);\n",
       "\t    console.log('Finished loading Nyaplotjs');\n",
       "\n",
       "\t};\n",
       "\n",
       "\n",
       "});});\n",
       "}\n"
      ],
      "text/plain": [
       "\"if(window['d3'] === undefined ||\\n   window['Nyaplot'] === undefined){\\n    var path = {\\\"d3\\\":\\\"https://cdnjs.cloudflare.com/ajax/libs/d3/3.5.5/d3.min\\\",\\\"downloadable\\\":\\\"https://cdn.rawgit.com/domitry/d3-downloadable/master/d3-downloadable\\\"};\\n\\n\\n\\n    var shim = {\\\"d3\\\":{\\\"exports\\\":\\\"d3\\\"},\\\"downloadable\\\":{\\\"exports\\\":\\\"downloadable\\\"}};\\n\\n    require.config({paths: path, shim:shim});\\n\\n\\nrequire(['d3'], function(d3){window['d3']=d3;console.log('finished loading d3');require(['downloadable'], function(downloadable){window['downloadable']=downloadable;console.log('finished loading downloadable');\\n\\n\\tvar script = d3.select(\\\"head\\\")\\n\\t    .append(\\\"script\\\")\\n\\t    .attr(\\\"src\\\", \\\"https://cdn.rawgit.com/domitry/Nyaplotjs/master/release/nyaplot.js\\\")\\n\\t    .attr(\\\"async\\\", true);\\n\\n\\tscript[0][0].onload = script[0][0].onreadystatechange = function(){\\n\\n\\n\\t    var event = document.createEvent(\\\"HTMLEvents\\\");\\n\\t    event.initEvent(\\\"load_nyaplot\\\",false,false);\\n\\t    window.dispatchEvent(event);\\n\\t    console.log('Finished loading Nyaplotjs');\\n\\n\\t};\\n\\n\\n});});\\n}\\n\""
      ]
     },
     "metadata": {},
     "output_type": "display_data"
    },
    {
     "name": "stdout",
     "output_type": "stream",
     "text": [
      "Analysis 2016-03-26 02:39:03 +0000\n",
      "= Statsample::Regression::Multiple\n",
      "  == Multiple reggresion of a,b,cc,d on y\n",
      "    Engine: Statsample::Regression::Multiple::RubyEngine\n",
      "    Cases(listwise)=2000(2000)\n",
      "    R=0.987\n",
      "    R^2=0.975\n",
      "    R^2 Adj=0.975\n",
      "    Std.Error R=0.992\n",
      "    Equation=-0.004 + 4.990a + 2.965b + 1.986cc + 0.991d\n",
      "    === ANOVA\n",
      "      ANOVA Table\n",
      "+------------+-----------+------+-----------+-----------+-------+\n",
      "|   source   |    ss     |  df  |    ms     |     f     |   p   |\n",
      "+------------+-----------+------+-----------+-----------+-------+\n",
      "| Regression | 76290.828 | 4    | 19072.707 | 19373.613 | 0.000 |\n",
      "| Error      | 1964.014  | 1995 | 0.984     |           |       |\n",
      "| Total      | 78254.842 | 1999 | 19073.691 |           |       |\n",
      "+------------+-----------+------+-----------+-----------+-------+\n",
      "\n",
      "    Beta coefficients\n",
      "+----------+--------+-------+-------+---------+\n",
      "|  coeff   |   b    | beta  |  se   |    t    |\n",
      "+----------+--------+-------+-------+---------+\n",
      "| Constant | -0.004 | -     | 0.022 | -0.170  |\n",
      "| a        | 4.990  | 0.805 | 0.022 | 226.825 |\n",
      "| b        | 2.965  | 0.460 | 0.023 | 129.376 |\n",
      "| cc       | 1.986  | 0.317 | 0.022 | 89.238  |\n",
      "| d        | 0.991  | 0.160 | 0.022 | 44.963  |\n",
      "+----------+--------+-------+-------+---------+\n",
      "\n",
      "\n"
     ]
    }
   ],
   "source": [
    "require 'statsample'\n",
    "\n",
    "Statsample::Analysis.store(Statsample::Regression::Multiple) do\n",
    "  Daru.lazy_update = true\n",
    "  \n",
    "  samples=2000\n",
    "  ds = Daru::DataFrame.new({\n",
    "    :a  => rnorm(samples),\n",
    "    :b  => rnorm(samples),\n",
    "    :cc => rnorm(samples),\n",
    "    :d  => rnorm(samples)}, clone: false)\n",
    "  attach(ds)\n",
    "  ds[:y] = a*5+b*3+cc*2+d+rnorm(samples)\n",
    "  \n",
    "  # REMEMBER: It is _mandatory_ to call #update after assingnment cycles if your \n",
    "  # operations to be performed as expected.\n",
    "  ds.update\n",
    "  summary lr(ds,:y)\n",
    "  \n",
    "  Daru.lazy_update = false\n",
    "end\n",
    "Statsample::Analysis.run_batch"
   ]
  }
 ],
 "metadata": {
  "kernelspec": {
   "display_name": "Ruby 2.2.1",
   "language": "ruby",
   "name": "ruby"
  },
  "language_info": {
   "file_extension": ".rb",
   "mimetype": "application/x-ruby",
   "name": "ruby",
   "version": "2.2.1"
  }
 },
 "nbformat": 4,
 "nbformat_minor": 0
}
