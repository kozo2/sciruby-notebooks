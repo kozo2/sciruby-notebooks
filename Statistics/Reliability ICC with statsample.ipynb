{
 "cells": [
  {
   "cell_type": "markdown",
   "metadata": {},
   "source": [
    "# Reliability ICC analysis with statsample"
   ]
  },
  {
   "cell_type": "code",
   "execution_count": 1,
   "metadata": {
    "collapsed": false
   },
   "outputs": [
    {
     "data": {
      "application/javascript": [
       "if(window['d3'] === undefined ||\n",
       "   window['Nyaplot'] === undefined){\n",
       "    var path = {\"d3\":\"https://cdnjs.cloudflare.com/ajax/libs/d3/3.5.5/d3.min\",\"downloadable\":\"https://cdn.rawgit.com/domitry/d3-downloadable/master/d3-downloadable\"};\n",
       "\n",
       "\n",
       "\n",
       "    var shim = {\"d3\":{\"exports\":\"d3\"},\"downloadable\":{\"exports\":\"downloadable\"}};\n",
       "\n",
       "    require.config({paths: path, shim:shim});\n",
       "\n",
       "\n",
       "require(['d3'], function(d3){window['d3']=d3;console.log('finished loading d3');require(['downloadable'], function(downloadable){window['downloadable']=downloadable;console.log('finished loading downloadable');\n",
       "\n",
       "\tvar script = d3.select(\"head\")\n",
       "\t    .append(\"script\")\n",
       "\t    .attr(\"src\", \"https://cdn.rawgit.com/domitry/Nyaplotjs/master/release/nyaplot.js\")\n",
       "\t    .attr(\"async\", true);\n",
       "\n",
       "\tscript[0][0].onload = script[0][0].onreadystatechange = function(){\n",
       "\n",
       "\n",
       "\t    var event = document.createEvent(\"HTMLEvents\");\n",
       "\t    event.initEvent(\"load_nyaplot\",false,false);\n",
       "\t    window.dispatchEvent(event);\n",
       "\t    console.log('Finished loading Nyaplotjs');\n",
       "\n",
       "\t};\n",
       "\n",
       "\n",
       "});});\n",
       "}\n"
      ],
      "text/plain": [
       "\"if(window['d3'] === undefined ||\\n   window['Nyaplot'] === undefined){\\n    var path = {\\\"d3\\\":\\\"https://cdnjs.cloudflare.com/ajax/libs/d3/3.5.5/d3.min\\\",\\\"downloadable\\\":\\\"https://cdn.rawgit.com/domitry/d3-downloadable/master/d3-downloadable\\\"};\\n\\n\\n\\n    var shim = {\\\"d3\\\":{\\\"exports\\\":\\\"d3\\\"},\\\"downloadable\\\":{\\\"exports\\\":\\\"downloadable\\\"}};\\n\\n    require.config({paths: path, shim:shim});\\n\\n\\nrequire(['d3'], function(d3){window['d3']=d3;console.log('finished loading d3');require(['downloadable'], function(downloadable){window['downloadable']=downloadable;console.log('finished loading downloadable');\\n\\n\\tvar script = d3.select(\\\"head\\\")\\n\\t    .append(\\\"script\\\")\\n\\t    .attr(\\\"src\\\", \\\"https://cdn.rawgit.com/domitry/Nyaplotjs/master/release/nyaplot.js\\\")\\n\\t    .attr(\\\"async\\\", true);\\n\\n\\tscript[0][0].onload = script[0][0].onreadystatechange = function(){\\n\\n\\n\\t    var event = document.createEvent(\\\"HTMLEvents\\\");\\n\\t    event.initEvent(\\\"load_nyaplot\\\",false,false);\\n\\t    window.dispatchEvent(event);\\n\\t    console.log('Finished loading Nyaplotjs');\\n\\n\\t};\\n\\n\\n});});\\n}\\n\""
      ]
     },
     "metadata": {},
     "output_type": "display_data"
    },
    {
     "name": "stdout",
     "output_type": "stream",
     "text": [
      "Analysis 2016-03-26 10:21:47 +0000\n",
      "= Statsample::Reliability::ICC\n",
      "  == Intra-class correlation\n",
      "    McGraw & Wong ICC(A,K)\n",
      "    ICC: 0.9712\n",
      "    F Test : F(999.00, 534.39) = 37.1753 , p = 0.0000\n",
      "    CI (95.00): [0.9665 - 0.9751]\n",
      "  == Intra-class correlation\n",
      "    McGraw & Wong ICC(A,K)\n",
      "    ICC: 0.9712\n",
      "    F Test : F(999.00, 534.39) = 37.1753 , p = 0.0000\n",
      "    CI (95.00): [0.9665 - 0.9751]\n",
      "  == Intra-class correlation\n",
      "    McGraw & Wong ICC(A,K)\n",
      "    ICC: 0.9712\n",
      "    F Test : F(999.00, 534.39) = 37.1753 , p = 0.0000\n",
      "    CI (95.00): [0.9665 - 0.9751]\n",
      "\n"
     ]
    }
   ],
   "source": [
    "require 'statsample'\n",
    "\n",
    "Statsample::Analysis.store(Statsample::Reliability::ICC) do\n",
    "  Daru.lazy_update = true\n",
    "  size=1000\n",
    "  a = Daru::Vector.new_with_size(size) {rand(10)}\n",
    "  \n",
    "  # The `recode` method acts similarly to `map`, the difference\n",
    "  # being that `recode` returns a Daru::Vector using the value\n",
    "  # returned by each run of the block\n",
    "  b = a.recode{|i|i+rand(4)-2}\n",
    "  c = a.recode{|i|i+rand(4)-2}\n",
    "  d = a.recode{|i|i+rand(4)-2}\n",
    "  @ds = Daru::DataFrame.new({:a => a,:b => b,:c => c,:d => d})\n",
    "  @icc=Statsample::Reliability::ICC.new(@ds)\n",
    "  summary(@icc)\n",
    "  @icc.type=:icc_3_1\n",
    "  summary(@icc)\n",
    "  @icc.type=:icc_a_k\n",
    "  summary(@icc)\n",
    "  \n",
    "  Daru.lazy_update = false\n",
    "end\n",
    "\n",
    "Statsample::Analysis.run_batch"
   ]
  }
 ],
 "metadata": {
  "kernelspec": {
   "display_name": "Ruby 2.2.1",
   "language": "ruby",
   "name": "ruby"
  },
  "language_info": {
   "file_extension": ".rb",
   "mimetype": "application/x-ruby",
   "name": "ruby",
   "version": "2.2.1"
  }
 },
 "nbformat": 4,
 "nbformat_minor": 0
}
