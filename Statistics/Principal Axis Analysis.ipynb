{
 "cells": [
  {
   "cell_type": "markdown",
   "metadata": {},
   "source": [
    "# Principal Axis Analysis\n",
    "\n",
    "Here we use the Statsample::Factor::PrincipalAnalysis class for principal axis analysis for a correlation or covariance matrix."
   ]
  },
  {
   "cell_type": "code",
   "execution_count": 1,
   "metadata": {
    "collapsed": false
   },
   "outputs": [
    {
     "data": {
      "application/javascript": [
       "if(window['d3'] === undefined ||\n",
       "   window['Nyaplot'] === undefined){\n",
       "    var path = {\"d3\":\"https://cdnjs.cloudflare.com/ajax/libs/d3/3.5.5/d3.min\",\"downloadable\":\"https://cdn.rawgit.com/domitry/d3-downloadable/master/d3-downloadable\"};\n",
       "\n",
       "\n",
       "\n",
       "    var shim = {\"d3\":{\"exports\":\"d3\"},\"downloadable\":{\"exports\":\"downloadable\"}};\n",
       "\n",
       "    require.config({paths: path, shim:shim});\n",
       "\n",
       "\n",
       "require(['d3'], function(d3){window['d3']=d3;console.log('finished loading d3');require(['downloadable'], function(downloadable){window['downloadable']=downloadable;console.log('finished loading downloadable');\n",
       "\n",
       "\tvar script = d3.select(\"head\")\n",
       "\t    .append(\"script\")\n",
       "\t    .attr(\"src\", \"https://cdn.rawgit.com/domitry/Nyaplotjs/master/release/nyaplot.js\")\n",
       "\t    .attr(\"async\", true);\n",
       "\n",
       "\tscript[0][0].onload = script[0][0].onreadystatechange = function(){\n",
       "\n",
       "\n",
       "\t    var event = document.createEvent(\"HTMLEvents\");\n",
       "\t    event.initEvent(\"load_nyaplot\",false,false);\n",
       "\t    window.dispatchEvent(event);\n",
       "\t    console.log('Finished loading Nyaplotjs');\n",
       "\n",
       "\t};\n",
       "\n",
       "\n",
       "});});\n",
       "}\n"
      ],
      "text/plain": [
       "\"if(window['d3'] === undefined ||\\n   window['Nyaplot'] === undefined){\\n    var path = {\\\"d3\\\":\\\"https://cdnjs.cloudflare.com/ajax/libs/d3/3.5.5/d3.min\\\",\\\"downloadable\\\":\\\"https://cdn.rawgit.com/domitry/d3-downloadable/master/d3-downloadable\\\"};\\n\\n\\n\\n    var shim = {\\\"d3\\\":{\\\"exports\\\":\\\"d3\\\"},\\\"downloadable\\\":{\\\"exports\\\":\\\"downloadable\\\"}};\\n\\n    require.config({paths: path, shim:shim});\\n\\n\\nrequire(['d3'], function(d3){window['d3']=d3;console.log('finished loading d3');require(['downloadable'], function(downloadable){window['downloadable']=downloadable;console.log('finished loading downloadable');\\n\\n\\tvar script = d3.select(\\\"head\\\")\\n\\t    .append(\\\"script\\\")\\n\\t    .attr(\\\"src\\\", \\\"https://cdn.rawgit.com/domitry/Nyaplotjs/master/release/nyaplot.js\\\")\\n\\t    .attr(\\\"async\\\", true);\\n\\n\\tscript[0][0].onload = script[0][0].onreadystatechange = function(){\\n\\n\\n\\t    var event = document.createEvent(\\\"HTMLEvents\\\");\\n\\t    event.initEvent(\\\"load_nyaplot\\\",false,false);\\n\\t    window.dispatchEvent(event);\\n\\t    console.log('Finished loading Nyaplotjs');\\n\\n\\t};\\n\\n\\n});});\\n}\\n\""
      ]
     },
     "metadata": {},
     "output_type": "display_data"
    },
    {
     "name": "stdout",
     "output_type": "stream",
     "text": [
      "Analysis 2016-03-26 10:21:02 +0000\n",
      "= Statsample::Factor::PrincipalAxis\n",
      "  == \n",
      "    Number of factors: 1\n",
      "    Iterations: 5\n",
      "    Communalities\n",
      "+----------+---------+------------+\n",
      "| Variable | Initial | Extraction |\n",
      "+----------+---------+------------+\n",
      "| X0       | 1.0000  | 0.854      |\n",
      "| X1       | 1.0000  | 0.830      |\n",
      "| X2       | 1.0000  | 0.258      |\n",
      "| X3       | 1.0000  | 0.233      |\n",
      "+----------+---------+------------+\n",
      "\n",
      "    Total Variance\n",
      "+----------+-----------+---------+------------+-----------+---------+------------+\n",
      "|  Factor  | I.E.Total | I.E. %  | I.E.Cum. % | S.L.Total | S.L. %  | S.L.Cum. % |\n",
      "+----------+-----------+---------+------------+-----------+---------+------------+\n",
      "| Factor 1 | 2.493     | 62.328% | 62.328     | 2.175     | 54.382% | 54.382     |\n",
      "| Factor 2 | 1.503     | 37.572% | 99.900     |           |         |            |\n",
      "| Factor 3 | 0.004     | 0.099%  | 99.998     |           |         |            |\n",
      "| Factor 4 | 0.000     | 0.002%  | 100.000    |           |         |            |\n",
      "+----------+-----------+---------+------------+-----------+---------+------------+\n",
      "\n",
      "    Factor Matrix\n",
      "+----+----------+\n",
      "|    | factor_1 |\n",
      "+----+----------+\n",
      "| X0 | .924     |\n",
      "| X1 | .911     |\n",
      "| X2 | .508     |\n",
      "| X3 | .483     |\n",
      "+----+----------+\n",
      "\n",
      "\n"
     ]
    }
   ],
   "source": [
    "require 'statsample'\n",
    "\n",
    "Statsample::Analysis.store(Statsample::Factor::PrincipalAxis) do\n",
    "  matrix = Matrix[\n",
    "  [1.0, 0.709501601093587, 0.877596585880047, 0.272219316266807],  \n",
    "  [0.709501601093587, 1.0, 0.291633797330304, 0.871141831433844], \n",
    "  [0.877596585880047, 0.291633797330304, 1.0, -0.213373722977167], \n",
    "  [0.272219316266807, 0.871141831433844, -0.213373722977167, 1.0]\n",
    "  ]\n",
    "  \n",
    "  matrix.extend Statsample::CovariateMatrix\n",
    "  fa = principal_axis(matrix,:m=>1,:smc=>false)\n",
    "  \n",
    "  summary fa\n",
    "end\n",
    "\n",
    "Statsample::Analysis.run_batch"
   ]
  }
 ],
 "metadata": {
  "kernelspec": {
   "display_name": "Ruby 2.2.1",
   "language": "ruby",
   "name": "ruby"
  },
  "language_info": {
   "file_extension": ".rb",
   "mimetype": "application/x-ruby",
   "name": "ruby",
   "version": "2.2.1"
  }
 },
 "nbformat": 4,
 "nbformat_minor": 0
}
