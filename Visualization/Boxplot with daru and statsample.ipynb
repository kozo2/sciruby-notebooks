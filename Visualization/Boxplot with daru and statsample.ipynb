{
 "cells": [
  {
   "cell_type": "markdown",
   "metadata": {},
   "source": [
    "# Creating Boxplots with daru and statsample\n",
    "\n",
    "### Description\n",
    "\n",
    "This example illustrates how daru, combined with Statsample::Graph::Boxplot\n",
    "can be used for generating box plots of a normally distributed set of data.\n",
    "\n",
    "The 'rnorm' function, defined in statsample/shorthands generates a Daru::Vector\n",
    "object which contains the specified number of random variables in a normal distribution.\n",
    "It uses the 'distribution' gem for this purpose."
   ]
  },
  {
   "cell_type": "code",
   "execution_count": 1,
   "metadata": {
    "collapsed": false,
    "scrolled": false
   },
   "outputs": [
    {
     "data": {
      "application/javascript": [
       "if(window['d3'] === undefined ||\n",
       "   window['Nyaplot'] === undefined){\n",
       "    var path = {\"d3\":\"https://cdnjs.cloudflare.com/ajax/libs/d3/3.5.5/d3.min\",\"downloadable\":\"https://cdn.rawgit.com/domitry/d3-downloadable/master/d3-downloadable\"};\n",
       "\n",
       "\n",
       "\n",
       "    var shim = {\"d3\":{\"exports\":\"d3\"},\"downloadable\":{\"exports\":\"downloadable\"}};\n",
       "\n",
       "    require.config({paths: path, shim:shim});\n",
       "\n",
       "\n",
       "require(['d3'], function(d3){window['d3']=d3;console.log('finished loading d3');require(['downloadable'], function(downloadable){window['downloadable']=downloadable;console.log('finished loading downloadable');\n",
       "\n",
       "\tvar script = d3.select(\"head\")\n",
       "\t    .append(\"script\")\n",
       "\t    .attr(\"src\", \"https://cdn.rawgit.com/domitry/Nyaplotjs/master/release/nyaplot.js\")\n",
       "\t    .attr(\"async\", true);\n",
       "\n",
       "\tscript[0][0].onload = script[0][0].onreadystatechange = function(){\n",
       "\n",
       "\n",
       "\t    var event = document.createEvent(\"HTMLEvents\");\n",
       "\t    event.initEvent(\"load_nyaplot\",false,false);\n",
       "\t    window.dispatchEvent(event);\n",
       "\t    console.log('Finished loading Nyaplotjs');\n",
       "\n",
       "\t};\n",
       "\n",
       "\n",
       "});});\n",
       "}\n"
      ],
      "text/plain": [
       "\"if(window['d3'] === undefined ||\\n   window['Nyaplot'] === undefined){\\n    var path = {\\\"d3\\\":\\\"https://cdnjs.cloudflare.com/ajax/libs/d3/3.5.5/d3.min\\\",\\\"downloadable\\\":\\\"https://cdn.rawgit.com/domitry/d3-downloadable/master/d3-downloadable\\\"};\\n\\n\\n\\n    var shim = {\\\"d3\\\":{\\\"exports\\\":\\\"d3\\\"},\\\"downloadable\\\":{\\\"exports\\\":\\\"downloadable\\\"}};\\n\\n    require.config({paths: path, shim:shim});\\n\\n\\nrequire(['d3'], function(d3){window['d3']=d3;console.log('finished loading d3');require(['downloadable'], function(downloadable){window['downloadable']=downloadable;console.log('finished loading downloadable');\\n\\n\\tvar script = d3.select(\\\"head\\\")\\n\\t    .append(\\\"script\\\")\\n\\t    .attr(\\\"src\\\", \\\"https://cdn.rawgit.com/domitry/Nyaplotjs/master/release/nyaplot.js\\\")\\n\\t    .attr(\\\"async\\\", true);\\n\\n\\tscript[0][0].onload = script[0][0].onreadystatechange = function(){\\n\\n\\n\\t    var event = document.createEvent(\\\"HTMLEvents\\\");\\n\\t    event.initEvent(\\\"load_nyaplot\\\",false,false);\\n\\t    window.dispatchEvent(event);\\n\\t    console.log('Finished loading Nyaplotjs');\\n\\n\\t};\\n\\n\\n});});\\n}\\n\""
      ]
     },
     "metadata": {},
     "output_type": "display_data"
    },
    {
     "data": {
      "text/plain": [
       "Daru::Vector"
      ]
     },
     "execution_count": 1,
     "metadata": {},
     "output_type": "execute_result"
    }
   ],
   "source": [
    "require 'daru'\n",
    "require 'statsample'\n",
    "include Statsample::Shorthand\n",
    "\n",
    "n = 30\n",
    "a = rnorm(n-1,50,10)\n",
    "b = rnorm(n, 30,5)\n",
    "c = rnorm(n,5,1)\n",
    "\n",
    "# Append 2 to vector 'a' at the end\n",
    "a.push(2, a.size)\n",
    "\n",
    "a.class"
   ]
  },
  {
   "cell_type": "code",
   "execution_count": 2,
   "metadata": {
    "collapsed": false
   },
   "outputs": [
    {
     "data": {
      "text/html": [
       "<div id='vis-a035b913-5219-4fd0-9881-d2a93013135d'></div>\n",
       "<script>\n",
       "(function(){\n",
       "    var render = function(){\n",
       "        var model = {\"panes\":[{\"diagrams\":[{\"type\":\"scatter\",\"options\":{\"x\":\"data0\",\"y\":\"data1\"},\"data\":\"f8db82aa-14f7-496a-ad30-6e77a9024573\"}],\"options\":{\"zoom\":true,\"width\":700,\"xrange\":[0,29],\"yrange\":[2,68.08468144277012]}}],\"data\":{\"f8db82aa-14f7-496a-ad30-6e77a9024573\":[{\"data0\":0,\"data1\":37.59292749591977},{\"data0\":1,\"data1\":58.63959969073256},{\"data0\":2,\"data1\":49.72096172683134},{\"data0\":3,\"data1\":68.08468144277012},{\"data0\":4,\"data1\":41.18498609152795},{\"data0\":5,\"data1\":53.76175930320878},{\"data0\":6,\"data1\":50.58405555791411},{\"data0\":7,\"data1\":54.43404614419645},{\"data0\":8,\"data1\":63.31006277887309},{\"data0\":9,\"data1\":53.17315998661855},{\"data0\":10,\"data1\":54.77448250840547},{\"data0\":11,\"data1\":41.022842686930844},{\"data0\":12,\"data1\":56.47532980545696},{\"data0\":13,\"data1\":39.942082771431274},{\"data0\":14,\"data1\":60.265077311589636},{\"data0\":15,\"data1\":40.07698735253937},{\"data0\":16,\"data1\":37.53949543863687},{\"data0\":17,\"data1\":51.45038593391677},{\"data0\":18,\"data1\":48.13146513902144},{\"data0\":19,\"data1\":50.60141771849789},{\"data0\":20,\"data1\":53.54622017454528},{\"data0\":21,\"data1\":52.87655448401752},{\"data0\":22,\"data1\":35.74695727012832},{\"data0\":23,\"data1\":39.85848942106581},{\"data0\":24,\"data1\":61.52656071654289},{\"data0\":25,\"data1\":33.216665144563876},{\"data0\":26,\"data1\":48.39622785608005},{\"data0\":27,\"data1\":28.577848346219746},{\"data0\":28,\"data1\":47.26737348315691},{\"data0\":29,\"data1\":2}]},\"extension\":[]}\n",
       "        var id_name = '#vis-a035b913-5219-4fd0-9881-d2a93013135d';\n",
       "        Nyaplot.core.parse(model, id_name);\n",
       "\n",
       "        require(['downloadable'], function(downloadable){\n",
       "          var svg = d3.select(id_name).select(\"svg\");\n",
       "\t  if(!svg.empty())\n",
       "\t    svg.call(downloadable().filename('fig'));\n",
       "\t});\n",
       "    };\n",
       "    if(window['Nyaplot']==undefined){\n",
       "        window.addEventListener('load_nyaplot', render, false);\n",
       "\treturn;\n",
       "    } else {\n",
       "       render();\n",
       "    }\n",
       "})();\n",
       "</script>\n"
      ],
      "text/plain": [
       "#<Nyaplot::Frame:0x00000002536798 @properties={:panes=>[#<Nyaplot::Plot:0x0000000253ed58 @properties={:diagrams=>[#<Nyaplot::Diagram:0x000000025370d0 @properties={:type=>:scatter, :options=>{:x=>\"data0\", :y=>\"data1\"}, :data=>\"f8db82aa-14f7-496a-ad30-6e77a9024573\"}, @xrange=[0, 29], @yrange=[2, 68.08468144277012]>], :options=>{:zoom=>true, :width=>700, :xrange=>[0, 29], :yrange=>[2, 68.08468144277012]}}>], :data=>{\"f8db82aa-14f7-496a-ad30-6e77a9024573\"=>#<Nyaplot::DataFrame:0x0000000253e5d8 @name=\"f8db82aa-14f7-496a-ad30-6e77a9024573\", @rows=[{:data0=>0, :data1=>37.59292749591977}, {:data0=>1, :data1=>58.63959969073256}, {:data0=>2, :data1=>49.72096172683134}, {:data0=>3, :data1=>68.08468144277012}, {:data0=>4, :data1=>41.18498609152795}, {:data0=>5, :data1=>53.76175930320878}, {:data0=>6, :data1=>50.58405555791411}, {:data0=>7, :data1=>54.43404614419645}, {:data0=>8, :data1=>63.31006277887309}, {:data0=>9, :data1=>53.17315998661855}, {:data0=>10, :data1=>54.77448250840547}, {:data0=>11, :data1=>41.022842686930844}, {:data0=>12, :data1=>56.47532980545696}, {:data0=>13, :data1=>39.942082771431274}, {:data0=>14, :data1=>60.265077311589636}, {:data0=>15, :data1=>40.07698735253937}, {:data0=>16, :data1=>37.53949543863687}, {:data0=>17, :data1=>51.45038593391677}, {:data0=>18, :data1=>48.13146513902144}, {:data0=>19, :data1=>50.60141771849789}, {:data0=>20, :data1=>53.54622017454528}, {:data0=>21, :data1=>52.87655448401752}, {:data0=>22, :data1=>35.74695727012832}, {:data0=>23, :data1=>39.85848942106581}, {:data0=>24, :data1=>61.52656071654289}, {:data0=>25, :data1=>33.216665144563876}, {:data0=>26, :data1=>48.39622785608005}, {:data0=>27, :data1=>28.577848346219746}, {:data0=>28, :data1=>47.26737348315691}, {:data0=>29, :data1=>2}]>}, :extension=>[]}>"
      ]
     },
     "metadata": {},
     "output_type": "display_data"
    }
   ],
   "source": [
    "a.plot"
   ]
  },
  {
   "cell_type": "markdown",
   "metadata": {},
   "source": [
    "#### Create a boxplot of the data by specifying the vectors a, b and c and providing necessary options to Statsample::Graph::Boxplot. \n",
    "\n",
    "#### The `#to_svg` function returns the boxplot image in a raw SVG format. To display this properly in iruby we need to pass that output to the `IRuby.svg` method."
   ]
  },
  {
   "cell_type": "code",
   "execution_count": 3,
   "metadata": {
    "collapsed": false
   },
   "outputs": [
    {
     "data": {
      "image/svg+xml": [
       "<svg xmlns=\"http://www.w3.org/2000/svg\" xmlns:xlink=\"http://www.w3.org/1999/xlink\" font-size=\"10px\" font-family=\"sans-serif\" fill=\"none\" stroke=\"none\" stroke-width=\"1.5\" width=\"300\" height=\"300\">\n",
       "     <g transform=\"translate(20,10)\">\n",
       "          <line shape-rendering=\"crispEdges\" x1=\"0\" y1=\"270.0\" x2=\"260\" y2=\"270.0\" stroke=\"rgb(0,0,0)\" stroke-width=\"1\"/>\n",
       "          <line shape-rendering=\"crispEdges\" x1=\"0\" y1=\"231.42857142857144\" x2=\"260\" y2=\"231.42857142857144\" stroke=\"rgb(238,238,238)\" stroke-width=\"1\"/>\n",
       "          <line shape-rendering=\"crispEdges\" x1=\"0\" y1=\"192.85714285714286\" x2=\"260\" y2=\"192.85714285714286\" stroke=\"rgb(238,238,238)\" stroke-width=\"1\"/>\n",
       "          <line shape-rendering=\"crispEdges\" x1=\"0\" y1=\"154.28571428571428\" x2=\"260\" y2=\"154.28571428571428\" stroke=\"rgb(238,238,238)\" stroke-width=\"1\"/>\n",
       "          <line shape-rendering=\"crispEdges\" x1=\"0\" y1=\"115.71428571428572\" x2=\"260\" y2=\"115.71428571428572\" stroke=\"rgb(238,238,238)\" stroke-width=\"1\"/>\n",
       "          <line shape-rendering=\"crispEdges\" x1=\"0\" y1=\"77.14285714285714\" x2=\"260\" y2=\"77.14285714285714\" stroke=\"rgb(238,238,238)\" stroke-width=\"1\"/>\n",
       "          <line shape-rendering=\"crispEdges\" x1=\"0\" y1=\"38.571428571428584\" x2=\"260\" y2=\"38.571428571428584\" stroke=\"rgb(238,238,238)\" stroke-width=\"1\"/>\n",
       "          <line shape-rendering=\"crispEdges\" x1=\"0\" y1=\"0.0\" x2=\"260\" y2=\"0.0\" stroke=\"rgb(238,238,238)\" stroke-width=\"1\"/>\n",
       "     </g>\n",
       "     <g transform=\"translate(20,10)\">\n",
       "          <text pointer-events=\"none\" x=\"-3\" dy=\".35em\" transform=\"translate(0,270.0)\" fill=\"rgb(0,0,0)\" text-anchor=\"end\">0</text>\n",
       "          <text pointer-events=\"none\" x=\"-3\" dy=\".35em\" transform=\"translate(0,231.42857142857144)\" fill=\"rgb(0,0,0)\" text-anchor=\"end\">10</text>\n",
       "          <text pointer-events=\"none\" x=\"-3\" dy=\".35em\" transform=\"translate(0,192.85714285714286)\" fill=\"rgb(0,0,0)\" text-anchor=\"end\">20</text>\n",
       "          <text pointer-events=\"none\" x=\"-3\" dy=\".35em\" transform=\"translate(0,154.28571428571428)\" fill=\"rgb(0,0,0)\" text-anchor=\"end\">30</text>\n",
       "          <text pointer-events=\"none\" x=\"-3\" dy=\".35em\" transform=\"translate(0,115.71428571428572)\" fill=\"rgb(0,0,0)\" text-anchor=\"end\">40</text>\n",
       "          <text pointer-events=\"none\" x=\"-3\" dy=\".35em\" transform=\"translate(0,77.14285714285714)\" fill=\"rgb(0,0,0)\" text-anchor=\"end\">50</text>\n",
       "          <text pointer-events=\"none\" x=\"-3\" dy=\".35em\" transform=\"translate(0,38.571428571428584)\" fill=\"rgb(0,0,0)\" text-anchor=\"end\">60</text>\n",
       "          <text pointer-events=\"none\" x=\"-3\" dy=\".35em\" transform=\"translate(0,0.0)\" fill=\"rgb(0,0,0)\" text-anchor=\"end\">70</text>\n",
       "     </g>\n",
       "     <g transform=\"translate(20,10)\">\n",
       "          <line shape-rendering=\"crispEdges\" x1=\"0\" y1=\"270\" x2=\"260\" y2=\"270\" stroke=\"rgb(0,0,0)\" stroke-width=\"1\"/>\n",
       "     </g>\n",
       "     <g transform=\"translate(20,10)\"/>\n",
       "     <g transform=\"translate(20,10)\">\n",
       "          <g transform=\"translate(16.249999999999996,0)\">\n",
       "               <rect y=\"60.04010772952796\" width=\"65.0\" height=\"55.897573009237135\" fill=\"rgb(31,119,180)\" stroke=\"rgb(21,83,125)\" stroke-width=\"1.0\"/>\n",
       "          </g>\n",
       "          <g transform=\"translate(16.249999999999996,0)\">\n",
       "               <line shape-rendering=\"crispEdges\" x1=\"0.0\" y1=\"76.55460952227665\" x2=\"65.0\" y2=\"76.55460952227665\" stroke=\"rgb(0,0,0)\" stroke-width=\"2\"/>\n",
       "          </g>\n",
       "          <g transform=\"translate(16.249999999999996,0)\">\n",
       "               <line shape-rendering=\"crispEdges\" x1=\"0\" y1=\"159.7711563788667\" x2=\"65.0\" y2=\"159.7711563788667\" stroke=\"rgb(0,0,0)\" stroke-width=\"1\"/>\n",
       "          </g>\n",
       "          <g transform=\"translate(16.249999999999996,0)\">\n",
       "               <line shape-rendering=\"crispEdges\" x1=\"32.5\" y1=\"115.9376807387651\" x2=\"32.5\" y2=\"159.7711563788667\" stroke=\"rgb(0,0,0)\" stroke-width=\"1\"/>\n",
       "          </g>\n",
       "          <g transform=\"translate(16.249999999999996,0)\">\n",
       "               <line shape-rendering=\"crispEdges\" x1=\"0\" y1=\"7.387657292172435\" x2=\"65.0\" y2=\"7.387657292172435\" stroke=\"rgb(0,0,0)\" stroke-width=\"1\"/>\n",
       "          </g>\n",
       "          <g transform=\"translate(16.249999999999996,0)\">\n",
       "               <line shape-rendering=\"crispEdges\" x1=\"32.5\" y1=\"7.387657292172435\" x2=\"32.5\" y2=\"60.04010772952796\" stroke=\"rgb(0,0,0)\" stroke-width=\"1\"/>\n",
       "          </g>\n",
       "          <g transform=\"translate(16.249999999999996,0)\">\n",
       "               <a xlink:title=\"2\">\n",
       "                    <circle fill=\"none\" stroke=\"rgb(31,119,180)\" cx=\"32.5\" cy=\"262.2857142857143\" r=\"2.0\"/>\n",
       "               </a>\n",
       "          </g>\n",
       "          <g transform=\"translate(97.5,0)\">\n",
       "               <rect y=\"134.125697487528\" width=\"65.0\" height=\"25.449430780093238\" fill=\"rgb(31,119,180)\" stroke=\"rgb(21,83,125)\" stroke-width=\"1.0\"/>\n",
       "          </g>\n",
       "          <g transform=\"translate(97.5,0)\">\n",
       "               <line shape-rendering=\"crispEdges\" x1=\"0.0\" y1=\"143.84565151983668\" x2=\"65.0\" y2=\"143.84565151983668\" stroke=\"rgb(0,0,0)\" stroke-width=\"2\"/>\n",
       "          </g>\n",
       "          <g transform=\"translate(97.5,0)\">\n",
       "               <line shape-rendering=\"crispEdges\" x1=\"0\" y1=\"183.17842635508086\" x2=\"65.0\" y2=\"183.17842635508086\" stroke=\"rgb(0,0,0)\" stroke-width=\"1\"/>\n",
       "          </g>\n",
       "          <g transform=\"translate(97.5,0)\">\n",
       "               <line shape-rendering=\"crispEdges\" x1=\"32.5\" y1=\"159.57512826762124\" x2=\"32.5\" y2=\"183.1784263550809\" stroke=\"rgb(0,0,0)\" stroke-width=\"1\"/>\n",
       "          </g>\n",
       "          <g transform=\"translate(97.5,0)\">\n",
       "               <line shape-rendering=\"crispEdges\" x1=\"0\" y1=\"113.2402851174414\" x2=\"65.0\" y2=\"113.2402851174414\" stroke=\"rgb(0,0,0)\" stroke-width=\"1\"/>\n",
       "          </g>\n",
       "          <g transform=\"translate(97.5,0)\">\n",
       "               <line shape-rendering=\"crispEdges\" x1=\"32.5\" y1=\"113.2402851174414\" x2=\"32.5\" y2=\"134.125697487528\" stroke=\"rgb(0,0,0)\" stroke-width=\"1\"/>\n",
       "          </g>\n",
       "          <g transform=\"translate(97.5,0)\"/>\n",
       "          <g transform=\"translate(178.75,0)\">\n",
       "               <rect y=\"249.70465651483264\" width=\"65.0\" height=\"3.8606155310510495\" fill=\"rgb(255,127,14)\" stroke=\"rgb(178,88,9)\" stroke-width=\"1.0\"/>\n",
       "          </g>\n",
       "          <g transform=\"translate(178.75,0)\">\n",
       "               <line shape-rendering=\"crispEdges\" x1=\"0.0\" y1=\"251.8970430035645\" x2=\"65.0\" y2=\"251.8970430035645\" stroke=\"rgb(0,0,0)\" stroke-width=\"2\"/>\n",
       "          </g>\n",
       "          <g transform=\"translate(178.75,0)\">\n",
       "               <line shape-rendering=\"crispEdges\" x1=\"0\" y1=\"257.3107790908558\" x2=\"65.0\" y2=\"257.3107790908558\" stroke=\"rgb(0,0,0)\" stroke-width=\"1\"/>\n",
       "          </g>\n",
       "          <g transform=\"translate(178.75,0)\">\n",
       "               <line shape-rendering=\"crispEdges\" x1=\"32.5\" y1=\"253.5652720458837\" x2=\"32.5\" y2=\"257.31077909085576\" stroke=\"rgb(0,0,0)\" stroke-width=\"1\"/>\n",
       "          </g>\n",
       "          <g transform=\"translate(178.75,0)\">\n",
       "               <line shape-rendering=\"crispEdges\" x1=\"0\" y1=\"247.06814351144976\" x2=\"65.0\" y2=\"247.06814351144976\" stroke=\"rgb(0,0,0)\" stroke-width=\"1\"/>\n",
       "          </g>\n",
       "          <g transform=\"translate(178.75,0)\">\n",
       "               <line shape-rendering=\"crispEdges\" x1=\"32.5\" y1=\"247.06814351144973\" x2=\"32.5\" y2=\"249.7046565148326\" stroke=\"rgb(0,0,0)\" stroke-width=\"1\"/>\n",
       "          </g>\n",
       "          <g transform=\"translate(178.75,0)\">\n",
       "               <a xlink:title=\"2.8892543469131655\">\n",
       "                    <circle fill=\"none\" stroke=\"rgb(255,127,14)\" cx=\"32.5\" cy=\"258.85573323333494\" r=\"2.0\"/>\n",
       "               </a>\n",
       "               <a xlink:title=\"7.212190894877942\">\n",
       "                    <circle fill=\"none\" stroke=\"rgb(255,127,14)\" cx=\"32.5\" cy=\"242.1815494054708\" r=\"2.0\"/>\n",
       "               </a>\n",
       "          </g>\n",
       "     </g>\n",
       "</svg>"
      ],
      "text/plain": [
       "\"<svg xmlns=\\\"http://www.w3.org/2000/svg\\\" xmlns:xlink=\\\"http://www.w3.org/1999/xlink\\\" font-size=\\\"10px\\\" font-family=\\\"sans-serif\\\" fill=\\\"none\\\" stroke=\\\"none\\\" stroke-width=\\\"1.5\\\" width=\\\"300\\\" height=\\\"300\\\">\\n     <g transform=\\\"translate(20,10)\\\">\\n          <line shape-rendering=\\\"crispEdges\\\" x1=\\\"0\\\" y1=\\\"270.0\\\" x2=\\\"260\\\" y2=\\\"270.0\\\" stroke=\\\"rgb(0,0,0)\\\" stroke-width=\\\"1\\\"/>\\n          <line shape-rendering=\\\"crispEdges\\\" x1=\\\"0\\\" y1=\\\"231.42857142857144\\\" x2=\\\"260\\\" y2=\\\"231.42857142857144\\\" stroke=\\\"rgb(238,238,238)\\\" stroke-width=\\\"1\\\"/>\\n          <line shape-rendering=\\\"crispEdges\\\" x1=\\\"0\\\" y1=\\\"192.85714285714286\\\" x2=\\\"260\\\" y2=\\\"192.85714285714286\\\" stroke=\\\"rgb(238,238,238)\\\" stroke-width=\\\"1\\\"/>\\n          <line shape-rendering=\\\"crispEdges\\\" x1=\\\"0\\\" y1=\\\"154.28571428571428\\\" x2=\\\"260\\\" y2=\\\"154.28571428571428\\\" stroke=\\\"rgb(238,238,238)\\\" stroke-width=\\\"1\\\"/>\\n          <line shape-rendering=\\\"crispEdges\\\" x1=\\\"0\\\" y1=\\\"115.71428571428572\\\" x2=\\\"260\\\" y2=\\\"115.71428571428572\\\" stroke=\\\"rgb(238,238,238)\\\" stroke-width=\\\"1\\\"/>\\n          <line shape-rendering=\\\"crispEdges\\\" x1=\\\"0\\\" y1=\\\"77.14285714285714\\\" x2=\\\"260\\\" y2=\\\"77.14285714285714\\\" stroke=\\\"rgb(238,238,238)\\\" stroke-width=\\\"1\\\"/>\\n          <line shape-rendering=\\\"crispEdges\\\" x1=\\\"0\\\" y1=\\\"38.571428571428584\\\" x2=\\\"260\\\" y2=\\\"38.571428571428584\\\" stroke=\\\"rgb(238,238,238)\\\" stroke-width=\\\"1\\\"/>\\n          <line shape-rendering=\\\"crispEdges\\\" x1=\\\"0\\\" y1=\\\"0.0\\\" x2=\\\"260\\\" y2=\\\"0.0\\\" stroke=\\\"rgb(238,238,238)\\\" stroke-width=\\\"1\\\"/>\\n     </g>\\n     <g transform=\\\"translate(20,10)\\\">\\n          <text pointer-events=\\\"none\\\" x=\\\"-3\\\" dy=\\\".35em\\\" transform=\\\"translate(0,270.0)\\\" fill=\\\"rgb(0,0,0)\\\" text-anchor=\\\"end\\\">0</text>\\n          <text pointer-events=\\\"none\\\" x=\\\"-3\\\" dy=\\\".35em\\\" transform=\\\"translate(0,231.42857142857144)\\\" fill=\\\"rgb(0,0,0)\\\" text-anchor=\\\"end\\\">10</text>\\n          <text pointer-events=\\\"none\\\" x=\\\"-3\\\" dy=\\\".35em\\\" transform=\\\"translate(0,192.85714285714286)\\\" fill=\\\"rgb(0,0,0)\\\" text-anchor=\\\"end\\\">20</text>\\n          <text pointer-events=\\\"none\\\" x=\\\"-3\\\" dy=\\\".35em\\\" transform=\\\"translate(0,154.28571428571428)\\\" fill=\\\"rgb(0,0,0)\\\" text-anchor=\\\"end\\\">30</text>\\n          <text pointer-events=\\\"none\\\" x=\\\"-3\\\" dy=\\\".35em\\\" transform=\\\"translate(0,115.71428571428572)\\\" fill=\\\"rgb(0,0,0)\\\" text-anchor=\\\"end\\\">40</text>\\n          <text pointer-events=\\\"none\\\" x=\\\"-3\\\" dy=\\\".35em\\\" transform=\\\"translate(0,77.14285714285714)\\\" fill=\\\"rgb(0,0,0)\\\" text-anchor=\\\"end\\\">50</text>\\n          <text pointer-events=\\\"none\\\" x=\\\"-3\\\" dy=\\\".35em\\\" transform=\\\"translate(0,38.571428571428584)\\\" fill=\\\"rgb(0,0,0)\\\" text-anchor=\\\"end\\\">60</text>\\n          <text pointer-events=\\\"none\\\" x=\\\"-3\\\" dy=\\\".35em\\\" transform=\\\"translate(0,0.0)\\\" fill=\\\"rgb(0,0,0)\\\" text-anchor=\\\"end\\\">70</text>\\n     </g>\\n     <g transform=\\\"translate(20,10)\\\">\\n          <line shape-rendering=\\\"crispEdges\\\" x1=\\\"0\\\" y1=\\\"270\\\" x2=\\\"260\\\" y2=\\\"270\\\" stroke=\\\"rgb(0,0,0)\\\" stroke-width=\\\"1\\\"/>\\n     </g>\\n     <g transform=\\\"translate(20,10)\\\"/>\\n     <g transform=\\\"translate(20,10)\\\">\\n          <g transform=\\\"translate(16.249999999999996,0)\\\">\\n               <rect y=\\\"60.04010772952796\\\" width=\\\"65.0\\\" height=\\\"55.897573009237135\\\" fill=\\\"rgb(31,119,180)\\\" stroke=\\\"rgb(21,83,125)\\\" stroke-width=\\\"1.0\\\"/>\\n          </g>\\n          <g transform=\\\"translate(16.249999999999996,0)\\\">\\n               <line shape-rendering=\\\"crispEdges\\\" x1=\\\"0.0\\\" y1=\\\"76.55460952227665\\\" x2=\\\"65.0\\\" y2=\\\"76.55460952227665\\\" stroke=\\\"rgb(0,0,0)\\\" stroke-width=\\\"2\\\"/>\\n          </g>\\n          <g transform=\\\"translate(16.249999999999996,0)\\\">\\n               <line shape-rendering=\\\"crispEdges\\\" x1=\\\"0\\\" y1=\\\"159.7711563788667\\\" x2=\\\"65.0\\\" y2=\\\"159.7711563788667\\\" stroke=\\\"rgb(0,0,0)\\\" stroke-width=\\\"1\\\"/>\\n          </g>\\n          <g transform=\\\"translate(16.249999999999996,0)\\\">\\n               <line shape-rendering=\\\"crispEdges\\\" x1=\\\"32.5\\\" y1=\\\"115.9376807387651\\\" x2=\\\"32.5\\\" y2=\\\"159.7711563788667\\\" stroke=\\\"rgb(0,0,0)\\\" stroke-width=\\\"1\\\"/>\\n          </g>\\n          <g transform=\\\"translate(16.249999999999996,0)\\\">\\n               <line shape-rendering=\\\"crispEdges\\\" x1=\\\"0\\\" y1=\\\"7.387657292172435\\\" x2=\\\"65.0\\\" y2=\\\"7.387657292172435\\\" stroke=\\\"rgb(0,0,0)\\\" stroke-width=\\\"1\\\"/>\\n          </g>\\n          <g transform=\\\"translate(16.249999999999996,0)\\\">\\n               <line shape-rendering=\\\"crispEdges\\\" x1=\\\"32.5\\\" y1=\\\"7.387657292172435\\\" x2=\\\"32.5\\\" y2=\\\"60.04010772952796\\\" stroke=\\\"rgb(0,0,0)\\\" stroke-width=\\\"1\\\"/>\\n          </g>\\n          <g transform=\\\"translate(16.249999999999996,0)\\\">\\n               <a xlink:title=\\\"2\\\">\\n                    <circle fill=\\\"none\\\" stroke=\\\"rgb(31,119,180)\\\" cx=\\\"32.5\\\" cy=\\\"262.2857142857143\\\" r=\\\"2.0\\\"/>\\n               </a>\\n          </g>\\n          <g transform=\\\"translate(97.5,0)\\\">\\n               <rect y=\\\"134.125697487528\\\" width=\\\"65.0\\\" height=\\\"25.449430780093238\\\" fill=\\\"rgb(31,119,180)\\\" stroke=\\\"rgb(21,83,125)\\\" stroke-width=\\\"1.0\\\"/>\\n          </g>\\n          <g transform=\\\"translate(97.5,0)\\\">\\n               <line shape-rendering=\\\"crispEdges\\\" x1=\\\"0.0\\\" y1=\\\"143.84565151983668\\\" x2=\\\"65.0\\\" y2=\\\"143.84565151983668\\\" stroke=\\\"rgb(0,0,0)\\\" stroke-width=\\\"2\\\"/>\\n          </g>\\n          <g transform=\\\"translate(97.5,0)\\\">\\n               <line shape-rendering=\\\"crispEdges\\\" x1=\\\"0\\\" y1=\\\"183.17842635508086\\\" x2=\\\"65.0\\\" y2=\\\"183.17842635508086\\\" stroke=\\\"rgb(0,0,0)\\\" stroke-width=\\\"1\\\"/>\\n          </g>\\n          <g transform=\\\"translate(97.5,0)\\\">\\n               <line shape-rendering=\\\"crispEdges\\\" x1=\\\"32.5\\\" y1=\\\"159.57512826762124\\\" x2=\\\"32.5\\\" y2=\\\"183.1784263550809\\\" stroke=\\\"rgb(0,0,0)\\\" stroke-width=\\\"1\\\"/>\\n          </g>\\n          <g transform=\\\"translate(97.5,0)\\\">\\n               <line shape-rendering=\\\"crispEdges\\\" x1=\\\"0\\\" y1=\\\"113.2402851174414\\\" x2=\\\"65.0\\\" y2=\\\"113.2402851174414\\\" stroke=\\\"rgb(0,0,0)\\\" stroke-width=\\\"1\\\"/>\\n          </g>\\n          <g transform=\\\"translate(97.5,0)\\\">\\n               <line shape-rendering=\\\"crispEdges\\\" x1=\\\"32.5\\\" y1=\\\"113.2402851174414\\\" x2=\\\"32.5\\\" y2=\\\"134.125697487528\\\" stroke=\\\"rgb(0,0,0)\\\" stroke-width=\\\"1\\\"/>\\n          </g>\\n          <g transform=\\\"translate(97.5,0)\\\"/>\\n          <g transform=\\\"translate(178.75,0)\\\">\\n               <rect y=\\\"249.70465651483264\\\" width=\\\"65.0\\\" height=\\\"3.8606155310510495\\\" fill=\\\"rgb(255,127,14)\\\" stroke=\\\"rgb(178,88,9)\\\" stroke-width=\\\"1.0\\\"/>\\n          </g>\\n          <g transform=\\\"translate(178.75,0)\\\">\\n               <line shape-rendering=\\\"crispEdges\\\" x1=\\\"0.0\\\" y1=\\\"251.8970430035645\\\" x2=\\\"65.0\\\" y2=\\\"251.8970430035645\\\" stroke=\\\"rgb(0,0,0)\\\" stroke-width=\\\"2\\\"/>\\n          </g>\\n          <g transform=\\\"translate(178.75,0)\\\">\\n               <line shape-rendering=\\\"crispEdges\\\" x1=\\\"0\\\" y1=\\\"257.3107790908558\\\" x2=\\\"65.0\\\" y2=\\\"257.3107790908558\\\" stroke=\\\"rgb(0,0,0)\\\" stroke-width=\\\"1\\\"/>\\n          </g>\\n          <g transform=\\\"translate(178.75,0)\\\">\\n               <line shape-rendering=\\\"crispEdges\\\" x1=\\\"32.5\\\" y1=\\\"253.5652720458837\\\" x2=\\\"32.5\\\" y2=\\\"257.31077909085576\\\" stroke=\\\"rgb(0,0,0)\\\" stroke-width=\\\"1\\\"/>\\n          </g>\\n          <g transform=\\\"translate(178.75,0)\\\">\\n               <line shape-rendering=\\\"crispEdges\\\" x1=\\\"0\\\" y1=\\\"247.06814351144976\\\" x2=\\\"65.0\\\" y2=\\\"247.06814351144976\\\" stroke=\\\"rgb(0,0,0)\\\" stroke-width=\\\"1\\\"/>\\n          </g>\\n          <g transform=\\\"translate(178.75,0)\\\">\\n               <line shape-rendering=\\\"crispEdges\\\" x1=\\\"32.5\\\" y1=\\\"247.06814351144973\\\" x2=\\\"32.5\\\" y2=\\\"249.7046565148326\\\" stroke=\\\"rgb(0,0,0)\\\" stroke-width=\\\"1\\\"/>\\n          </g>\\n          <g transform=\\\"translate(178.75,0)\\\">\\n               <a xlink:title=\\\"2.8892543469131655\\\">\\n                    <circle fill=\\\"none\\\" stroke=\\\"rgb(255,127,14)\\\" cx=\\\"32.5\\\" cy=\\\"258.85573323333494\\\" r=\\\"2.0\\\"/>\\n               </a>\\n               <a xlink:title=\\\"7.212190894877942\\\">\\n                    <circle fill=\\\"none\\\" stroke=\\\"rgb(255,127,14)\\\" cx=\\\"32.5\\\" cy=\\\"242.1815494054708\\\" r=\\\"2.0\\\"/>\\n               </a>\\n          </g>\\n     </g>\\n</svg>\""
      ]
     },
     "execution_count": 3,
     "metadata": {},
     "output_type": "execute_result"
    }
   ],
   "source": [
    "IRuby.svg boxplot(:vectors=>[a,b,c],:width=>300, :height=>300, :groups=>%w{first first second}, :minimum=>0).to_svg"
   ]
  },
  {
   "cell_type": "markdown",
   "metadata": {},
   "source": [
    "IRuby.svg boxplot(:vectors=>[a,b,c],:width=>300, :height=>300, :groups=>%w{first first second}, :minimum=>0).to_svg"
   ]
  }
 ],
 "metadata": {
  "kernelspec": {
   "display_name": "Ruby 2.2.1",
   "language": "ruby",
   "name": "ruby"
  },
  "language_info": {
   "file_extension": ".rb",
   "mimetype": "application/x-ruby",
   "name": "ruby",
   "version": "2.2.1"
  }
 },
 "nbformat": 4,
 "nbformat_minor": 0
}
