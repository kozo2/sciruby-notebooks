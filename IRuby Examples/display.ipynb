{
 "cells": [
  {
   "cell_type": "code",
   "execution_count": 1,
   "metadata": {
    "collapsed": false
   },
   "outputs": [
    {
     "data": {
      "text/latex": [
       "$1+2\\imath$"
      ],
      "text/plain": [
       "(1+2i)"
      ]
     },
     "metadata": {},
     "output_type": "display_data"
    }
   ],
   "source": [
    "IRuby.display(Complex(1,2))"
   ]
  },
  {
   "cell_type": "code",
   "execution_count": 2,
   "metadata": {
    "collapsed": false
   },
   "outputs": [
    {
     "data": {
      "text/latex": [
       "$$\\left(\\begin{array}{cc}\n",
       "  1&2\\\\\n",
       "  3&4\\\\\n",
       "\\end{array}\\right)$$"
      ],
      "text/plain": [
       "Matrix[[1, 2], [3, 4]]"
      ]
     },
     "metadata": {},
     "output_type": "display_data"
    },
    {
     "data": {
      "text/latex": [
       "$$\\left(\\begin{array}{cc}\n",
       "  1&2\\\\\n",
       "  3&4\\\\\n",
       "\\end{array}\\right)$$"
      ],
      "text/plain": [
       "Matrix[[1, 2], [3, 4]]"
      ]
     },
     "metadata": {},
     "output_type": "display_data"
    },
    {
     "data": {
      "text/plain": [
       "Matrix[[1, 2], [3, 4]]"
      ]
     },
     "metadata": {},
     "output_type": "display_data"
    },
    {
     "data": {
      "text/plain": [
       "Matrix[[1, 2], [3, 4]]"
      ]
     },
     "metadata": {},
     "output_type": "display_data"
    },
    {
     "data": {
      "text/html": [
       "<table><tr><td>1</td><td>2</td></tr><tr><td>3</td><td>4</td></tr></table>"
      ],
      "text/plain": [
       "Matrix[[1, 2], [3, 4]]"
      ]
     },
     "metadata": {},
     "output_type": "display_data"
    }
   ],
   "source": [
    "require 'matrix'\n",
    "IRuby.display(Matrix[[1,2],[3,4]])\n",
    "IRuby.display(Matrix[[1,2],[3,4]],format:'latex')\n",
    "IRuby.display(Matrix[[1,2],[3,4]],'text/plain')\n",
    "IRuby.display(Matrix[[1,2],[3,4]],mime:'text/plain')\n",
    "IRuby.display(Matrix[[1,2],[3,4]],'html')"
   ]
  },
  {
   "cell_type": "code",
   "execution_count": null,
   "metadata": {
    "collapsed": false
   },
   "outputs": [],
   "source": []
  }
 ],
 "metadata": {
  "kernelspec": {
   "display_name": "Ruby 2.2.1",
   "language": "ruby",
   "name": "ruby"
  },
  "language_info": {
   "file_extension": ".rb",
   "mimetype": "application/x-ruby",
   "name": "ruby",
   "version": "2.2.1"
  }
 },
 "nbformat": 4,
 "nbformat_minor": 0
}
