{
 "cells": [
  {
   "cell_type": "code",
   "execution_count": 1,
   "metadata": {
    "collapsed": false
   },
   "outputs": [
    {
     "data": {
      "text/plain": [
       ":out1"
      ]
     },
     "execution_count": 1,
     "metadata": {},
     "output_type": "execute_result"
    }
   ],
   "source": [
    ":out1"
   ]
  },
  {
   "cell_type": "code",
   "execution_count": 2,
   "metadata": {
    "collapsed": false
   },
   "outputs": [
    {
     "data": {
      "text/plain": [
       ":out2"
      ]
     },
     "execution_count": 2,
     "metadata": {},
     "output_type": "execute_result"
    }
   ],
   "source": [
    ":out2"
   ]
  },
  {
   "cell_type": "code",
   "execution_count": 3,
   "metadata": {
    "collapsed": false
   },
   "outputs": [
    {
     "data": {
      "text/plain": [
       ":out3"
      ]
     },
     "execution_count": 3,
     "metadata": {},
     "output_type": "execute_result"
    }
   ],
   "source": [
    ":out3"
   ]
  },
  {
   "cell_type": "code",
   "execution_count": 4,
   "metadata": {
    "collapsed": false
   },
   "outputs": [
    {
     "name": "stdout",
     "output_type": "stream",
     "text": [
      ":out1\n",
      ":out2\n",
      ":out3\n",
      ":out1\n",
      ":out2\n",
      ":out3\n",
      ":out1\n",
      ":out2\n",
      ":out3\n",
      ":out1\n",
      ":out2\n",
      ":out3\n",
      ":out1\n",
      ":out2\n",
      ":out3\n",
      "out1\n",
      "out2\n",
      "\n",
      "out1\n",
      "out2\n",
      "out3\n",
      "out1\n",
      "out2\n",
      "out3\n",
      "out1\n",
      "out2\n",
      "out3\n",
      "out1\n",
      "out2\n",
      "out3\n"
     ]
    }
   ],
   "source": [
    "puts _iii\n",
    "puts _ii\n",
    "puts _i\n",
    "\n",
    "puts _i1\n",
    "puts _i2\n",
    "puts _i3\n",
    "\n",
    "puts _ih[1]\n",
    "puts _ih[2]\n",
    "puts _ih[3]\n",
    "\n",
    "puts In[1]\n",
    "puts In[2]\n",
    "puts In[3]\n",
    "\n",
    "puts In[-3]\n",
    "puts In[-2]\n",
    "puts In[-1]\n",
    "\n",
    "puts ___\n",
    "puts __\n",
    "puts _\n",
    "\n",
    "puts _1\n",
    "puts _2\n",
    "puts _3\n",
    "\n",
    "puts _oh[1]\n",
    "puts _oh[2]\n",
    "puts _oh[3]\n",
    "\n",
    "puts Out[1]\n",
    "puts Out[2]\n",
    "puts Out[3]\n",
    "\n",
    "puts Out[-3]\n",
    "puts Out[-2]\n",
    "puts Out[-1]"
   ]
  }
 ],
 "metadata": {
  "kernelspec": {
   "display_name": "Ruby 2.2.1",
   "language": "ruby",
   "name": "ruby"
  },
  "language_info": {
   "file_extension": ".rb",
   "mimetype": "application/x-ruby",
   "name": "ruby",
   "version": "2.2.1"
  }
 },
 "nbformat": 4,
 "nbformat_minor": 0
}
