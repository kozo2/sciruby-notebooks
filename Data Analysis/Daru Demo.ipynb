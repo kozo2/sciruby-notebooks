{
 "cells": [
  {
   "cell_type": "markdown",
   "metadata": {
    "collapsed": false
   },
   "source": [
    "# Introduction to daru (Data Analysis in RUby)\n",
    "\n",
    "## Sameer Deshmukh\n",
    "\n",
    "### Deccan Ruby Conf 2015, Pune, India."
   ]
  },
  {
   "cell_type": "code",
   "execution_count": 1,
   "metadata": {
    "collapsed": false,
    "scrolled": true
   },
   "outputs": [
    {
     "data": {
      "application/javascript": [
       "if(window['d3'] === undefined ||\n",
       "   window['Nyaplot'] === undefined){\n",
       "    var path = {\"d3\":\"https://cdnjs.cloudflare.com/ajax/libs/d3/3.5.5/d3.min\",\"downloadable\":\"https://cdn.rawgit.com/domitry/d3-downloadable/master/d3-downloadable\"};\n",
       "\n",
       "\n",
       "\n",
       "    var shim = {\"d3\":{\"exports\":\"d3\"},\"downloadable\":{\"exports\":\"downloadable\"}};\n",
       "\n",
       "    require.config({paths: path, shim:shim});\n",
       "\n",
       "\n",
       "require(['d3'], function(d3){window['d3']=d3;console.log('finished loading d3');require(['downloadable'], function(downloadable){window['downloadable']=downloadable;console.log('finished loading downloadable');\n",
       "\n",
       "\tvar script = d3.select(\"head\")\n",
       "\t    .append(\"script\")\n",
       "\t    .attr(\"src\", \"https://cdn.rawgit.com/domitry/Nyaplotjs/master/release/nyaplot.js\")\n",
       "\t    .attr(\"async\", true);\n",
       "\n",
       "\tscript[0][0].onload = script[0][0].onreadystatechange = function(){\n",
       "\n",
       "\n",
       "\t    var event = document.createEvent(\"HTMLEvents\");\n",
       "\t    event.initEvent(\"load_nyaplot\",false,false);\n",
       "\t    window.dispatchEvent(event);\n",
       "\t    console.log('Finished loading Nyaplotjs');\n",
       "\n",
       "\t};\n",
       "\n",
       "\n",
       "});});\n",
       "}\n"
      ],
      "text/plain": [
       "\"if(window['d3'] === undefined ||\\n   window['Nyaplot'] === undefined){\\n    var path = {\\\"d3\\\":\\\"https://cdnjs.cloudflare.com/ajax/libs/d3/3.5.5/d3.min\\\",\\\"downloadable\\\":\\\"https://cdn.rawgit.com/domitry/d3-downloadable/master/d3-downloadable\\\"};\\n\\n\\n\\n    var shim = {\\\"d3\\\":{\\\"exports\\\":\\\"d3\\\"},\\\"downloadable\\\":{\\\"exports\\\":\\\"downloadable\\\"}};\\n\\n    require.config({paths: path, shim:shim});\\n\\n\\nrequire(['d3'], function(d3){window['d3']=d3;console.log('finished loading d3');require(['downloadable'], function(downloadable){window['downloadable']=downloadable;console.log('finished loading downloadable');\\n\\n\\tvar script = d3.select(\\\"head\\\")\\n\\t    .append(\\\"script\\\")\\n\\t    .attr(\\\"src\\\", \\\"https://cdn.rawgit.com/domitry/Nyaplotjs/master/release/nyaplot.js\\\")\\n\\t    .attr(\\\"async\\\", true);\\n\\n\\tscript[0][0].onload = script[0][0].onreadystatechange = function(){\\n\\n\\n\\t    var event = document.createEvent(\\\"HTMLEvents\\\");\\n\\t    event.initEvent(\\\"load_nyaplot\\\",false,false);\\n\\t    window.dispatchEvent(event);\\n\\t    console.log('Finished loading Nyaplotjs');\\n\\n\\t};\\n\\n\\n});});\\n}\\n\""
      ]
     },
     "metadata": {},
     "output_type": "display_data"
    },
    {
     "data": {
      "text/plain": [
       "true"
      ]
     },
     "execution_count": 1,
     "metadata": {},
     "output_type": "execute_result"
    }
   ],
   "source": [
    "require 'daru'\n",
    "require 'distribution'\n",
    "require 'gnuplotrb'"
   ]
  },
  {
   "cell_type": "markdown",
   "metadata": {},
   "source": [
    "### Creating a Daru::Vector\n",
    "\n",
    "**Vectors are indexed by passing data using the `index` option, and named with `name`**"
   ]
  },
  {
   "cell_type": "code",
   "execution_count": 2,
   "metadata": {
    "collapsed": false
   },
   "outputs": [
    {
     "data": {
      "text/html": [
       "<table><tr><th colspan=\"2\">Daru::Vector:15070620  size: 6</th></tr><tr><th> </th><th>Prices of stuff.</th></tr><tr><td>cherry</td><td>20</td></tr><tr><td>apple</td><td>40</td></tr><tr><td>barley</td><td>25</td></tr><tr><td>wheat</td><td>50</td></tr><tr><td>rice</td><td>45</td></tr><tr><td>sugar</td><td>12</td></tr></table>"
      ],
      "text/plain": [
       "\n",
       "#<Daru::Vector:15070620 @name = Prices of stuff. @size = 6 >\n",
       "                 Prices of stuff.\n",
       "          cherry               20\n",
       "           apple               40\n",
       "          barley               25\n",
       "           wheat               50\n",
       "            rice               45\n",
       "           sugar               12\n"
      ]
     },
     "execution_count": 2,
     "metadata": {},
     "output_type": "execute_result"
    }
   ],
   "source": [
    "vector = Daru::Vector.new(\n",
    "  [20,40,25,50,45,12], index: ['cherry', 'apple', 'barley', 'wheat', 'rice', 'sugar'], \n",
    "  name: \"Prices of stuff.\")"
   ]
  },
  {
   "cell_type": "markdown",
   "metadata": {},
   "source": [
    "### Retreive a single value\n",
    "\n",
    "**Specify the index you want to retrieve in the `#[]` operator**"
   ]
  },
  {
   "cell_type": "code",
   "execution_count": 3,
   "metadata": {
    "collapsed": false
   },
   "outputs": [
    {
     "data": {
      "text/plain": [
       "45"
      ]
     },
     "execution_count": 3,
     "metadata": {},
     "output_type": "execute_result"
    }
   ],
   "source": [
    "vector['rice']"
   ]
  },
  {
   "cell_type": "markdown",
   "metadata": {},
   "source": [
    "### Retreive multiple values\n",
    "\n",
    "**Multiple values can be retreived at the same time as another Daru::Vector by separating them with commas.**"
   ]
  },
  {
   "cell_type": "code",
   "execution_count": 4,
   "metadata": {
    "collapsed": false
   },
   "outputs": [
    {
     "data": {
      "text/html": [
       "<table><tr><th colspan=\"2\">Daru::Vector:14387920  size: 3</th></tr><tr><th> </th><th>Prices of stuff.</th></tr><tr><td>rice</td><td>45</td></tr><tr><td>wheat</td><td>50</td></tr><tr><td>sugar</td><td>12</td></tr></table>"
      ],
      "text/plain": [
       "\n",
       "#<Daru::Vector:14387920 @name = Prices of stuff. @size = 3 >\n",
       "                 Prices of stuff.\n",
       "            rice               45\n",
       "           wheat               50\n",
       "           sugar               12\n"
      ]
     },
     "execution_count": 4,
     "metadata": {},
     "output_type": "execute_result"
    }
   ],
   "source": [
    "vector['rice', 'wheat', 'sugar']"
   ]
  },
  {
   "cell_type": "markdown",
   "metadata": {},
   "source": [
    "### Retreive a slice with a Range\n",
    "\n",
    "**Specifying a range of indexes will retrieve a slice of the Daru::Vector**"
   ]
  },
  {
   "cell_type": "code",
   "execution_count": 5,
   "metadata": {
    "collapsed": false
   },
   "outputs": [
    {
     "data": {
      "text/html": [
       "<table><tr><th colspan=\"2\">Daru::Vector:14063700  size: 4</th></tr><tr><th> </th><th>Prices of stuff.</th></tr><tr><td>barley</td><td>25</td></tr><tr><td>wheat</td><td>50</td></tr><tr><td>rice</td><td>45</td></tr><tr><td>sugar</td><td>12</td></tr></table>"
      ],
      "text/plain": [
       "\n",
       "#<Daru::Vector:14063700 @name = Prices of stuff. @size = 4 >\n",
       "                 Prices of stuff.\n",
       "          barley               25\n",
       "           wheat               50\n",
       "            rice               45\n",
       "           sugar               12\n"
      ]
     },
     "execution_count": 5,
     "metadata": {},
     "output_type": "execute_result"
    }
   ],
   "source": [
    "vector['barley'..'sugar']"
   ]
  },
  {
   "cell_type": "markdown",
   "metadata": {},
   "source": [
    "### Assign a value\n",
    "\n",
    "**Assign a value by specifying the index directly to the #[]= operator**"
   ]
  },
  {
   "cell_type": "code",
   "execution_count": 6,
   "metadata": {
    "collapsed": false
   },
   "outputs": [
    {
     "data": {
      "text/html": [
       "<table><tr><th colspan=\"2\">Daru::Vector:15070620  size: 6</th></tr><tr><th> </th><th>Prices of stuff.</th></tr><tr><td>cherry</td><td>20</td></tr><tr><td>apple</td><td>40</td></tr><tr><td>barley</td><td>1500</td></tr><tr><td>wheat</td><td>50</td></tr><tr><td>rice</td><td>45</td></tr><tr><td>sugar</td><td>12</td></tr></table>"
      ],
      "text/plain": [
       "\n",
       "#<Daru::Vector:15070620 @name = Prices of stuff. @size = 6 >\n",
       "                 Prices of stuff.\n",
       "          cherry               20\n",
       "           apple               40\n",
       "          barley             1500\n",
       "           wheat               50\n",
       "            rice               45\n",
       "           sugar               12\n"
      ]
     },
     "execution_count": 6,
     "metadata": {},
     "output_type": "execute_result"
    }
   ],
   "source": [
    "vector['barley'] = 1500\n",
    "vector"
   ]
  },
  {
   "cell_type": "markdown",
   "metadata": {},
   "source": [
    "### Creating a Daru::DataFrame\n",
    "\n",
    "**The `:index` option is used for specifying the row index of the DataFrame and the `:order` option determines the order in which they will be stored.**\n",
    "\n",
    "**Note that this is only one way of creating a DataFrame. There are around 8 different ways you can do so, depending on your use case.**"
   ]
  },
  {
   "cell_type": "code",
   "execution_count": 7,
   "metadata": {
    "collapsed": false
   },
   "outputs": [
    {
     "data": {
      "text/html": [
       "<table><tr><th colspan=\"4\">Daru::DataFrame:13337740  rows: 6  cols: 3<tr><th></th><th>col0</th><th>col1</th><th>col2</th></tr><tr><td>one</td><td>1</td><td>11</td><td>a</td></tr><tr><td>two</td><td>2</td><td>22</td><td>b</td></tr><tr><td>three</td><td>3</td><td>33</td><td>c</td></tr><tr><td>four</td><td>4</td><td>44</td><td>d</td></tr><tr><td>five</td><td>5</td><td>55</td><td>e</td></tr><tr><td>six</td><td>6</td><td>66</td><td>f</td></tr></table>"
      ],
      "text/plain": [
       "\n",
       "#<Daru::DataFrame:13337740 @name = eb6d959a-2c1c-47b3-bc1d-affc1fb3dad1 @size = 6>\n",
       "                 col0       col1       col2 \n",
       "       one          1         11          a \n",
       "       two          2         22          b \n",
       "     three          3         33          c \n",
       "      four          4         44          d \n",
       "      five          5         55          e \n",
       "       six          6         66          f \n"
      ]
     },
     "execution_count": 7,
     "metadata": {},
     "output_type": "execute_result"
    }
   ],
   "source": [
    "df = Daru::DataFrame.new({\n",
    "  'col0' => [1,2,3,4,5,6],\n",
    "  'col2' => ['a','b','c','d','e','f'],\n",
    "  'col1' => [11,22,33,44,55,66]\n",
    "  }, \n",
    "  index: ['one', 'two', 'three', 'four', 'five', 'six'], \n",
    "  order: ['col0', 'col1', 'col2']\n",
    ")"
   ]
  },
  {
   "cell_type": "markdown",
   "metadata": {},
   "source": [
    "### Accessing a Column\n",
    "\n",
    "**A DataFrame column can be accessed using the DataFrame#[] operator.**\n",
    "\n",
    "**Note that it returns a Daru::Vector**"
   ]
  },
  {
   "cell_type": "code",
   "execution_count": 8,
   "metadata": {
    "collapsed": false
   },
   "outputs": [
    {
     "data": {
      "text/html": [
       "<table><tr><th colspan=\"2\">Daru::Vector:13292960  size: 6</th></tr><tr><th> </th><th>col1</th></tr><tr><td>one</td><td>11</td></tr><tr><td>two</td><td>22</td></tr><tr><td>three</td><td>33</td></tr><tr><td>four</td><td>44</td></tr><tr><td>five</td><td>55</td></tr><tr><td>six</td><td>66</td></tr></table>"
      ],
      "text/plain": [
       "\n",
       "#<Daru::Vector:13292960 @name = col1 @size = 6 >\n",
       "       col1\n",
       "  one    11\n",
       "  two    22\n",
       "three    33\n",
       " four    44\n",
       " five    55\n",
       "  six    66\n"
      ]
     },
     "execution_count": 8,
     "metadata": {},
     "output_type": "execute_result"
    }
   ],
   "source": [
    "df['col1']"
   ]
  },
  {
   "cell_type": "markdown",
   "metadata": {},
   "source": [
    "### Accessing multiple Columns\n",
    "\n",
    "**Multiple columns can be accessed by separating them with a comma. The result is another DataFrame.**"
   ]
  },
  {
   "cell_type": "code",
   "execution_count": 9,
   "metadata": {
    "collapsed": false
   },
   "outputs": [
    {
     "data": {
      "text/html": [
       "<table><tr><th colspan=\"3\">Daru::DataFrame:12423020  rows: 6  cols: 2<tr><th></th><th>col2</th><th>col0</th></tr><tr><td>one</td><td>a</td><td>1</td></tr><tr><td>two</td><td>b</td><td>2</td></tr><tr><td>three</td><td>c</td><td>3</td></tr><tr><td>four</td><td>d</td><td>4</td></tr><tr><td>five</td><td>e</td><td>5</td></tr><tr><td>six</td><td>f</td><td>6</td></tr></table>"
      ],
      "text/plain": [
       "\n",
       "#<Daru::DataFrame:12423020 @name = eb6d959a-2c1c-47b3-bc1d-affc1fb3dad1 @size = 6>\n",
       "                 col2       col0 \n",
       "       one          a          1 \n",
       "       two          b          2 \n",
       "     three          c          3 \n",
       "      four          d          4 \n",
       "      five          e          5 \n",
       "       six          f          6 \n"
      ]
     },
     "execution_count": 9,
     "metadata": {},
     "output_type": "execute_result"
    }
   ],
   "source": [
    "df['col2', 'col0']"
   ]
  },
  {
   "cell_type": "markdown",
   "metadata": {},
   "source": [
    "### Accessing a Range of Columns\n",
    "\n",
    "**A slice of the DataFrame by columns can be obtained by specifying a Range in #[]**"
   ]
  },
  {
   "cell_type": "code",
   "execution_count": 10,
   "metadata": {
    "collapsed": false
   },
   "outputs": [
    {
     "data": {
      "text/html": [
       "<table><tr><th colspan=\"3\">Daru::DataFrame:12007160  rows: 6  cols: 2<tr><th></th><th>col1</th><th>col2</th></tr><tr><td>one</td><td>11</td><td>a</td></tr><tr><td>two</td><td>22</td><td>b</td></tr><tr><td>three</td><td>33</td><td>c</td></tr><tr><td>four</td><td>44</td><td>d</td></tr><tr><td>five</td><td>55</td><td>e</td></tr><tr><td>six</td><td>66</td><td>f</td></tr></table>"
      ],
      "text/plain": [
       "\n",
       "#<Daru::DataFrame:12007160 @name = eb6d959a-2c1c-47b3-bc1d-affc1fb3dad1 @size = 6>\n",
       "                 col1       col2 \n",
       "       one         11          a \n",
       "       two         22          b \n",
       "     three         33          c \n",
       "      four         44          d \n",
       "      five         55          e \n",
       "       six         66          f \n"
      ]
     },
     "execution_count": 10,
     "metadata": {},
     "output_type": "execute_result"
    }
   ],
   "source": [
    "df['col1'..'col2']"
   ]
  },
  {
   "cell_type": "markdown",
   "metadata": {},
   "source": [
    "### Assigning a Column\n",
    "\n",
    "**You can assign a Daru::Vector to a column and the indexes of the Vector will be automatically matched to that of the DataFrame.**"
   ]
  },
  {
   "cell_type": "code",
   "execution_count": 11,
   "metadata": {
    "collapsed": false
   },
   "outputs": [
    {
     "data": {
      "text/html": [
       "<table><tr><th colspan=\"4\">Daru::DataFrame:13337740  rows: 6  cols: 3<tr><th></th><th>col0</th><th>col1</th><th>col2</th></tr><tr><td>one</td><td>1</td><td>this</td><td>a</td></tr><tr><td>two</td><td>2</td><td>some</td><td>b</td></tr><tr><td>three</td><td>3</td><td>is</td><td>c</td></tr><tr><td>four</td><td>4</td><td>data</td><td>d</td></tr><tr><td>five</td><td>5</td><td>here</td><td>e</td></tr><tr><td>six</td><td>6</td><td>new</td><td>f</td></tr></table>"
      ],
      "text/plain": [
       "\n",
       "#<Daru::DataFrame:13337740 @name = eb6d959a-2c1c-47b3-bc1d-affc1fb3dad1 @size = 6>\n",
       "                 col0       col1       col2 \n",
       "       one          1       this          a \n",
       "       two          2       some          b \n",
       "     three          3         is          c \n",
       "      four          4       data          d \n",
       "      five          5       here          e \n",
       "       six          6        new          f \n"
      ]
     },
     "execution_count": 11,
     "metadata": {},
     "output_type": "execute_result"
    }
   ],
   "source": [
    "df['col1'] = Daru::Vector.new(['this', 'is', 'some','new','data','here'], \n",
    "  index: ['one', 'three','two','six','four', 'five'])\n",
    "df"
   ]
  },
  {
   "cell_type": "markdown",
   "metadata": {},
   "source": [
    "### Accessing a Row\n",
    "\n",
    "**A single row can be accessed using the `#row[]` function.**"
   ]
  },
  {
   "cell_type": "code",
   "execution_count": 12,
   "metadata": {
    "collapsed": false
   },
   "outputs": [
    {
     "data": {
      "text/html": [
       "<table><tr><th colspan=\"2\">Daru::Vector:11115780  size: 3</th></tr><tr><th> </th><th>four</th></tr><tr><td>col0</td><td>4</td></tr><tr><td>col1</td><td>data</td></tr><tr><td>col2</td><td>d</td></tr></table>"
      ],
      "text/plain": [
       "\n",
       "#<Daru::Vector:11115780 @name = four @size = 3 >\n",
       "     four\n",
       "col0    4\n",
       "col1 data\n",
       "col2    d\n"
      ]
     },
     "execution_count": 12,
     "metadata": {},
     "output_type": "execute_result"
    }
   ],
   "source": [
    "df.row['four']"
   ]
  },
  {
   "cell_type": "markdown",
   "metadata": {},
   "source": [
    "### Accessing a Range of Rows\n",
    "\n",
    "**Specifying a Range of Row indexes in `#row[]` will select a DataFrame with those rows**"
   ]
  },
  {
   "cell_type": "code",
   "execution_count": 13,
   "metadata": {
    "collapsed": false
   },
   "outputs": [
    {
     "data": {
      "text/html": [
       "<table><tr><th colspan=\"4\">Daru::DataFrame:9135240  rows: 3  cols: 3<tr><th></th><th>col0</th><th>col1</th><th>col2</th></tr><tr><td>three</td><td>3</td><td>is</td><td>c</td></tr><tr><td>four</td><td>4</td><td>data</td><td>d</td></tr><tr><td>five</td><td>5</td><td>here</td><td>e</td></tr></table>"
      ],
      "text/plain": [
       "\n",
       "#<Daru::DataFrame:9135240 @name = eb6d959a-2c1c-47b3-bc1d-affc1fb3dad1 @size = 3>\n",
       "                 col0       col1       col2 \n",
       "     three          3         is          c \n",
       "      four          4       data          d \n",
       "      five          5       here          e \n"
      ]
     },
     "execution_count": 13,
     "metadata": {},
     "output_type": "execute_result"
    }
   ],
   "source": [
    "df.row['three'..'five']"
   ]
  },
  {
   "cell_type": "markdown",
   "metadata": {},
   "source": [
    "### Assigning a Row\n",
    "\n",
    "**You can also assign a Row with Daru::Vector. Notice that indexes are mathced according to the order of the DataFrame.**"
   ]
  },
  {
   "cell_type": "code",
   "execution_count": 14,
   "metadata": {
    "collapsed": false
   },
   "outputs": [
    {
     "data": {
      "text/plain": [
       "[666, 555, 333]"
      ]
     },
     "execution_count": 14,
     "metadata": {},
     "output_type": "execute_result"
    }
   ],
   "source": [
    "df.row['five'] = [666,555,333]"
   ]
  },
  {
   "cell_type": "markdown",
   "metadata": {},
   "source": [
    "### Statistics on Vector with missing data\n",
    "\n",
    "**A host of static and rolling statistics methods are provided on Daru::Vector.**\n",
    "\n",
    "**Note that missing data (very common in most real world scenarios) is gracefully handled**"
   ]
  },
  {
   "cell_type": "code",
   "execution_count": 15,
   "metadata": {
    "collapsed": false
   },
   "outputs": [
    {
     "data": {
      "text/plain": [
       "12.8"
      ]
     },
     "execution_count": 15,
     "metadata": {},
     "output_type": "execute_result"
    }
   ],
   "source": [
    "vector = Daru::Vector.new([1,3,5,nil,2,53,nil])\n",
    "vector.mean"
   ]
  },
  {
   "cell_type": "markdown",
   "metadata": {},
   "source": [
    "### Statistics on DataFrame\n",
    "\n",
    "**DataFrame statistics will basically apply the concerned method on all numerical columns of the DataFrame.**"
   ]
  },
  {
   "cell_type": "code",
   "execution_count": 16,
   "metadata": {
    "collapsed": false
   },
   "outputs": [
    {
     "data": {
      "text/html": [
       "<table><tr><th colspan=\"2\">Daru::Vector:8060380  size: 1</th></tr><tr><th> </th><th>mean</th></tr><tr><td>col0</td><td>113.66666666666667</td></tr></table>"
      ],
      "text/plain": [
       "\n",
       "#<Daru::Vector:8060380 @name = mean @size = 1 >\n",
       "                                 mean\n",
       "              col0 113.66666666666667\n"
      ]
     },
     "execution_count": 16,
     "metadata": {},
     "output_type": "execute_result"
    }
   ],
   "source": [
    "df.mean"
   ]
  },
  {
   "cell_type": "markdown",
   "metadata": {},
   "source": [
    "**Useful statistics about the vectors in a DataFrame can be observed with `#describe`**"
   ]
  },
  {
   "cell_type": "code",
   "execution_count": 17,
   "metadata": {
    "collapsed": false
   },
   "outputs": [
    {
     "data": {
      "text/html": [
       "<table><tr><th colspan=\"2\">Daru::DataFrame:7470980  rows: 5  cols: 1<tr><th></th><th>col0</th></tr><tr><td>count</td><td>6</td></tr><tr><td>mean</td><td>113.66666666666667</td></tr><tr><td>std</td><td>270.5924364550249</td></tr><tr><td>min</td><td>1</td></tr><tr><td>max</td><td>666</td></tr></table>"
      ],
      "text/plain": [
       "\n",
       "#<Daru::DataFrame:7470980 @name = 02b2d044-c075-4a05-a090-11f540723b21 @size = 5>\n",
       "                 col0 \n",
       "     count          6 \n",
       "      mean 113.666666 \n",
       "       std 270.592436 \n",
       "       min          1 \n",
       "       max        666 \n"
      ]
     },
     "execution_count": 17,
     "metadata": {},
     "output_type": "execute_result"
    }
   ],
   "source": [
    "df.describe"
   ]
  },
  {
   "cell_type": "markdown",
   "metadata": {},
   "source": [
    "## Time Series Support\n",
    "\n",
    "**Daru offers a robust time series manipulation API for indexing data based on timestamps. This makes daru a viable tool for analyzing financial data (or any data that changes with time)**"
   ]
  },
  {
   "cell_type": "markdown",
   "metadata": {},
   "source": [
    "### The DateTimeIndex\n",
    "\n",
    "**The DateTimeIndex is a special index for indexing data based on timestamps.**\n",
    "\n",
    "**A date index range can be created using the DateTimeIndex.date_range function. The `:freq` option decides the time frequency between each timestamp in the date index.**"
   ]
  },
  {
   "cell_type": "code",
   "execution_count": 18,
   "metadata": {
    "collapsed": false
   },
   "outputs": [
    {
     "data": {
      "text/plain": [
       "#<DateTimeIndex:6151760 offset=3D periods=1000 data=[2012-01-01T00:00:00+00:00...2020-03-16T00:00:00+00:00]>"
      ]
     },
     "execution_count": 18,
     "metadata": {},
     "output_type": "execute_result"
    }
   ],
   "source": [
    "index = Daru::DateTimeIndex.date_range(:start => '2012', :periods => 1000, :freq => '3D')"
   ]
  },
  {
   "cell_type": "markdown",
   "metadata": {},
   "source": [
    "**A Daru::Vector can be created by simply passing the newly created index object into the `:index` argument.**"
   ]
  },
  {
   "cell_type": "code",
   "execution_count": 19,
   "metadata": {
    "collapsed": false
   },
   "outputs": [
    {
     "data": {
      "text/html": [
       "<table><tr><th colspan=\"2\">Daru::Vector:5628020  size: 1000</th></tr><tr><th> </th><th>nil</th></tr><tr><td>2012-01-01T00:00:00+00:00</td><td>0.692831672574459</td></tr><tr><td>2012-01-04T00:00:00+00:00</td><td>0.6971783281963972</td></tr><tr><td>2012-01-07T00:00:00+00:00</td><td>0.34687766698487965</td></tr><tr><td>2012-01-10T00:00:00+00:00</td><td>0.5509404993547384</td></tr><tr><td>2012-01-13T00:00:00+00:00</td><td>0.10166975999865946</td></tr><tr><td>2012-01-16T00:00:00+00:00</td><td>0.34183413903843207</td></tr><tr><td>2012-01-19T00:00:00+00:00</td><td>0.018428168123970967</td></tr><tr><td>2012-01-22T00:00:00+00:00</td><td>0.7792652522504137</td></tr><tr><td>2012-01-25T00:00:00+00:00</td><td>0.24793667731961144</td></tr><tr><td>2012-01-28T00:00:00+00:00</td><td>0.7200752551979407</td></tr><tr><td>2012-01-31T00:00:00+00:00</td><td>0.770756064084555</td></tr><tr><td>2012-02-03T00:00:00+00:00</td><td>0.6475396341969668</td></tr><tr><td>2012-02-06T00:00:00+00:00</td><td>0.00034544180080875453</td></tr><tr><td>2012-02-09T00:00:00+00:00</td><td>0.9881939271758362</td></tr><tr><td>2012-02-12T00:00:00+00:00</td><td>0.042428559674003274</td></tr><tr><td>2012-02-15T00:00:00+00:00</td><td>0.6604582692043693</td></tr><tr><td>2012-02-18T00:00:00+00:00</td><td>0.6446959879056338</td></tr><tr><td>2012-02-21T00:00:00+00:00</td><td>0.11606340772777746</td></tr><tr><td>2012-02-24T00:00:00+00:00</td><td>0.5238981665473298</td></tr><tr><td>2012-02-27T00:00:00+00:00</td><td>0.25979569124671453</td></tr><tr><td>2012-03-01T00:00:00+00:00</td><td>0.1808967702663009</td></tr><tr><td>2012-03-04T00:00:00+00:00</td><td>0.04614156947957693</td></tr><tr><td>2012-03-07T00:00:00+00:00</td><td>0.8935716437439504</td></tr><tr><td>2012-03-10T00:00:00+00:00</td><td>0.7197074871013468</td></tr><tr><td>2012-03-13T00:00:00+00:00</td><td>0.20741375904156445</td></tr><tr><td>2012-03-16T00:00:00+00:00</td><td>0.501647901862296</td></tr><tr><td>2012-03-19T00:00:00+00:00</td><td>0.9470421480253584</td></tr><tr><td>2012-03-22T00:00:00+00:00</td><td>0.2954430257659184</td></tr><tr><td>2012-03-25T00:00:00+00:00</td><td>0.18422816661946229</td></tr><tr><td>2012-03-28T00:00:00+00:00</td><td>0.48737285121462925</td></tr><tr><td>2012-03-31T00:00:00+00:00</td><td>0.7549290269495055</td></tr><tr><td>2012-04-03T00:00:00+00:00</td><td>0.8216050188191338</td></tr><tr><td>...</td><td>...</td></tr><tr><td>2020-03-16T00:00:00+00:00</td><td>0.8324422863437039</td></tr></table>"
      ],
      "text/plain": [
       "\n",
       "#<Daru::Vector:5628020 @name = nil @size = 1000 >\n",
       "                                      nil\n",
       "2012-01-01T00:00:00+    0.692831672574459\n",
       "2012-01-04T00:00:00+   0.6971783281963972\n",
       "2012-01-07T00:00:00+  0.34687766698487965\n",
       "2012-01-10T00:00:00+   0.5509404993547384\n",
       "2012-01-13T00:00:00+  0.10166975999865946\n",
       "2012-01-16T00:00:00+  0.34183413903843207\n",
       "2012-01-19T00:00:00+ 0.018428168123970967\n",
       "2012-01-22T00:00:00+   0.7792652522504137\n",
       "2012-01-25T00:00:00+  0.24793667731961144\n",
       "2012-01-28T00:00:00+   0.7200752551979407\n",
       "2012-01-31T00:00:00+    0.770756064084555\n",
       "2012-02-03T00:00:00+   0.6475396341969668\n",
       "2012-02-06T00:00:00+ 0.000345441800808754\n",
       "2012-02-09T00:00:00+   0.9881939271758362\n",
       "2012-02-12T00:00:00+ 0.042428559674003274\n",
       "2012-02-15T00:00:00+   0.6604582692043693\n",
       "2012-02-18T00:00:00+   0.6446959879056338\n",
       "                 ...                  ...\n"
      ]
     },
     "execution_count": 19,
     "metadata": {},
     "output_type": "execute_result"
    }
   ],
   "source": [
    "timeseries = Daru::Vector.new(1000.times.map {rand}, index: index)"
   ]
  },
  {
   "cell_type": "markdown",
   "metadata": {},
   "source": [
    "### Accessing data by partial timestamps\n",
    "\n",
    "**When a Vector or DataFrame is indexed by a DateTimeIndex, it allows you to partially specify the date to retreive all the data that belongs to that date.**\n",
    "\n",
    "**For example, to access all the data belonging to the year 2012.**"
   ]
  },
  {
   "cell_type": "code",
   "execution_count": 20,
   "metadata": {
    "collapsed": false
   },
   "outputs": [
    {
     "data": {
      "text/html": [
       "<table><tr><th colspan=\"2\">Daru::Vector:15406520  size: 122</th></tr><tr><th> </th><th>nil</th></tr><tr><td>2012-01-01T00:00:00+00:00</td><td>0.692831672574459</td></tr><tr><td>2012-01-04T00:00:00+00:00</td><td>0.6971783281963972</td></tr><tr><td>2012-01-07T00:00:00+00:00</td><td>0.34687766698487965</td></tr><tr><td>2012-01-10T00:00:00+00:00</td><td>0.5509404993547384</td></tr><tr><td>2012-01-13T00:00:00+00:00</td><td>0.10166975999865946</td></tr><tr><td>2012-01-16T00:00:00+00:00</td><td>0.34183413903843207</td></tr><tr><td>2012-01-19T00:00:00+00:00</td><td>0.018428168123970967</td></tr><tr><td>2012-01-22T00:00:00+00:00</td><td>0.7792652522504137</td></tr><tr><td>2012-01-25T00:00:00+00:00</td><td>0.24793667731961144</td></tr><tr><td>2012-01-28T00:00:00+00:00</td><td>0.7200752551979407</td></tr><tr><td>2012-01-31T00:00:00+00:00</td><td>0.770756064084555</td></tr><tr><td>2012-02-03T00:00:00+00:00</td><td>0.6475396341969668</td></tr><tr><td>2012-02-06T00:00:00+00:00</td><td>0.00034544180080875453</td></tr><tr><td>2012-02-09T00:00:00+00:00</td><td>0.9881939271758362</td></tr><tr><td>2012-02-12T00:00:00+00:00</td><td>0.042428559674003274</td></tr><tr><td>2012-02-15T00:00:00+00:00</td><td>0.6604582692043693</td></tr><tr><td>2012-02-18T00:00:00+00:00</td><td>0.6446959879056338</td></tr><tr><td>2012-02-21T00:00:00+00:00</td><td>0.11606340772777746</td></tr><tr><td>2012-02-24T00:00:00+00:00</td><td>0.5238981665473298</td></tr><tr><td>2012-02-27T00:00:00+00:00</td><td>0.25979569124671453</td></tr><tr><td>2012-03-01T00:00:00+00:00</td><td>0.1808967702663009</td></tr><tr><td>2012-03-04T00:00:00+00:00</td><td>0.04614156947957693</td></tr><tr><td>2012-03-07T00:00:00+00:00</td><td>0.8935716437439504</td></tr><tr><td>2012-03-10T00:00:00+00:00</td><td>0.7197074871013468</td></tr><tr><td>2012-03-13T00:00:00+00:00</td><td>0.20741375904156445</td></tr><tr><td>2012-03-16T00:00:00+00:00</td><td>0.501647901862296</td></tr><tr><td>2012-03-19T00:00:00+00:00</td><td>0.9470421480253584</td></tr><tr><td>2012-03-22T00:00:00+00:00</td><td>0.2954430257659184</td></tr><tr><td>2012-03-25T00:00:00+00:00</td><td>0.18422816661946229</td></tr><tr><td>2012-03-28T00:00:00+00:00</td><td>0.48737285121462925</td></tr><tr><td>2012-03-31T00:00:00+00:00</td><td>0.7549290269495055</td></tr><tr><td>2012-04-03T00:00:00+00:00</td><td>0.8216050188191338</td></tr><tr><td>...</td><td>...</td></tr><tr><td>2012-12-29T00:00:00+00:00</td><td>0.26155523165437944</td></tr></table>"
      ],
      "text/plain": [
       "\n",
       "#<Daru::Vector:15406520 @name = nil @size = 122 >\n",
       "                                      nil\n",
       "2012-01-01T00:00:00+    0.692831672574459\n",
       "2012-01-04T00:00:00+   0.6971783281963972\n",
       "2012-01-07T00:00:00+  0.34687766698487965\n",
       "2012-01-10T00:00:00+   0.5509404993547384\n",
       "2012-01-13T00:00:00+  0.10166975999865946\n",
       "2012-01-16T00:00:00+  0.34183413903843207\n",
       "2012-01-19T00:00:00+ 0.018428168123970967\n",
       "2012-01-22T00:00:00+   0.7792652522504137\n",
       "2012-01-25T00:00:00+  0.24793667731961144\n",
       "2012-01-28T00:00:00+   0.7200752551979407\n",
       "2012-01-31T00:00:00+    0.770756064084555\n",
       "2012-02-03T00:00:00+   0.6475396341969668\n",
       "2012-02-06T00:00:00+ 0.000345441800808754\n",
       "2012-02-09T00:00:00+   0.9881939271758362\n",
       "2012-02-12T00:00:00+ 0.042428559674003274\n",
       "2012-02-15T00:00:00+   0.6604582692043693\n",
       "2012-02-18T00:00:00+   0.6446959879056338\n",
       "                 ...                  ...\n"
      ]
     },
     "execution_count": 20,
     "metadata": {},
     "output_type": "execute_result"
    }
   ],
   "source": [
    "timeseries['2012']"
   ]
  },
  {
   "cell_type": "markdown",
   "metadata": {},
   "source": [
    "**Or to access data whose time stamp is March 2012...**"
   ]
  },
  {
   "cell_type": "code",
   "execution_count": 21,
   "metadata": {
    "collapsed": false
   },
   "outputs": [
    {
     "data": {
      "text/html": [
       "<table><tr><th colspan=\"2\">Daru::Vector:14832480  size: 11</th></tr><tr><th> </th><th>nil</th></tr><tr><td>2012-03-01T00:00:00+00:00</td><td>0.1808967702663009</td></tr><tr><td>2012-03-04T00:00:00+00:00</td><td>0.04614156947957693</td></tr><tr><td>2012-03-07T00:00:00+00:00</td><td>0.8935716437439504</td></tr><tr><td>2012-03-10T00:00:00+00:00</td><td>0.7197074871013468</td></tr><tr><td>2012-03-13T00:00:00+00:00</td><td>0.20741375904156445</td></tr><tr><td>2012-03-16T00:00:00+00:00</td><td>0.501647901862296</td></tr><tr><td>2012-03-19T00:00:00+00:00</td><td>0.9470421480253584</td></tr><tr><td>2012-03-22T00:00:00+00:00</td><td>0.2954430257659184</td></tr><tr><td>2012-03-25T00:00:00+00:00</td><td>0.18422816661946229</td></tr><tr><td>2012-03-28T00:00:00+00:00</td><td>0.48737285121462925</td></tr><tr><td>2012-03-31T00:00:00+00:00</td><td>0.7549290269495055</td></tr></table>"
      ],
      "text/plain": [
       "\n",
       "#<Daru::Vector:14832480 @name = nil @size = 11 >\n",
       "                                      nil\n",
       "2012-03-01T00:00:00+   0.1808967702663009\n",
       "2012-03-04T00:00:00+  0.04614156947957693\n",
       "2012-03-07T00:00:00+   0.8935716437439504\n",
       "2012-03-10T00:00:00+   0.7197074871013468\n",
       "2012-03-13T00:00:00+  0.20741375904156445\n",
       "2012-03-16T00:00:00+    0.501647901862296\n",
       "2012-03-19T00:00:00+   0.9470421480253584\n",
       "2012-03-22T00:00:00+   0.2954430257659184\n",
       "2012-03-25T00:00:00+  0.18422816661946229\n",
       "2012-03-28T00:00:00+  0.48737285121462925\n",
       "2012-03-31T00:00:00+   0.7549290269495055\n"
      ]
     },
     "execution_count": 21,
     "metadata": {},
     "output_type": "execute_result"
    }
   ],
   "source": [
    "timeseries['2012-3']"
   ]
  },
  {
   "cell_type": "markdown",
   "metadata": {},
   "source": [
    "**Specifying the date precisely will return the exact data point (You can also pass a ruby DateTime object for precisely obtaining data).**"
   ]
  },
  {
   "cell_type": "code",
   "execution_count": 22,
   "metadata": {
    "collapsed": false
   },
   "outputs": [
    {
     "data": {
      "text/plain": [
       "0.7197074871013468"
      ]
     },
     "execution_count": 22,
     "metadata": {},
     "output_type": "execute_result"
    }
   ],
   "source": [
    "timeseries['2012-3-10']"
   ]
  },
  {
   "cell_type": "markdown",
   "metadata": {},
   "source": [
    "**Say you have per second data about the price of a commodity and want to access the prices for the minute on 23rd of March 2012 at 12:42 pm**"
   ]
  },
  {
   "cell_type": "code",
   "execution_count": 23,
   "metadata": {
    "collapsed": false
   },
   "outputs": [
    {
     "data": {
      "text/html": [
       "<table><tr><th colspan=\"2\">Daru::Vector:28416340  size: 60</th></tr><tr><th> </th><th>nil</th></tr><tr><td>2012-03-23T12:42:00+00:00</td><td>4</td></tr><tr><td>2012-03-23T12:42:01+00:00</td><td>32</td></tr><tr><td>2012-03-23T12:42:02+00:00</td><td>35</td></tr><tr><td>2012-03-23T12:42:03+00:00</td><td>35</td></tr><tr><td>2012-03-23T12:42:04+00:00</td><td>14</td></tr><tr><td>2012-03-23T12:42:05+00:00</td><td>1</td></tr><tr><td>2012-03-23T12:42:06+00:00</td><td>43</td></tr><tr><td>2012-03-23T12:42:07+00:00</td><td>39</td></tr><tr><td>2012-03-23T12:42:08+00:00</td><td>20</td></tr><tr><td>2012-03-23T12:42:09+00:00</td><td>16</td></tr><tr><td>2012-03-23T12:42:10+00:00</td><td>43</td></tr><tr><td>2012-03-23T12:42:11+00:00</td><td>0</td></tr><tr><td>2012-03-23T12:42:12+00:00</td><td>27</td></tr><tr><td>2012-03-23T12:42:13+00:00</td><td>43</td></tr><tr><td>2012-03-23T12:42:14+00:00</td><td>43</td></tr><tr><td>2012-03-23T12:42:15+00:00</td><td>18</td></tr><tr><td>2012-03-23T12:42:16+00:00</td><td>35</td></tr><tr><td>2012-03-23T12:42:17+00:00</td><td>39</td></tr><tr><td>2012-03-23T12:42:18+00:00</td><td>35</td></tr><tr><td>2012-03-23T12:42:19+00:00</td><td>23</td></tr><tr><td>2012-03-23T12:42:20+00:00</td><td>25</td></tr><tr><td>2012-03-23T12:42:21+00:00</td><td>13</td></tr><tr><td>2012-03-23T12:42:22+00:00</td><td>5</td></tr><tr><td>2012-03-23T12:42:23+00:00</td><td>43</td></tr><tr><td>2012-03-23T12:42:24+00:00</td><td>13</td></tr><tr><td>2012-03-23T12:42:25+00:00</td><td>28</td></tr><tr><td>2012-03-23T12:42:26+00:00</td><td>2</td></tr><tr><td>2012-03-23T12:42:27+00:00</td><td>42</td></tr><tr><td>2012-03-23T12:42:28+00:00</td><td>29</td></tr><tr><td>2012-03-23T12:42:29+00:00</td><td>36</td></tr><tr><td>2012-03-23T12:42:30+00:00</td><td>44</td></tr><tr><td>2012-03-23T12:42:31+00:00</td><td>36</td></tr><tr><td>...</td><td>...</td></tr><tr><td>2012-03-23T12:42:59+00:00</td><td>8</td></tr></table>"
      ],
      "text/plain": [
       "\n",
       "#<Daru::Vector:28416340 @name = nil @size = 60 >\n",
       "                                      nil\n",
       "2012-03-23T12:42:00+                    4\n",
       "2012-03-23T12:42:01+                   32\n",
       "2012-03-23T12:42:02+                   35\n",
       "2012-03-23T12:42:03+                   35\n",
       "2012-03-23T12:42:04+                   14\n",
       "2012-03-23T12:42:05+                    1\n",
       "2012-03-23T12:42:06+                   43\n",
       "2012-03-23T12:42:07+                   39\n",
       "2012-03-23T12:42:08+                   20\n",
       "2012-03-23T12:42:09+                   16\n",
       "2012-03-23T12:42:10+                   43\n",
       "2012-03-23T12:42:11+                    0\n",
       "2012-03-23T12:42:12+                   27\n",
       "2012-03-23T12:42:13+                   43\n",
       "2012-03-23T12:42:14+                   43\n",
       "2012-03-23T12:42:15+                   18\n",
       "2012-03-23T12:42:16+                   35\n",
       "                 ...                  ...\n"
      ]
     },
     "execution_count": 23,
     "metadata": {},
     "output_type": "execute_result"
    }
   ],
   "source": [
    "index      = Daru::DateTimeIndex.date_range(\n",
    "  :start => '2012-3-23 11:00', :periods => 20000, :freq => 'S')\n",
    "\n",
    "seconds_ts = Daru::Vector.new(20000.times.map { rand(50) }, index: index)\n",
    "seconds_ts['2012-3-23 12:42']"
   ]
  },
  {
   "cell_type": "markdown",
   "metadata": {},
   "source": [
    "## Visualization\n",
    "\n",
    "### Simple Visualization with interactive graphs\n",
    "\n",
    "**Plotting a simple scatter plot from a DataFrame. Nyaplot integration provides interactivity.**\n",
    "\n",
    "**DataFrame denoting Ice Cream sales of a particular food chain in a city according to the maximum recorded temperature in that city. It also lists the staff strength present in each city.**"
   ]
  },
  {
   "cell_type": "code",
   "execution_count": 24,
   "metadata": {
    "collapsed": false
   },
   "outputs": [
    {
     "data": {
      "text/html": [
       "<table><tr><th colspan=\"5\">Daru::DataFrame:4800060  rows: 10  cols: 4<tr><th></th><th>city</th><th>sales</th><th>staff</th><th>temperature</th></tr><tr><td>0</td><td>Pune</td><td>350</td><td>15</td><td>30.4</td></tr><tr><td>1</td><td>Delhi</td><td>150</td><td>20</td><td>23.5</td></tr><tr><td>2</td><td>Pune</td><td>500</td><td>15</td><td>44.5</td></tr><tr><td>3</td><td>Delhi</td><td>200</td><td>20</td><td>20.3</td></tr><tr><td>4</td><td>Pune</td><td>480</td><td>15</td><td>34</td></tr><tr><td>5</td><td>Delhi</td><td>250</td><td>20</td><td>24</td></tr><tr><td>6</td><td>Pune</td><td>330</td><td>15</td><td>31.45</td></tr><tr><td>7</td><td>Delhi</td><td>400</td><td>20</td><td>28.34</td></tr><tr><td>8</td><td>Pune</td><td>420</td><td>15</td><td>37</td></tr><tr><td>9</td><td>Delhi</td><td>560</td><td>20</td><td>24</td></tr></table>"
      ],
      "text/plain": [
       "\n",
       "#<Daru::DataFrame:4800060 @name = 3c2f53d8-3f7c-41dc-bec8-608d6e8d1497 @size = 10>\n",
       "                 city      sales      staff temperatur \n",
       "         0       Pune        350         15       30.4 \n",
       "         1      Delhi        150         20       23.5 \n",
       "         2       Pune        500         15       44.5 \n",
       "         3      Delhi        200         20       20.3 \n",
       "         4       Pune        480         15         34 \n",
       "         5      Delhi        250         20         24 \n",
       "         6       Pune        330         15      31.45 \n",
       "         7      Delhi        400         20      28.34 \n",
       "         8       Pune        420         15         37 \n",
       "         9      Delhi        560         20         24 \n"
      ]
     },
     "execution_count": 24,
     "metadata": {},
     "output_type": "execute_result"
    }
   ],
   "source": [
    "df = Daru::DataFrame.new({\n",
    "  :temperature => [30.4, 23.5, 44.5, 20.3, 34, 24, 31.45, 28.34, 37, 24],\n",
    "  :sales       => [350, 150, 500, 200, 480, 250, 330, 400, 420, 560],\n",
    "  :city        => ['Pune', 'Delhi']*5,\n",
    "  :staff       => [15,20]*5\n",
    "})\n",
    "df"
   ]
  },
  {
   "cell_type": "markdown",
   "metadata": {},
   "source": [
    "**The plot below is between Temperature in the city and the sales of ice cream.**"
   ]
  },
  {
   "cell_type": "code",
   "execution_count": 25,
   "metadata": {
    "collapsed": false
   },
   "outputs": [
    {
     "data": {
      "text/html": [
       "<div id='vis-647b5594-d1bf-4ff9-b464-c86e523e2c68'></div>\n",
       "<script>\n",
       "(function(){\n",
       "    var render = function(){\n",
       "        var model = {\"panes\":[{\"diagrams\":[{\"type\":\"scatter\",\"options\":{\"x\":\"temperature\",\"y\":\"sales\",\"tooltip_contents\":[\"city\",\"staff\"],\"color\":[\"rgb(102,194,165)\",\"rgb(252,141,98)\",\"rgb(141,160,203)\",\"rgb(231,138,195)\",\"rgb(166,216,84)\",\"rgb(255,217,47)\",\"rgb(229,196,148)\",\"rgb(179,179,179)\"],\"fill_by\":\"city\",\"shape_by\":\"city\"},\"data\":\"1a49603a-2bea-4353-b752-4ede957a4440\"}],\"options\":{\"x_label\":\"Temperature\",\"y_label\":\"Sales\",\"yrange\":[100,600],\"xrange\":[15,50],\"zoom\":true,\"width\":700}}],\"data\":{\"1a49603a-2bea-4353-b752-4ede957a4440\":[{\"city\":\"Pune\",\"sales\":350,\"staff\":15,\"temperature\":30.4},{\"city\":\"Delhi\",\"sales\":150,\"staff\":20,\"temperature\":23.5},{\"city\":\"Pune\",\"sales\":500,\"staff\":15,\"temperature\":44.5},{\"city\":\"Delhi\",\"sales\":200,\"staff\":20,\"temperature\":20.3},{\"city\":\"Pune\",\"sales\":480,\"staff\":15,\"temperature\":34},{\"city\":\"Delhi\",\"sales\":250,\"staff\":20,\"temperature\":24},{\"city\":\"Pune\",\"sales\":330,\"staff\":15,\"temperature\":31.45},{\"city\":\"Delhi\",\"sales\":400,\"staff\":20,\"temperature\":28.34},{\"city\":\"Pune\",\"sales\":420,\"staff\":15,\"temperature\":37},{\"city\":\"Delhi\",\"sales\":560,\"staff\":20,\"temperature\":24}]},\"extension\":[]}\n",
       "        var id_name = '#vis-647b5594-d1bf-4ff9-b464-c86e523e2c68';\n",
       "        Nyaplot.core.parse(model, id_name);\n",
       "\n",
       "        require(['downloadable'], function(downloadable){\n",
       "          var svg = d3.select(id_name).select(\"svg\");\n",
       "\t  if(!svg.empty())\n",
       "\t    svg.call(downloadable().filename('fig'));\n",
       "\t});\n",
       "    };\n",
       "    if(window['Nyaplot']==undefined){\n",
       "        window.addEventListener('load_nyaplot', render, false);\n",
       "\treturn;\n",
       "    } else {\n",
       "       render();\n",
       "    }\n",
       "})();\n",
       "</script>\n"
      ],
      "text/plain": [
       "#<Nyaplot::Frame:0x000000036707e8 @properties={:panes=>[#<Nyaplot::Plot:0x000000008f2168 @properties={:diagrams=>[#<Nyaplot::Diagram:0x000000036715f8 @properties={:type=>:scatter, :options=>{:x=>:temperature, :y=>:sales, :tooltip_contents=>[:city, :staff], :color=>#<Nyaplot::Color:0x000000036708b0 @source=[\"rgb(102,194,165)\", \"rgb(252,141,98)\", \"rgb(141,160,203)\", \"rgb(231,138,195)\", \"rgb(166,216,84)\", \"rgb(255,217,47)\", \"rgb(229,196,148)\", \"rgb(179,179,179)\"]>, :fill_by=>:city, :shape_by=>:city}, :data=>\"1a49603a-2bea-4353-b752-4ede957a4440\"}, @xrange=[20.3, 44.5], @yrange=[150, 560]>], :options=>{:x_label=>\"Temperature\", :y_label=>\"Sales\", :yrange=>[100, 600], :xrange=>[15, 50], :zoom=>true, :width=>700}}>], :data=>{\"1a49603a-2bea-4353-b752-4ede957a4440\"=>#<Nyaplot::DataFrame:0x00000003671dc8 @name=\"1a49603a-2bea-4353-b752-4ede957a4440\", @rows=[{:city=>\"Pune\", :sales=>350, :staff=>15, :temperature=>30.4}, {:city=>\"Delhi\", :sales=>150, :staff=>20, :temperature=>23.5}, {:city=>\"Pune\", :sales=>500, :staff=>15, :temperature=>44.5}, {:city=>\"Delhi\", :sales=>200, :staff=>20, :temperature=>20.3}, {:city=>\"Pune\", :sales=>480, :staff=>15, :temperature=>34}, {:city=>\"Delhi\", :sales=>250, :staff=>20, :temperature=>24}, {:city=>\"Pune\", :sales=>330, :staff=>15, :temperature=>31.45}, {:city=>\"Delhi\", :sales=>400, :staff=>20, :temperature=>28.34}, {:city=>\"Pune\", :sales=>420, :staff=>15, :temperature=>37}, {:city=>\"Delhi\", :sales=>560, :staff=>20, :temperature=>24}]>}, :extension=>[]}>"
      ]
     },
     "metadata": {},
     "output_type": "display_data"
    }
   ],
   "source": [
    "df.plot(type: :scatter, x: :temperature, y: :sales) do |plot, diagram|\n",
    "  plot.x_label \"Temperature\"\n",
    "  plot.y_label \"Sales\"\n",
    "  plot.yrange [100, 600]\n",
    "  plot.xrange [15, 50]\n",
    "  diagram.tooltip_contents([:city, :staff])\n",
    "  # Set the color scheme for this diagram.\n",
    "  diagram.color(Nyaplot::Colors.qual) \n",
    "  # Change color of each point WRT to the city that it belongs to.\n",
    "  diagram.fill_by(:city)\n",
    "  # Shape each point WRT to the city that it belongs to.\n",
    "  diagram.shape_by(:city) \n",
    "end"
   ]
  },
  {
   "cell_type": "markdown",
   "metadata": {},
   "source": [
    "### Use with GNU plot\n",
    "\n",
    "#### Plotting a time series with it's rolling mean\n",
    "\n",
    "**Init a random number generator for creating a normal distribution **"
   ]
  },
  {
   "cell_type": "code",
   "execution_count": 26,
   "metadata": {
    "collapsed": false
   },
   "outputs": [
    {
     "data": {
      "text/plain": [
       "#<Proc:0x0000000368b250@/home/ubuntu/.rvm/gems/ruby-2.2.1/gems/distribution-0.7.3/lib/distribution/normal/gsl.rb:8 (lambda)>"
      ]
     },
     "execution_count": 26,
     "metadata": {},
     "output_type": "execute_result"
    }
   ],
   "source": [
    "rng = Distribution::Normal.rng"
   ]
  },
  {
   "cell_type": "code",
   "execution_count": 27,
   "metadata": {
    "collapsed": false
   },
   "outputs": [
    {
     "data": {
      "image/svg+xml": [
       "<?xml version=\"1.0\" encoding=\"utf-8\"  standalone=\"no\"?>\n",
       "<!DOCTYPE svg PUBLIC \"-//W3C//DTD SVG 1.1//EN\"\n",
       " \"http://www.w3.org/Graphics/SVG/1.1/DTD/svg11.dtd\">\n",
       "<svg \n",
       " width=\"600\" height=\"480\"\n",
       " viewBox=\"0 0 600 480\"\n",
       " xmlns=\"http://www.w3.org/2000/svg\"\n",
       " xmlns:xlink=\"http://www.w3.org/1999/xlink\"\n",
       ">\n",
       "\n",
       "<title>Gnuplot</title>\n",
       "<desc>Produced by GNUPLOT 5.0 patchlevel 3 </desc>\n",
       "\n",
       "<g id=\"gnuplot_canvas\">\n",
       "\n",
       "<rect x=\"0\" y=\"0\" width=\"600\" height=\"480\" fill=\"none\"/>\n",
       "<defs>\n",
       "\n",
       "\t<circle id='gpDot' r='0.5' stroke-width='0.5'/>\n",
       "\t<path id='gpPt0' stroke-width='0.222' stroke='currentColor' d='M-1,0 h2 M0,-1 v2'/>\n",
       "\t<path id='gpPt1' stroke-width='0.222' stroke='currentColor' d='M-1,-1 L1,1 M1,-1 L-1,1'/>\n",
       "\t<path id='gpPt2' stroke-width='0.222' stroke='currentColor' d='M-1,0 L1,0 M0,-1 L0,1 M-1,-1 L1,1 M-1,1 L1,-1'/>\n",
       "\t<rect id='gpPt3' stroke-width='0.222' stroke='currentColor' x='-1' y='-1' width='2' height='2'/>\n",
       "\t<rect id='gpPt4' stroke-width='0.222' stroke='currentColor' fill='currentColor' x='-1' y='-1' width='2' height='2'/>\n",
       "\t<circle id='gpPt5' stroke-width='0.222' stroke='currentColor' cx='0' cy='0' r='1'/>\n",
       "\t<use xlink:href='#gpPt5' id='gpPt6' fill='currentColor' stroke='none'/>\n",
       "\t<path id='gpPt7' stroke-width='0.222' stroke='currentColor' d='M0,-1.33 L-1.33,0.67 L1.33,0.67 z'/>\n",
       "\t<use xlink:href='#gpPt7' id='gpPt8' fill='currentColor' stroke='none'/>\n",
       "\t<use xlink:href='#gpPt7' id='gpPt9' stroke='currentColor' transform='rotate(180)'/>\n",
       "\t<use xlink:href='#gpPt9' id='gpPt10' fill='currentColor' stroke='none'/>\n",
       "\t<use xlink:href='#gpPt3' id='gpPt11' stroke='currentColor' transform='rotate(45)'/>\n",
       "\t<use xlink:href='#gpPt11' id='gpPt12' fill='currentColor' stroke='none'/>\n",
       "\t<path id='gpPt13' stroke-width='0.222' stroke='currentColor' d='M0,1.330 L1.265,0.411 L0.782,-1.067 L-0.782,-1.076 L-1.265,0.411 z'/>\n",
       "\t<use xlink:href='#gpPt13' id='gpPt14' fill='currentColor' stroke='none'/>\n",
       "\t<filter id='textbox' filterUnits='objectBoundingBox' x='0' y='0' height='1' width='1'>\n",
       "\t  <feFlood flood-color='white' flood-opacity='1' result='bgnd'/>\n",
       "\t  <feComposite in='SourceGraphic' in2='bgnd' operator='atop'/>\n",
       "\t</filter>\n",
       "\t<filter id='greybox' filterUnits='objectBoundingBox' x='0' y='0' height='1' width='1'>\n",
       "\t  <feFlood flood-color='lightgrey' flood-opacity='1' result='grey'/>\n",
       "\t  <feComposite in='SourceGraphic' in2='grey' operator='atop'/>\n",
       "\t</filter>\n",
       "</defs>\n",
       "<g fill=\"none\" color=\"white\" stroke=\"currentColor\" stroke-width=\"1.00\" stroke-linecap=\"butt\" stroke-linejoin=\"miter\">\n",
       "</g>\n",
       "<g fill=\"none\" color=\"black\" stroke=\"currentColor\" stroke-width=\"1.00\" stroke-linecap=\"butt\" stroke-linejoin=\"miter\">\n",
       "\t<path stroke='black'  d='M63.6,386.4 L72.6,386.4 M575.0,386.4 L566.0,386.4  '/>\t<g transform=\"translate(55.3,390.9)\" stroke=\"none\" fill=\"black\" font-family=\"Arial\" font-size=\"12.00\"  text-anchor=\"end\">\n",
       "\t\t<text><tspan font-family=\"Arial\" >-15</tspan></text>\n",
       "\t</g>\n",
       "</g>\n",
       "<g fill=\"none\" color=\"black\" stroke=\"currentColor\" stroke-width=\"1.00\" stroke-linecap=\"butt\" stroke-linejoin=\"miter\">\n",
       "\t<path stroke='black'  d='M63.6,340.2 L72.6,340.2 M575.0,340.2 L566.0,340.2  '/>\t<g transform=\"translate(55.3,344.7)\" stroke=\"none\" fill=\"black\" font-family=\"Arial\" font-size=\"12.00\"  text-anchor=\"end\">\n",
       "\t\t<text><tspan font-family=\"Arial\" >-10</tspan></text>\n",
       "\t</g>\n",
       "</g>\n",
       "<g fill=\"none\" color=\"black\" stroke=\"currentColor\" stroke-width=\"1.00\" stroke-linecap=\"butt\" stroke-linejoin=\"miter\">\n",
       "\t<path stroke='black'  d='M63.6,294.0 L72.6,294.0 M575.0,294.0 L566.0,294.0  '/>\t<g transform=\"translate(55.3,298.5)\" stroke=\"none\" fill=\"black\" font-family=\"Arial\" font-size=\"12.00\"  text-anchor=\"end\">\n",
       "\t\t<text><tspan font-family=\"Arial\" >-5</tspan></text>\n",
       "\t</g>\n",
       "</g>\n",
       "<g fill=\"none\" color=\"black\" stroke=\"currentColor\" stroke-width=\"1.00\" stroke-linecap=\"butt\" stroke-linejoin=\"miter\">\n",
       "\t<path stroke='black'  d='M63.6,247.8 L72.6,247.8 M575.0,247.8 L566.0,247.8  '/>\t<g transform=\"translate(55.3,252.3)\" stroke=\"none\" fill=\"black\" font-family=\"Arial\" font-size=\"12.00\"  text-anchor=\"end\">\n",
       "\t\t<text><tspan font-family=\"Arial\" > 0</tspan></text>\n",
       "\t</g>\n",
       "</g>\n",
       "<g fill=\"none\" color=\"black\" stroke=\"currentColor\" stroke-width=\"1.00\" stroke-linecap=\"butt\" stroke-linejoin=\"miter\">\n",
       "\t<path stroke='black'  d='M63.6,201.5 L72.6,201.5 M575.0,201.5 L566.0,201.5  '/>\t<g transform=\"translate(55.3,206.0)\" stroke=\"none\" fill=\"black\" font-family=\"Arial\" font-size=\"12.00\"  text-anchor=\"end\">\n",
       "\t\t<text><tspan font-family=\"Arial\" > 5</tspan></text>\n",
       "\t</g>\n",
       "</g>\n",
       "<g fill=\"none\" color=\"black\" stroke=\"currentColor\" stroke-width=\"1.00\" stroke-linecap=\"butt\" stroke-linejoin=\"miter\">\n",
       "\t<path stroke='black'  d='M63.6,155.3 L72.6,155.3 M575.0,155.3 L566.0,155.3  '/>\t<g transform=\"translate(55.3,159.8)\" stroke=\"none\" fill=\"black\" font-family=\"Arial\" font-size=\"12.00\"  text-anchor=\"end\">\n",
       "\t\t<text><tspan font-family=\"Arial\" > 10</tspan></text>\n",
       "\t</g>\n",
       "</g>\n",
       "<g fill=\"none\" color=\"black\" stroke=\"currentColor\" stroke-width=\"1.00\" stroke-linecap=\"butt\" stroke-linejoin=\"miter\">\n",
       "\t<path stroke='black'  d='M63.6,109.1 L72.6,109.1 M575.0,109.1 L566.0,109.1  '/>\t<g transform=\"translate(55.3,113.6)\" stroke=\"none\" fill=\"black\" font-family=\"Arial\" font-size=\"12.00\"  text-anchor=\"end\">\n",
       "\t\t<text><tspan font-family=\"Arial\" > 15</tspan></text>\n",
       "\t</g>\n",
       "</g>\n",
       "<g fill=\"none\" color=\"black\" stroke=\"currentColor\" stroke-width=\"1.00\" stroke-linecap=\"butt\" stroke-linejoin=\"miter\">\n",
       "\t<path stroke='black'  d='M63.6,62.9 L72.6,62.9 M575.0,62.9 L566.0,62.9  '/>\t<g transform=\"translate(55.3,67.4)\" stroke=\"none\" fill=\"black\" font-family=\"Arial\" font-size=\"12.00\"  text-anchor=\"end\">\n",
       "\t\t<text><tspan font-family=\"Arial\" > 20</tspan></text>\n",
       "\t</g>\n",
       "</g>\n",
       "<g fill=\"none\" color=\"black\" stroke=\"currentColor\" stroke-width=\"1.00\" stroke-linecap=\"butt\" stroke-linejoin=\"miter\">\n",
       "\t<path stroke='black'  d='M63.6,16.7 L72.6,16.7 M575.0,16.7 L566.0,16.7  '/>\t<g transform=\"translate(55.3,21.2)\" stroke=\"none\" fill=\"black\" font-family=\"Arial\" font-size=\"12.00\"  text-anchor=\"end\">\n",
       "\t\t<text><tspan font-family=\"Arial\" > 25</tspan></text>\n",
       "\t</g>\n",
       "</g>\n",
       "<g fill=\"none\" color=\"black\" stroke=\"currentColor\" stroke-width=\"1.00\" stroke-linecap=\"butt\" stroke-linejoin=\"miter\">\n",
       "\t<path stroke='black'  d='M63.6,386.4 L63.6,377.4 M63.6,16.7 L63.6,25.7  '/>\t<g transform=\"translate(63.6,408.9)\" stroke=\"none\" fill=\"black\" font-family=\"Arial\" font-size=\"12.00\"  text-anchor=\"middle\">\n",
       "\t\t<text><tspan font-family=\"Arial\" >01</tspan></text>\n",
       "\t</g>\n",
       "\t<g transform=\"translate(63.6,426.9)\" stroke=\"none\" fill=\"black\" font-family=\"Arial\" font-size=\"12.00\"  text-anchor=\"middle\">\n",
       "\t\t<text><tspan font-family=\"Arial\" >Apr</tspan></text>\n",
       "\t</g>\n",
       "\t<g transform=\"translate(63.6,444.9)\" stroke=\"none\" fill=\"black\" font-family=\"Arial\" font-size=\"12.00\"  text-anchor=\"middle\">\n",
       "\t\t<text><tspan font-family=\"Arial\" >2012</tspan></text>\n",
       "\t</g>\n",
       "</g>\n",
       "<g fill=\"none\" color=\"black\" stroke=\"currentColor\" stroke-width=\"1.00\" stroke-linecap=\"butt\" stroke-linejoin=\"miter\">\n",
       "\t<path stroke='black'  d='M79.1,386.4 L79.1,381.9 M79.1,16.7 L79.1,21.2 M94.6,386.4 L94.6,381.9 M94.6,16.7 L94.6,21.2\n",
       "\t\tM109.6,386.4 L109.6,377.4 M109.6,16.7 L109.6,25.7  '/>\t<g transform=\"translate(109.6,408.9)\" stroke=\"none\" fill=\"black\" font-family=\"Arial\" font-size=\"12.00\"  text-anchor=\"middle\">\n",
       "\t\t<text><tspan font-family=\"Arial\" >01</tspan></text>\n",
       "\t</g>\n",
       "\t<g transform=\"translate(109.6,426.9)\" stroke=\"none\" fill=\"black\" font-family=\"Arial\" font-size=\"12.00\"  text-anchor=\"middle\">\n",
       "\t\t<text><tspan font-family=\"Arial\" >Jul</tspan></text>\n",
       "\t</g>\n",
       "\t<g transform=\"translate(109.6,444.9)\" stroke=\"none\" fill=\"black\" font-family=\"Arial\" font-size=\"12.00\"  text-anchor=\"middle\">\n",
       "\t\t<text><tspan font-family=\"Arial\" >2012</tspan></text>\n",
       "\t</g>\n",
       "</g>\n",
       "<g fill=\"none\" color=\"black\" stroke=\"currentColor\" stroke-width=\"1.00\" stroke-linecap=\"butt\" stroke-linejoin=\"miter\">\n",
       "\t<path stroke='black'  d='M125.1,386.4 L125.1,381.9 M125.1,16.7 L125.1,21.2 M140.6,386.4 L140.6,381.9 M140.6,16.7 L140.6,21.2\n",
       "\t\tM156.6,386.4 L156.6,377.4 M156.6,16.7 L156.6,25.7  '/>\t<g transform=\"translate(156.6,408.9)\" stroke=\"none\" fill=\"black\" font-family=\"Arial\" font-size=\"12.00\"  text-anchor=\"middle\">\n",
       "\t\t<text><tspan font-family=\"Arial\" >01</tspan></text>\n",
       "\t</g>\n",
       "\t<g transform=\"translate(156.6,426.9)\" stroke=\"none\" fill=\"black\" font-family=\"Arial\" font-size=\"12.00\"  text-anchor=\"middle\">\n",
       "\t\t<text><tspan font-family=\"Arial\" >Oct</tspan></text>\n",
       "\t</g>\n",
       "\t<g transform=\"translate(156.6,444.9)\" stroke=\"none\" fill=\"black\" font-family=\"Arial\" font-size=\"12.00\"  text-anchor=\"middle\">\n",
       "\t\t<text><tspan font-family=\"Arial\" >2012</tspan></text>\n",
       "\t</g>\n",
       "</g>\n",
       "<g fill=\"none\" color=\"black\" stroke=\"currentColor\" stroke-width=\"1.00\" stroke-linecap=\"butt\" stroke-linejoin=\"miter\">\n",
       "\t<path stroke='black'  d='M172.1,386.4 L172.1,381.9 M172.1,16.7 L172.1,21.2 M187.6,386.4 L187.6,381.9 M187.6,16.7 L187.6,21.2\n",
       "\t\tM203.6,386.4 L203.6,377.4 M203.6,16.7 L203.6,25.7  '/>\t<g transform=\"translate(203.6,408.9)\" stroke=\"none\" fill=\"black\" font-family=\"Arial\" font-size=\"12.00\"  text-anchor=\"middle\">\n",
       "\t\t<text><tspan font-family=\"Arial\" >01</tspan></text>\n",
       "\t</g>\n",
       "\t<g transform=\"translate(203.6,426.9)\" stroke=\"none\" fill=\"black\" font-family=\"Arial\" font-size=\"12.00\"  text-anchor=\"middle\">\n",
       "\t\t<text><tspan font-family=\"Arial\" >Jan</tspan></text>\n",
       "\t</g>\n",
       "\t<g transform=\"translate(203.6,444.9)\" stroke=\"none\" fill=\"black\" font-family=\"Arial\" font-size=\"12.00\"  text-anchor=\"middle\">\n",
       "\t\t<text><tspan font-family=\"Arial\" >2013</tspan></text>\n",
       "\t</g>\n",
       "</g>\n",
       "<g fill=\"none\" color=\"black\" stroke=\"currentColor\" stroke-width=\"1.00\" stroke-linecap=\"butt\" stroke-linejoin=\"miter\">\n",
       "\t<path stroke='black'  d='M219.1,386.4 L219.1,381.9 M219.1,16.7 L219.1,21.2 M234.6,386.4 L234.6,381.9 M234.6,16.7 L234.6,21.2\n",
       "\t\tM249.1,386.4 L249.1,377.4 M249.1,16.7 L249.1,25.7  '/>\t<g transform=\"translate(249.1,408.9)\" stroke=\"none\" fill=\"black\" font-family=\"Arial\" font-size=\"12.00\"  text-anchor=\"middle\">\n",
       "\t\t<text><tspan font-family=\"Arial\" >01</tspan></text>\n",
       "\t</g>\n",
       "\t<g transform=\"translate(249.1,426.9)\" stroke=\"none\" fill=\"black\" font-family=\"Arial\" font-size=\"12.00\"  text-anchor=\"middle\">\n",
       "\t\t<text><tspan font-family=\"Arial\" >Apr</tspan></text>\n",
       "\t</g>\n",
       "\t<g transform=\"translate(249.1,444.9)\" stroke=\"none\" fill=\"black\" font-family=\"Arial\" font-size=\"12.00\"  text-anchor=\"middle\">\n",
       "\t\t<text><tspan font-family=\"Arial\" >2013</tspan></text>\n",
       "\t</g>\n",
       "</g>\n",
       "<g fill=\"none\" color=\"black\" stroke=\"currentColor\" stroke-width=\"1.00\" stroke-linecap=\"butt\" stroke-linejoin=\"miter\">\n",
       "\t<path stroke='black'  d='M264.5,386.4 L264.5,381.9 M264.5,16.7 L264.5,21.2 M280.0,386.4 L280.0,381.9 M280.0,16.7 L280.0,21.2\n",
       "\t\tM295.6,386.4 L295.6,377.4 M295.6,16.7 L295.6,25.7  '/>\t<g transform=\"translate(295.6,408.9)\" stroke=\"none\" fill=\"black\" font-family=\"Arial\" font-size=\"12.00\"  text-anchor=\"middle\">\n",
       "\t\t<text><tspan font-family=\"Arial\" >01</tspan></text>\n",
       "\t</g>\n",
       "\t<g transform=\"translate(295.6,426.9)\" stroke=\"none\" fill=\"black\" font-family=\"Arial\" font-size=\"12.00\"  text-anchor=\"middle\">\n",
       "\t\t<text><tspan font-family=\"Arial\" >Jul</tspan></text>\n",
       "\t</g>\n",
       "\t<g transform=\"translate(295.6,444.9)\" stroke=\"none\" fill=\"black\" font-family=\"Arial\" font-size=\"12.00\"  text-anchor=\"middle\">\n",
       "\t\t<text><tspan font-family=\"Arial\" >2013</tspan></text>\n",
       "\t</g>\n",
       "</g>\n",
       "<g fill=\"none\" color=\"black\" stroke=\"currentColor\" stroke-width=\"1.00\" stroke-linecap=\"butt\" stroke-linejoin=\"miter\">\n",
       "\t<path stroke='black'  d='M311.0,386.4 L311.0,381.9 M311.0,16.7 L311.0,21.2 M326.5,386.4 L326.5,381.9 M326.5,16.7 L326.5,21.2\n",
       "\t\tM342.5,386.4 L342.5,377.4 M342.5,16.7 L342.5,25.7  '/>\t<g transform=\"translate(342.5,408.9)\" stroke=\"none\" fill=\"black\" font-family=\"Arial\" font-size=\"12.00\"  text-anchor=\"middle\">\n",
       "\t\t<text><tspan font-family=\"Arial\" >01</tspan></text>\n",
       "\t</g>\n",
       "\t<g transform=\"translate(342.5,426.9)\" stroke=\"none\" fill=\"black\" font-family=\"Arial\" font-size=\"12.00\"  text-anchor=\"middle\">\n",
       "\t\t<text><tspan font-family=\"Arial\" >Oct</tspan></text>\n",
       "\t</g>\n",
       "\t<g transform=\"translate(342.5,444.9)\" stroke=\"none\" fill=\"black\" font-family=\"Arial\" font-size=\"12.00\"  text-anchor=\"middle\">\n",
       "\t\t<text><tspan font-family=\"Arial\" >2013</tspan></text>\n",
       "\t</g>\n",
       "</g>\n",
       "<g fill=\"none\" color=\"black\" stroke=\"currentColor\" stroke-width=\"1.00\" stroke-linecap=\"butt\" stroke-linejoin=\"miter\">\n",
       "\t<path stroke='black'  d='M358.0,386.4 L358.0,381.9 M358.0,16.7 L358.0,21.2 M373.5,386.4 L373.5,381.9 M373.5,16.7 L373.5,21.2\n",
       "\t\tM389.0,386.4 L389.0,377.4 M389.0,16.7 L389.0,25.7  '/>\t<g transform=\"translate(389.0,408.9)\" stroke=\"none\" fill=\"black\" font-family=\"Arial\" font-size=\"12.00\"  text-anchor=\"middle\">\n",
       "\t\t<text><tspan font-family=\"Arial\" >01</tspan></text>\n",
       "\t</g>\n",
       "\t<g transform=\"translate(389.0,426.9)\" stroke=\"none\" fill=\"black\" font-family=\"Arial\" font-size=\"12.00\"  text-anchor=\"middle\">\n",
       "\t\t<text><tspan font-family=\"Arial\" >Jan</tspan></text>\n",
       "\t</g>\n",
       "\t<g transform=\"translate(389.0,444.9)\" stroke=\"none\" fill=\"black\" font-family=\"Arial\" font-size=\"12.00\"  text-anchor=\"middle\">\n",
       "\t\t<text><tspan font-family=\"Arial\" >2014</tspan></text>\n",
       "\t</g>\n",
       "</g>\n",
       "<g fill=\"none\" color=\"black\" stroke=\"currentColor\" stroke-width=\"1.00\" stroke-linecap=\"butt\" stroke-linejoin=\"miter\">\n",
       "\t<path stroke='black'  d='M404.5,386.4 L404.5,381.9 M404.5,16.7 L404.5,21.2 M420.0,386.4 L420.0,381.9 M420.0,16.7 L420.0,21.2\n",
       "\t\tM435.0,386.4 L435.0,377.4 M435.0,16.7 L435.0,25.7  '/>\t<g transform=\"translate(435.0,408.9)\" stroke=\"none\" fill=\"black\" font-family=\"Arial\" font-size=\"12.00\"  text-anchor=\"middle\">\n",
       "\t\t<text><tspan font-family=\"Arial\" >01</tspan></text>\n",
       "\t</g>\n",
       "\t<g transform=\"translate(435.0,426.9)\" stroke=\"none\" fill=\"black\" font-family=\"Arial\" font-size=\"12.00\"  text-anchor=\"middle\">\n",
       "\t\t<text><tspan font-family=\"Arial\" >Apr</tspan></text>\n",
       "\t</g>\n",
       "\t<g transform=\"translate(435.0,444.9)\" stroke=\"none\" fill=\"black\" font-family=\"Arial\" font-size=\"12.00\"  text-anchor=\"middle\">\n",
       "\t\t<text><tspan font-family=\"Arial\" >2014</tspan></text>\n",
       "\t</g>\n",
       "</g>\n",
       "<g fill=\"none\" color=\"black\" stroke=\"currentColor\" stroke-width=\"1.00\" stroke-linecap=\"butt\" stroke-linejoin=\"miter\">\n",
       "\t<path stroke='black'  d='M450.5,386.4 L450.5,381.9 M450.5,16.7 L450.5,21.2 M466.0,386.4 L466.0,381.9 M466.0,16.7 L466.0,21.2\n",
       "\t\tM481.5,386.4 L481.5,377.4 M481.5,16.7 L481.5,25.7  '/>\t<g transform=\"translate(481.5,408.9)\" stroke=\"none\" fill=\"black\" font-family=\"Arial\" font-size=\"12.00\"  text-anchor=\"middle\">\n",
       "\t\t<text><tspan font-family=\"Arial\" >01</tspan></text>\n",
       "\t</g>\n",
       "\t<g transform=\"translate(481.5,426.9)\" stroke=\"none\" fill=\"black\" font-family=\"Arial\" font-size=\"12.00\"  text-anchor=\"middle\">\n",
       "\t\t<text><tspan font-family=\"Arial\" >Jul</tspan></text>\n",
       "\t</g>\n",
       "\t<g transform=\"translate(481.5,444.9)\" stroke=\"none\" fill=\"black\" font-family=\"Arial\" font-size=\"12.00\"  text-anchor=\"middle\">\n",
       "\t\t<text><tspan font-family=\"Arial\" >2014</tspan></text>\n",
       "\t</g>\n",
       "</g>\n",
       "<g fill=\"none\" color=\"black\" stroke=\"currentColor\" stroke-width=\"1.00\" stroke-linecap=\"butt\" stroke-linejoin=\"miter\">\n",
       "\t<path stroke='black'  d='M497.0,386.4 L497.0,381.9 M497.0,16.7 L497.0,21.2 M512.5,386.4 L512.5,381.9 M512.5,16.7 L512.5,21.2\n",
       "\t\tM528.5,386.4 L528.5,377.4 M528.5,16.7 L528.5,25.7  '/>\t<g transform=\"translate(528.5,408.9)\" stroke=\"none\" fill=\"black\" font-family=\"Arial\" font-size=\"12.00\"  text-anchor=\"middle\">\n",
       "\t\t<text><tspan font-family=\"Arial\" >01</tspan></text>\n",
       "\t</g>\n",
       "\t<g transform=\"translate(528.5,426.9)\" stroke=\"none\" fill=\"black\" font-family=\"Arial\" font-size=\"12.00\"  text-anchor=\"middle\">\n",
       "\t\t<text><tspan font-family=\"Arial\" >Oct</tspan></text>\n",
       "\t</g>\n",
       "\t<g transform=\"translate(528.5,444.9)\" stroke=\"none\" fill=\"black\" font-family=\"Arial\" font-size=\"12.00\"  text-anchor=\"middle\">\n",
       "\t\t<text><tspan font-family=\"Arial\" >2014</tspan></text>\n",
       "\t</g>\n",
       "</g>\n",
       "<g fill=\"none\" color=\"black\" stroke=\"currentColor\" stroke-width=\"1.00\" stroke-linecap=\"butt\" stroke-linejoin=\"miter\">\n",
       "\t<path stroke='black'  d='M544.0,386.4 L544.0,381.9 M544.0,16.7 L544.0,21.2 M559.5,386.4 L559.5,381.9 M559.5,16.7 L559.5,21.2\n",
       "\t\tM575.0,386.4 L575.0,377.4 M575.0,16.7 L575.0,25.7  '/>\t<g transform=\"translate(575.0,408.9)\" stroke=\"none\" fill=\"black\" font-family=\"Arial\" font-size=\"12.00\"  text-anchor=\"middle\">\n",
       "\t\t<text><tspan font-family=\"Arial\" >01</tspan></text>\n",
       "\t</g>\n",
       "\t<g transform=\"translate(575.0,426.9)\" stroke=\"none\" fill=\"black\" font-family=\"Arial\" font-size=\"12.00\"  text-anchor=\"middle\">\n",
       "\t\t<text><tspan font-family=\"Arial\" >Jan</tspan></text>\n",
       "\t</g>\n",
       "\t<g transform=\"translate(575.0,444.9)\" stroke=\"none\" fill=\"black\" font-family=\"Arial\" font-size=\"12.00\"  text-anchor=\"middle\">\n",
       "\t\t<text><tspan font-family=\"Arial\" >2015</tspan></text>\n",
       "\t</g>\n",
       "</g>\n",
       "<g fill=\"none\" color=\"black\" stroke=\"currentColor\" stroke-width=\"1.00\" stroke-linecap=\"butt\" stroke-linejoin=\"miter\">\n",
       "</g>\n",
       "<g fill=\"none\" color=\"black\" stroke=\"currentColor\" stroke-width=\"1.00\" stroke-linecap=\"butt\" stroke-linejoin=\"miter\">\n",
       "\t<path stroke='black'  d='M63.6,16.7 L63.6,386.4 L575.0,386.4 L575.0,16.7 L63.6,16.7 Z  '/></g>\n",
       "<g fill=\"none\" color=\"black\" stroke=\"currentColor\" stroke-width=\"1.00\" stroke-linecap=\"butt\" stroke-linejoin=\"miter\">\n",
       "\t<g transform=\"translate(17.6,201.6) rotate(270)\" stroke=\"none\" fill=\"black\" font-family=\"Arial\" font-size=\"12.00\"  text-anchor=\"middle\">\n",
       "\t\t<text><tspan font-family=\"Arial\" >Value</tspan></text>\n",
       "\t</g>\n",
       "</g>\n",
       "<g fill=\"none\" color=\"black\" stroke=\"currentColor\" stroke-width=\"1.00\" stroke-linecap=\"butt\" stroke-linejoin=\"miter\">\n",
       "\t<g transform=\"translate(319.3,471.9)\" stroke=\"none\" fill=\"black\" font-family=\"Arial\" font-size=\"12.00\"  text-anchor=\"middle\">\n",
       "\t\t<text><tspan font-family=\"Arial\" >Time</tspan></text>\n",
       "\t</g>\n",
       "</g>\n",
       "<g fill=\"none\" color=\"black\" stroke=\"currentColor\" stroke-width=\"1.00\" stroke-linecap=\"butt\" stroke-linejoin=\"miter\">\n",
       "</g>\n",
       "\t<g id=\"gnuplot_plot_1\" ><title>Vector</title>\n",
       "<g fill=\"none\" color=\"black\" stroke=\"currentColor\" stroke-width=\"1.00\" stroke-linecap=\"butt\" stroke-linejoin=\"miter\">\n",
       "\t<g transform=\"translate(507.9,39.2)\" stroke=\"none\" fill=\"black\" font-family=\"Arial\" font-size=\"12.00\"  text-anchor=\"end\">\n",
       "\t\t<text><tspan font-family=\"Arial\" >Vector</tspan></text>\n",
       "\t</g>\n",
       "</g>\n",
       "<g fill=\"none\" color=\"black\" stroke=\"currentColor\" stroke-width=\"1.00\" stroke-linecap=\"butt\" stroke-linejoin=\"miter\">\n",
       "\t<path stroke='rgb(148,   0, 211)'  d='M516.2,34.7 L558.4,34.7 M63.7,245.2 L64.2,253.2 L64.7,251.3 L65.2,252.4 L65.7,239.5 L66.3,234.5\n",
       "\t\tL66.8,237.7 L67.3,233.6 L67.8,224.2 L68.3,221.3 L68.8,207.3 L69.3,213.5 L69.8,214.7 L70.3,207.1\n",
       "\t\tL70.8,207.8 L71.3,215.8 L71.9,215.4 L72.4,229.3 L72.9,199.8 L73.4,193.2 L73.9,202.3 L74.4,196.5\n",
       "\t\tL74.9,179.1 L75.4,160.5 L75.9,150.3 L76.4,141.2 L76.9,149.8 L77.5,146.2 L78.0,145.9 L78.5,129.4\n",
       "\t\tL79.0,136.1 L79.5,136.5 L80.0,134.4 L80.5,122.2 L81.0,109.8 L81.5,108.0 L82.0,101.6 L82.5,104.0\n",
       "\t\tL83.1,102.0 L83.6,106.3 L84.1,99.2 L84.6,98.5 L85.1,99.6 L85.6,112.8 L86.1,114.8 L86.6,100.1\n",
       "\t\tL87.1,106.5 L87.6,124.4 L88.1,129.0 L88.7,110.6 L89.2,110.2 L89.7,119.0 L90.2,120.0 L90.7,138.7\n",
       "\t\tL91.2,134.4 L91.7,139.2 L92.2,140.0 L92.7,145.8 L93.2,145.3 L93.7,125.5 L94.3,113.4 L94.8,117.2\n",
       "\t\tL95.3,123.2 L95.8,118.9 L96.3,119.6 L96.8,114.9 L97.3,116.4 L97.8,110.4 L98.3,115.9 L98.8,111.5\n",
       "\t\tL99.3,108.6 L99.9,114.7 L100.4,102.5 L100.9,116.6 L101.4,115.1 L101.9,118.1 L102.4,112.0 L102.9,115.7\n",
       "\t\tL103.4,115.3 L103.9,113.8 L104.4,107.0 L104.9,103.0 L105.5,108.2 L106.0,114.3 L106.5,109.8 L107.0,111.7\n",
       "\t\tL107.5,120.5 L108.0,112.8 L108.5,143.9 L109.0,152.4 L109.5,157.4 L110.0,162.3 L110.5,153.3 L111.1,152.5\n",
       "\t\tL111.6,162.0 L112.1,168.3 L112.6,184.3 L113.1,191.8 L113.6,185.4 L114.1,192.3 L114.6,179.1 L115.1,192.9\n",
       "\t\tL115.6,195.7 L116.1,178.1 L116.7,167.1 L117.2,156.5 L117.7,178.5 L118.2,181.5 L118.7,173.1 L119.2,181.0\n",
       "\t\tL119.7,172.7 L120.2,161.0 L120.7,161.2 L121.2,165.3 L121.7,165.3 L122.3,167.2 L122.8,154.2 L123.3,141.7\n",
       "\t\tL123.8,125.3 L124.3,125.7 L124.8,112.5 L125.3,111.8 L125.8,106.7 L126.3,96.9 L126.8,102.1 L127.3,114.5\n",
       "\t\tL127.9,125.8 L128.4,130.7 L128.9,116.3 L129.4,114.5 L129.9,104.9 L130.4,105.5 L130.9,104.7 L131.4,114.8\n",
       "\t\tL131.9,109.6 L132.4,105.4 L132.9,115.5 L133.5,129.7 L134.0,136.7 L134.5,135.6 L135.0,120.5 L135.5,104.3\n",
       "\t\tL136.0,111.8 L136.5,120.5 L137.0,129.2 L137.5,140.7 L138.0,122.7 L138.5,129.7 L139.1,128.4 L139.6,125.1\n",
       "\t\tL140.1,122.9 L140.6,109.2 L141.1,115.2 L141.6,102.7 L142.1,105.3 L142.6,113.9 L143.1,104.0 L143.6,113.5\n",
       "\t\tL144.1,112.6 L144.7,107.7 L145.2,116.9 L145.7,124.2 L146.2,113.6 L146.7,120.8 L147.2,124.2 L147.7,124.8\n",
       "\t\tL148.2,119.4 L148.7,124.6 L149.2,122.3 L149.7,129.4 L150.3,132.1 L150.8,126.7 L151.3,118.4 L151.8,115.2\n",
       "\t\tL152.3,119.2 L152.8,121.7 L153.3,116.3 L153.8,105.3 L154.3,103.0 L154.8,104.7 L155.3,101.1 L155.9,92.9\n",
       "\t\tL156.4,79.8 L156.9,74.0 L157.4,62.9 L157.9,65.1 L158.4,56.5 L158.9,54.1 L159.4,53.6 L159.9,64.8\n",
       "\t\tL160.4,75.3 L160.9,88.6 L161.5,92.0 L162.0,91.7 L162.5,77.9 L163.0,87.6 L163.5,93.3 L164.0,103.4\n",
       "\t\tL164.5,105.7 L165.0,95.8 L165.5,89.7 L166.0,84.0 L166.6,98.6 L167.1,99.0 L167.6,82.4 L168.1,100.5\n",
       "\t\tL168.6,111.4 L169.1,122.6 L169.6,122.7 L170.1,111.1 L170.6,115.2 L171.1,107.5 L171.6,106.4 L172.2,115.1\n",
       "\t\tL172.7,120.6 L173.2,119.4 L173.7,115.1 L174.2,97.9 L174.7,104.6 L175.2,112.2 L175.7,105.7 L176.2,104.8\n",
       "\t\tL176.7,112.1 L177.2,115.1 L177.8,122.9 L178.3,126.0 L178.8,124.5 L179.3,131.9 L179.8,141.2 L180.3,140.1\n",
       "\t\tL180.8,154.9 L181.3,158.5 L181.8,151.8 L182.3,139.1 L182.8,136.3 L183.4,134.5 L183.9,136.8 L184.4,146.3\n",
       "\t\tL184.9,151.3 L185.4,149.3 L185.9,147.6 L186.4,157.8 L186.9,158.7 L187.4,145.1 L187.9,134.2 L188.4,137.8\n",
       "\t\tL189.0,133.3 L189.5,134.0 L190.0,135.9 L190.5,126.0 L191.0,129.7 L191.5,111.9 L192.0,110.1 L192.5,112.4\n",
       "\t\tL193.0,107.4 L193.5,105.1 L194.0,106.8 L194.6,115.8 L195.1,112.8 L195.6,106.2 L196.1,105.8 L196.6,111.0\n",
       "\t\tL197.1,99.9 L197.6,114.3 L198.1,104.4 L198.6,105.9 L199.1,118.5 L199.6,119.1 L200.2,116.5 L200.7,114.6\n",
       "\t\tL201.2,106.0 L201.7,124.8 L202.2,131.4 L202.7,142.7 L203.2,143.7 L203.7,136.2 L204.2,144.3 L204.7,152.4\n",
       "\t\tL205.2,155.4 L205.8,161.3 L206.3,180.2 L206.8,190.5 L207.3,193.4 L207.8,180.0 L208.3,185.9 L208.8,200.2\n",
       "\t\tL209.3,200.4 L209.8,190.4 L210.3,193.5 L210.8,184.0 L211.4,194.9 L211.9,207.0 L212.4,207.8 L212.9,211.9\n",
       "\t\tL213.4,226.8 L213.9,219.3 L214.4,214.8 L214.9,196.7 L215.4,204.6 L215.9,213.4 L216.4,223.4 L217.0,231.3\n",
       "\t\tL217.5,217.7 L218.0,221.9 L218.5,219.7 L219.0,206.7 L219.5,199.2 L220.0,188.7 L220.5,189.1 L221.0,203.5\n",
       "\t\tL221.5,201.4 L222.0,191.9 L222.6,189.4 L223.1,179.9 L223.6,173.0 L224.1,172.4 L224.6,169.5 L225.1,165.2\n",
       "\t\tL225.6,161.9 L226.1,151.3 L226.6,154.4 L227.1,159.1 L227.6,158.2 L228.2,159.9 L228.7,166.7 L229.2,160.6\n",
       "\t\tL229.7,149.9 L230.2,151.3 L230.7,161.0 L231.2,156.8 L231.7,144.2 L232.2,137.8 L232.7,125.5 L233.2,118.9\n",
       "\t\tL233.8,122.8 L234.3,117.1 L234.8,125.6 L235.3,112.8 L235.8,114.8 L236.3,137.1 L236.8,142.3 L237.3,125.2\n",
       "\t\tL237.8,133.5 L238.3,118.5 L238.8,108.7 L239.4,92.6 L239.9,89.5 L240.4,107.1 L240.9,118.8 L241.4,114.4\n",
       "\t\tL241.9,113.2 L242.4,104.6 L242.9,104.8 L243.4,105.9 L243.9,99.6 L244.4,106.6 L245.0,113.4 L245.5,124.2\n",
       "\t\tL246.0,115.5 L246.5,122.0 L247.0,139.9 L247.5,145.3 L248.0,155.7 L248.5,151.3 L249.0,146.2 L249.5,148.3\n",
       "\t\tL250.0,157.7 L250.6,169.4 L251.1,164.7 L251.6,167.3 L252.1,178.9 L252.6,185.7 L253.1,200.9 L253.6,199.0\n",
       "\t\tL254.1,196.5 L254.6,189.2 L255.1,188.1 L255.6,178.0 L256.2,183.7 L256.7,180.8 L257.2,181.8 L257.7,181.9\n",
       "\t\tL258.2,176.8 L258.7,171.9 L259.2,181.1 L259.7,188.9 L260.2,185.1 L260.7,173.9 L261.2,181.7 L261.8,181.2\n",
       "\t\tL262.3,177.6 L262.8,176.1 L263.3,180.9 L263.8,201.4 L264.3,194.3 L264.8,198.2 L265.3,206.8 L265.8,189.7\n",
       "\t\tL266.3,180.0 L266.8,181.5 L267.4,187.8 L267.9,195.8 L268.4,199.4 L268.9,210.9 L269.4,202.1 L269.9,211.4\n",
       "\t\tL270.4,197.8 L270.9,208.5 L271.4,202.7 L271.9,186.0 L272.4,186.7 L273.0,175.6 L273.5,183.6 L274.0,178.9\n",
       "\t\tL274.5,182.5 L275.0,190.8 L275.5,195.2 L276.0,200.0 L276.5,193.5 L277.0,208.9 L277.5,201.7 L278.0,198.4\n",
       "\t\tL278.6,200.1 L279.1,219.1 L279.6,229.8 L280.1,224.3 L280.6,192.2 L281.1,189.5 L281.6,196.0 L282.1,190.3\n",
       "\t\tL282.6,184.9 L283.1,192.5 L283.7,196.1 L284.2,198.9 L284.7,186.7 L285.2,170.2 L285.7,179.6 L286.2,182.5\n",
       "\t\tL286.7,193.5 L287.2,163.1 L287.7,148.7 L288.2,158.7 L288.7,154.9 L289.3,171.1 L289.8,174.6 L290.3,178.5\n",
       "\t\tL290.8,185.4 L291.3,186.8 L291.8,202.7 L292.3,186.1 L292.8,179.1 L293.3,175.7 L293.8,175.6 L294.3,175.6\n",
       "\t\tL294.9,192.5 L295.4,176.4 L295.9,156.2 L296.4,158.2 L296.9,168.0 L297.4,166.6 L297.9,182.4 L298.4,170.8\n",
       "\t\tL298.9,169.2 L299.4,162.5 L299.9,153.8 L300.5,151.2 L301.0,145.7 L301.5,137.4 L302.0,128.3 L302.5,113.1\n",
       "\t\tL303.0,136.1 L303.5,144.9 L304.0,155.0 L304.5,155.2 L305.0,176.7 L305.5,195.1 L306.1,221.5 L306.6,220.4\n",
       "\t\tL307.1,222.5 L307.6,220.1 L308.1,220.6 L308.6,215.2 L309.1,221.1 L309.6,215.9 L310.1,211.9 L310.6,223.4\n",
       "\t\tL311.1,211.0 L311.7,211.3 L312.2,201.9 L312.7,209.8 L313.2,211.5 L313.7,222.4 L314.2,227.7 L314.7,229.1\n",
       "\t\tL315.2,235.4 L315.7,229.5 L316.2,226.5 L316.7,217.5 L317.3,223.1 L317.8,216.7 L318.3,206.6 L318.8,193.7\n",
       "\t\tL319.3,183.6 L319.8,193.9 L320.3,196.3 L320.8,182.4 L321.3,184.4 L321.8,189.5 L322.3,176.3 L322.9,190.0\n",
       "\t\tL323.4,184.3 L323.9,177.0 L324.4,180.8 L324.9,182.5 L325.4,200.9 L325.9,196.3 L326.4,200.5 L326.9,194.9\n",
       "\t\tL327.4,191.3 L327.9,191.7 L328.5,185.0 L329.0,178.9 L329.5,165.7 L330.0,171.5 L330.5,168.8 L331.0,166.5\n",
       "\t\tL331.5,169.3 L332.0,153.7 L332.5,174.4 L333.0,163.1 L333.5,170.9 L334.1,175.4 L334.6,188.0 L335.1,188.7\n",
       "\t\tL335.6,200.5 L336.1,203.6 L336.6,209.7 L337.1,202.2 L337.6,200.1 L338.1,217.0 L338.6,218.0 L339.1,214.6\n",
       "\t\tL339.7,202.8 L340.2,208.7 L340.7,215.7 L341.2,235.7 L341.7,237.4 L342.2,238.9 L342.7,239.1 L343.2,251.0\n",
       "\t\tL343.7,254.8 L344.2,255.7 L344.7,261.9 L345.3,271.5 L345.8,246.3 L346.3,262.6 L346.8,263.9 L347.3,256.1\n",
       "\t\tL347.8,260.1 L348.3,242.9 L348.8,242.1 L349.3,243.2 L349.8,246.0 L350.3,233.2 L350.9,246.0 L351.4,237.6\n",
       "\t\tL351.9,238.6 L352.4,231.4 L352.9,234.8 L353.4,231.9 L353.9,240.0 L354.4,250.9 L354.9,253.4 L355.4,246.2\n",
       "\t\tL355.9,250.8 L356.5,239.8 L357.0,233.6 L357.5,232.5 L358.0,221.7 L358.5,221.9 L359.0,231.1 L359.5,241.7\n",
       "\t\tL360.0,242.0 L360.5,245.7 L361.0,248.0 L361.5,246.2 L362.1,248.0 L362.6,234.5 L363.1,251.5 L363.6,256.9\n",
       "\t\tL364.1,266.4 L364.6,266.0 L365.1,275.2 L365.6,269.1 L366.1,259.0 L366.6,259.1 L367.1,260.0 L367.7,257.9\n",
       "\t\tL368.2,266.1 L368.7,275.3 L369.2,273.4 L369.7,273.9 L370.2,290.9 L370.7,303.4 L371.2,318.6 L371.7,319.0\n",
       "\t\tL372.2,326.2 L372.7,332.9 L373.3,325.5 L373.8,324.4 L374.3,322.9 L374.8,318.2 L375.3,305.3 L375.8,323.4\n",
       "\t\tL376.3,307.1 L376.8,301.0 L377.3,291.2 L377.8,271.4 L378.3,257.7 L378.9,261.2 L379.4,255.6 L379.9,252.8\n",
       "\t\tL380.4,257.1 L380.9,248.2 L381.4,217.1 L381.9,219.4 L382.4,219.4 L382.9,230.4 L383.4,228.2 L383.9,228.5\n",
       "\t\tL384.5,229.6 L385.0,239.3 L385.5,238.8 L386.0,237.3 L386.5,232.3 L387.0,218.2 L387.5,216.2 L388.0,221.4\n",
       "\t\tL388.5,230.0 L389.0,219.0 L389.5,223.7 L390.1,222.5 L390.6,216.4 L391.1,220.4 L391.6,208.6 L392.1,213.9\n",
       "\t\tL392.6,212.1 L393.1,221.4 L393.6,227.8 L394.1,231.0 L394.6,231.4 L395.1,232.8 L395.7,244.6 L396.2,250.6\n",
       "\t\tL396.7,270.3 L397.2,266.7 L397.7,268.5 L398.2,279.2 L398.7,291.8 L399.2,299.4 L399.7,303.6 L400.2,299.8\n",
       "\t\tL400.8,307.5 L401.3,307.8 L401.8,307.0 L402.3,322.8 L402.8,325.7 L403.3,308.9 L403.8,313.7 L404.3,315.8\n",
       "\t\tL404.8,291.9 L405.3,288.5 L405.8,287.1 L406.4,271.6 L406.9,271.4 L407.4,263.2 L407.9,278.2 L408.4,296.6\n",
       "\t\tL408.9,311.5 L409.4,317.1 L409.9,314.0 L410.4,324.2 L410.9,320.0 L411.4,315.0 L412.0,340.3 L412.5,350.8\n",
       "\t\tL413.0,347.8 L413.5,330.9 L414.0,324.5 L414.5,332.9 L415.0,344.3 L415.5,338.7 L416.0,342.1 L416.5,337.0\n",
       "\t\tL417.0,327.3 L417.6,330.4 L418.1,323.5 L418.6,324.8 L419.1,320.9 L419.6,326.5 L420.1,341.1 L420.6,362.9\n",
       "\t\tL421.1,358.0 L421.6,351.6 L422.1,341.9 L422.6,351.8 L423.2,356.0 L423.7,361.6 L424.2,351.4 L424.7,354.7\n",
       "\t\tL425.2,357.9 L425.7,368.9 L426.2,370.6 L426.7,371.4 L427.2,372.3 L427.7,377.2 L428.2,371.3 L428.8,371.1\n",
       "\t\tL429.3,362.9 L429.8,354.4 L430.3,363.0 L430.8,362.9 L431.3,370.6 L431.8,352.2 L432.3,340.1 L432.8,320.3\n",
       "\t\tL433.3,333.2 L433.8,325.5 L434.4,318.7 L434.9,313.8 L435.4,309.5 L435.9,298.3 L436.4,320.4 L436.9,315.6\n",
       "\t\tL437.4,321.7 L437.9,324.5 L438.4,317.9 L438.9,324.8 L439.4,314.3 L440.0,321.9 L440.5,318.4 L441.0,323.4\n",
       "\t\tL441.5,302.2 L442.0,302.0 L442.5,306.2 L443.0,309.1 L443.5,313.0 L444.0,323.2 L444.5,310.3 L445.0,301.0\n",
       "\t\tL445.6,304.6 L446.1,297.6 L446.6,303.5 L447.1,300.9 L447.6,299.4 L448.1,292.7 L448.6,274.9 L449.1,290.7\n",
       "\t\tL449.6,285.0 L450.1,296.5 L450.6,308.1 L451.2,317.2 L451.7,318.7 L452.2,316.2 L452.7,296.3 L453.2,286.1\n",
       "\t\tL453.7,283.9 L454.2,266.3 L454.7,273.9 L455.2,260.5 L455.7,263.4 L456.2,259.4 L456.8,248.8 L457.3,230.4\n",
       "\t\tL457.8,228.4 L458.3,253.4 L458.8,266.3 L459.3,273.9 L459.8,285.5 L460.3,288.6 L460.8,287.2 L461.3,283.7\n",
       "\t\tL461.8,294.1 L462.4,286.4 L462.9,278.3 L463.4,274.8 L463.9,276.7 L464.4,281.6 L464.9,283.0 L465.4,288.6\n",
       "\t\tL465.9,275.8 L466.4,288.8 L466.9,295.8 L467.4,320.9 L468.0,316.0 L468.5,322.7 L469.0,329.6 L469.5,326.5\n",
       "\t\tL470.0,322.9 L470.5,323.0 L471.0,320.8 L471.5,336.7 L472.0,338.4 L472.5,340.3 L473.0,339.6 L473.6,343.6\n",
       "\t\tL474.1,337.6 L474.6,335.2 L475.1,343.2 L475.6,348.1 L476.1,353.7 L476.6,344.6 L477.1,339.6 L477.6,332.5\n",
       "\t\tL478.1,323.3 L478.6,325.2 L479.2,311.7 L479.7,312.6 L480.2,321.3 L480.7,320.8 L481.2,320.3 L481.7,329.0\n",
       "\t\tL482.2,317.1 L482.7,318.1 L483.2,325.4 L483.7,315.5 L484.2,312.8 L484.8,308.1 L485.3,313.6 L485.8,316.1\n",
       "\t\tL486.3,316.0 L486.8,323.4 L487.3,333.2 L487.8,342.5 L488.3,345.8 L488.8,351.2 L489.3,356.5 L489.8,361.0\n",
       "\t\tL490.4,339.7 L490.9,329.0 L491.4,322.1 L491.9,314.9 L492.4,306.7 L492.9,301.4 L493.4,313.4 L493.9,313.3\n",
       "\t\tL494.4,308.2 L494.9,316.6 L495.4,314.9 L496.0,308.5 L496.5,303.5 L497.0,299.9 L497.5,298.6 L498.0,288.0\n",
       "\t\tL498.5,289.0 L499.0,294.8 L499.5,300.4 L500.0,303.6 L500.5,308.7 L501.0,304.0 L501.6,302.2 L502.1,303.9\n",
       "\t\tL502.6,306.6 L503.1,317.1 L503.6,313.8 L504.1,322.4 L504.6,322.3 L505.1,319.8 L505.6,303.9 L506.1,318.4\n",
       "\t\tL506.6,317.7 L507.2,319.3 L507.7,326.9 L508.2,334.4 L508.7,330.3 L509.2,339.5 L509.7,342.8 L510.2,337.9\n",
       "\t\tL510.7,327.9 L511.2,334.8 L511.7,331.6 L512.2,309.6 L512.8,310.4 L513.3,314.9 L513.8,306.4 L514.3,310.6\n",
       "\t\tL514.8,293.9 L515.3,310.5 L515.8,312.1 L516.3,307.9 L516.8,312.7 L517.3,311.7 L517.9,303.3 L518.4,303.7\n",
       "\t\tL518.9,291.1 L519.4,281.3 L519.9,282.2 L520.4,274.9 L520.9,274.3 L521.4,268.5 L521.9,264.5 L522.4,260.4\n",
       "\t\tL522.9,266.9 L523.5,274.6 L524.0,274.1 L524.5,256.0 L525.0,246.1 L525.5,239.7 L526.0,250.6 L526.5,253.3\n",
       "\t\tL527.0,248.9 L527.5,249.1 L528.0,263.7 L528.5,271.8 L529.1,264.7 L529.6,261.9 L530.1,268.5 L530.6,259.8\n",
       "\t\tL531.1,263.7 L531.6,273.2 L532.1,267.9 L532.6,269.0 L533.1,294.8 L533.6,282.5 L534.1,279.4 L534.7,284.5\n",
       "\t\tL535.2,274.1 L535.7,273.8 L536.2,269.1 L536.7,272.8 L537.2,269.9 L537.7,279.2 L538.2,279.3 L538.7,280.2\n",
       "\t\tL539.2,293.8 L539.7,289.1 L540.3,284.1 L540.8,278.9 L541.3,273.0 L541.8,277.6 L542.3,279.5 L542.8,298.8\n",
       "\t\tL543.3,307.5 L543.8,303.8 L544.3,297.5 L544.8,289.6 L545.3,297.0 L545.9,296.9 L546.4,300.3 L546.9,293.0\n",
       "\t\tL547.4,277.0 L547.9,274.9 L548.4,287.0 L548.9,283.3 L549.4,268.9 L549.9,255.1 L550.4,253.1 L550.9,252.3\n",
       "\t\tL551.5,250.2 L552.0,256.5 L552.5,268.6 L553.0,283.2 L553.5,284.6 L554.0,290.5 L554.5,283.3 L555.0,283.7\n",
       "\t\tL555.5,276.8 L556.0,291.8 L556.5,283.3 L557.1,279.4 L557.6,277.1 L558.1,263.0 L558.6,285.0 L559.1,283.2\n",
       "\t\tL559.6,270.7 L560.1,267.8 L560.6,281.9 L561.1,275.2 L561.6,276.2 L562.1,274.2 L562.7,288.2 L563.2,270.1\n",
       "\t\tL563.7,263.7 L564.2,276.4 L564.7,286.3 L565.2,275.5 L565.7,272.6 L566.2,263.6 L566.7,248.0 L567.2,249.4\n",
       "\t\tL567.7,269.3 L568.3,260.1 L568.8,254.5 L569.3,260.3 L569.8,251.5 L570.3,247.4 L570.8,242.4 L571.3,223.9\n",
       "\t\tL571.8,235.0 L572.3,234.4  '/></g>\n",
       "\t</g>\n",
       "\t<g id=\"gnuplot_plot_2\" ><title>Rolling Mean</title>\n",
       "<g fill=\"none\" color=\"black\" stroke=\"currentColor\" stroke-width=\"1.00\" stroke-linecap=\"butt\" stroke-linejoin=\"miter\">\n",
       "\t<g transform=\"translate(507.9,57.2)\" stroke=\"none\" fill=\"black\" font-family=\"Arial\" font-size=\"12.00\"  text-anchor=\"end\">\n",
       "\t\t<text><tspan font-family=\"Arial\" >Rolling Mean</tspan></text>\n",
       "\t</g>\n",
       "</g>\n",
       "<g fill=\"none\" color=\"black\" stroke=\"currentColor\" stroke-width=\"1.00\" stroke-linecap=\"butt\" stroke-linejoin=\"miter\">\n",
       "\t<path stroke='rgb(  0, 158, 115)'  d='M516.2,52.7 L558.4,52.7 M93.7,161.2 L94.3,159.0 L94.8,156.7 L95.3,154.6 L95.8,152.4 L96.3,150.4\n",
       "\t\tL96.8,148.4 L97.3,146.4 L97.8,144.3 L98.3,142.5 L98.8,140.7 L99.3,139.0 L99.9,137.4 L100.4,135.5\n",
       "\t\tL100.9,134.0 L101.4,132.5 L101.9,130.8 L102.4,129.1 L102.9,127.2 L103.4,125.8 L103.9,124.5 L104.4,122.9\n",
       "\t\tL104.9,121.3 L105.5,120.2 L106.0,119.4 L106.5,118.7 L107.0,118.2 L107.5,117.7 L108.0,117.2 L108.5,117.2\n",
       "\t\tL109.0,117.5 L109.5,117.9 L110.0,118.3 L110.5,118.6 L111.1,119.1 L111.6,120.0 L112.1,121.0 L112.6,122.4\n",
       "\t\tL113.1,123.9 L113.6,125.2 L114.1,126.7 L114.6,128.0 L115.1,129.6 L115.6,131.2 L116.1,132.3 L116.7,133.1\n",
       "\t\tL117.2,134.1 L117.7,135.3 L118.2,136.2 L118.7,137.0 L119.2,138.1 L119.7,139.2 L120.2,139.9 L120.7,140.6\n",
       "\t\tL121.2,141.0 L121.7,141.5 L122.3,142.0 L122.8,142.2 L123.3,142.2 L123.8,141.8 L124.3,141.8 L124.8,141.8\n",
       "\t\tL125.3,141.7 L125.8,141.5 L126.3,141.1 L126.8,140.8 L127.3,140.8 L127.9,140.9 L128.4,141.3 L128.9,141.3\n",
       "\t\tL129.4,141.3 L129.9,141.3 L130.4,141.1 L130.9,141.2 L131.4,141.1 L131.9,141.0 L132.4,140.8 L132.9,140.9\n",
       "\t\tL133.5,141.1 L134.0,141.5 L134.5,141.8 L135.0,142.1 L135.5,142.1 L136.0,142.1 L136.5,142.2 L137.0,142.6\n",
       "\t\tL137.5,143.1 L138.0,143.1 L138.5,143.4 L139.1,143.1 L139.6,142.7 L140.1,142.1 L140.6,141.2 L141.1,140.6\n",
       "\t\tL141.6,139.7 L142.1,138.8 L142.6,137.9 L143.1,136.5 L143.6,135.2 L144.1,134.0 L144.7,132.6 L145.2,131.6\n",
       "\t\tL145.7,130.4 L146.2,129.1 L146.7,128.1 L147.2,127.4 L147.7,126.9 L148.2,125.9 L148.7,124.9 L149.2,124.1\n",
       "\t\tL149.7,123.2 L150.3,122.5 L150.8,122.0 L151.3,121.3 L151.8,120.4 L152.3,119.7 L152.8,118.9 L153.3,118.3\n",
       "\t\tL153.8,117.7 L154.3,117.3 L154.8,116.9 L155.3,116.8 L155.9,116.4 L156.4,116.0 L156.9,115.6 L157.4,115.0\n",
       "\t\tL157.9,114.1 L158.4,113.0 L158.9,111.7 L159.4,110.7 L159.9,109.8 L160.4,109.3 L160.9,109.1 L161.5,108.8\n",
       "\t\tL162.0,108.5 L162.5,107.9 L163.0,107.6 L163.5,107.3 L164.0,106.8 L164.5,106.3 L165.0,105.6 L165.5,105.1\n",
       "\t\tL166.0,104.8 L166.6,104.6 L167.1,104.2 L167.6,103.4 L168.1,102.8 L168.6,102.6 L169.1,102.5 L169.6,102.4\n",
       "\t\tL170.1,102.1 L170.6,102.0 L171.1,102.0 L171.6,101.8 L172.2,102.0 L172.7,102.3 L173.2,102.4 L173.7,102.6\n",
       "\t\tL174.2,102.3 L174.7,102.2 L175.2,102.2 L175.7,102.1 L176.2,101.7 L176.7,101.7 L177.2,101.6 L177.8,101.6\n",
       "\t\tL178.3,101.6 L178.8,101.7 L179.3,101.8 L179.8,102.1 L180.3,102.3 L180.8,102.7 L181.3,103.2 L181.8,103.8\n",
       "\t\tL182.3,104.2 L182.8,104.5 L183.4,104.7 L183.9,105.0 L184.4,105.7 L184.9,106.5 L185.4,107.3 L185.9,108.0\n",
       "\t\tL186.4,109.1 L186.9,110.4 L187.4,111.6 L187.9,112.8 L188.4,114.0 L189.0,115.3 L189.5,116.6 L190.0,118.0\n",
       "\t\tL190.5,119.0 L191.0,119.9 L191.5,120.3 L192.0,120.6 L192.5,121.0 L193.0,121.4 L193.5,121.7 L194.0,122.0\n",
       "\t\tL194.6,122.2 L195.1,122.3 L195.6,122.5 L196.1,122.7 L196.6,123.2 L197.1,123.2 L197.6,123.5 L198.1,123.8\n",
       "\t\tL198.6,123.9 L199.1,124.0 L199.6,124.0 L200.2,123.9 L200.7,123.9 L201.2,123.8 L201.7,124.1 L202.2,124.5\n",
       "\t\tL202.7,124.9 L203.2,125.3 L203.7,125.6 L204.2,126.1 L204.7,127.0 L205.2,127.8 L205.8,128.7 L206.3,129.9\n",
       "\t\tL206.8,131.3 L207.3,132.7 L207.8,133.8 L208.3,134.8 L208.8,136.1 L209.3,137.3 L209.8,138.3 L210.3,139.2\n",
       "\t\tL210.8,139.9 L211.4,140.6 L211.9,141.4 L212.4,142.3 L212.9,143.5 L213.4,145.0 L213.9,146.4 L214.4,147.7\n",
       "\t\tL214.9,148.6 L215.4,149.5 L215.9,150.5 L216.4,151.8 L217.0,153.0 L217.5,154.0 L218.0,155.3 L218.5,156.7\n",
       "\t\tL219.0,157.9 L219.5,159.0 L220.0,159.9 L220.5,160.8 L221.0,162.1 L221.5,163.3 L222.0,164.6 L222.6,165.9\n",
       "\t\tL223.1,167.0 L223.6,168.1 L224.1,169.3 L224.6,170.3 L225.1,171.1 L225.6,171.9 L226.1,172.7 L226.6,173.5\n",
       "\t\tL227.1,174.3 L227.6,175.3 L228.2,176.0 L228.7,177.1 L229.2,178.0 L229.7,178.5 L230.2,179.0 L230.7,179.8\n",
       "\t\tL231.2,180.5 L231.7,181.1 L232.2,181.3 L232.7,181.2 L233.2,180.8 L233.8,180.5 L234.3,180.2 L234.8,179.9\n",
       "\t\tL235.3,179.2 L235.8,178.5 L236.3,178.1 L236.8,177.5 L237.3,176.4 L237.8,175.4 L238.3,174.4 L238.8,173.1\n",
       "\t\tL239.4,171.3 L239.9,169.5 L240.4,168.1 L240.9,166.8 L241.4,165.7 L241.9,164.3 L242.4,162.6 L242.9,160.9\n",
       "\t\tL243.4,159.1 L243.9,157.0 L244.4,155.1 L245.0,153.4 L245.5,152.2 L246.0,150.7 L246.5,149.2 L247.0,147.8\n",
       "\t\tL247.5,146.4 L248.0,145.3 L248.5,144.2 L249.0,142.9 L249.5,142.0 L250.0,141.3 L250.6,141.0 L251.1,140.6\n",
       "\t\tL251.6,139.9 L252.1,139.6 L252.6,139.5 L253.1,139.7 L253.6,140.0 L254.1,140.4 L254.6,140.7 L255.1,141.0\n",
       "\t\tL255.6,141.2 L256.2,141.5 L256.7,142.0 L257.2,142.5 L257.7,142.9 L258.2,143.2 L258.7,143.4 L259.2,143.6\n",
       "\t\tL259.7,144.1 L260.2,144.7 L260.7,145.1 L261.2,145.4 L261.8,145.8 L262.3,146.4 L262.8,147.0 L263.3,147.9\n",
       "\t\tL263.8,149.3 L264.3,150.5 L264.8,151.8 L265.3,153.2 L265.8,154.5 L266.3,155.6 L266.8,156.3 L267.4,157.1\n",
       "\t\tL267.9,158.2 L268.4,159.3 L268.9,160.9 L269.4,162.4 L269.9,164.4 L270.4,166.2 L270.9,167.9 L271.4,169.3\n",
       "\t\tL271.9,170.5 L272.4,171.7 L273.0,172.9 L273.5,174.2 L274.0,175.4 L274.5,176.8 L275.0,178.2 L275.5,179.6\n",
       "\t\tL276.0,180.8 L276.5,182.1 L277.0,183.6 L277.5,184.6 L278.0,185.5 L278.6,186.3 L279.1,187.4 L279.6,188.8\n",
       "\t\tL280.1,190.0 L280.6,190.6 L281.1,190.9 L281.6,191.5 L282.1,191.9 L282.6,192.0 L283.1,192.1 L283.7,192.0\n",
       "\t\tL284.2,192.0 L284.7,191.8 L285.2,191.5 L285.7,191.4 L286.2,191.4 L286.7,191.6 L287.2,191.3 L287.7,190.8\n",
       "\t\tL288.2,190.4 L288.7,190.0 L289.3,190.0 L289.8,189.9 L290.3,189.7 L290.8,189.7 L291.3,189.9 L291.8,190.3\n",
       "\t\tL292.3,190.4 L292.8,190.4 L293.3,190.4 L293.8,190.3 L294.3,189.9 L294.9,189.8 L295.4,189.5 L295.9,188.6\n",
       "\t\tL296.4,188.1 L296.9,187.9 L297.4,187.6 L297.9,187.6 L298.4,187.1 L298.9,186.6 L299.4,185.8 L299.9,185.0\n",
       "\t\tL300.5,184.0 L301.0,183.2 L301.5,182.0 L302.0,180.7 L302.5,179.5 L303.0,178.7 L303.5,178.2 L304.0,177.7\n",
       "\t\tL304.5,177.3 L305.0,177.2 L305.5,177.3 L306.1,177.7 L306.6,178.0 L307.1,178.5 L307.6,178.7 L308.1,179.0\n",
       "\t\tL308.6,179.3 L309.1,179.7 L309.6,179.6 L310.1,179.3 L310.6,179.3 L311.1,179.6 L311.7,180.0 L312.2,180.1\n",
       "\t\tL312.7,180.4 L313.2,180.8 L313.7,181.3 L314.2,181.9 L314.7,182.4 L315.2,183.2 L315.7,184.2 L316.2,184.9\n",
       "\t\tL316.7,185.5 L317.3,186.0 L317.8,186.9 L318.3,187.9 L318.8,188.5 L319.3,188.9 L319.8,189.3 L320.3,189.7\n",
       "\t\tL320.8,189.7 L321.3,189.7 L321.8,189.8 L322.3,189.3 L322.9,189.4 L323.4,189.5 L323.9,189.5 L324.4,189.6\n",
       "\t\tL324.9,189.7 L325.4,189.9 L325.9,190.2 L326.4,190.9 L326.9,191.5 L327.4,191.9 L327.9,192.3 L328.5,192.4\n",
       "\t\tL329.0,192.5 L329.5,192.5 L330.0,192.6 L330.5,192.9 L331.0,193.1 L331.5,193.5 L332.0,193.8 L332.5,194.5\n",
       "\t\tL333.0,195.4 L333.5,196.0 L334.1,196.5 L334.6,197.0 L335.1,197.6 L335.6,198.0 L336.1,198.1 L336.6,197.9\n",
       "\t\tL337.1,197.6 L337.6,197.2 L338.1,197.2 L338.6,197.1 L339.1,197.1 L339.7,196.8 L340.2,196.7 L340.7,196.8\n",
       "\t\tL341.2,197.0 L341.7,197.4 L342.2,197.9 L342.7,198.5 L343.2,199.2 L343.7,199.9 L344.2,200.5 L344.7,201.0\n",
       "\t\tL345.3,201.7 L345.8,201.9 L346.3,202.5 L346.8,203.1 L347.3,203.7 L347.8,204.4 L348.3,204.8 L348.8,205.4\n",
       "\t\tL349.3,206.2 L349.8,207.2 L350.3,207.9 L350.9,208.7 L351.4,209.7 L351.9,210.6 L352.4,211.3 L352.9,212.2\n",
       "\t\tL353.4,212.9 L353.9,213.9 L354.4,215.1 L354.9,216.3 L355.4,217.4 L355.9,218.2 L356.5,218.9 L357.0,219.5\n",
       "\t\tL357.5,220.1 L358.0,220.6 L358.5,221.1 L359.0,221.9 L359.5,222.9 L360.0,224.2 L360.5,225.4 L361.0,226.7\n",
       "\t\tL361.5,228.1 L362.1,229.4 L362.6,230.7 L363.1,232.0 L363.6,233.6 L364.1,235.2 L364.6,236.7 L365.1,238.1\n",
       "\t\tL365.6,239.5 L366.1,240.5 L366.6,241.4 L367.1,242.2 L367.7,243.1 L368.2,244.2 L368.7,245.2 L369.2,246.1\n",
       "\t\tL369.7,247.1 L370.2,248.6 L370.7,250.2 L371.2,251.9 L371.7,253.3 L372.2,254.8 L372.7,256.3 L373.3,257.8\n",
       "\t\tL373.8,259.0 L374.3,260.1 L374.8,261.2 L375.3,261.9 L375.8,262.8 L376.3,263.8 L376.8,264.4 L377.3,264.9\n",
       "\t\tL377.8,265.1 L378.3,265.1 L378.9,265.4 L379.4,265.6 L379.9,265.8 L380.4,266.0 L380.9,266.2 L381.4,265.7\n",
       "\t\tL381.9,265.4 L382.4,265.1 L382.9,265.1 L383.4,265.0 L383.9,264.9 L384.5,264.7 L385.0,264.5 L385.5,264.3\n",
       "\t\tL386.0,264.2 L386.5,263.8 L387.0,263.5 L387.5,263.2 L388.0,263.0 L388.5,263.1 L389.0,263.1 L389.5,263.0\n",
       "\t\tL390.1,262.7 L390.6,262.2 L391.1,261.8 L391.6,261.2 L392.1,260.6 L392.6,260.0 L393.1,259.8 L393.6,259.4\n",
       "\t\tL394.1,259.0 L394.6,258.4 L395.1,257.8 L395.7,257.3 L396.2,257.0 L396.7,257.2 L397.2,257.3 L397.7,257.5\n",
       "\t\tL398.2,257.8 L398.7,258.3 L399.2,258.7 L399.7,259.2 L400.2,259.6 L400.8,259.9 L401.3,259.9 L401.8,259.7\n",
       "\t\tL402.3,259.8 L402.8,259.8 L403.3,259.4 L403.8,259.2 L404.3,259.1 L404.8,258.5 L405.3,258.1 L405.8,257.8\n",
       "\t\tL406.4,256.9 L406.9,256.3 L407.4,255.7 L407.9,255.4 L408.4,255.9 L408.9,256.8 L409.4,257.7 L409.9,258.7\n",
       "\t\tL410.4,259.9 L410.9,260.9 L411.4,262.0 L412.0,264.1 L412.5,266.3 L413.0,268.4 L413.5,270.1 L414.0,271.7\n",
       "\t\tL414.5,273.4 L415.0,275.3 L415.5,277.0 L416.0,278.7 L416.5,280.4 L417.0,282.0 L417.6,283.8 L418.1,285.6\n",
       "\t\tL418.6,287.3 L419.1,288.9 L419.6,290.6 L420.1,292.6 L420.6,294.9 L421.1,297.3 L421.6,299.5 L422.1,301.7\n",
       "\t\tL422.6,304.0 L423.2,306.4 L423.7,308.7 L424.2,310.8 L424.7,312.9 L425.2,315.0 L425.7,317.2 L426.2,319.3\n",
       "\t\tL426.7,321.4 L427.2,323.1 L427.7,324.9 L428.2,326.6 L428.8,328.1 L429.3,329.3 L429.8,330.2 L430.3,331.2\n",
       "\t\tL430.8,332.3 L431.3,333.3 L431.8,334.1 L432.3,334.6 L432.8,334.6 L433.3,334.7 L433.8,335.0 L434.4,335.1\n",
       "\t\tL434.9,335.0 L435.4,335.3 L435.9,335.5 L436.4,336.0 L436.9,336.8 L437.4,337.6 L437.9,338.6 L438.4,339.3\n",
       "\t\tL438.9,339.8 L439.4,339.8 L440.0,339.9 L440.5,340.0 L441.0,340.0 L441.5,339.7 L442.0,339.4 L442.5,338.9\n",
       "\t\tL443.0,338.2 L443.5,337.6 L444.0,337.5 L444.5,337.2 L445.0,336.7 L445.6,336.0 L446.1,335.4 L446.6,334.7\n",
       "\t\tL447.1,334.1 L447.6,333.7 L448.1,333.0 L448.6,332.2 L449.1,331.6 L449.6,331.0 L450.1,330.5 L450.6,330.0\n",
       "\t\tL451.2,329.2 L451.7,328.6 L452.2,328.0 L452.7,327.2 L453.2,326.1 L453.7,324.9 L454.2,323.3 L454.7,322.1\n",
       "\t\tL455.2,320.5 L455.7,318.9 L456.2,317.1 L456.8,315.1 L457.3,312.7 L457.8,310.3 L458.3,308.2 L458.8,306.5\n",
       "\t\tL459.3,304.9 L459.8,303.6 L460.3,302.5 L460.8,301.2 L461.3,299.9 L461.8,298.6 L462.4,297.5 L462.9,296.5\n",
       "\t\tL463.4,295.7 L463.9,294.8 L464.4,294.1 L464.9,293.5 L465.4,293.1 L465.9,292.5 L466.4,292.3 L466.9,291.9\n",
       "\t\tL467.4,292.0 L468.0,291.9 L468.5,291.9 L469.0,292.1 L469.5,292.1 L470.0,292.3 L470.5,292.3 L471.0,292.3\n",
       "\t\tL471.5,292.5 L472.0,293.1 L472.5,293.8 L473.0,294.3 L473.6,294.9 L474.1,295.3 L474.6,295.5 L475.1,296.1\n",
       "\t\tL475.6,296.9 L476.1,297.7 L476.6,298.5 L477.1,299.1 L477.6,299.6 L478.1,300.0 L478.6,300.5 L479.2,301.1\n",
       "\t\tL479.7,301.5 L480.2,302.1 L480.7,302.5 L481.2,302.7 L481.7,302.9 L482.2,302.9 L482.7,302.9 L483.2,303.4\n",
       "\t\tL483.7,303.9 L484.2,304.4 L484.8,305.1 L485.3,305.7 L485.8,306.7 L486.3,307.5 L486.8,308.6 L487.3,310.0\n",
       "\t\tL487.8,311.9 L488.3,313.8 L488.8,315.5 L489.3,317.0 L489.8,318.4 L490.4,319.3 L490.9,320.0 L491.4,320.6\n",
       "\t\tL491.9,321.1 L492.4,321.3 L492.9,321.6 L493.4,322.1 L493.9,322.8 L494.4,323.3 L494.9,323.9 L495.4,324.4\n",
       "\t\tL496.0,324.8 L496.5,325.2 L497.0,325.4 L497.5,325.4 L498.0,324.9 L498.5,324.4 L499.0,324.0 L499.5,323.5\n",
       "\t\tL500.0,323.1 L500.5,322.9 L501.0,322.6 L501.6,322.3 L502.1,321.7 L502.6,321.2 L503.1,320.8 L503.6,320.4\n",
       "\t\tL504.1,320.0 L504.6,319.7 L505.1,319.5 L505.6,318.8 L506.1,318.3 L506.6,317.7 L507.2,317.3 L507.7,317.1\n",
       "\t\tL508.2,317.1 L508.7,317.3 L509.2,317.5 L509.7,318.0 L510.2,318.4 L510.7,318.5 L511.2,318.8 L511.7,319.0\n",
       "\t\tL512.2,318.6 L512.8,318.5 L513.3,318.5 L513.8,318.2 L514.3,318.1 L514.8,317.8 L515.3,317.8 L515.8,317.8\n",
       "\t\tL516.3,317.6 L516.8,317.6 L517.3,317.4 L517.9,316.9 L518.4,316.2 L518.9,315.3 L519.4,314.2 L519.9,312.9\n",
       "\t\tL520.4,311.5 L520.9,310.4 L521.4,309.4 L521.9,308.4 L522.4,307.5 L522.9,306.9 L523.5,306.4 L524.0,305.8\n",
       "\t\tL524.5,304.8 L525.0,303.8 L525.5,302.5 L526.0,301.4 L526.5,300.5 L527.0,299.6 L527.5,298.7 L528.0,298.2\n",
       "\t\tL528.5,297.9 L529.1,297.5 L529.6,296.9 L530.1,296.4 L530.6,295.7 L531.1,294.9 L531.6,294.4 L532.1,293.8\n",
       "\t\tL532.6,293.3 L533.1,293.1 L533.6,292.5 L534.1,291.9 L534.7,291.3 L535.2,290.5 L535.7,289.7 L536.2,289.1\n",
       "\t\tL536.7,288.4 L537.2,287.6 L537.7,286.9 L538.2,286.1 L538.7,285.2 L539.2,284.6 L539.7,283.8 L540.3,282.8\n",
       "\t\tL540.8,281.8 L541.3,280.9 L541.8,279.9 L542.3,279.1 L542.8,278.9 L543.3,278.8 L543.8,278.7 L544.3,278.5\n",
       "\t\tL544.8,278.2 L545.3,278.2 L545.9,278.0 L546.4,277.8 L546.9,277.5 L547.4,276.9 L547.9,276.3 L548.4,276.1\n",
       "\t\tL548.9,275.7 L549.4,275.3 L549.9,274.9 L550.4,274.4 L550.9,274.0 L551.5,273.6 L552.0,273.4 L552.5,273.5\n",
       "\t\tL553.0,273.9 L553.5,274.2 L554.0,274.5 L554.5,274.6 L555.0,275.1 L555.5,275.6 L556.0,276.4 L556.5,277.0\n",
       "\t\tL557.1,277.4 L557.6,277.9 L558.1,278.1 L558.6,278.5 L559.1,278.7 L559.6,278.8 L560.1,278.9 L560.6,279.1\n",
       "\t\tL561.1,279.3 L561.6,279.6 L562.1,279.6 L562.7,279.9 L563.2,279.9 L563.7,279.4 L564.2,279.3 L564.7,279.4\n",
       "\t\tL565.2,279.3 L565.7,279.2 L566.2,279.1 L566.7,278.7 L567.2,278.3 L567.7,278.3 L568.3,278.0 L568.8,277.6\n",
       "\t\tL569.3,277.3 L569.8,276.6 L570.3,275.9 L570.8,275.2 L571.3,274.3 L571.8,273.6 L572.3,272.9  '/></g>\n",
       "\t</g>\n",
       "<g fill=\"none\" color=\"white\" stroke=\"rgb(  0, 158, 115)\" stroke-width=\"2.00\" stroke-linecap=\"butt\" stroke-linejoin=\"miter\">\n",
       "</g>\n",
       "<g fill=\"none\" color=\"black\" stroke=\"currentColor\" stroke-width=\"2.00\" stroke-linecap=\"butt\" stroke-linejoin=\"miter\">\n",
       "</g>\n",
       "<g fill=\"none\" color=\"black\" stroke=\"black\" stroke-width=\"1.00\" stroke-linecap=\"butt\" stroke-linejoin=\"miter\">\n",
       "</g>\n",
       "<g fill=\"none\" color=\"black\" stroke=\"currentColor\" stroke-width=\"1.00\" stroke-linecap=\"butt\" stroke-linejoin=\"miter\">\n",
       "\t<path stroke='black'  d='M63.6,16.7 L63.6,386.4 L575.0,386.4 L575.0,16.7 L63.6,16.7 Z  '/></g>\n",
       "<g fill=\"none\" color=\"black\" stroke=\"currentColor\" stroke-width=\"1.00\" stroke-linecap=\"butt\" stroke-linejoin=\"miter\">\n",
       "</g>\n",
       "</g>\n"
      ],
      "text/plain": [
       "#<GnuplotRB::Plot:0x00000003701a18 @options=Hamster::Hash[:xdata => \"time\", :format_x => \"%d\\\\n%b\\\\n%Y\", :timefmt => \"%Y-%m-%dT%H:%M:%S\", :ylabel => \"Value\", :xlabel => \"Time\"], @datasets=Hamster::Vector[#<GnuplotRB::Dataset:0x00000003701798 @type=:datablock, @data=#<GnuplotRB::Datablock:0x00000003701590 @stored_in_file=false, @data=\"2012-04-02T00:00:00+00:00 0.27845691943728257\\n2012-04-03T00:00:00+00:00 -0.5858946489768802\\n2012-04-04T00:00:00+00:00 -0.3810630763974928\\n2012-04-05T00:00:00+00:00 -0.5025605976078887\\n2012-04-06T00:00:00+00:00 0.8919879820855375\\n2012-04-07T00:00:00+00:00 1.4380962379797761\\n2012-04-08T00:00:00+00:00 1.0911701756917915\\n2012-04-09T00:00:00+00:00 1.5305431854335874\\n2012-04-10T00:00:00+00:00 2.5495601679075777\\n2012-04-11T00:00:00+00:00 2.860104862807779\\n2012-04-12T00:00:00+00:00 4.379543329282733\\n2012-04-13T00:00:00+00:00 3.7041298339722664\\n2012-04-14T00:00:00+00:00 3.572453863254558\\n2012-04-15T00:00:00+00:00 4.400951831537432\\n2012-04-16T00:00:00+00:00 4.321663650350395\\n2012-04-17T00:00:00+00:00 3.4587206013995124\\n2012-04-18T00:00:00+00:00 3.4972288415825803\\n2012-04-19T00:00:00+00:00 1.9965025632596802\\n2012-04-20T00:00:00+00:00 5.192438899948232\\n2012-04-21T00:00:00+00:00 5.906816515117207\\n2012-04-22T00:00:00+00:00 4.922795443608765\\n2012-04-23T00:00:00+00:00 5.547417226759111\\n2012-04-24T00:00:00+00:00 7.4296634439961675\\n2012-04-25T00:00:00+00:00 9.44673889982539\\n2012-04-26T00:00:00+00:00 10.549958305730993\\n2012-04-27T00:00:00+00:00 11.532124304222261\\n2012-04-28T00:00:00+00:00 10.597326017007012\\n2012-04-29T00:00:00+00:00 10.989656072264339\\n2012-04-30T00:00:00+00:00 11.022459308870507\\n2012-05-01T00:00:00+00:00 12.80232673194623\\n2012-05-02T00:00:00+00:00 12.08101760542299\\n2012-05-03T00:00:00+00:00 12.042176729922693\\n2012-05-04T00:00:00+00:00 12.262810193022277\\n2012-05-05T00:00:00+00:00 13.585066846308663\\n2012-05-06T00:00:00+00:00 14.926900749004895\\n2012-05-07T00:00:00+00:00 15.122898986787439\\n2012-05-08T00:00:00+00:00 15.812190032137384\\n2012-05-09T00:00:00+00:00 15.552945262713873\\n2012-05-10T00:00:00+00:00 15.769012776933263\\n2012-05-11T00:00:00+00:00 15.308948312926328\\n2012-05-12T00:00:00+00:00 16.074574304095034\\n2012-05-13T00:00:00+00:00 16.14865789311536\\n2012-05-14T00:00:00+00:00 16.025256860949842\\n2012-05-15T00:00:00+00:00 14.600515917590641\\n2012-05-16T00:00:00+00:00 14.386868026289697\\n2012-05-17T00:00:00+00:00 15.977493579122113\\n2012-05-18T00:00:00+00:00 15.283975128004709\\n2012-05-19T00:00:00+00:00 13.348615838988241\\n2012-05-20T00:00:00+00:00 12.84821873681148\\n2012-05-21T00:00:00+00:00 14.839209081548592\\n2012-05-22T00:00:00+00:00 14.880545488287115\\n2012-05-23T00:00:00+00:00 13.93081700159718\\n2012-05-24T00:00:00+00:00 13.821618075902471\\n2012-05-25T00:00:00+00:00 11.802452440786602\\n2012-05-26T00:00:00+00:00 12.260169533089433\\n2012-05-27T00:00:00+00:00 11.748890097297384\\n2012-05-28T00:00:00+00:00 11.657919608607298\\n2012-05-29T00:00:00+00:00 11.030785280340657\\n2012-05-30T00:00:00+00:00 11.088532399906436\\n2012-05-31T00:00:00+00:00 13.226761329273113\\n2012-06-01T00:00:00+00:00 14.539214209894967\\n2012-06-02T00:00:00+00:00 14.128166234527379\\n2012-06-03T00:00:00+00:00 13.474763687521722\\n2012-06-04T00:00:00+00:00 13.946165458536266\\n2012-06-05T00:00:00+00:00 13.864072958986748\\n2012-06-06T00:00:00+00:00 14.374462001824014\\n2012-06-07T00:00:00+00:00 14.208862078219454\\n2012-06-08T00:00:00+00:00 14.862209622668683\\n2012-06-09T00:00:00+00:00 14.26663068887959\\n2012-06-10T00:00:00+00:00 14.745554430246907\\n2012-06-11T00:00:00+00:00 15.057405088764817\\n2012-06-12T00:00:00+00:00 14.398242691631078\\n2012-06-13T00:00:00+00:00 15.71743891338833\\n2012-06-14T00:00:00+00:00 14.187915477010762\\n2012-06-15T00:00:00+00:00 14.356760518862956\\n2012-06-16T00:00:00+00:00 14.02522148308008\\n2012-06-17T00:00:00+00:00 14.688886626720299\\n2012-06-18T00:00:00+00:00 14.285096446843395\\n2012-06-19T00:00:00+00:00 14.334815718032454\\n2012-06-20T00:00:00+00:00 14.491346011806163\\n2012-06-21T00:00:00+00:00 15.234813575419633\\n2012-06-22T00:00:00+00:00 15.660226419899718\\n2012-06-23T00:00:00+00:00 15.102004344317212\\n2012-06-24T00:00:00+00:00 14.441239991621824\\n2012-06-25T00:00:00+00:00 14.926245130736168\\n2012-06-26T00:00:00+00:00 14.718701784844395\\n2012-06-27T00:00:00+00:00 13.766732933307546\\n2012-06-28T00:00:00+00:00 14.606979468063635\\n2012-06-29T00:00:00+00:00 11.237169070714092\\n2012-06-30T00:00:00+00:00 10.317175448679503\\n2012-07-01T00:00:00+00:00 9.78117959495046\\n2012-07-02T00:00:00+00:00 9.251889933097472\\n2012-07-03T00:00:00+00:00 10.218407346836614\\n2012-07-04T00:00:00+00:00 10.303806298380966\\n2012-07-05T00:00:00+00:00 9.282496767655617\\n2012-07-06T00:00:00+00:00 8.594318889586996\\n2012-07-07T00:00:00+00:00 6.870515752132379\\n2012-07-08T00:00:00+00:00 6.05626391514581\\n2012-07-09T00:00:00+00:00 6.743966095597141\\n2012-07-10T00:00:00+00:00 6.002319271013113\\n2012-07-11T00:00:00+00:00 7.425831463017259\\n2012-07-12T00:00:00+00:00 5.937297322301234\\n2012-07-13T00:00:00+00:00 5.638340617269426\\n2012-07-14T00:00:00+00:00 7.541147606546977\\n2012-07-15T00:00:00+00:00 8.723284580458882\\n2012-07-16T00:00:00+00:00 9.874422626810897\\n2012-07-17T00:00:00+00:00 7.497495965937793\\n2012-07-18T00:00:00+00:00 7.170186757912526\\n2012-07-19T00:00:00+00:00 8.0730603786961\\n2012-07-20T00:00:00+00:00 7.218954504408093\\n2012-07-21T00:00:00+00:00 8.119454055088159\\n2012-07-22T00:00:00+00:00 9.39254227190093\\n2012-07-23T00:00:00+00:00 9.366478386443532\\n2012-07-24T00:00:00+00:00 8.921825639517637\\n2012-07-25T00:00:00+00:00 8.925870723976201\\n2012-07-26T00:00:00+00:00 8.71659658757446\\n2012-07-27T00:00:00+00:00 10.118057779695238\\n2012-07-28T00:00:00+00:00 11.47586770841829\\n2012-07-29T00:00:00+00:00 13.25324797153728\\n2012-07-30T00:00:00+00:00 13.2111669569897\\n2012-07-31T00:00:00+00:00 14.634450267405501\\n2012-08-01T00:00:00+00:00 14.70981299210351\\n2012-08-02T00:00:00+00:00 15.262043555947288\\n2012-08-03T00:00:00+00:00 16.32118932062677\\n2012-08-04T00:00:00+00:00 15.763653612904289\\n2012-08-05T00:00:00+00:00 14.42273060025044\\n2012-08-06T00:00:00+00:00 13.197302869724323\\n2012-08-07T00:00:00+00:00 12.66664202289044\\n2012-08-08T00:00:00+00:00 14.224173776616983\\n2012-08-09T00:00:00+00:00 14.418800400514352\\n2012-08-10T00:00:00+00:00 15.46145070894924\\n2012-08-11T00:00:00+00:00 15.387792270456691\\n2012-08-12T00:00:00+00:00 15.47384017886024\\n2012-08-13T00:00:00+00:00 14.384664261665849\\n2012-08-14T00:00:00+00:00 14.947644158854784\\n2012-08-15T00:00:00+00:00 15.405792021380291\\n2012-08-16T00:00:00+00:00 14.305420512352558\\n2012-08-17T00:00:00+00:00 12.769499172568164\\n2012-08-18T00:00:00+00:00 12.019071852797154\\n2012-08-19T00:00:00+00:00 12.138752516918972\\n2012-08-20T00:00:00+00:00 13.772948763478468\\n2012-08-21T00:00:00+00:00 15.5225776454305\\n2012-08-22T00:00:00+00:00 14.715640802096708\\n2012-08-23T00:00:00+00:00 13.770933177904082\\n2012-08-24T00:00:00+00:00 12.82652651222931\\n2012-08-25T00:00:00+00:00 11.587251147501958\\n2012-08-26T00:00:00+00:00 13.530518383971962\\n2012-08-27T00:00:00+00:00 12.770351909898162\\n2012-08-28T00:00:00+00:00 12.911230333929543\\n2012-08-29T00:00:00+00:00 13.27505275643752\\n2012-08-30T00:00:00+00:00 13.512112005110462\\n2012-08-31T00:00:00+00:00 14.995457304128834\\n2012-09-01T00:00:00+00:00 14.344697390066528\\n2012-09-02T00:00:00+00:00 15.69801132153321\\n2012-09-03T00:00:00+00:00 15.411928317504628\\n2012-09-04T00:00:00+00:00 14.47969306911863\\n2012-09-05T00:00:00+00:00 15.552802653853844\\n2012-09-06T00:00:00+00:00 14.53114253896562\\n2012-09-07T00:00:00+00:00 14.623851873866467\\n2012-09-08T00:00:00+00:00 15.158165740446641\\n2012-09-09T00:00:00+00:00 14.160438385047348\\n2012-09-10T00:00:00+00:00 13.370512363251581\\n2012-09-11T00:00:00+00:00 14.520380298853997\\n2012-09-12T00:00:00+00:00 13.73771682544918\\n2012-09-13T00:00:00+00:00 13.369003393893125\\n2012-09-14T00:00:00+00:00 13.299464296392042\\n2012-09-15T00:00:00+00:00 13.891743224147076\\n2012-09-16T00:00:00+00:00 13.321561281873894\\n2012-09-17T00:00:00+00:00 13.579283138952718\\n2012-09-18T00:00:00+00:00 12.804837437499087\\n2012-09-19T00:00:00+00:00 12.513579233847226\\n2012-09-20T00:00:00+00:00 13.097008746168731\\n2012-09-21T00:00:00+00:00 13.991984367789014\\n2012-09-22T00:00:00+00:00 14.344066154250111\\n2012-09-23T00:00:00+00:00 13.912295767178128\\n2012-09-24T00:00:00+00:00 13.636273301773008\\n2012-09-25T00:00:00+00:00 14.22838243456648\\n2012-09-26T00:00:00+00:00 15.413951024853343\\n2012-09-27T00:00:00+00:00 15.667371899989915\\n2012-09-28T00:00:00+00:00 15.479341704343096\\n2012-09-29T00:00:00+00:00 15.872648226940804\\n2012-09-30T00:00:00+00:00 16.754996625517677\\n2012-10-01T00:00:00+00:00 18.168110447554266\\n2012-10-02T00:00:00+00:00 18.79869517233827\\n2012-10-03T00:00:00+00:00 19.996042834641585\\n2012-10-04T00:00:00+00:00 19.758167616554342\\n2012-10-05T00:00:00+00:00 20.68951044255744\\n2012-10-06T00:00:00+00:00 20.9559348213872\\n2012-10-07T00:00:00+00:00 21.00782539804459\\n2012-10-08T00:00:00+00:00 19.798861552935072\\n2012-10-09T00:00:00+00:00 18.655041031908475\\n2012-10-10T00:00:00+00:00 17.222965208059076\\n2012-10-11T00:00:00+00:00 16.851362560542043\\n2012-10-12T00:00:00+00:00 16.88925126399702\\n2012-10-13T00:00:00+00:00 18.373394867532625\\n2012-10-14T00:00:00+00:00 17.332909513939576\\n2012-10-15T00:00:00+00:00 16.71658564353976\\n2012-10-16T00:00:00+00:00 15.621885134800818\\n2012-10-17T00:00:00+00:00 15.371885690952311\\n2012-10-18T00:00:00+00:00 16.440648614924534\\n2012-10-19T00:00:00+00:00 17.106145233004096\\n2012-10-20T00:00:00+00:00 17.71731670323778\\n2012-10-21T00:00:00+00:00 16.14092564953042\\n2012-10-22T00:00:00+00:00 16.094632006824916\\n2012-10-23T00:00:00+00:00 17.88654838179533\\n2012-10-24T00:00:00+00:00 15.935436740885914\\n2012-10-25T00:00:00+00:00 14.753581107932053\\n2012-10-26T00:00:00+00:00 13.537787526427817\\n2012-10-27T00:00:00+00:00 13.527668930009453\\n2012-10-28T00:00:00+00:00 14.79127099956744\\n2012-10-29T00:00:00+00:00 14.337486082475944\\n2012-10-30T00:00:00+00:00 15.177483984972922\\n2012-10-31T00:00:00+00:00 15.297773284658469\\n2012-11-01T00:00:00+00:00 14.356493106143184\\n2012-11-02T00:00:00+00:00 13.755476283931067\\n2012-11-03T00:00:00+00:00 13.883982744745182\\n2012-11-04T00:00:00+00:00 14.352414168946419\\n2012-11-05T00:00:00+00:00 16.215718364113876\\n2012-11-06T00:00:00+00:00 15.485590223330613\\n2012-11-07T00:00:00+00:00 14.667688630165845\\n2012-11-08T00:00:00+00:00 15.37420421207131\\n2012-11-09T00:00:00+00:00 15.466376500463655\\n2012-11-10T00:00:00+00:00 14.673192259393497\\n2012-11-11T00:00:00+00:00 14.351821318472252\\n2012-11-12T00:00:00+00:00 13.50742989579158\\n2012-11-13T00:00:00+00:00 13.178609321337643\\n2012-11-14T00:00:00+00:00 13.337221854618281\\n2012-11-15T00:00:00+00:00 12.53912372662691\\n2012-11-16T00:00:00+00:00 11.528857025302568\\n2012-11-17T00:00:00+00:00 11.645243314796222\\n2012-11-18T00:00:00+00:00 10.045532316479669\\n2012-11-19T00:00:00+00:00 9.656925019968622\\n2012-11-20T00:00:00+00:00 10.380834848373794\\n2012-11-21T00:00:00+00:00 11.758152278609852\\n2012-11-22T00:00:00+00:00 12.065053607377012\\n2012-11-23T00:00:00+00:00 12.2495995955714\\n2012-11-24T00:00:00+00:00 12.005108720605906\\n2012-11-25T00:00:00+00:00 10.979236432954188\\n2012-11-26T00:00:00+00:00 10.432796279659033\\n2012-11-27T00:00:00+00:00 10.651077057912968\\n2012-11-28T00:00:00+00:00 10.839229739122926\\n2012-11-29T00:00:00+00:00 9.733306248808878\\n2012-11-30T00:00:00+00:00 9.637636518329943\\n2012-12-01T00:00:00+00:00 11.10572754192262\\n2012-12-02T00:00:00+00:00 12.286833686779257\\n2012-12-03T00:00:00+00:00 11.895579676057867\\n2012-12-04T00:00:00+00:00 12.38700191309924\\n2012-12-05T00:00:00+00:00 12.307601392469273\\n2012-12-06T00:00:00+00:00 12.104189894744062\\n2012-12-07T00:00:00+00:00 13.173397420570128\\n2012-12-08T00:00:00+00:00 12.773882758663735\\n2012-12-09T00:00:00+00:00 14.697049928688559\\n2012-12-10T00:00:00+00:00 14.89471114804628\\n2012-12-11T00:00:00+00:00 14.646163388106073\\n2012-12-12T00:00:00+00:00 15.191736621171717\\n2012-12-13T00:00:00+00:00 15.431998498973583\\n2012-12-14T00:00:00+00:00 15.255326529535438\\n2012-12-15T00:00:00+00:00 14.280507319346743\\n2012-12-16T00:00:00+00:00 14.599534783161207\\n2012-12-17T00:00:00+00:00 15.316906966537603\\n2012-12-18T00:00:00+00:00 15.356749768678533\\n2012-12-19T00:00:00+00:00 14.799513437859618\\n2012-12-20T00:00:00+00:00 15.994828163273965\\n2012-12-21T00:00:00+00:00 14.440871918426001\\n2012-12-22T00:00:00+00:00 15.513458585540137\\n2012-12-23T00:00:00+00:00 15.353976801397486\\n2012-12-24T00:00:00+00:00 13.985065466969015\\n2012-12-25T00:00:00+00:00 13.918881712716278\\n2012-12-26T00:00:00+00:00 14.203309694717705\\n2012-12-27T00:00:00+00:00 14.407065544612752\\n2012-12-28T00:00:00+00:00 15.342223885760115\\n2012-12-29T00:00:00+00:00 13.307668699390652\\n2012-12-30T00:00:00+00:00 12.590185652682207\\n2012-12-31T00:00:00+00:00 11.367621189810114\\n2013-01-01T00:00:00+00:00 11.25712179335366\\n2013-01-02T00:00:00+00:00 12.065556470980765\\n2013-01-03T00:00:00+00:00 11.192138764286414\\n2013-01-04T00:00:00+00:00 10.316882006577877\\n2013-01-05T00:00:00+00:00 9.997576402874554\\n2013-01-06T00:00:00+00:00 9.349701743023488\\n2013-01-07T00:00:00+00:00 7.305901900625956\\n2013-01-08T00:00:00+00:00 6.192850747289883\\n2013-01-09T00:00:00+00:00 5.87767466623482\\n2013-01-10T00:00:00+00:00 7.327751935007158\\n2013-01-11T00:00:00+00:00 6.695878218740726\\n2013-01-12T00:00:00+00:00 5.151382492347061\\n2013-01-13T00:00:00+00:00 5.124584496741253\\n2013-01-14T00:00:00+00:00 6.203239763999542\\n2013-01-15T00:00:00+00:00 5.87550108359992\\n2013-01-16T00:00:00+00:00 6.900406258340626\\n2013-01-17T00:00:00+00:00 5.7249048429991864\\n2013-01-18T00:00:00+00:00 4.408586907707883\\n2013-01-19T00:00:00+00:00 4.322286396597261\\n2013-01-20T00:00:00+00:00 3.8804486168989665\\n2013-01-21T00:00:00+00:00 2.26474908574372\\n2013-01-22T00:00:00+00:00 3.083488415654293\\n2013-01-23T00:00:00+00:00 3.563261939253878\\n2013-01-24T00:00:00+00:00 5.527179890954501\\n2013-01-25T00:00:00+00:00 4.666048377163265\\n2013-01-26T00:00:00+00:00 3.7143704973989333\\n2013-01-27T00:00:00+00:00 2.6310039291716425\\n2013-01-28T00:00:00+00:00 1.7791447970547987\\n2013-01-29T00:00:00+00:00 3.25089500801867\\n2013-01-30T00:00:00+00:00 2.8020777808397033\\n2013-01-31T00:00:00+00:00 3.0313735379221733\\n2013-02-01T00:00:00+00:00 4.437403588868342\\n2013-02-02T00:00:00+00:00 5.253856550712225\\n2013-02-03T00:00:00+00:00 6.394209960693782\\n2013-02-04T00:00:00+00:00 6.341907743390012\\n2013-02-05T00:00:00+00:00 4.78490930946316\\n2013-02-06T00:00:00+00:00 5.021087304176998\\n2013-02-07T00:00:00+00:00 6.039006294575882\\n2013-02-08T00:00:00+00:00 6.309785248982167\\n2013-02-09T00:00:00+00:00 7.339079846555379\\n2013-02-10T00:00:00+00:00 8.086025371766302\\n2013-02-11T00:00:00+00:00 8.157489749786501\\n2013-02-12T00:00:00+00:00 8.471808207648747\\n2013-02-13T00:00:00+00:00 8.935881145013456\\n2013-02-14T00:00:00+00:00 9.286388548806531\\n2013-02-15T00:00:00+00:00 10.436531193020809\\n2013-02-16T00:00:00+00:00 10.102056511668744\\n2013-02-17T00:00:00+00:00 9.588914242311635\\n2013-02-18T00:00:00+00:00 9.688602943615066\\n2013-02-19T00:00:00+00:00 9.50142291300602\\n2013-02-20T00:00:00+00:00 8.76934237729789\\n2013-02-21T00:00:00+00:00 9.425341658299262\\n2013-02-22T00:00:00+00:00 10.590757146697248\\n2013-02-23T00:00:00+00:00 10.438817301450507\\n2013-02-24T00:00:00+00:00 9.391661579400793\\n2013-02-25T00:00:00+00:00 9.83861358343856\\n2013-02-26T00:00:00+00:00 11.202832755373919\\n2013-02-27T00:00:00+00:00 11.9016750232519\\n2013-02-28T00:00:00+00:00 13.233566110574317\\n2013-03-01T00:00:00+00:00 13.946947218291808\\n2013-03-02T00:00:00+00:00 13.516006729208181\\n2013-03-03T00:00:00+00:00 14.137704734868917\\n2013-03-04T00:00:00+00:00 13.215147344708004\\n2013-03-05T00:00:00+00:00 14.601080426801753\\n2013-03-06T00:00:00+00:00 14.384572122719833\\n2013-03-07T00:00:00+00:00 11.970088417043607\\n2013-03-08T00:00:00+00:00 11.409074525510185\\n2013-03-09T00:00:00+00:00 13.262808683367556\\n2013-03-10T00:00:00+00:00 12.359043552389737\\n2013-03-11T00:00:00+00:00 13.986198901346372\\n2013-03-12T00:00:00+00:00 15.04915517355167\\n2013-03-13T00:00:00+00:00 16.78470931622319\\n2013-03-14T00:00:00+00:00 17.11996499371567\\n2013-03-15T00:00:00+00:00 15.214913960967696\\n2013-03-16T00:00:00+00:00 13.95585941884212\\n2013-03-17T00:00:00+00:00 14.426520821232003\\n2013-03-18T00:00:00+00:00 14.560013906523489\\n2013-03-19T00:00:00+00:00 15.49187647705732\\n2013-03-20T00:00:00+00:00 15.464383239457481\\n2013-03-21T00:00:00+00:00 15.346108764120919\\n2013-03-22T00:00:00+00:00 16.030585011315132\\n2013-03-23T00:00:00+00:00 15.278498338046724\\n2013-03-24T00:00:00+00:00 14.54028669490686\\n2013-03-25T00:00:00+00:00 13.37084255996675\\n2013-03-26T00:00:00+00:00 14.313589769902437\\n2013-03-27T00:00:00+00:00 13.609916069120082\\n2013-03-28T00:00:00+00:00 11.67280609422238\\n2013-03-29T00:00:00+00:00 11.081003868039108\\n2013-03-30T00:00:00+00:00 9.958122603360872\\n2013-03-31T00:00:00+00:00 10.437944494980933\\n2013-04-01T00:00:00+00:00 10.991161137871064\\n2013-04-02T00:00:00+00:00 10.756590739821954\\n2013-04-03T00:00:00+00:00 9.739654928523663\\n2013-04-04T00:00:00+00:00 8.478374415096253\\n2013-04-05T00:00:00+00:00 8.9822348109573\\n2013-04-06T00:00:00+00:00 8.700735868080425\\n2013-04-07T00:00:00+00:00 7.445957024581542\\n2013-04-08T00:00:00+00:00 6.71310742530734\\n2013-04-09T00:00:00+00:00 5.066062152615858\\n2013-04-10T00:00:00+00:00 5.27118704453232\\n2013-04-11T00:00:00+00:00 5.544829559364418\\n2013-04-12T00:00:00+00:00 6.338332091928943\\n2013-04-13T00:00:00+00:00 6.452037849884886\\n2013-04-14T00:00:00+00:00 7.547498228136297\\n2013-04-15T00:00:00+00:00 6.934614314789348\\n2013-04-16T00:00:00+00:00 7.246086883277624\\n2013-04-17T00:00:00+00:00 7.135436312157231\\n2013-04-18T00:00:00+00:00 7.125538471079547\\n2013-04-19T00:00:00+00:00 7.673967396357077\\n2013-04-20T00:00:00+00:00 8.20452859006112\\n2013-04-21T00:00:00+00:00 7.212106965378218\\n2013-04-22T00:00:00+00:00 6.370305048844242\\n2013-04-23T00:00:00+00:00 6.784263641739094\\n2013-04-24T00:00:00+00:00 7.995085818626487\\n2013-04-25T00:00:00+00:00 7.148229263906555\\n2013-04-26T00:00:00+00:00 7.204332543662102\\n2013-04-27T00:00:00+00:00 7.588858068771243\\n2013-04-28T00:00:00+00:00 7.7570317988679305\\n2013-04-29T00:00:00+00:00 7.236285660720856\\n2013-04-30T00:00:00+00:00 5.01929926826582\\n2013-05-01T00:00:00+00:00 5.7887378525344495\\n2013-05-02T00:00:00+00:00 5.357306322315865\\n2013-05-03T00:00:00+00:00 4.427091557626821\\n2013-05-04T00:00:00+00:00 6.281045465115007\\n2013-05-05T00:00:00+00:00 7.334524641563483\\n2013-05-06T00:00:00+00:00 7.172006638679721\\n2013-05-07T00:00:00+00:00 6.4896939883529985\\n2013-05-08T00:00:00+00:00 5.620868292771163\\n2013-05-09T00:00:00+00:00 5.237774235604498\\n2013-05-10T00:00:00+00:00 3.9915364565166556\\n2013-05-11T00:00:00+00:00 4.943874654987862\\n2013-05-12T00:00:00+00:00 3.9362647085272227\\n2013-05-13T00:00:00+00:00 5.400827068852729\\n2013-05-14T00:00:00+00:00 4.24364793714812\\n2013-05-15T00:00:00+00:00 4.8735163758059485\\n2013-05-16T00:00:00+00:00 6.6851491554835825\\n2013-05-17T00:00:00+00:00 6.605119872700213\\n2013-05-18T00:00:00+00:00 7.809178204056123\\n2013-05-19T00:00:00+00:00 6.946830318340373\\n2013-05-20T00:00:00+00:00 7.44566391022888\\n2013-05-21T00:00:00+00:00 7.060855580004555\\n2013-05-22T00:00:00+00:00 6.159327814816627\\n2013-05-23T00:00:00+00:00 5.6901051549945185\\n2013-05-24T00:00:00+00:00 5.167564102631455\\n2013-05-25T00:00:00+00:00 5.870929893162461\\n2013-05-26T00:00:00+00:00 4.203092722549362\\n2013-05-27T00:00:00+00:00 4.979418343762589\\n2013-05-28T00:00:00+00:00 5.3439879707864035\\n2013-05-29T00:00:00+00:00 5.154933317494921\\n2013-05-30T00:00:00+00:00 3.102089029264615\\n2013-05-31T00:00:00+00:00 1.9389889552364015\\n2013-06-01T00:00:00+00:00 2.5333542942305582\\n2013-06-02T00:00:00+00:00 6.01550778342235\\n2013-06-03T00:00:00+00:00 6.304901814532183\\n2013-06-04T00:00:00+00:00 5.600618911110414\\n2013-06-05T00:00:00+00:00 6.214044952005752\\n2013-06-06T00:00:00+00:00 6.80251602589681\\n2013-06-07T00:00:00+00:00 5.980489472532853\\n2013-06-08T00:00:00+00:00 5.588411760485798\\n2013-06-09T00:00:00+00:00 5.290866363519058\\n2013-06-10T00:00:00+00:00 6.601505220890809\\n2013-06-11T00:00:00+00:00 8.395828383777875\\n2013-06-12T00:00:00+00:00 7.374768353530198\\n2013-06-13T00:00:00+00:00 7.062004302934314\\n2013-06-14T00:00:00+00:00 5.868176906557926\\n2013-06-15T00:00:00+00:00 9.157332123345784\\n2013-06-16T00:00:00+00:00 10.713955714088463\\n2013-06-17T00:00:00+00:00 9.632928630653247\\n2013-06-18T00:00:00+00:00 10.047087545848918\\n2013-06-19T00:00:00+00:00 8.298574586635674\\n2013-06-20T00:00:00+00:00 7.915519165431389\\n2013-06-21T00:00:00+00:00 7.497374092438458\\n2013-06-22T00:00:00+00:00 6.746000000502587\\n2013-06-23T00:00:00+00:00 6.59939733709597\\n2013-06-24T00:00:00+00:00 4.875068103388138\\n2013-06-25T00:00:00+00:00 6.672069167691324\\n2013-06-26T00:00:00+00:00 7.433228036137435\\n2013-06-27T00:00:00+00:00 7.792205592671964\\n2013-06-28T00:00:00+00:00 7.807750041483911\\n2013-06-29T00:00:00+00:00 7.802434801169573\\n2013-06-30T00:00:00+00:00 5.981425967433309\\n2013-07-01T00:00:00+00:00 7.716990497767027\\n2013-07-02T00:00:00+00:00 9.907161227218454\\n2013-07-03T00:00:00+00:00 9.694481698278548\\n2013-07-04T00:00:00+00:00 8.630124710006932\\n2013-07-05T00:00:00+00:00 8.783122835927637\\n2013-07-06T00:00:00+00:00 7.077159503931736\\n2013-07-07T00:00:00+00:00 8.324494953367703\\n2013-07-08T00:00:00+00:00 8.502725961831471\\n2013-07-09T00:00:00+00:00 9.222719658022488\\n2013-07-10T00:00:00+00:00 10.167235372267816\\n2013-07-11T00:00:00+00:00 10.44760563519811\\n2013-07-12T00:00:00+00:00 11.043159335074474\\n2013-07-13T00:00:00+00:00 11.93618006551637\\n2013-07-14T00:00:00+00:00 12.920382711919483\\n2013-07-15T00:00:00+00:00 14.572449733289071\\n2013-07-16T00:00:00+00:00 12.085218312928363\\n2013-07-17T00:00:00+00:00 11.125918307009485\\n2013-07-18T00:00:00+00:00 10.03173539763875\\n2013-07-19T00:00:00+00:00 10.011532347803444\\n2013-07-20T00:00:00+00:00 7.686444030509466\\n2013-07-21T00:00:00+00:00 5.699020775744523\\n2013-07-22T00:00:00+00:00 2.846351790429439\\n2013-07-23T00:00:00+00:00 2.960520032648888\\n2013-07-24T00:00:00+00:00 2.7324753774345987\\n2013-07-25T00:00:00+00:00 2.9885621939535265\\n2013-07-26T00:00:00+00:00 2.9416003518068425\\n2013-07-27T00:00:00+00:00 3.519310332013458\\n2013-07-28T00:00:00+00:00 2.8850508473116045\\n2013-07-29T00:00:00+00:00 3.452439448540209\\n2013-07-30T00:00:00+00:00 3.8802659273260893\\n2013-07-31T00:00:00+00:00 2.63525675345993\\n2013-08-01T00:00:00+00:00 3.972552036757371\\n2013-08-02T00:00:00+00:00 3.941144464786054\\n2013-08-03T00:00:00+00:00 4.966340477568976\\n2013-08-04T00:00:00+00:00 4.1104784908529615\\n2013-08-05T00:00:00+00:00 3.92504663610074\\n2013-08-06T00:00:00+00:00 2.746671303956566\\n2013-08-07T00:00:00+00:00 2.1702465110128433\\n2013-08-08T00:00:00+00:00 2.019005535389636\\n2013-08-09T00:00:00+00:00 1.3328024305775699\\n2013-08-10T00:00:00+00:00 1.979864766863665\\n2013-08-11T00:00:00+00:00 2.3019473317871064\\n2013-08-12T00:00:00+00:00 3.2716048102248676\\n2013-08-13T00:00:00+00:00 2.664279775538086\\n2013-08-14T00:00:00+00:00 3.3621355838029476\\n2013-08-15T00:00:00+00:00 4.455117940763936\\n2013-08-16T00:00:00+00:00 5.8447642533197754\\n2013-08-17T00:00:00+00:00 6.945509620948399\\n2013-08-18T00:00:00+00:00 5.83003803608562\\n2013-08-19T00:00:00+00:00 5.567663840808779\\n2013-08-20T00:00:00+00:00 7.076095714565756\\n2013-08-21T00:00:00+00:00 6.85617272907768\\n2013-08-22T00:00:00+00:00 6.305392342754438\\n2013-08-23T00:00:00+00:00 7.734463610075744\\n2013-08-24T00:00:00+00:00 6.244431963468112\\n2013-08-25T00:00:00+00:00 6.866905650071708\\n2013-08-26T00:00:00+00:00 7.657319609621921\\n2013-08-27T00:00:00+00:00 7.247986255135243\\n2013-08-28T00:00:00+00:00 7.058116973581528\\n2013-08-29T00:00:00+00:00 5.071573700275229\\n2013-08-30T00:00:00+00:00 5.563895405724714\\n2013-08-31T00:00:00+00:00 5.113018651590686\\n2013-09-01T00:00:00+00:00 5.724874174916534\\n2013-09-02T00:00:00+00:00 6.1131541693495945\\n2013-09-03T00:00:00+00:00 6.069744256404428\\n2013-09-04T00:00:00+00:00 6.791565735777458\\n2013-09-05T00:00:00+00:00 7.453102089923595\\n2013-09-06T00:00:00+00:00 8.874024011888135\\n2013-09-07T00:00:00+00:00 8.25557872142974\\n2013-09-08T00:00:00+00:00 8.541950131624544\\n2013-09-09T00:00:00+00:00 8.789576729101615\\n2013-09-10T00:00:00+00:00 8.493510106823102\\n2013-09-11T00:00:00+00:00 10.176467504995722\\n2013-09-12T00:00:00+00:00 7.933683906507875\\n2013-09-13T00:00:00+00:00 9.160573724579464\\n2013-09-14T00:00:00+00:00 8.320269845637593\\n2013-09-15T00:00:00+00:00 7.829555577521663\\n2013-09-16T00:00:00+00:00 6.466863583999094\\n2013-09-17T00:00:00+00:00 6.394728529040003\\n2013-09-18T00:00:00+00:00 5.109497581716427\\n2013-09-19T00:00:00+00:00 4.777641052732559\\n2013-09-20T00:00:00+00:00 4.113994194453614\\n2013-09-21T00:00:00+00:00 4.927999391591916\\n2013-09-22T00:00:00+00:00 5.151716337874913\\n2013-09-23T00:00:00+00:00 3.3260482564251626\\n2013-09-24T00:00:00+00:00 3.223918330711412\\n2013-09-25T00:00:00+00:00 3.5870645888738255\\n2013-09-26T00:00:00+00:00 4.865398080010859\\n2013-09-27T00:00:00+00:00 4.231664415472413\\n2013-09-28T00:00:00+00:00 3.4666429440454003\\n2013-09-29T00:00:00+00:00 1.3072905927370444\\n2013-09-30T00:00:00+00:00 1.1195738546643448\\n2013-10-01T00:00:00+00:00 0.9608092890143632\\n2013-10-02T00:00:00+00:00 0.9395579413618823\\n2013-10-03T00:00:00+00:00 -0.34799675698392274\\n2013-10-04T00:00:00+00:00 -0.7656617952059477\\n2013-10-05T00:00:00+00:00 -0.8597330255972383\\n2013-10-06T00:00:00+00:00 -1.5294562682454642\\n2013-10-07T00:00:00+00:00 -2.5700563113290555\\n2013-10-08T00:00:00+00:00 0.15444332778681424\\n2013-10-09T00:00:00+00:00 -1.6006579005152586\\n2013-10-10T00:00:00+00:00 -1.7416896852778192\\n2013-10-11T00:00:00+00:00 -0.9032277400177857\\n2013-10-12T00:00:00+00:00 -1.3382802427705633\\n2013-10-13T00:00:00+00:00 0.5210239663093144\\n2013-10-14T00:00:00+00:00 0.6094443154742268\\n2013-10-15T00:00:00+00:00 0.4917204477556466\\n2013-10-16T00:00:00+00:00 0.19435213112901029\\n2013-10-17T00:00:00+00:00 1.57791848737965\\n2013-10-18T00:00:00+00:00 0.18670726939928484\\n2013-10-19T00:00:00+00:00 1.0992733705849322\\n2013-10-20T00:00:00+00:00 0.9960113310267947\\n2013-10-21T00:00:00+00:00 1.7657744639457635\\n2013-10-22T00:00:00+00:00 1.3996056520193707\\n2013-10-23T00:00:00+00:00 1.7162506399064843\\n2013-10-24T00:00:00+00:00 0.8399456361479893\\n2013-10-25T00:00:00+00:00 -0.33618122889513957\\n2013-10-26T00:00:00+00:00 -0.612525428065753\\n2013-10-27T00:00:00+00:00 0.1725692308433563\\n2013-10-28T00:00:00+00:00 -0.3320642152572776\\n2013-10-29T00:00:00+00:00 0.8561860142593366\\n2013-10-30T00:00:00+00:00 1.5328009706707528\\n2013-10-31T00:00:00+00:00 1.6518613777752238\\n2013-11-01T00:00:00+00:00 2.823323959718107\\n2013-11-02T00:00:00+00:00 2.801428251515699\\n2013-11-03T00:00:00+00:00 1.8075741685521245\\n2013-11-04T00:00:00+00:00 0.652344884715935\\n2013-11-05T00:00:00+00:00 0.6254631036542565\\n2013-11-06T00:00:00+00:00 0.22457744040628275\\n2013-11-07T00:00:00+00:00 -0.022038285428795407\\n2013-11-08T00:00:00+00:00 0.16676596238624267\\n2013-11-09T00:00:00+00:00 -0.029180792942062883\\n2013-11-10T00:00:00+00:00 1.4311933588073333\\n2013-11-11T00:00:00+00:00 -0.40927028473229443\\n2013-11-12T00:00:00+00:00 -0.9859797603051085\\n2013-11-13T00:00:00+00:00 -2.0116379261208417\\n2013-11-14T00:00:00+00:00 -1.976285819047295\\n2013-11-15T00:00:00+00:00 -2.9721609364550985\\n2013-11-16T00:00:00+00:00 -2.3034072322231074\\n2013-11-17T00:00:00+00:00 -1.2107372250417199\\n2013-11-18T00:00:00+00:00 -1.2267654968969435\\n2013-11-19T00:00:00+00:00 -1.3215006063096153\\n2013-11-20T00:00:00+00:00 -1.0977646424198393\\n2013-11-21T00:00:00+00:00 -1.9792736208061052\\n2013-11-22T00:00:00+00:00 -2.983205028246318\\n2013-11-23T00:00:00+00:00 -2.7735239556768896\\n2013-11-24T00:00:00+00:00 -2.825764147699301\\n2013-11-25T00:00:00+00:00 -4.662275925784609\\n2013-11-26T00:00:00+00:00 -6.023380794050748\\n2013-11-27T00:00:00+00:00 -7.666828646251565\\n2013-11-28T00:00:00+00:00 -7.710996039724448\\n2013-11-29T00:00:00+00:00 -8.49010513971539\\n2013-11-30T00:00:00+00:00 -9.207684691362322\\n2013-12-01T00:00:00+00:00 -8.41420502193227\\n2013-12-02T00:00:00+00:00 -8.288559148833448\\n2013-12-03T00:00:00+00:00 -8.130680975803422\\n2013-12-04T00:00:00+00:00 -7.618116138549987\\n2013-12-05T00:00:00+00:00 -6.2272616912962615\\n2013-12-06T00:00:00+00:00 -8.187202694073893\\n2013-12-07T00:00:00+00:00 -6.41760571641661\\n2013-12-08T00:00:00+00:00 -5.760461989185047\\n2013-12-09T00:00:00+00:00 -4.695257455081122\\n2013-12-10T00:00:00+00:00 -2.5577526170404923\\n2013-12-11T00:00:00+00:00 -1.069788533528789\\n2013-12-12T00:00:00+00:00 -1.4515118646485565\\n2013-12-13T00:00:00+00:00 -0.8515601672065417\\n2013-12-14T00:00:00+00:00 -0.5437396802475623\\n2013-12-15T00:00:00+00:00 -1.0121160233720776\\n2013-12-16T00:00:00+00:00 -0.04650330649272427\\n2013-12-17T00:00:00+00:00 3.3165914449270515\\n2013-12-18T00:00:00+00:00 3.07342667937356\\n2013-12-19T00:00:00+00:00 3.0670318796231877\\n2013-12-20T00:00:00+00:00 1.8757280677959023\\n2013-12-21T00:00:00+00:00 2.113088696684218\\n2013-12-22T00:00:00+00:00 2.0886224475921518\\n2013-12-23T00:00:00+00:00 1.9705031629400318\\n2013-12-24T00:00:00+00:00 0.9108107365985265\\n2013-12-25T00:00:00+00:00 0.966672044823218\\n2013-12-26T00:00:00+00:00 1.1289335951659176\\n2013-12-27T00:00:00+00:00 1.6737454867398571\\n2013-12-28T00:00:00+00:00 3.193189526325256\\n2013-12-29T00:00:00+00:00 3.418670311628852\\n2013-12-30T00:00:00+00:00 2.852810815961444\\n2013-12-31T00:00:00+00:00 1.9192489801545582\\n2014-01-01T00:00:00+00:00 3.1152063301009183\\n2014-01-02T00:00:00+00:00 2.6029395561917137\\n2014-01-03T00:00:00+00:00 2.7376049717731337\\n2014-01-04T00:00:00+00:00 3.3920373510563158\\n2014-01-05T00:00:00+00:00 2.9609967806450177\\n2014-01-06T00:00:00+00:00 4.233922124741306\\n2014-01-07T00:00:00+00:00 3.667994988970775\\n2014-01-08T00:00:00+00:00 3.8596452695738046\\n2014-01-09T00:00:00+00:00 2.847926603632464\\n2014-01-10T00:00:00+00:00 2.1545040621287366\\n2014-01-11T00:00:00+00:00 1.8092280862287171\\n2014-01-12T00:00:00+00:00 1.7725873873599476\\n2014-01-13T00:00:00+00:00 1.6191394881651624\\n2014-01-14T00:00:00+00:00 0.34601861028899883\\n2014-01-15T00:00:00+00:00 -0.3043466773543687\\n2014-01-16T00:00:00+00:00 -2.4412801952404726\\n2014-01-17T00:00:00+00:00 -2.0514815504602004\\n2014-01-18T00:00:00+00:00 -2.2448042865641256\\n2014-01-19T00:00:00+00:00 -3.4032584684806717\\n2014-01-20T00:00:00+00:00 -4.764726102059253\\n2014-01-21T00:00:00+00:00 -5.581638386123666\\n2014-01-22T00:00:00+00:00 -6.044445386103077\\n2014-01-23T00:00:00+00:00 -5.631489508463706\\n2014-01-24T00:00:00+00:00 -6.4615300794207355\\n2014-01-25T00:00:00+00:00 -6.490644171949972\\n2014-01-26T00:00:00+00:00 -6.406365496471401\\n2014-01-27T00:00:00+00:00 -8.121762655512358\\n2014-01-28T00:00:00+00:00 -8.435107217604003\\n2014-01-29T00:00:00+00:00 -6.615784492644128\\n2014-01-30T00:00:00+00:00 -7.1352238403024115\\n2014-01-31T00:00:00+00:00 -7.3614509656680935\\n2014-02-01T00:00:00+00:00 -4.779471636644571\\n2014-02-02T00:00:00+00:00 -4.4030541113375214\\n2014-02-03T00:00:00+00:00 -4.259386687990568\\n2014-02-04T00:00:00+00:00 -2.580099608710818\\n2014-02-05T00:00:00+00:00 -2.5546376609476305\\n2014-02-06T00:00:00+00:00 -1.6700176601300087\\n2014-02-07T00:00:00+00:00 -3.2958943935642644\\n2014-02-08T00:00:00+00:00 -5.2808691650673625\\n2014-02-09T00:00:00+00:00 -6.892242132858792\\n2014-02-10T00:00:00+00:00 -7.50468643959972\\n2014-02-11T00:00:00+00:00 -7.1720170797668015\\n2014-02-12T00:00:00+00:00 -8.272697291888637\\n2014-02-13T00:00:00+00:00 -7.818494093357622\\n2014-02-14T00:00:00+00:00 -7.278353183221804\\n2014-02-15T00:00:00+00:00 -10.017157483091188\\n2014-02-16T00:00:00+00:00 -11.153299131606692\\n2014-02-17T00:00:00+00:00 -10.820908127501127\\n2014-02-18T00:00:00+00:00 -8.99628952280332\\n2014-02-19T00:00:00+00:00 -8.29915274104706\\n2014-02-20T00:00:00+00:00 -9.206589342829773\\n2014-02-21T00:00:00+00:00 -10.44908731369544\\n2014-02-22T00:00:00+00:00 -9.834055879969828\\n2014-02-23T00:00:00+00:00 -10.203617657441265\\n2014-02-24T00:00:00+00:00 -9.658823152039249\\n2014-02-25T00:00:00+00:00 -8.601397004823928\\n2014-02-26T00:00:00+00:00 -8.941586305129157\\n2014-02-27T00:00:00+00:00 -8.192350195828332\\n2014-02-28T00:00:00+00:00 -8.329972658242903\\n2014-03-01T00:00:00+00:00 -7.910690870776518\\n2014-03-02T00:00:00+00:00 -8.516865421828559\\n2014-03-03T00:00:00+00:00 -10.099356060978641\\n2014-03-04T00:00:00+00:00 -12.457090584470807\\n2014-03-05T00:00:00+00:00 -11.926261890874851\\n2014-03-06T00:00:00+00:00 -11.23347136070664\\n2014-03-07T00:00:00+00:00 -10.18326566743863\\n2014-03-08T00:00:00+00:00 -11.256265885996132\\n2014-03-09T00:00:00+00:00 -11.70713952603176\\n2014-03-10T00:00:00+00:00 -12.318326428960196\\n2014-03-11T00:00:00+00:00 -11.209498470445398\\n2014-03-12T00:00:00+00:00 -11.571289983060499\\n2014-03-13T00:00:00+00:00 -11.920188134332866\\n2014-03-14T00:00:00+00:00 -13.106404086607377\\n2014-03-15T00:00:00+00:00 -13.28960510630946\\n2014-03-16T00:00:00+00:00 -13.380409736793961\\n2014-03-17T00:00:00+00:00 -13.4774695140751\\n2014-03-18T00:00:00+00:00 -14.004104750813445\\n2014-03-19T00:00:00+00:00 -13.367649454214035\\n2014-03-20T00:00:00+00:00 -13.341661537237202\\n2014-03-21T00:00:00+00:00 -12.454392709674078\\n2014-03-22T00:00:00+00:00 -11.533614959943401\\n2014-03-23T00:00:00+00:00 -12.472622249983523\\n2014-03-24T00:00:00+00:00 -12.459186771472538\\n2014-03-25T00:00:00+00:00 -13.290615690872471\\n2014-03-26T00:00:00+00:00 -11.301007901125123\\n2014-03-27T00:00:00+00:00 -9.98533243950813\\n2014-03-28T00:00:00+00:00 -7.851773928326604\\n2014-03-29T00:00:00+00:00 -9.238586770454704\\n2014-03-30T00:00:00+00:00 -8.412827976281728\\n2014-03-31T00:00:00+00:00 -7.675735489379892\\n2014-04-01T00:00:00+00:00 -7.1471912998413085\\n2014-04-02T00:00:00+00:00 -6.679081993047505\\n2014-04-03T00:00:00+00:00 -5.47129540573921\\n2014-04-04T00:00:00+00:00 -7.85772996786141\\n2014-04-05T00:00:00+00:00 -7.335627676051969\\n2014-04-06T00:00:00+00:00 -8.00511709002882\\n2014-04-07T00:00:00+00:00 -8.304929483594748\\n2014-04-08T00:00:00+00:00 -7.591924511983391\\n2014-04-09T00:00:00+00:00 -8.33736860673648\\n2014-04-10T00:00:00+00:00 -7.197786832158366\\n2014-04-11T00:00:00+00:00 -8.016974549324981\\n2014-04-12T00:00:00+00:00 -7.638220509135964\\n2014-04-13T00:00:00+00:00 -8.183489509624918\\n2014-04-14T00:00:00+00:00 -5.88926228211341\\n2014-04-15T00:00:00+00:00 -5.868810737460269\\n2014-04-16T00:00:00+00:00 -6.327450595785762\\n2014-04-17T00:00:00+00:00 -6.638236519758977\\n2014-04-18T00:00:00+00:00 -7.060153738606477\\n2014-04-19T00:00:00+00:00 -8.159031247989379\\n2014-04-20T00:00:00+00:00 -6.767842878091539\\n2014-04-21T00:00:00+00:00 -5.760496496159904\\n2014-04-22T00:00:00+00:00 -6.152547693147619\\n2014-04-23T00:00:00+00:00 -5.3900822457679425\\n2014-04-24T00:00:00+00:00 -6.031524333004979\\n2014-04-25T00:00:00+00:00 -5.754549419044697\\n2014-04-26T00:00:00+00:00 -5.589254216241134\\n2014-04-27T00:00:00+00:00 -4.864496611372219\\n2014-04-28T00:00:00+00:00 -2.938393464111018\\n2014-04-29T00:00:00+00:00 -4.641260994141723\\n2014-04-30T00:00:00+00:00 -4.028776603980729\\n2014-05-01T00:00:00+00:00 -5.2746560954475115\\n2014-05-02T00:00:00+00:00 -6.524041463493591\\n2014-05-03T00:00:00+00:00 -7.51511597656846\\n2014-05-04T00:00:00+00:00 -7.680120891866535\\n2014-05-05T00:00:00+00:00 -7.40274411151144\\n2014-05-06T00:00:00+00:00 -5.254020768776458\\n2014-05-07T00:00:00+00:00 -4.152845084514012\\n2014-05-08T00:00:00+00:00 -3.9126790881536797\\n2014-05-09T00:00:00+00:00 -2.0020043061321022\\n2014-05-10T00:00:00+00:00 -2.832440730463306\\n2014-05-11T00:00:00+00:00 -1.3767756023244229\\n2014-05-12T00:00:00+00:00 -1.6959258346622272\\n2014-05-13T00:00:00+00:00 -1.2598688069431514\\n2014-05-14T00:00:00+00:00 -0.11103829969917967\\n2014-05-15T00:00:00+00:00 1.8814989246646412\\n2014-05-16T00:00:00+00:00 2.098240203742338\\n2014-05-17T00:00:00+00:00 -0.6078680880791514\\n2014-05-18T00:00:00+00:00 -2.008300571719871\\n2014-05-19T00:00:00+00:00 -2.8280701795099707\\n2014-05-20T00:00:00+00:00 -4.083039473366659\\n2014-05-21T00:00:00+00:00 -4.416079855444021\\n2014-05-22T00:00:00+00:00 -4.2704638522233545\\n2014-05-23T00:00:00+00:00 -3.889655274079955\\n2014-05-24T00:00:00+00:00 -5.0148686046479884\\n2014-05-25T00:00:00+00:00 -4.180528042841825\\n2014-05-26T00:00:00+00:00 -3.308035133710566\\n2014-05-27T00:00:00+00:00 -2.9275929203090696\\n2014-05-28T00:00:00+00:00 -3.1309402441832357\\n2014-05-29T00:00:00+00:00 -3.660646908723627\\n2014-05-30T00:00:00+00:00 -3.80983429030931\\n2014-05-31T00:00:00+00:00 -4.413472408945026\\n2014-06-01T00:00:00+00:00 -3.0353525143795492\\n2014-06-02T00:00:00+00:00 -4.441044255134804\\n2014-06-03T00:00:00+00:00 -5.200182177214363\\n2014-06-04T00:00:00+00:00 -7.916032843093893\\n2014-06-05T00:00:00+00:00 -7.379000496900209\\n2014-06-06T00:00:00+00:00 -8.104373646896875\\n2014-06-07T00:00:00+00:00 -8.85144968900733\\n2014-06-08T00:00:00+00:00 -8.513996705038767\\n2014-06-09T00:00:00+00:00 -8.131941400246495\\n2014-06-10T00:00:00+00:00 -8.145017094087944\\n2014-06-11T00:00:00+00:00 -7.905720439839218\\n2014-06-12T00:00:00+00:00 -9.627291355834483\\n2014-06-13T00:00:00+00:00 -9.808180621349933\\n2014-06-14T00:00:00+00:00 -10.013034628993482\\n2014-06-15T00:00:00+00:00 -9.935759328942279\\n2014-06-16T00:00:00+00:00 -10.373223316140173\\n2014-06-17T00:00:00+00:00 -9.717635756968795\\n2014-06-18T00:00:00+00:00 -9.460207895087294\\n2014-06-19T00:00:00+00:00 -10.322848391198544\\n2014-06-20T00:00:00+00:00 -10.853283533697352\\n2014-06-21T00:00:00+00:00 -11.464349516491074\\n2014-06-22T00:00:00+00:00 -10.47670456898651\\n2014-06-23T00:00:00+00:00 -9.938508850588294\\n2014-06-24T00:00:00+00:00 -9.171876340690204\\n2014-06-25T00:00:00+00:00 -8.176657060783846\\n2014-06-26T00:00:00+00:00 -8.376962282319445\\n2014-06-27T00:00:00+00:00 -6.917923778088676\\n2014-06-28T00:00:00+00:00 -7.010164264481343\\n2014-06-29T00:00:00+00:00 -7.953775705376039\\n2014-06-30T00:00:00+00:00 -7.904200729891919\\n2014-07-01T00:00:00+00:00 -7.852602464574452\\n2014-07-02T00:00:00+00:00 -8.790080752190265\\n2014-07-03T00:00:00+00:00 -7.4967872930936315\\n2014-07-04T00:00:00+00:00 -7.609369927329762\\n2014-07-05T00:00:00+00:00 -8.398738395222964\\n2014-07-06T00:00:00+00:00 -7.331633142684281\\n2014-07-07T00:00:00+00:00 -7.036111728813593\\n2014-07-08T00:00:00+00:00 -6.533422836081755\\n2014-07-09T00:00:00+00:00 -7.123845796653279\\n2014-07-10T00:00:00+00:00 -7.39348234066299\\n2014-07-11T00:00:00+00:00 -7.380022568615696\\n2014-07-12T00:00:00+00:00 -8.18001084209416\\n2014-07-13T00:00:00+00:00 -9.248980125571823\\n2014-07-14T00:00:00+00:00 -10.247837957042407\\n2014-07-15T00:00:00+00:00 -10.604330574592941\\n2014-07-16T00:00:00+00:00 -11.191297093491391\\n2014-07-17T00:00:00+00:00 -11.763225944140682\\n2014-07-18T00:00:00+00:00 -12.254704106867033\\n2014-07-19T00:00:00+00:00 -9.946455625116808\\n2014-07-20T00:00:00+00:00 -8.794041898322174\\n2014-07-21T00:00:00+00:00 -8.040350751629123\\n2014-07-22T00:00:00+00:00 -7.263752731252841\\n2014-07-23T00:00:00+00:00 -6.377479515627319\\n2014-07-24T00:00:00+00:00 -5.803396740586252\\n2014-07-25T00:00:00+00:00 -7.103638766448516\\n2014-07-26T00:00:00+00:00 -7.09518135357196\\n2014-07-27T00:00:00+00:00 -6.5394381919538\\n2014-07-28T00:00:00+00:00 -7.44474916311556\\n2014-07-29T00:00:00+00:00 -7.262335577956782\\n2014-07-30T00:00:00+00:00 -6.574607114616713\\n2014-07-31T00:00:00+00:00 -6.027915315835365\\n2014-08-01T00:00:00+00:00 -5.644447424864263\\n2014-08-02T00:00:00+00:00 -5.499654998579222\\n2014-08-03T00:00:00+00:00 -4.350123148532051\\n2014-08-04T00:00:00+00:00 -4.462360547833001\\n2014-08-05T00:00:00+00:00 -5.0923497408254255\\n2014-08-06T00:00:00+00:00 -5.697709654642281\\n2014-08-07T00:00:00+00:00 -6.045130800436802\\n2014-08-08T00:00:00+00:00 -6.593887161418174\\n2014-08-09T00:00:00+00:00 -6.08449659944905\\n2014-08-10T00:00:00+00:00 -5.887777696908614\\n2014-08-11T00:00:00+00:00 -6.078022855325694\\n2014-08-12T00:00:00+00:00 -6.362457811014629\\n2014-08-13T00:00:00+00:00 -7.497398008977407\\n2014-08-14T00:00:00+00:00 -7.14826486358569\\n2014-08-15T00:00:00+00:00 -8.071781351525816\\n2014-08-16T00:00:00+00:00 -8.063176897590477\\n2014-08-17T00:00:00+00:00 -7.792147849489097\\n2014-08-18T00:00:00+00:00 -6.069666029081379\\n2014-08-19T00:00:00+00:00 -7.645352967735119\\n2014-08-20T00:00:00+00:00 -7.5711970014946655\\n2014-08-21T00:00:00+00:00 -7.74021913241842\\n2014-08-22T00:00:00+00:00 -8.559196147733712\\n2014-08-23T00:00:00+00:00 -9.377118232303404\\n2014-08-24T00:00:00+00:00 -8.933320835104334\\n2014-08-25T00:00:00+00:00 -9.924305707990069\\n2014-08-26T00:00:00+00:00 -10.27836785995137\\n2014-08-27T00:00:00+00:00 -9.751788077675496\\n2014-08-28T00:00:00+00:00 -8.672771687257296\\n2014-08-29T00:00:00+00:00 -9.414130656527002\\n2014-08-30T00:00:00+00:00 -9.076055928064777\\n2014-08-31T00:00:00+00:00 -6.685556531282286\\n2014-09-01T00:00:00+00:00 -6.77259434239263\\n2014-09-02T00:00:00+00:00 -7.266729962335954\\n2014-09-03T00:00:00+00:00 -6.3474084288324955\\n2014-09-04T00:00:00+00:00 -6.796436712529657\\n2014-09-05T00:00:00+00:00 -4.9918015174515755\\n2014-09-06T00:00:00+00:00 -6.785993977610391\\n2014-09-07T00:00:00+00:00 -6.961780226187828\\n2014-09-08T00:00:00+00:00 -6.5040734240212315\\n2014-09-09T00:00:00+00:00 -7.022137450637295\\n2014-09-10T00:00:00+00:00 -6.917714856070316\\n2014-09-11T00:00:00+00:00 -6.012760600077701\\n2014-09-12T00:00:00+00:00 -6.0536029433650755\\n2014-09-13T00:00:00+00:00 -4.692391346905019\\n2014-09-14T00:00:00+00:00 -3.6326672330919596\\n2014-09-15T00:00:00+00:00 -3.729753957054405\\n2014-09-16T00:00:00+00:00 -2.934191244798698\\n2014-09-17T00:00:00+00:00 -2.8679005306958674\\n2014-09-18T00:00:00+00:00 -2.2417443865910824\\n2014-09-19T00:00:00+00:00 -1.8143887683051156\\n2014-09-20T00:00:00+00:00 -1.3645315379378826\\n2014-09-21T00:00:00+00:00 -2.067220850479746\\n2014-09-22T00:00:00+00:00 -2.9067001539576447\\n2014-09-23T00:00:00+00:00 -2.854961335212362\\n2014-09-24T00:00:00+00:00 -0.8876399811183355\\n2014-09-25T00:00:00+00:00 0.17779894867714363\\n2014-09-26T00:00:00+00:00 0.8727966241872317\\n2014-09-27T00:00:00+00:00 -0.3076153653841204\\n2014-09-28T00:00:00+00:00 -0.5996927818156423\\n2014-09-29T00:00:00+00:00 -0.127994503035055\\n2014-09-30T00:00:00+00:00 -0.14466984455260035\\n2014-10-01T00:00:00+00:00 -1.7199836038276795\\n2014-10-02T00:00:00+00:00 -2.6053348100023035\\n2014-10-03T00:00:00+00:00 -1.832040793807204\\n2014-10-04T00:00:00+00:00 -1.5325305529656796\\n2014-10-05T00:00:00+00:00 -2.2454682083009865\\n2014-10-06T00:00:00+00:00 -1.303567471134669\\n2014-10-07T00:00:00+00:00 -1.7193034303604113\\n2014-10-08T00:00:00+00:00 -2.7510570134484498\\n2014-10-09T00:00:00+00:00 -2.1817323457783044\\n2014-10-10T00:00:00+00:00 -2.2967104299104277\\n2014-10-11T00:00:00+00:00 -5.093897784804575\\n2014-10-12T00:00:00+00:00 -3.7548545023395867\\n2014-10-13T00:00:00+00:00 -3.419163689744406\\n2014-10-14T00:00:00+00:00 -3.9764035129516313\\n2014-10-15T00:00:00+00:00 -2.8549095650344642\\n2014-10-16T00:00:00+00:00 -2.8188602943101793\\n2014-10-17T00:00:00+00:00 -2.3092133667808907\\n2014-10-18T00:00:00+00:00 -2.709594302020374\\n2014-10-19T00:00:00+00:00 -2.391634347372488\\n2014-10-20T00:00:00+00:00 -3.4004978562097605\\n2014-10-21T00:00:00+00:00 -3.407986428851499\\n2014-10-22T00:00:00+00:00 -3.50453208119982\\n2014-10-23T00:00:00+00:00 -4.977292717870805\\n2014-10-24T00:00:00+00:00 -4.470202734432418\\n2014-10-25T00:00:00+00:00 -3.929573550447667\\n2014-10-26T00:00:00+00:00 -3.3651226173866418\\n2014-10-27T00:00:00+00:00 -2.732254019872444\\n2014-10-28T00:00:00+00:00 -3.2279531167653936\\n2014-10-29T00:00:00+00:00 -3.4386560810816778\\n2014-10-30T00:00:00+00:00 -5.525226209640986\\n2014-10-31T00:00:00+00:00 -6.460161643487761\\n2014-11-01T00:00:00+00:00 -6.064798454206673\\n2014-11-02T00:00:00+00:00 -5.376049989398218\\n2014-11-03T00:00:00+00:00 -4.526019572174458\\n2014-11-04T00:00:00+00:00 -5.323796763091874\\n2014-11-05T00:00:00+00:00 -5.315206498555858\\n2014-11-06T00:00:00+00:00 -5.688645075723047\\n2014-11-07T00:00:00+00:00 -4.8989818236152285\\n2014-11-08T00:00:00+00:00 -3.1585842385407226\\n2014-11-09T00:00:00+00:00 -2.9334879917786676\\n2014-11-10T00:00:00+00:00 -4.242367611669238\\n2014-11-11T00:00:00+00:00 -3.846878822303123\\n2014-11-12T00:00:00+00:00 -2.281742766437856\\n2014-11-13T00:00:00+00:00 -0.7989653026027217\\n2014-11-14T00:00:00+00:00 -0.5774368032853996\\n2014-11-15T00:00:00+00:00 -0.48917949992275306\\n2014-11-16T00:00:00+00:00 -0.2628449805728881\\n2014-11-17T00:00:00+00:00 -0.9443875209679827\\n2014-11-18T00:00:00+00:00 -2.2497170429759894\\n2014-11-19T00:00:00+00:00 -3.8318531768305073\\n2014-11-20T00:00:00+00:00 -3.9841431326033\\n2014-11-21T00:00:00+00:00 -4.626215803184079\\n2014-11-22T00:00:00+00:00 -3.8429081011739017\\n2014-11-23T00:00:00+00:00 -3.8891727258695843\\n2014-11-24T00:00:00+00:00 -3.137852576235119\\n2014-11-25T00:00:00+00:00 -4.769492332151275\\n2014-11-26T00:00:00+00:00 -3.8477943668983947\\n2014-11-27T00:00:00+00:00 -3.4197586673557296\\n2014-11-28T00:00:00+00:00 -3.172346262131685\\n2014-11-29T00:00:00+00:00 -1.6444332708187033\\n2014-11-30T00:00:00+00:00 -4.025913650199171\\n2014-12-01T00:00:00+00:00 -3.835273709038094\\n2014-12-02T00:00:00+00:00 -2.486536985120603\\n2014-12-03T00:00:00+00:00 -2.163805617884869\\n2014-12-04T00:00:00+00:00 -3.691286537475863\\n2014-12-05T00:00:00+00:00 -2.972993272928438\\n2014-12-06T00:00:00+00:00 -3.078512654286992\\n2014-12-07T00:00:00+00:00 -2.8631341680834015\\n2014-12-08T00:00:00+00:00 -4.374440312080828\\n2014-12-09T00:00:00+00:00 -2.4216702926067075\\n2014-12-10T00:00:00+00:00 -1.7234782685871495\\n2014-12-11T00:00:00+00:00 -3.1019801867202164\\n2014-12-12T00:00:00+00:00 -4.164482333393892\\n2014-12-13T00:00:00+00:00 -3.0008727401590365\\n2014-12-14T00:00:00+00:00 -2.6855626514328486\\n2014-12-15T00:00:00+00:00 -1.7118532870411758\\n2014-12-16T00:00:00+00:00 -0.030013362277431233\\n2014-12-17T00:00:00+00:00 -0.17941124866784103\\n2014-12-18T00:00:00+00:00 -2.33469330505597\\n2014-12-19T00:00:00+00:00 -1.3331275990486642\\n2014-12-20T00:00:00+00:00 -0.728562856313753\\n2014-12-21T00:00:00+00:00 -1.3612060682685945\\n2014-12-22T00:00:00+00:00 -0.40883525043682123\\n2014-12-23T00:00:00+00:00 0.037508972229561066\\n2014-12-24T00:00:00+00:00 0.5775998148759123\\n2014-12-25T00:00:00+00:00 2.5830900819653784\\n2014-12-26T00:00:00+00:00 1.3809274250870607\\n2014-12-27T00:00:00+00:00 1.4485503484473738\\n\">, @options=Hamster::Hash[:using => \"1:2\", :with => \"lines\", :title => \"Vector\"]>, #<GnuplotRB::Dataset:0x000000032d9f58 @type=:datablock, @data=#<GnuplotRB::Datablock:0x000000032d9d78 @stored_in_file=false, @data=\"2012-04-02T00:00:00+00:00 \\n2012-04-03T00:00:00+00:00 \\n2012-04-04T00:00:00+00:00 \\n2012-04-05T00:00:00+00:00 \\n2012-04-06T00:00:00+00:00 \\n2012-04-07T00:00:00+00:00 \\n2012-04-08T00:00:00+00:00 \\n2012-04-09T00:00:00+00:00 \\n2012-04-10T00:00:00+00:00 \\n2012-04-11T00:00:00+00:00 \\n2012-04-12T00:00:00+00:00 \\n2012-04-13T00:00:00+00:00 \\n2012-04-14T00:00:00+00:00 \\n2012-04-15T00:00:00+00:00 \\n2012-04-16T00:00:00+00:00 \\n2012-04-17T00:00:00+00:00 \\n2012-04-18T00:00:00+00:00 \\n2012-04-19T00:00:00+00:00 \\n2012-04-20T00:00:00+00:00 \\n2012-04-21T00:00:00+00:00 \\n2012-04-22T00:00:00+00:00 \\n2012-04-23T00:00:00+00:00 \\n2012-04-24T00:00:00+00:00 \\n2012-04-25T00:00:00+00:00 \\n2012-04-26T00:00:00+00:00 \\n2012-04-27T00:00:00+00:00 \\n2012-04-28T00:00:00+00:00 \\n2012-04-29T00:00:00+00:00 \\n2012-04-30T00:00:00+00:00 \\n2012-05-01T00:00:00+00:00 \\n2012-05-02T00:00:00+00:00 \\n2012-05-03T00:00:00+00:00 \\n2012-05-04T00:00:00+00:00 \\n2012-05-05T00:00:00+00:00 \\n2012-05-06T00:00:00+00:00 \\n2012-05-07T00:00:00+00:00 \\n2012-05-08T00:00:00+00:00 \\n2012-05-09T00:00:00+00:00 \\n2012-05-10T00:00:00+00:00 \\n2012-05-11T00:00:00+00:00 \\n2012-05-12T00:00:00+00:00 \\n2012-05-13T00:00:00+00:00 \\n2012-05-14T00:00:00+00:00 \\n2012-05-15T00:00:00+00:00 \\n2012-05-16T00:00:00+00:00 \\n2012-05-17T00:00:00+00:00 \\n2012-05-18T00:00:00+00:00 \\n2012-05-19T00:00:00+00:00 \\n2012-05-20T00:00:00+00:00 \\n2012-05-21T00:00:00+00:00 \\n2012-05-22T00:00:00+00:00 \\n2012-05-23T00:00:00+00:00 \\n2012-05-24T00:00:00+00:00 \\n2012-05-25T00:00:00+00:00 \\n2012-05-26T00:00:00+00:00 \\n2012-05-27T00:00:00+00:00 \\n2012-05-28T00:00:00+00:00 \\n2012-05-29T00:00:00+00:00 \\n2012-05-30T00:00:00+00:00 \\n2012-05-31T00:00:00+00:00 9.364786016817991\\n2012-06-01T00:00:00+00:00 9.602465304992286\\n2012-06-02T00:00:00+00:00 9.847699653050691\\n2012-06-03T00:00:00+00:00 10.078630099116014\\n2012-06-04T00:00:00+00:00 10.319442200051748\\n2012-06-05T00:00:00+00:00 10.535643616333434\\n2012-06-06T00:00:00+00:00 10.751249712397506\\n2012-06-07T00:00:00+00:00 10.969877910772967\\n2012-06-08T00:00:00+00:00 11.192072351393552\\n2012-06-09T00:00:00+00:00 11.387356860076418\\n2012-06-10T00:00:00+00:00 11.585447686200403\\n2012-06-11T00:00:00+00:00 11.763412048858438\\n2012-06-12T00:00:00+00:00 11.941647263152753\\n2012-06-13T00:00:00+00:00 12.144063680654984\\n2012-06-14T00:00:00+00:00 12.307179741412872\\n2012-06-15T00:00:00+00:00 12.47443135588808\\n2012-06-16T00:00:00+00:00 12.650539703916088\\n2012-06-17T00:00:00+00:00 12.837067333668385\\n2012-06-18T00:00:00+00:00 13.041877231728112\\n2012-06-19T00:00:00+00:00 13.194250178696183\\n2012-06-20T00:00:00+00:00 13.337325670307667\\n2012-06-21T00:00:00+00:00 13.509192639171179\\n2012-06-22T00:00:00+00:00 13.677739459056856\\n2012-06-23T00:00:00+00:00 13.80561180739554\\n2012-06-24T00:00:00+00:00 13.888853492258814\\n2012-06-25T00:00:00+00:00 13.9617916060089\\n2012-06-26T00:00:00+00:00 14.014901230685934\\n2012-06-27T00:00:00+00:00 14.067724679290945\\n2012-06-28T00:00:00+00:00 14.128013402554268\\n2012-06-29T00:00:00+00:00 14.131591898584993\\n2012-06-30T00:00:00+00:00 14.090172710530547\\n2012-07-01T00:00:00+00:00 14.051842077022673\\n2012-07-02T00:00:00+00:00 14.005337297075586\\n2012-07-03T00:00:00+00:00 13.971263916305826\\n2012-07-04T00:00:00+00:00 13.91657624050703\\n2012-07-05T00:00:00+00:00 13.82250284081788\\n2012-07-06T00:00:00+00:00 13.713693172531205\\n2012-07-07T00:00:00+00:00 13.564665267864456\\n2012-07-08T00:00:00+00:00 13.40638724540499\\n2012-07-09T00:00:00+00:00 13.255969800716052\\n2012-07-10T00:00:00+00:00 13.100859316684165\\n2012-07-11T00:00:00+00:00 12.956713602666204\\n2012-07-12T00:00:00+00:00 12.7865242598193\\n2012-07-13T00:00:00+00:00 12.613408989091294\\n2012-07-14T00:00:00+00:00 12.495752850573899\\n2012-07-15T00:00:00+00:00 12.401359793143387\\n2012-07-16T00:00:00+00:00 12.299641943938202\\n2012-07-17T00:00:00+00:00 12.169867291237084\\n2012-07-18T00:00:00+00:00 12.066893473219155\\n2012-07-19T00:00:00+00:00 11.9873075005839\\n2012-07-20T00:00:00+00:00 11.860303257631559\\n2012-07-21T00:00:00+00:00 11.747618400411573\\n2012-07-22T00:00:00+00:00 11.671980488249968\\n2012-07-23T00:00:00+00:00 11.597728160092322\\n2012-07-24T00:00:00+00:00 11.549717713404505\\n2012-07-25T00:00:00+00:00 11.494146066585953\\n2012-07-26T00:00:00+00:00 11.443607841423901\\n2012-07-27T00:00:00+00:00 11.417943477608702\\n2012-07-28T00:00:00+00:00 11.425361518076661\\n2012-07-29T00:00:00+00:00 11.461440110937174\\n2012-07-30T00:00:00+00:00 11.46118020473245\\n2012-07-31T00:00:00+00:00 11.462767472357626\\n2012-08-01T00:00:00+00:00 11.472461584983895\\n2012-08-02T00:00:00+00:00 11.50224958279099\\n2012-08-03T00:00:00+00:00 11.54183331382583\\n2012-08-04T00:00:00+00:00 11.573492991391122\\n2012-08-05T00:00:00+00:00 11.574297468031563\\n2012-08-06T00:00:00+00:00 11.557438147889977\\n2012-08-07T00:00:00+00:00 11.520845354560338\\n2012-08-08T00:00:00+00:00 11.520137739355961\\n2012-08-09T00:00:00+00:00 11.514691838860418\\n2012-08-10T00:00:00+00:00 11.521425932530157\\n2012-08-11T00:00:00+00:00 11.537918425510584\\n2012-08-12T00:00:00+00:00 11.533858446601782\\n2012-08-13T00:00:00+00:00 11.5371375930127\\n2012-08-14T00:00:00+00:00 11.546985653679231\\n2012-08-15T00:00:00+00:00 11.569995162650901\\n2012-08-16T00:00:00+00:00 11.563604060744774\\n2012-08-17T00:00:00+00:00 11.538344106173522\\n2012-08-18T00:00:00+00:00 11.499748375086266\\n2012-08-19T00:00:00+00:00 11.460538483504815\\n2012-08-20T00:00:00+00:00 11.43617406997246\\n2012-08-21T00:00:00+00:00 11.433879923731306\\n2012-08-22T00:00:00+00:00 11.427440531360963\\n2012-08-23T00:00:00+00:00 11.416268751132337\\n2012-08-24T00:00:00+00:00 11.38127344082389\\n2012-08-25T00:00:00+00:00 11.329082596868183\\n2012-08-26T00:00:00+00:00 11.325145687712592\\n2012-08-27T00:00:00+00:00 11.294535228409833\\n2012-08-28T00:00:00+00:00 11.322436249463424\\n2012-08-29T00:00:00+00:00 11.371734204592723\\n2012-08-30T00:00:00+00:00 11.433916411428724\\n2012-08-31T00:00:00+00:00 11.529642534279246\\n2012-09-01T00:00:00+00:00 11.598414034999742\\n2012-09-02T00:00:00+00:00 11.688317452052278\\n2012-09-03T00:00:00+00:00 11.79047464454976\\n2012-09-04T00:00:00+00:00 11.888564214208623\\n2012-09-05T00:00:00+00:00 12.03326899590398\\n2012-09-06T00:00:00+00:00 12.174516972967643\\n2012-09-07T00:00:00+00:00 12.305848402605468\\n2012-09-08T00:00:00+00:00 12.458445843762691\\n2012-09-09T00:00:00+00:00 12.570689292463193\\n2012-09-10T00:00:00+00:00 12.694576209812366\\n2012-09-11T00:00:00+00:00 12.84261020450544\\n2012-09-12T00:00:00+00:00 12.945886358153809\\n2012-09-13T00:00:00+00:00 13.02331500504438\\n2012-09-14T00:00:00+00:00 13.080399032870732\\n2012-09-15T00:00:00+00:00 13.186969820507553\\n2012-09-16T00:00:00+00:00 13.289492729240242\\n2012-09-17T00:00:00+00:00 13.381263108577851\\n2012-09-18T00:00:00+00:00 13.474361157462702\\n2012-09-19T00:00:00+00:00 13.547596577108687\\n2012-09-20T00:00:00+00:00 13.609337685013148\\n2012-09-21T00:00:00+00:00 13.686429451368905\\n2012-09-22T00:00:00+00:00 13.776800126614445\\n2012-09-23T00:00:00+00:00 13.85990721066781\\n2012-09-24T00:00:00+00:00 13.941901822571118\\n2012-09-25T00:00:00+00:00 14.01040723348564\\n2012-09-26T00:00:00+00:00 14.076041955426227\\n2012-09-27T00:00:00+00:00 14.11627735423377\\n2012-09-28T00:00:00+00:00 14.15408026668966\\n2012-09-29T00:00:00+00:00 14.174716899348583\\n2012-09-30T00:00:00+00:00 14.20880329323882\\n2012-10-01T00:00:00+00:00 14.25723774143227\\n2012-10-02T00:00:00+00:00 14.298529505627462\\n2012-10-03T00:00:00+00:00 14.36906932598975\\n2012-10-04T00:00:00+00:00 14.457993276261483\\n2012-10-05T00:00:00+00:00 14.582863402475368\\n2012-10-06T00:00:00+00:00 14.721018282450315\\n2012-10-07T00:00:00+00:00 14.834079142807443\\n2012-10-08T00:00:00+00:00 14.92374682868112\\n2012-10-09T00:00:00+00:00 14.976973334063777\\n2012-10-10T00:00:00+00:00 15.007559549690482\\n2012-10-11T00:00:00+00:00 15.030518256051845\\n2012-10-12T00:00:00+00:00 15.072261372757366\\n2012-10-13T00:00:00+00:00 15.129357217901998\\n2012-10-14T00:00:00+00:00 15.161475842777987\\n2012-10-15T00:00:00+00:00 15.201661928297774\\n2012-10-16T00:00:00+00:00 15.249201694334984\\n2012-10-17T00:00:00+00:00 15.305081924970903\\n2012-10-18T00:00:00+00:00 15.376780193270998\\n2012-10-19T00:00:00+00:00 15.432333467763094\\n2012-10-20T00:00:00+00:00 15.468912452059879\\n2012-10-21T00:00:00+00:00 15.49266719951711\\n2012-10-22T00:00:00+00:00 15.531395513332454\\n2012-10-23T00:00:00+00:00 15.615729211158556\\n2012-10-24T00:00:00+00:00 15.688198971048287\\n2012-10-25T00:00:00+00:00 15.708583349780957\\n2012-10-26T00:00:00+00:00 15.721373943389784\\n2012-10-27T00:00:00+00:00 15.731647919991115\\n2012-10-28T00:00:00+00:00 15.756918224043284\\n2012-10-29T00:00:00+00:00 15.77067445866604\\n2012-10-30T00:00:00+00:00 15.773708236680108\\n2012-10-31T00:00:00+00:00 15.789592834923305\\n2012-11-01T00:00:00+00:00 15.767234198000137\\n2012-11-02T00:00:00+00:00 15.739626664107243\\n2012-11-03T00:00:00+00:00 15.729698158701018\\n2012-11-04T00:00:00+00:00 15.709691683952562\\n2012-11-05T00:00:00+00:00 15.737767947705034\\n2012-11-06T00:00:00+00:00 15.752130253529437\\n2012-11-07T00:00:00+00:00 15.743955635024754\\n2012-11-08T00:00:00+00:00 15.764185065475152\\n2012-11-09T00:00:00+00:00 15.799116134428688\\n2012-11-10T00:00:00+00:00 15.801663000437681\\n2012-11-11T00:00:00+00:00 15.811898075321398\\n2012-11-12T00:00:00+00:00 15.814205183686372\\n2012-11-13T00:00:00+00:00 15.81219093410213\\n2012-11-14T00:00:00+00:00 15.802948911276651\\n2012-11-15T00:00:00+00:00 15.78990828535587\\n2012-11-16T00:00:00+00:00 15.755734516795034\\n2012-11-17T00:00:00+00:00 15.73640794808332\\n2012-11-18T00:00:00+00:00 15.695273832793863\\n2012-11-19T00:00:00+00:00 15.637939104023861\\n2012-11-20T00:00:00+00:00 15.577753278700271\\n2012-11-21T00:00:00+00:00 15.534654714106267\\n2012-11-22T00:00:00+00:00 15.503867344776246\\n2012-11-23T00:00:00+00:00 15.480756116339554\\n2012-11-24T00:00:00+00:00 15.443701554440208\\n2012-11-25T00:00:00+00:00 15.369789644575224\\n2012-11-26T00:00:00+00:00 15.282546717569709\\n2012-11-27T00:00:00+00:00 15.202075640129205\\n2012-11-28T00:00:00+00:00 15.118185331998907\\n2012-11-29T00:00:00+00:00 15.00115715905376\\n2012-11-30T00:00:00+00:00 14.858982593566688\\n2012-12-01T00:00:00+00:00 14.730766466393096\\n2012-12-02T00:00:00+00:00 14.602279647262057\\n2012-12-03T00:00:00+00:00 14.471236514920447\\n2012-12-04T00:00:00+00:00 14.332861372762812\\n2012-12-05T00:00:00+00:00 14.188722482280847\\n2012-12-06T00:00:00+00:00 14.040328557225841\\n2012-12-07T00:00:00+00:00 13.929904155019758\\n2012-12-08T00:00:00+00:00 13.831884850465679\\n2012-12-09T00:00:00+00:00 13.789786262476172\\n2012-12-10T00:00:00+00:00 13.757175405601242\\n2012-12-11T00:00:00+00:00 13.719790607669726\\n2012-12-12T00:00:00+00:00 13.666762970230376\\n2012-12-13T00:00:00+00:00 13.635081119980944\\n2012-12-14T00:00:00+00:00 13.610726801414206\\n2012-12-15T00:00:00+00:00 13.588370504489971\\n2012-12-16T00:00:00+00:00 13.575497989360118\\n2012-12-17T00:00:00+00:00 13.556768961887004\\n2012-12-18T00:00:00+00:00 13.527612370814913\\n2012-12-19T00:00:00+00:00 13.478982316391942\\n2012-12-20T00:00:00+00:00 13.476547358287668\\n2012-12-21T00:00:00+00:00 13.448984690147686\\n2012-12-22T00:00:00+00:00 13.409433193543434\\n2012-12-23T00:00:00+00:00 13.399742194551957\\n2012-12-24T00:00:00+00:00 13.386933600535908\\n2012-12-25T00:00:00+00:00 13.393285170307383\\n2012-12-26T00:00:00+00:00 13.404545849719188\\n2012-12-27T00:00:00+00:00 13.398142425469945\\n2012-12-28T00:00:00+00:00 13.41488805552468\\n2012-12-29T00:00:00+00:00 13.383724467431641\\n2012-12-30T00:00:00+00:00 13.338598006898703\\n2012-12-31T00:00:00+00:00 13.288783474959818\\n2013-01-01T00:00:00+00:00 13.247144233450197\\n2013-01-02T00:00:00+00:00 13.216837128887455\\n2013-01-03T00:00:00+00:00 13.164165872143121\\n2013-01-04T00:00:00+00:00 13.065851932850855\\n2013-01-05T00:00:00+00:00 12.974385035843254\\n2013-01-06T00:00:00+00:00 12.88575192105755\\n2013-01-07T00:00:00+00:00 12.75128021586679\\n2013-01-08T00:00:00+00:00 12.596721453313894\\n2013-01-09T00:00:00+00:00 12.450129493427916\\n2013-01-10T00:00:00+00:00 12.333061670370167\\n2013-01-11T00:00:00+00:00 12.219535809085986\\n2013-01-12T00:00:00+00:00 12.085748695269475\\n2013-01-13T00:00:00+00:00 11.948871405971524\\n2013-01-14T00:00:00+00:00 11.843273339927736\\n2013-01-15T00:00:00+00:00 11.749050740899358\\n2013-01-16T00:00:00+00:00 11.669970123291764\\n2013-01-17T00:00:00+00:00 11.597959665400422\\n2013-01-18T00:00:00+00:00 11.51048736352941\\n2013-01-19T00:00:00+00:00 11.409511555999801\\n2013-01-20T00:00:00+00:00 11.278216494971288\\n2013-01-21T00:00:00+00:00 11.114878086277397\\n2013-01-22T00:00:00+00:00 10.962109566612112\\n2013-01-23T00:00:00+00:00 10.821412120256245\\n2013-01-24T00:00:00+00:00 10.730544511222917\\n2013-01-25T00:00:00+00:00 10.63443204618132\\n2013-01-26T00:00:00+00:00 10.518820270172755\\n2013-01-27T00:00:00+00:00 10.382016506673567\\n2013-01-28T00:00:00+00:00 10.249447149144332\\n2013-01-29T00:00:00+00:00 10.143001457305811\\n2013-01-30T00:00:00+00:00 10.004607294621094\\n2013-01-31T00:00:00+00:00 9.850349625473477\\n2013-02-01T00:00:00+00:00 9.726046690686983\\n2013-02-02T00:00:00+00:00 9.607160934647203\\n2013-02-03T00:00:00+00:00 9.508604410784276\\n2013-02-04T00:00:00+00:00 9.412566374928376\\n2013-02-05T00:00:00+00:00 9.272758239743263\\n2013-02-06T00:00:00+00:00 9.143544982168484\\n2013-02-07T00:00:00+00:00 8.99924425493327\\n2013-02-08T00:00:00+00:00 8.856162156615536\\n2013-02-09T00:00:00+00:00 8.734377430923024\\n2013-02-10T00:00:00+00:00 8.6159489100996\\n2013-02-11T00:00:00+00:00 8.494707097613151\\n2013-02-12T00:00:00+00:00 8.38164845891504\\n2013-02-13T00:00:00+00:00 8.292571356009484\\n2013-02-14T00:00:00+00:00 8.20401891877024\\n2013-02-15T00:00:00+00:00 8.122679322544961\\n2013-02-16T00:00:00+00:00 8.035101101594798\\n2013-02-17T00:00:00+00:00 7.948257781668999\\n2013-02-18T00:00:00+00:00 7.8431540280080165\\n2013-02-19T00:00:00+00:00 7.760829877917684\\n2013-02-20T00:00:00+00:00 7.648427941113646\\n2013-02-21T00:00:00+00:00 7.549617355395342\\n2013-02-22T00:00:00+00:00 7.493045550057478\\n2013-02-23T00:00:00+00:00 7.4350444765363815\\n2013-02-24T00:00:00+00:00 7.354850341281102\\n2013-02-25T00:00:00+00:00 7.278709475261532\\n2013-02-26T00:00:00+00:00 7.209719623088429\\n2013-02-27T00:00:00+00:00 7.1862863951527824\\n2013-02-28T00:00:00+00:00 7.197009402784318\\n2013-03-01T00:00:00+00:00 7.23999816992568\\n2013-03-02T00:00:00+00:00 7.277646252189921\\n2013-03-03T00:00:00+00:00 7.312182056588056\\n2013-03-04T00:00:00+00:00 7.345898866261748\\n2013-03-05T00:00:00+00:00 7.417302173265479\\n2013-03-06T00:00:00+00:00 7.490418768596233\\n2013-03-07T00:00:00+00:00 7.5340918798299015\\n2013-03-08T00:00:00+00:00 7.602478090244639\\n2013-03-09T00:00:00+00:00 7.7203107225125995\\n2013-03-10T00:00:00+00:00 7.828333537281848\\n2013-03-11T00:00:00+00:00 7.939307653387503\\n2013-03-12T00:00:00+00:00 8.078528935967686\\n2013-03-13T00:00:00+00:00 8.27241771636562\\n2013-03-14T00:00:00+00:00 8.472340724648527\\n2013-03-15T00:00:00+00:00 8.622535294597999\\n2013-03-16T00:00:00+00:00 8.757207933518698\\n2013-03-17T00:00:00+00:00 8.882643176233554\\n2013-03-18T00:00:00+00:00 9.02989499395896\\n2013-03-19T00:00:00+00:00 9.21461648678145\\n2013-03-20T00:00:00+00:00 9.40031810082912\\n2013-03-21T00:00:00+00:00 9.591412436616155\\n2013-03-22T00:00:00+00:00 9.820843035375676\\n2013-03-23T00:00:00+00:00 10.024093200748883\\n2013-03-24T00:00:00+00:00 10.2070436133431\\n2013-03-25T00:00:00+00:00 10.337771324493303\\n2013-03-26T00:00:00+00:00 10.498563681038956\\n2013-03-27T00:00:00+00:00 10.663489440567643\\n2013-03-28T00:00:00+00:00 10.814186143318489\\n2013-03-29T00:00:00+00:00 10.969217127834893\\n2013-03-30T00:00:00+00:00 11.081004254423929\\n2013-03-31T00:00:00+00:00 11.208268699659616\\n2013-04-01T00:00:00+00:00 11.340931826325429\\n2013-04-02T00:00:00+00:00 11.446251612174658\\n2013-04-03T00:00:00+00:00 11.521014918471515\\n2013-04-04T00:00:00+00:00 11.555750992711555\\n2013-04-05T00:00:00+00:00 11.599756443837675\\n2013-04-06T00:00:00+00:00 11.665020219814632\\n2013-04-07T00:00:00+00:00 11.705434715154707\\n2013-04-08T00:00:00+00:00 11.71666973400023\\n2013-04-09T00:00:00+00:00 11.695941015727461\\n2013-04-10T00:00:00+00:00 11.661476135693741\\n2013-04-11T00:00:00+00:00 11.619122872153712\\n2013-04-12T00:00:00+00:00 11.588803577856085\\n2013-04-13T00:00:00+00:00 11.555140738560024\\n2013-04-14T00:00:00+00:00 11.532001023278735\\n2013-04-15T00:00:00+00:00 11.492804786045118\\n2013-04-16T00:00:00+00:00 11.439630714216062\\n2013-04-17T00:00:00+00:00 11.390187044224204\\n2013-04-18T00:00:00+00:00 11.349130781370336\\n2013-04-19T00:00:00+00:00 11.315553522249365\\n2013-04-20T00:00:00+00:00 11.293938616866951\\n2013-04-21T00:00:00+00:00 11.26798469333496\\n2013-04-22T00:00:00+00:00 11.217067416510707\\n2013-04-23T00:00:00+00:00 11.153625858094738\\n2013-04-24T00:00:00+00:00 11.112897000047672\\n2013-04-25T00:00:00+00:00 11.075506461456103\\n2013-04-26T00:00:00+00:00 11.031601777459827\\n2013-04-27T00:00:00+00:00 10.971368866016451\\n2013-04-28T00:00:00+00:00 10.902291478943386\\n2013-04-29T00:00:00+00:00 10.802336804779163\\n2013-04-30T00:00:00+00:00 10.653542672278729\\n2013-05-01T00:00:00+00:00 10.524754857667505\\n2013-05-02T00:00:00+00:00 10.378414884124952\\n2013-05-03T00:00:00+00:00 10.231947287673597\\n2013-05-04T00:00:00+00:00 10.093280038312152\\n2013-05-05T00:00:00+00:00 9.975779246959545\\n2013-05-06T00:00:00+00:00 9.895811217320146\\n2013-05-07T00:00:00+00:00 9.813821541700861\\n2013-05-08T00:00:00+00:00 9.686455868524254\\n2013-05-09T00:00:00+00:00 9.567768046577834\\n2013-05-10T00:00:00+00:00 9.401190339164003\\n2013-05-11T00:00:00+00:00 9.232768997187941\\n2013-05-12T00:00:00+00:00 9.018628253726343\\n2013-05-13T00:00:00+00:00 8.82330928831196\\n2013-05-14T00:00:00+00:00 8.64045485458163\\n2013-05-15T00:00:00+00:00 8.489082470531027\\n2013-05-16T00:00:00+00:00 8.36005960943522\\n2013-05-17T00:00:00+00:00 8.227478042204831\\n2013-05-18T00:00:00+00:00 8.099433070988145\\n2013-05-19T00:00:00+00:00 7.957473855636192\\n2013-05-20T00:00:00+00:00 7.825799774737991\\n2013-05-21T00:00:00+00:00 7.676304284216148\\n2013-05-22T00:00:00+00:00 7.5243181088289806\\n2013-05-23T00:00:00+00:00 7.376815083163775\\n2013-05-24T00:00:00+00:00 7.240093775541521\\n2013-05-25T00:00:00+00:00 7.099382777595855\\n2013-05-26T00:00:00+00:00 6.942602388486342\\n2013-05-27T00:00:00+00:00 6.83104592597868\\n2013-05-28T00:00:00+00:00 6.735428994357801\\n2013-05-29T00:00:00+00:00 6.655375839593369\\n2013-05-30T00:00:00+00:00 6.533111581831431\\n2013-05-31T00:00:00+00:00 6.382242045454187\\n2013-06-01T00:00:00+00:00 6.245188104694329\\n2013-06-02T00:00:00+00:00 6.183118985609307\\n2013-06-03T00:00:00+00:00 6.146894442266572\\n2013-06-04T00:00:00+00:00 6.090534177269125\\n2013-06-05T00:00:00+00:00 6.04908932866788\\n2013-06-06T00:00:00+00:00 6.038365312023134\\n2013-06-07T00:00:00+00:00 6.026155012810226\\n2013-06-08T00:00:00+00:00 6.03486083960806\\n2013-06-09T00:00:00+00:00 6.035188828257839\\n2013-06-10T00:00:00+00:00 6.052800089283279\\n2013-06-11T00:00:00+00:00 6.0870916941474285\\n2013-06-12T00:00:00+00:00 6.102470535874851\\n2013-06-13T00:00:00+00:00 6.094378970454818\\n2013-06-14T00:00:00+00:00 6.076605013650962\\n2013-06-15T00:00:00+00:00 6.108459100985431\\n2013-06-16T00:00:00+00:00 6.168101091017618\\n2013-06-17T00:00:00+00:00 6.209890927010512\\n2013-06-18T00:00:00+00:00 6.249442929502043\\n2013-06-19T00:00:00+00:00 6.2510103627782865\\n2013-06-20T00:00:00+00:00 6.262733899445837\\n2013-06-21T00:00:00+00:00 6.281518383505741\\n2013-06-22T00:00:00+00:00 6.2808806561517985\\n2013-06-23T00:00:00+00:00 6.257619181459626\\n2013-06-24T00:00:00+00:00 6.2197331621176515\\n2013-06-25T00:00:00+00:00 6.210862105851472\\n2013-06-26T00:00:00+00:00 6.208268271974242\\n2013-06-27T00:00:00+00:00 6.2088545018709755\\n2013-06-28T00:00:00+00:00 6.218378908217027\\n2013-06-29T00:00:00+00:00 6.264764500432089\\n2013-06-30T00:00:00+00:00 6.267975969013737\\n2013-07-01T00:00:00+00:00 6.307304038604589\\n2013-07-02T00:00:00+00:00 6.398638533097784\\n2013-07-03T00:00:00+00:00 6.455529136983842\\n2013-07-04T00:00:00+00:00 6.4771224714579\\n2013-07-05T00:00:00+00:00 6.503974408078699\\n2013-07-06T00:00:00+00:00 6.513765500005011\\n2013-07-07T00:00:00+00:00 6.558825944348287\\n2013-07-08T00:00:00+00:00 6.613241806452071\\n2013-07-09T00:00:00+00:00 6.700428193143835\\n2013-07-10T00:00:00+00:00 6.787484205098502\\n2013-07-11T00:00:00+00:00 6.896006553876349\\n2013-07-12T00:00:00+00:00 6.990045424980044\\n2013-07-13T00:00:00+00:00 7.118254293786182\\n2013-07-14T00:00:00+00:00 7.252368732721409\\n2013-07-15T00:00:00+00:00 7.3838237423515\\n2013-07-16T00:00:00+00:00 7.475158716355302\\n2013-07-17T00:00:00+00:00 7.530437718071192\\n2013-07-18T00:00:00+00:00 7.581852802726164\\n2013-07-19T00:00:00+00:00 7.62461727668574\\n2013-07-20T00:00:00+00:00 7.635043750860821\\n2013-07-21T00:00:00+00:00 7.627371966876286\\n2013-07-22T00:00:00+00:00 7.579976077466868\\n2013-07-23T00:00:00+00:00 7.543192009633825\\n2013-07-24T00:00:00+00:00 7.4908844343716945\\n2013-07-25T00:00:00+00:00 7.470642258895096\\n2013-07-26T00:00:00+00:00 7.4366786256958335\\n2013-07-27T00:00:00+00:00 7.406267331716284\\n2013-07-28T00:00:00+00:00 7.3684359572132285\\n2013-07-29T00:00:00+00:00 7.374275130867821\\n2013-07-30T00:00:00+00:00 7.406629747069316\\n2013-07-31T00:00:00+00:00 7.408328121389806\\n2013-08-01T00:00:00+00:00 7.37427885894539\\n2013-08-02T00:00:00+00:00 7.334882903116287\\n2013-08-03T00:00:00+00:00 7.324311595890597\\n2013-08-04T00:00:00+00:00 7.289252154871384\\n2013-08-05T00:00:00+00:00 7.241294331708116\\n2013-08-06T00:00:00+00:00 7.187397362231844\\n2013-08-07T00:00:00+00:00 7.130427941407295\\n2013-08-08T00:00:00+00:00 7.075896927605139\\n2013-08-09T00:00:00+00:00 6.9880852144332515\\n2013-08-10T00:00:00+00:00 6.881152487484681\\n2013-08-11T00:00:00+00:00 6.79660547045563\\n2013-08-12T00:00:00+00:00 6.733432145577138\\n2013-08-13T00:00:00+00:00 6.68003386006014\\n2013-08-14T00:00:00+00:00 6.583447251067761\\n2013-08-15T00:00:00+00:00 6.4791332881790185\\n2013-08-16T00:00:00+00:00 6.415997215223461\\n2013-08-17T00:00:00+00:00 6.364304249808452\\n2013-08-18T00:00:00+00:00 6.323161973965951\\n2013-08-19T00:00:00+00:00 6.284031051888909\\n2013-08-20T00:00:00+00:00 6.277009745591031\\n2013-08-21T00:00:00+00:00 6.2788459577339495\\n2013-08-22T00:00:00+00:00 6.273945874494924\\n2013-08-23T00:00:00+00:00 6.321602466273051\\n2013-08-24T00:00:00+00:00 6.314475179535998\\n2013-08-25T00:00:00+00:00 6.305036473101569\\n2013-08-26T00:00:00+00:00 6.302788373384069\\n2013-08-27T00:00:00+00:00 6.293458976944924\\n2013-08-28T00:00:00+00:00 6.2810536798184575\\n2013-08-29T00:00:00+00:00 6.265889475365823\\n2013-08-30T00:00:00+00:00 6.230004557165117\\n2013-08-31T00:00:00+00:00 6.150102180904654\\n2013-09-01T00:00:00+00:00 6.083942055515288\\n2013-09-02T00:00:00+00:00 6.04199254650433\\n2013-09-03T00:00:00+00:00 5.996769570178943\\n2013-09-04T00:00:00+00:00 5.992009674043038\\n2013-09-05T00:00:00+00:00 5.977486459652303\\n2013-09-06T00:00:00+00:00 5.983674760486581\\n2013-09-07T00:00:00+00:00 5.9675557448767025\\n2013-09-08T00:00:00+00:00 5.940467657532647\\n2013-09-09T00:00:00+00:00 5.912833842431039\\n2013-09-10T00:00:00+00:00 5.8703396886268475\\n2013-09-11T00:00:00+00:00 5.841011145951504\\n2013-09-12T00:00:00+00:00 5.757899499194646\\n2013-09-13T00:00:00+00:00 5.667701565716153\\n2013-09-14T00:00:00+00:00 5.60495242459464\\n2013-09-15T00:00:00+00:00 5.550013045769843\\n2013-09-16T00:00:00+00:00 5.490598515542515\\n2013-09-17T00:00:00+00:00 5.430318451896457\\n2013-09-18T00:00:00+00:00 5.387369344416573\\n2013-09-19T00:00:00+00:00 5.372013015699707\\n2013-09-20T00:00:00+00:00 5.393140389100109\\n2013-09-21T00:00:00+00:00 5.4259317117491594\\n2013-09-22T00:00:00+00:00 5.466252394423165\\n2013-09-23T00:00:00+00:00 5.471877162131025\\n2013-09-24T00:00:00+00:00 5.476582461779434\\n2013-09-25T00:00:00+00:00 5.477711699393774\\n2013-09-26T00:00:00+00:00 5.510717486605427\\n2013-09-27T00:00:00+00:00 5.523704569387632\\n2013-09-28T00:00:00+00:00 5.51681085299962\\n2013-09-29T00:00:00+00:00 5.494678083654239\\n2013-09-30T00:00:00+00:00 5.447128447286021\\n2013-10-01T00:00:00+00:00 5.397456194356494\\n2013-10-02T00:00:00+00:00 5.3303431520863755\\n2013-10-03T00:00:00+00:00 5.256035231289094\\n2013-10-04T00:00:00+00:00 5.177856757433982\\n2013-10-05T00:00:00+00:00 5.117750018608086\\n2013-10-06T00:00:00+00:00 5.056088305620448\\n2013-10-07T00:00:00+00:00 4.97960394150847\\n2013-10-08T00:00:00+00:00 4.9599646231286245\\n2013-10-09T00:00:00+00:00 4.900289245338974\\n2013-10-10T00:00:00+00:00 4.832895295054558\\n2013-10-11T00:00:00+00:00 4.763314752550515\\n2013-10-12T00:00:00+00:00 4.696605418912037\\n2013-10-13T00:00:00+00:00 4.649253558620476\\n2013-10-14T00:00:00+00:00 4.585158998198981\\n2013-10-15T00:00:00+00:00 4.49594160143958\\n2013-10-16T00:00:00+00:00 4.38342230994259\\n2013-10-17T00:00:00+00:00 4.312553650797491\\n2013-10-18T00:00:00+00:00 4.222871041274\\n2013-10-19T00:00:00+00:00 4.123257335540986\\n2013-10-20T00:00:00+00:00 4.025587978906804\\n2013-10-21T00:00:00+00:00 3.94992768092666\\n2013-10-22T00:00:00+00:00 3.8443467149590536\\n2013-10-23T00:00:00+00:00 3.7688770262330267\\n2013-10-24T00:00:00+00:00 3.6684276926676325\\n2013-10-25T00:00:00+00:00 3.535202678692348\\n2013-10-26T00:00:00+00:00 3.4041941506389977\\n2013-10-27T00:00:00+00:00 3.289435021593362\\n2013-10-28T00:00:00+00:00 3.19937438966782\\n2013-10-29T00:00:00+00:00 3.12091256647673\\n2013-10-30T00:00:00+00:00 3.061242271794731\\n2013-10-31T00:00:00+00:00 2.99335872517571\\n2013-11-01T00:00:00+00:00 2.9385282216818513\\n2013-11-02T00:00:00+00:00 2.884056288267039\\n2013-11-03T00:00:00+00:00 2.800989762146616\\n2013-11-04T00:00:00+00:00 2.6876438087264893\\n2013-11-05T00:00:00+00:00 2.5501677935892575\\n2013-11-06T00:00:00+00:00 2.416317772238865\\n2013-11-07T00:00:00+00:00 2.273584631954643\\n2013-11-08T00:00:00+00:00 2.129871119176053\\n2013-11-09T00:00:00+00:00 1.9878262708466339\\n2013-11-10T00:00:00+00:00 1.842071701743494\\n2013-11-11T00:00:00+00:00 1.7030224652228247\\n2013-11-12T00:00:00+00:00 1.5339132404747482\\n2013-11-13T00:00:00+00:00 1.361714777612108\\n2013-11-14T00:00:00+00:00 1.198284087669292\\n2013-11-15T00:00:00+00:00 1.040967012328389\\n2013-11-16T00:00:00+00:00 0.895998082974004\\n2013-11-17T00:00:00+00:00 0.790660836194702\\n2013-11-18T00:00:00+00:00 0.690587393700877\\n2013-11-19T00:00:00+00:00 0.5999958136881565\\n2013-11-20T00:00:00+00:00 0.4995664131212939\\n2013-11-21T00:00:00+00:00 0.3807165804766101\\n2013-11-22T00:00:00+00:00 0.2755623590654189\\n2013-11-23T00:00:00+00:00 0.17560498762561375\\n2013-11-24T00:00:00+00:00 0.068724508682728\\n2013-11-25T00:00:00+00:00 -0.09007005808052995\\n2013-11-26T00:00:00+00:00 -0.2609874782392492\\n2013-11-27T00:00:00+00:00 -0.446545338077532\\n2013-11-28T00:00:00+00:00 -0.5968501152852235\\n2013-11-29T00:00:00+00:00 -0.7570114318582191\\n2013-11-30T00:00:00+00:00 -0.9264863315311638\\n2013-12-01T00:00:00+00:00 -1.0823823809193995\\n2013-12-02T00:00:00+00:00 -1.2147250874502251\\n2013-12-03T00:00:00+00:00 -1.3374754071268498\\n2013-12-04T00:00:00+00:00 -1.4501151256760623\\n2013-12-05T00:00:00+00:00 -1.5284118827269089\\n2013-12-06T00:00:00+00:00 -1.6220309891059896\\n2013-12-07T00:00:00+00:00 -1.7315651398427137\\n2013-12-08T00:00:00+00:00 -1.8008952079872098\\n2013-12-09T00:00:00+00:00 -1.8501213374839316\\n2013-12-10T00:00:00+00:00 -1.8776967521009766\\n2013-12-11T00:00:00+00:00 -1.8732218902802804\\n2013-12-12T00:00:00+00:00 -1.9060974874629115\\n2013-12-13T00:00:00+00:00 -1.9304475621742578\\n2013-12-14T00:00:00+00:00 -1.9477052309743115\\n2013-12-15T00:00:00+00:00 -1.9678130335493293\\n2013-12-16T00:00:00+00:00 -1.994886730113869\\n2013-12-17T00:00:00+00:00 -1.9427219938550728\\n2013-12-18T00:00:00+00:00 -1.9098194387085958\\n2013-12-19T00:00:00+00:00 -1.8753024295653224\\n2013-12-20T00:00:00+00:00 -1.8734698695011536\\n2013-12-21T00:00:00+00:00 -1.8615784854234063\\n2013-12-22T00:00:00+00:00 -1.8553722886286446\\n2013-12-23T00:00:00+00:00 -1.8365296631821109\\n2013-12-24T00:00:00+00:00 -1.815746463757216\\n2013-12-25T00:00:00+00:00 -1.7894265058757337\\n2013-12-26T00:00:00+00:00 -1.773487099803691\\n2013-12-27T00:00:00+00:00 -1.7400569381037385\\n2013-12-28T00:00:00+00:00 -1.7011068795693067\\n2013-12-29T00:00:00+00:00 -1.6696757238866715\\n2013-12-30T00:00:00+00:00 -1.649659899916901\\n2013-12-31T00:00:00+00:00 -1.6647278162429606\\n2014-01-01T00:00:00+00:00 -1.6594981815998735\\n2014-01-02T00:00:00+00:00 -1.64624209180588\\n2014-01-03T00:00:00+00:00 -1.6114877570215933\\n2014-01-04T00:00:00+00:00 -1.5653781862315594\\n2014-01-05T00:00:00+00:00 -1.5197711972275805\\n2014-01-06T00:00:00+00:00 -1.4488385237247456\\n2014-01-07T00:00:00+00:00 -1.3904847066150026\\n2014-01-08T00:00:00+00:00 -1.3256709389064052\\n2014-01-09T00:00:00+00:00 -1.3020587181593195\\n2014-01-10T00:00:00+00:00 -1.2593291457116362\\n2014-01-11T00:00:00+00:00 -1.212742348269405\\n2014-01-12T00:00:00+00:00 -1.1496719263780586\\n2014-01-13T00:00:00+00:00 -1.0897481712578512\\n2014-01-14T00:00:00+00:00 -1.0344451788121165\\n2014-01-15T00:00:00+00:00 -1.0011275028976372\\n2014-01-16T00:00:00+00:00 -1.0216365524009496\\n2014-01-17T00:00:00+00:00 -1.0353818199603373\\n2014-01-18T00:00:00+00:00 -1.0507702146312459\\n2014-01-19T00:00:00+00:00 -1.0891951117322598\\n2014-01-20T00:00:00+00:00 -1.1356193197531457\\n2014-01-21T00:00:00+00:00 -1.1789265423844348\\n2014-01-22T00:00:00+00:00 -1.2334418995582046\\n2014-01-23T00:00:00+00:00 -1.2802039889042782\\n2014-01-24T00:00:00+00:00 -1.3101915581315464\\n2014-01-25T00:00:00+00:00 -1.3179792810965338\\n2014-01-26T00:00:00+00:00 -1.2969715619335311\\n2014-01-27T00:00:00+00:00 -1.303817672196663\\n2014-01-28T00:00:00+00:00 -1.3029010401614733\\n2014-01-29T00:00:00+00:00 -1.2597027035161699\\n2014-01-30T00:00:00+00:00 -1.2383863504890058\\n2014-01-31T00:00:00+00:00 -1.2229345474362499\\n2014-02-01T00:00:00+00:00 -1.1670810584502689\\n2014-02-02T00:00:00+00:00 -1.113496691330061\\n2014-02-03T00:00:00+00:00 -1.0806987746082999\\n2014-02-04T00:00:00+00:00 -0.9872470565189151\\n2014-02-05T00:00:00+00:00 -0.9228642555944319\\n2014-02-06T00:00:00+00:00 -0.8546901834435146\\n2014-02-07T00:00:00+00:00 -0.831367465751567\\n2014-02-08T00:00:00+00:00 -0.876752741552015\\n2014-02-09T00:00:00+00:00 -0.9737936348741819\\n2014-02-10T00:00:00+00:00 -1.0746798777900346\\n2014-02-11T00:00:00+00:00 -1.1800208263327052\\n2014-02-12T00:00:00+00:00 -1.3088367865267232\\n2014-02-13T00:00:00+00:00 -1.4222764210264824\\n2014-02-14T00:00:00+00:00 -1.5428072523053007\\n2014-02-15T00:00:00+00:00 -1.7650364011056046\\n2014-02-16T00:00:00+00:00 -2.0021484979552753\\n2014-02-17T00:00:00+00:00 -2.2336141647406804\\n2014-02-18T00:00:00+00:00 -2.4148144579173336\\n2014-02-19T00:00:00+00:00 -2.5883518152128557\\n2014-02-20T00:00:00+00:00 -2.776605345053221\\n2014-02-21T00:00:00+00:00 -2.983598519663812\\n2014-02-22T00:00:00+00:00 -3.1626796299399516\\n2014-02-23T00:00:00+00:00 -3.348851124977693\\n2014-02-24T00:00:00+00:00 -3.5286470707644457\\n2014-02-25T00:00:00+00:00 -3.699899445623842\\n2014-02-26T00:00:00+00:00 -3.902145709481416\\n2014-02-27T00:00:00+00:00 -4.095662717939036\\n2014-02-28T00:00:00+00:00 -4.282042442509109\\n2014-03-01T00:00:00+00:00 -4.445874773357961\\n2014-03-02T00:00:00+00:00 -4.639742635890118\\n2014-03-03T00:00:00+00:00 -4.851447562842958\\n2014-03-04T00:00:00+00:00 -5.104692488780357\\n2014-03-05T00:00:00+00:00 -5.359997476145876\\n2014-03-06T00:00:00+00:00 -5.596571945168404\\n2014-03-07T00:00:00+00:00 -5.836858408371403\\n2014-03-08T00:00:00+00:00 -6.085596089620851\\n2014-03-09T00:00:00+00:00 -6.345042502880944\\n2014-03-10T00:00:00+00:00 -6.597813386757489\\n2014-03-11T00:00:00+00:00 -6.820546762300391\\n2014-03-12T00:00:00+00:00 -7.043555396788545\\n2014-03-13T00:00:00+00:00 -7.271768322150091\\n2014-03-14T00:00:00+00:00 -7.5171940483963\\n2014-03-15T00:00:00+00:00 -7.74445444367294\\n2014-03-16T00:00:00+00:00 -7.962388827996935\\n2014-03-17T00:00:00+00:00 -8.146325316644178\\n2014-03-18T00:00:00+00:00 -8.345535703316733\\n2014-03-19T00:00:00+00:00 -8.530916456110898\\n2014-03-20T00:00:00+00:00 -8.69655650725684\\n2014-03-21T00:00:00+00:00 -8.824717617383753\\n2014-03-22T00:00:00+00:00 -8.923917226947415\\n2014-03-23T00:00:00+00:00 -9.03105350801209\\n2014-03-24T00:00:00+00:00 -9.14484846239557\\n2014-03-25T00:00:00+00:00 -9.258666555919767\\n2014-03-26T00:00:00+00:00 -9.338839284739352\\n2014-03-27T00:00:00+00:00 -9.398488733789963\\n2014-03-28T00:00:00+00:00 -9.393988921670198\\n2014-03-29T00:00:00+00:00 -9.407380247551044\\n2014-03-30T00:00:00+00:00 -9.437330972278339\\n2014-03-31T00:00:00+00:00 -9.446339499762962\\n2014-04-01T00:00:00+00:00 -9.442768505332518\\n2014-04-02T00:00:00+00:00 -9.474428677939233\\n2014-04-03T00:00:00+00:00 -9.492232699512593\\n2014-04-04T00:00:00+00:00 -9.552205087510439\\n2014-04-05T00:00:00+00:00 -9.631463888632792\\n2014-04-06T00:00:00+00:00 -9.722305212450813\\n2014-04-07T00:00:00+00:00 -9.832887076175227\\n2014-04-08T00:00:00+00:00 -9.90448757814888\\n2014-04-09T00:00:00+00:00 -9.95542923551003\\n2014-04-10T00:00:00+00:00 -9.960521647165024\\n2014-04-11T00:00:00+00:00 -9.969059782327113\\n2014-04-12T00:00:00+00:00 -9.976829839483266\\n2014-04-13T00:00:00+00:00 -9.975343043112206\\n2014-04-14T00:00:00+00:00 -9.943189179591469\\n2014-04-15T00:00:00+00:00 -9.919696805495445\\n2014-04-16T00:00:00+00:00 -9.858201690707022\\n2014-04-17T00:00:00+00:00 -9.782950647176225\\n2014-04-18T00:00:00+00:00 -9.720271407361313\\n2014-04-19T00:00:00+00:00 -9.70631710278108\\n2014-04-20T00:00:00+00:00 -9.68079527173182\\n2014-04-21T00:00:00+00:00 -9.623360390953989\\n2014-04-22T00:00:00+00:00 -9.551751397278194\\n2014-04-23T00:00:00+00:00 -9.477685170041495\\n2014-04-24T00:00:00+00:00 -9.408150281300887\\n2014-04-25T00:00:00+00:00 -9.343079052417647\\n2014-04-26T00:00:00+00:00 -9.292876672607935\\n2014-04-27T00:00:00+00:00 -9.224925177711986\\n2014-04-28T00:00:00+00:00 -9.137359232183364\\n2014-04-29T00:00:00+00:00 -9.075880704448343\\n2014-04-30T00:00:00+00:00 -9.011182133335078\\n2014-05-01T00:00:00+00:00 -8.95714531122873\\n2014-05-02T00:00:00+00:00 -8.897556734603977\\n2014-05-03T00:00:00+00:00 -8.815190491138937\\n2014-05-04T00:00:00+00:00 -8.744421474488798\\n2014-05-05T00:00:00+00:00 -8.680576020335543\\n2014-05-06T00:00:00+00:00 -8.598421938691176\\n2014-05-07T00:00:00+00:00 -8.480031591999806\\n2014-05-08T00:00:00+00:00 -8.35012391803517\\n2014-05-09T00:00:00+00:00 -8.178185215988034\\n2014-05-10T00:00:00+00:00 -8.03856758698833\\n2014-05-11T00:00:00+00:00 -7.868659013976065\\n2014-05-12T00:00:00+00:00 -7.698254642314887\\n2014-05-13T00:00:00+00:00 -7.500812387653815\\n2014-05-14T00:00:00+00:00 -7.281169607543645\\n2014-05-15T00:00:00+00:00 -7.026804463186\\n2014-05-16T00:00:00+00:00 -6.767209301222376\\n2014-05-17T00:00:00+00:00 -6.543938690176804\\n2014-05-18T00:00:00+00:00 -6.354616208801903\\n2014-05-19T00:00:00+00:00 -6.179389686173115\\n2014-05-20T00:00:00+00:00 -6.039867132234658\\n2014-05-21T00:00:00+00:00 -5.92124154715967\\n2014-05-22T00:00:00+00:00 -5.7845389071970015\\n2014-05-23T00:00:00+00:00 -5.641713382240457\\n2014-05-24T00:00:00+00:00 -5.5037842641367165\\n2014-05-25T00:00:00+00:00 -5.3851095998319956\\n2014-05-26T00:00:00+00:00 -5.2738213114020365\\n2014-05-27T00:00:00+00:00 -5.191751627935078\\n2014-05-28T00:00:00+00:00 -5.089957519163887\\n2014-05-29T00:00:00+00:00 -5.0107545013712524\\n2014-05-30T00:00:00+00:00 -4.946322814720077\\n2014-05-31T00:00:00+00:00 -4.900760833205139\\n2014-06-01T00:00:00+00:00 -4.840032008560672\\n2014-06-02T00:00:00+00:00 -4.822861156050599\\n2014-06-03T00:00:00+00:00 -4.778568692873147\\n2014-06-04T00:00:00+00:00 -4.7882421123238466\\n2014-06-05T00:00:00+00:00 -4.777806835771703\\n2014-06-06T00:00:00+00:00 -4.774464238493406\\n2014-06-07T00:00:00+00:00 -4.795456324777138\\n2014-06-08T00:00:00+00:00 -4.79840012641551\\n2014-06-09T00:00:00+00:00 -4.813969369216978\\n2014-06-10T00:00:00+00:00 -4.816103411629695\\n2014-06-11T00:00:00+00:00 -4.820561743808083\\n2014-06-12T00:00:00+00:00 -4.844625107911574\\n2014-06-13T00:00:00+00:00 -4.909940413565518\\n2014-06-14T00:00:00+00:00 -4.979010811757736\\n2014-06-15T00:00:00+00:00 -5.039149290643678\\n2014-06-16T00:00:00+00:00 -5.101399070583365\\n2014-06-17T00:00:00+00:00 -5.14569043755607\\n2014-06-18T00:00:00+00:00 -5.167376715007703\\n2014-06-19T00:00:00+00:00 -5.226626806892819\\n2014-06-20T00:00:00+00:00 -5.311506590851777\\n2014-06-21T00:00:00+00:00 -5.400036621240835\\n2014-06-22T00:00:00+00:00 -5.484813659961145\\n2014-06-23T00:00:00+00:00 -5.549930068587533\\n2014-06-24T00:00:00+00:00 -5.606885517281624\\n2014-06-25T00:00:00+00:00 -5.650008898024002\\n2014-06-26T00:00:00+00:00 -5.708549992539789\\n2014-06-27T00:00:00+00:00 -5.774875497772751\\n2014-06-28T00:00:00+00:00 -5.814357218945077\\n2014-06-29T00:00:00+00:00 -5.879773870634998\\n2014-06-30T00:00:00+00:00 -5.923599614542405\\n2014-07-01T00:00:00+00:00 -5.945742297893751\\n2014-07-02T00:00:00+00:00 -5.96699171082078\\n2014-07-03T00:00:00+00:00 -5.963936150841232\\n2014-07-04T00:00:00+00:00 -5.967379914438204\\n2014-07-05T00:00:00+00:00 -6.019791874878978\\n2014-07-06T00:00:00+00:00 -6.072771675848483\\n2014-07-07T00:00:00+00:00 -6.1248288865261475\\n2014-07-08T00:00:00+00:00 -6.200352528691976\\n2014-07-09T00:00:00+00:00 -6.271875946461808\\n2014-07-10T00:00:00+00:00 -6.372154392100785\\n2014-07-11T00:00:00+00:00 -6.466889337666676\\n2014-07-12T00:00:00+00:00 -6.582225038252526\\n2014-07-13T00:00:00+00:00 -6.734524068683737\\n2014-07-14T00:00:00+00:00 -6.936679683378855\\n2014-07-15T00:00:00+00:00 -7.148389196351109\\n2014-07-16T00:00:00+00:00 -7.324779679774647\\n2014-07-17T00:00:00+00:00 -7.487361769314993\\n2014-07-18T00:00:00+00:00 -7.644472334770945\\n2014-07-19T00:00:00+00:00 -7.742195937300114\\n2014-07-20T00:00:00+00:00 -7.815161971348084\\n2014-07-21T00:00:00+00:00 -7.877993419671514\\n2014-07-22T00:00:00+00:00 -7.934228377291063\\n2014-07-23T00:00:00+00:00 -7.95693855914072\\n2014-07-24T00:00:00+00:00 -7.983986370769793\\n2014-07-25T00:00:00+00:00 -8.047246431315425\\n2014-07-26T00:00:00+00:00 -8.116706238536473\\n2014-07-27T00:00:00+00:00 -8.173514537665984\\n2014-07-28T00:00:00+00:00 -8.236582908572515\\n2014-07-29T00:00:00+00:00 -8.294124596699973\\n2014-07-30T00:00:00+00:00 -8.330143508461168\\n2014-07-31T00:00:00+00:00 -8.380019555152098\\n2014-08-01T00:00:00+00:00 -8.40007627464759\\n2014-08-02T00:00:00+00:00 -8.405067488337004\\n2014-08-03T00:00:00+00:00 -8.345635660094306\\n2014-08-04T00:00:00+00:00 -8.29702499427652\\n2014-08-05T00:00:00+00:00 -8.246824595841996\\n2014-08-06T00:00:00+00:00 -8.194262261935911\\n2014-08-07T00:00:00+00:00 -8.153114496859212\\n2014-08-08T00:00:00+00:00 -8.127480259545408\\n2014-08-09T00:00:00+00:00 -8.093138251301426\\n2014-08-10T00:00:00+00:00 -8.059505872252581\\n2014-08-11T00:00:00+00:00 -8.000351397244101\\n2014-08-12T00:00:00+00:00 -7.942922683738513\\n2014-08-13T00:00:00+00:00 -7.900995406738247\\n2014-08-14T00:00:00+00:00 -7.85453716564897\\n2014-08-15T00:00:00+00:00 -7.8161797995720645\\n2014-08-16T00:00:00+00:00 -7.788605485249091\\n2014-08-17T00:00:00+00:00 -7.760804484489119\\n2014-08-18T00:00:00+00:00 -7.6899181117871676\\n2014-08-19T00:00:00+00:00 -7.636452602354464\\n2014-08-20T00:00:00+00:00 -7.571566727104524\\n2014-08-21T00:00:00+00:00 -7.525958636495056\\n2014-08-22T00:00:00+00:00 -7.502970091447479\\n2014-08-23T00:00:00+00:00 -7.506390789641032\\n2014-08-24T00:00:00+00:00 -7.519001852546375\\n2014-08-25T00:00:00+00:00 -7.544790909640884\\n2014-08-26T00:00:00+00:00 -7.600798311005262\\n2014-08-27T00:00:00+00:00 -7.646492041225164\\n2014-08-28T00:00:00+00:00 -7.658475307589853\\n2014-08-29T00:00:00+00:00 -7.683640806367104\\n2014-08-30T00:00:00+00:00 -7.704031697425275\\n2014-08-31T00:00:00+00:00 -7.668956293743476\\n2014-09-01T00:00:00+00:00 -7.656886411231794\\n2014-09-02T00:00:00+00:00 -7.651175745148563\\n2014-09-03T00:00:00+00:00 -7.616986912375387\\n2014-09-04T00:00:00+00:00 -7.6080669718728124\\n2014-09-05T00:00:00+00:00 -7.573995135016777\\n2014-09-06T00:00:00+00:00 -7.578204654042255\\n2014-09-07T00:00:00+00:00 -7.575503561201163\\n2014-09-08T00:00:00+00:00 -7.560680079257135\\n2014-09-09T00:00:00+00:00 -7.554715327290826\\n2014-09-10T00:00:00+00:00 -7.533677060857096\\n2014-09-11T00:00:00+00:00 -7.479740068765526\\n2014-09-12T00:00:00+00:00 -7.4098361518709055\\n2014-09-13T00:00:00+00:00 -7.311303831409438\\n2014-09-14T00:00:00+00:00 -7.1853266670694484\\n2014-09-15T00:00:00+00:00 -7.051435467284677\\n2014-09-16T00:00:00+00:00 -6.896093586250205\\n2014-09-17T00:00:00+00:00 -6.778117668009855\\n2014-09-18T00:00:00+00:00 -6.668912709481005\\n2014-09-19T00:00:00+00:00 -6.565146676425605\\n2014-09-20T00:00:00+00:00 -6.46682632320369\\n2014-09-21T00:00:00+00:00 -6.394988678784563\\n2014-09-22T00:00:00+00:00 -6.3467104023407535\\n2014-09-23T00:00:00+00:00 -6.275899111820151\\n2014-09-24T00:00:00+00:00 -6.172440088945924\\n2014-09-25T00:00:00+00:00 -6.060486136602077\\n2014-09-26T00:00:00+00:00 -5.9218603734803645\\n2014-09-27T00:00:00+00:00 -5.805948369937485\\n2014-09-28T00:00:00+00:00 -5.7063664643908\\n2014-09-29T00:00:00+00:00 -5.608034450844129\\n2014-09-30T00:00:00+00:00 -5.516371491172267\\n2014-10-01T00:00:00+00:00 -5.453376967926408\\n2014-10-02T00:00:00+00:00 -5.424297162284246\\n2014-10-03T00:00:00+00:00 -5.380458499717149\\n2014-10-04T00:00:00+00:00 -5.321128179919487\\n2014-10-05T00:00:00+00:00 -5.263590822480467\\n2014-10-06T00:00:00+00:00 -5.184564766992097\\n2014-10-07T00:00:00+00:00 -5.103321704807802\\n2014-10-08T00:00:00+00:00 -5.047764378374458\\n2014-10-09T00:00:00+00:00 -4.9859969558556205\\n2014-10-10T00:00:00+00:00 -4.9229750820986995\\n2014-10-11T00:00:00+00:00 -4.901832414995199\\n2014-10-12T00:00:00+00:00 -4.839456689884568\\n2014-10-13T00:00:00+00:00 -4.777305003653879\\n2014-10-14T00:00:00+00:00 -4.7090487063443085\\n2014-10-15T00:00:00+00:00 -4.6222442508017085\\n2014-10-16T00:00:00+00:00 -4.53935612488206\\n2014-10-17T00:00:00+00:00 -4.476681913843719\\n2014-10-18T00:00:00+00:00 -4.39441926941514\\n2014-10-19T00:00:00+00:00 -4.3080932251797694\\n2014-10-20T00:00:00+00:00 -4.235764537242959\\n2014-10-21T00:00:00+00:00 -4.149911041928256\\n2014-10-22T00:00:00+00:00 -4.052034606076528\\n2014-10-23T00:00:00+00:00 -3.986100804122636\\n2014-10-24T00:00:00+00:00 -3.895199087896675\\n2014-10-25T00:00:00+00:00 -3.7893858494049466\\n2014-10-26T00:00:00+00:00 -3.6829414250667987\\n2014-10-27T00:00:00+00:00 -3.583932797277051\\n2014-10-28T00:00:00+00:00 -3.4808298382810254\\n2014-10-29T00:00:00+00:00 -3.386873174164641\\n2014-10-30T00:00:00+00:00 -3.3675343354706184\\n2014-10-31T00:00:00+00:00 -3.3623271238222046\\n2014-11-01T00:00:00+00:00 -3.3422949320200503\\n2014-11-02T00:00:00+00:00 -3.326105624696145\\n2014-11-03T00:00:00+00:00 -3.288265339023559\\n2014-11-04T00:00:00+00:00 -3.2937985931175637\\n2014-11-05T00:00:00+00:00 -3.269285468466655\\n2014-11-06T00:00:00+00:00 -3.2480665492922425\\n2014-11-07T00:00:00+00:00 -3.2213150226188096\\n2014-11-08T00:00:00+00:00 -3.156922469083866\\n2014-11-09T00:00:00+00:00 -3.0905186880123385\\n2014-11-10T00:00:00+00:00 -3.061012138205531\\n2014-11-11T00:00:00+00:00 -3.024233402854498\\n2014-11-12T00:00:00+00:00 -2.9840559265133786\\n2014-11-13T00:00:00+00:00 -2.936827561005224\\n2014-11-14T00:00:00+00:00 -2.8842889417757407\\n2014-11-15T00:00:00+00:00 -2.8435387460278085\\n2014-11-16T00:00:00+00:00 -2.800121153525758\\n2014-11-17T00:00:00+00:00 -2.7784985390987065\\n2014-11-18T00:00:00+00:00 -2.7857540103432212\\n2014-11-19T00:00:00+00:00 -2.8268760376580984\\n2014-11-20T00:00:00+00:00 -2.8588247423601576\\n2014-11-21T00:00:00+00:00 -2.8874833365139314\\n2014-11-22T00:00:00+00:00 -2.9039491159466233\\n2014-11-23T00:00:00+00:00 -2.9539746616924774\\n2014-11-24T00:00:00+00:00 -3.0092355204410155\\n2014-11-25T00:00:00+00:00 -3.103273669713324\\n2014-11-26T00:00:00+00:00 -3.1622766530718946\\n2014-11-27T00:00:00+00:00 -3.2092777511642296\\n2014-11-28T00:00:00+00:00 -3.260016947149174\\n2014-11-29T00:00:00+00:00 -3.2850130042536088\\n2014-11-30T00:00:00+00:00 -3.323445171693133\\n2014-12-01T00:00:00+00:00 -3.3439441533437293\\n2014-12-02T00:00:00+00:00 -3.354852423198953\\n2014-12-03T00:00:00+00:00 -3.365373674280939\\n2014-12-04T00:00:00+00:00 -3.389470646433854\\n2014-12-05T00:00:00+00:00 -3.417294409797084\\n2014-12-06T00:00:00+00:00 -3.4399478968625266\\n2014-12-07T00:00:00+00:00 -3.4418158494397755\\n2014-12-08T00:00:00+00:00 -3.478360982211484\\n2014-12-09T00:00:00+00:00 -3.4804436465897552\\n2014-12-10T00:00:00+00:00 -3.424269987986132\\n2014-12-11T00:00:00+00:00 -3.413388749392476\\n2014-12-12T00:00:00+00:00 -3.425810726786634\\n2014-12-13T00:00:00+00:00 -3.409551880573424\\n2014-12-14T00:00:00+00:00 -3.4067294320133974\\n2014-12-15T00:00:00+00:00 -3.3882793152255806\\n2014-12-16T00:00:00+00:00 -3.350292648483857\\n2014-12-17T00:00:00+00:00 -3.308122930927981\\n2014-12-18T00:00:00+00:00 -3.3071739135560394\\n2014-12-19T00:00:00+00:00 -3.272717742603354\\n2014-12-20T00:00:00+00:00 -3.228060683061058\\n2014-12-21T00:00:00+00:00 -3.192338582845537\\n2014-12-22T00:00:00+00:00 -3.1161976250549714\\n2014-12-23T00:00:00+00:00 -3.0410690966106046\\n2014-12-24T00:00:00+00:00 -2.9659495405218785\\n2014-12-25T00:00:00+00:00 -2.866812662199345\\n2014-12-26T00:00:00+00:00 -2.798259638116686\\n2014-12-27T00:00:00+00:00 -2.7203179136964737\\n\">, @options=Hamster::Hash[:using => \"1:2\", :with => \"lines\", :title => \"Rolling Mean\"]>], @cmd=\"plot \">"
      ]
     },
     "execution_count": 27,
     "metadata": {},
     "output_type": "execute_result"
    }
   ],
   "source": [
    "index  = Daru::DateTimeIndex.date_range(:start => '2012-4-2', :periods => 1000)\n",
    "vector = Daru::Vector.new(1000.times.map {rng.call}, index: index)\n",
    "vector = vector.cumsum\n",
    "rolling_mean = vector.rolling_mean 60\n",
    "\n",
    "GnuplotRB::Plot.new(\n",
    "  [vector      , with: 'lines', title: 'Vector'], \n",
    "  [rolling_mean, with: 'lines', title: 'Rolling Mean'],\n",
    "  xlabel: 'Time', ylabel: 'Value'\n",
    ")"
   ]
  },
  {
   "cell_type": "markdown",
   "metadata": {},
   "source": [
    "## Arel-like syntax\n",
    "\n",
    "**Web devs will feel right at home!**\n",
    "\n",
    "**Fast and intuitive syntax for retreiving data with boolean indexing.**\n",
    "\n",
    "### The 'where' clause"
   ]
  },
  {
   "cell_type": "code",
   "execution_count": 28,
   "metadata": {
    "collapsed": false
   },
   "outputs": [
    {
     "data": {
      "text/html": [
       "<table><tr><th colspan=\"4\">Daru::DataFrame:5195920  rows: 600  cols: 3<tr><th></th><th>a</th><th>b</th><th>c</th></tr><tr><td>102</td><td>1</td><td>a</td><td>11</td></tr><tr><td>177</td><td>2</td><td>b</td><td>22</td></tr><tr><td>354</td><td>3</td><td>c</td><td>33</td></tr><tr><td>163</td><td>4</td><td>d</td><td>44</td></tr><tr><td>230</td><td>5</td><td>e</td><td>55</td></tr><tr><td>332</td><td>6</td><td>f</td><td>66</td></tr><tr><td>171</td><td>1</td><td>a</td><td>11</td></tr><tr><td>123</td><td>2</td><td>b</td><td>22</td></tr><tr><td>470</td><td>3</td><td>c</td><td>33</td></tr><tr><td>471</td><td>4</td><td>d</td><td>44</td></tr><tr><td>309</td><td>5</td><td>e</td><td>55</td></tr><tr><td>23</td><td>6</td><td>f</td><td>66</td></tr><tr><td>15</td><td>1</td><td>a</td><td>11</td></tr><tr><td>26</td><td>2</td><td>b</td><td>22</td></tr><tr><td>312</td><td>3</td><td>c</td><td>33</td></tr><tr><td>484</td><td>4</td><td>d</td><td>44</td></tr><tr><td>386</td><td>5</td><td>e</td><td>55</td></tr><tr><td>72</td><td>6</td><td>f</td><td>66</td></tr><tr><td>506</td><td>1</td><td>a</td><td>11</td></tr><tr><td>96</td><td>2</td><td>b</td><td>22</td></tr><tr><td>183</td><td>3</td><td>c</td><td>33</td></tr><tr><td>90</td><td>4</td><td>d</td><td>44</td></tr><tr><td>451</td><td>5</td><td>e</td><td>55</td></tr><tr><td>278</td><td>6</td><td>f</td><td>66</td></tr><tr><td>529</td><td>1</td><td>a</td><td>11</td></tr><tr><td>87</td><td>2</td><td>b</td><td>22</td></tr><tr><td>256</td><td>3</td><td>c</td><td>33</td></tr><tr><td>415</td><td>4</td><td>d</td><td>44</td></tr><tr><td>421</td><td>5</td><td>e</td><td>55</td></tr><tr><td>485</td><td>6</td><td>f</td><td>66</td></tr><tr><td>139</td><td>1</td><td>a</td><td>11</td></tr><tr><td>482</td><td>2</td><td>b</td><td>22</td></tr><tr><td>...</td><td>...</td><td>...</td><td>...</td></tr><tr><td>513</td><td>6</td><td>f</td><td>66</td></tr></table>"
      ],
      "text/plain": [
       "\n",
       "#<Daru::DataFrame:5195920 @name = 8d5f52ab-bbb5-4735-bf66-ccf8c7a9d44a @size = 600>\n",
       "                    a          b          c \n",
       "       102          1          a         11 \n",
       "       177          2          b         22 \n",
       "       354          3          c         33 \n",
       "       163          4          d         44 \n",
       "       230          5          e         55 \n",
       "       332          6          f         66 \n",
       "       171          1          a         11 \n",
       "       123          2          b         22 \n",
       "       470          3          c         33 \n",
       "       471          4          d         44 \n",
       "       309          5          e         55 \n",
       "        23          6          f         66 \n",
       "        15          1          a         11 \n",
       "        26          2          b         22 \n",
       "       312          3          c         33 \n",
       "       ...        ...        ...        ... \n"
      ]
     },
     "execution_count": 28,
     "metadata": {},
     "output_type": "execute_result"
    }
   ],
   "source": [
    "df = Daru::DataFrame.new({\n",
    "  a: [1,2,3,4,5,6]*100,\n",
    "  b: ['a','b','c','d','e','f']*100,\n",
    "  c: [11,22,33,44,55,66]*100\n",
    "}, index: (1..600).to_a.shuffle)\n",
    "df"
   ]
  },
  {
   "cell_type": "markdown",
   "metadata": {},
   "source": [
    "**Compares with a bunch of scalar quantities and returns a DataFrame wherever they return *true***"
   ]
  },
  {
   "cell_type": "code",
   "execution_count": 29,
   "metadata": {
    "collapsed": false
   },
   "outputs": [
    {
     "data": {
      "text/html": [
       "<table><tr><th colspan=\"4\">Daru::DataFrame:14856680  rows: 200  cols: 3<tr><th></th><th>a</th><th>b</th><th>c</th></tr><tr><td>177</td><td>2</td><td>b</td><td>22</td></tr><tr><td>230</td><td>5</td><td>e</td><td>55</td></tr><tr><td>123</td><td>2</td><td>b</td><td>22</td></tr><tr><td>309</td><td>5</td><td>e</td><td>55</td></tr><tr><td>26</td><td>2</td><td>b</td><td>22</td></tr><tr><td>386</td><td>5</td><td>e</td><td>55</td></tr><tr><td>96</td><td>2</td><td>b</td><td>22</td></tr><tr><td>451</td><td>5</td><td>e</td><td>55</td></tr><tr><td>87</td><td>2</td><td>b</td><td>22</td></tr><tr><td>421</td><td>5</td><td>e</td><td>55</td></tr><tr><td>482</td><td>2</td><td>b</td><td>22</td></tr><tr><td>254</td><td>5</td><td>e</td><td>55</td></tr><tr><td>52</td><td>2</td><td>b</td><td>22</td></tr><tr><td>282</td><td>5</td><td>e</td><td>55</td></tr><tr><td>267</td><td>2</td><td>b</td><td>22</td></tr><tr><td>304</td><td>5</td><td>e</td><td>55</td></tr><tr><td>36</td><td>2</td><td>b</td><td>22</td></tr><tr><td>424</td><td>5</td><td>e</td><td>55</td></tr><tr><td>303</td><td>2</td><td>b</td><td>22</td></tr><tr><td>353</td><td>5</td><td>e</td><td>55</td></tr><tr><td>376</td><td>2</td><td>b</td><td>22</td></tr><tr><td>115</td><td>5</td><td>e</td><td>55</td></tr><tr><td>55</td><td>2</td><td>b</td><td>22</td></tr><tr><td>7</td><td>5</td><td>e</td><td>55</td></tr><tr><td>478</td><td>2</td><td>b</td><td>22</td></tr><tr><td>239</td><td>5</td><td>e</td><td>55</td></tr><tr><td>356</td><td>2</td><td>b</td><td>22</td></tr><tr><td>530</td><td>5</td><td>e</td><td>55</td></tr><tr><td>99</td><td>2</td><td>b</td><td>22</td></tr><tr><td>81</td><td>5</td><td>e</td><td>55</td></tr><tr><td>595</td><td>2</td><td>b</td><td>22</td></tr><tr><td>436</td><td>5</td><td>e</td><td>55</td></tr><tr><td>...</td><td>...</td><td>...</td><td>...</td></tr><tr><td>532</td><td>5</td><td>e</td><td>55</td></tr></table>"
      ],
      "text/plain": [
       "\n",
       "#<Daru::DataFrame:14856680 @name = 0febde17-fce8-48ff-9635-3aa56d407816 @size = 200>\n",
       "                    a          b          c \n",
       "       177          2          b         22 \n",
       "       230          5          e         55 \n",
       "       123          2          b         22 \n",
       "       309          5          e         55 \n",
       "        26          2          b         22 \n",
       "       386          5          e         55 \n",
       "        96          2          b         22 \n",
       "       451          5          e         55 \n",
       "        87          2          b         22 \n",
       "       421          5          e         55 \n",
       "       482          2          b         22 \n",
       "       254          5          e         55 \n",
       "        52          2          b         22 \n",
       "       282          5          e         55 \n",
       "       267          2          b         22 \n",
       "       ...        ...        ...        ... \n"
      ]
     },
     "execution_count": 29,
     "metadata": {},
     "output_type": "execute_result"
    }
   ],
   "source": [
    "df.where(df[:a].eq(2).or(df[:c].eq(55)))"
   ]
  }
 ],
 "metadata": {
  "kernelspec": {
   "display_name": "Ruby 2.2.1",
   "language": "ruby",
   "name": "ruby"
  },
  "language_info": {
   "file_extension": ".rb",
   "mimetype": "application/x-ruby",
   "name": "ruby",
   "version": "2.2.1"
  }
 },
 "nbformat": 4,
 "nbformat_minor": 0
}
