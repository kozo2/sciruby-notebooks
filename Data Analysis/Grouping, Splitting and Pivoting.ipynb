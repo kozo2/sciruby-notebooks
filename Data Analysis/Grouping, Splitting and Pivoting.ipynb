{
 "cells": [
  {
   "cell_type": "markdown",
   "metadata": {},
   "source": [
    "# Grouping, Splitting and Pivoting Data\n",
    "\n",
    "In this notebook we'll go over ways to group, split and pivot data using the DataFrame#group_by and and DataFrame#pivot_table functions."
   ]
  },
  {
   "cell_type": "code",
   "execution_count": 1,
   "metadata": {
    "collapsed": false
   },
   "outputs": [
    {
     "data": {
      "application/javascript": [
       "if(window['d3'] === undefined ||\n",
       "   window['Nyaplot'] === undefined){\n",
       "    var path = {\"d3\":\"https://cdnjs.cloudflare.com/ajax/libs/d3/3.5.5/d3.min\",\"downloadable\":\"https://cdn.rawgit.com/domitry/d3-downloadable/master/d3-downloadable\"};\n",
       "\n",
       "\n",
       "\n",
       "    var shim = {\"d3\":{\"exports\":\"d3\"},\"downloadable\":{\"exports\":\"downloadable\"}};\n",
       "\n",
       "    require.config({paths: path, shim:shim});\n",
       "\n",
       "\n",
       "require(['d3'], function(d3){window['d3']=d3;console.log('finished loading d3');require(['downloadable'], function(downloadable){window['downloadable']=downloadable;console.log('finished loading downloadable');\n",
       "\n",
       "\tvar script = d3.select(\"head\")\n",
       "\t    .append(\"script\")\n",
       "\t    .attr(\"src\", \"https://cdn.rawgit.com/domitry/Nyaplotjs/master/release/nyaplot.js\")\n",
       "\t    .attr(\"async\", true);\n",
       "\n",
       "\tscript[0][0].onload = script[0][0].onreadystatechange = function(){\n",
       "\n",
       "\n",
       "\t    var event = document.createEvent(\"HTMLEvents\");\n",
       "\t    event.initEvent(\"load_nyaplot\",false,false);\n",
       "\t    window.dispatchEvent(event);\n",
       "\t    console.log('Finished loading Nyaplotjs');\n",
       "\n",
       "\t};\n",
       "\n",
       "\n",
       "});});\n",
       "}\n"
      ],
      "text/plain": [
       "\"if(window['d3'] === undefined ||\\n   window['Nyaplot'] === undefined){\\n    var path = {\\\"d3\\\":\\\"https://cdnjs.cloudflare.com/ajax/libs/d3/3.5.5/d3.min\\\",\\\"downloadable\\\":\\\"https://cdn.rawgit.com/domitry/d3-downloadable/master/d3-downloadable\\\"};\\n\\n\\n\\n    var shim = {\\\"d3\\\":{\\\"exports\\\":\\\"d3\\\"},\\\"downloadable\\\":{\\\"exports\\\":\\\"downloadable\\\"}};\\n\\n    require.config({paths: path, shim:shim});\\n\\n\\nrequire(['d3'], function(d3){window['d3']=d3;console.log('finished loading d3');require(['downloadable'], function(downloadable){window['downloadable']=downloadable;console.log('finished loading downloadable');\\n\\n\\tvar script = d3.select(\\\"head\\\")\\n\\t    .append(\\\"script\\\")\\n\\t    .attr(\\\"src\\\", \\\"https://cdn.rawgit.com/domitry/Nyaplotjs/master/release/nyaplot.js\\\")\\n\\t    .attr(\\\"async\\\", true);\\n\\n\\tscript[0][0].onload = script[0][0].onreadystatechange = function(){\\n\\n\\n\\t    var event = document.createEvent(\\\"HTMLEvents\\\");\\n\\t    event.initEvent(\\\"load_nyaplot\\\",false,false);\\n\\t    window.dispatchEvent(event);\\n\\t    console.log('Finished loading Nyaplotjs');\\n\\n\\t};\\n\\n\\n});});\\n}\\n\""
      ]
     },
     "metadata": {},
     "output_type": "display_data"
    },
    {
     "data": {
      "text/plain": [
       "true"
      ]
     },
     "execution_count": 1,
     "metadata": {},
     "output_type": "execute_result"
    }
   ],
   "source": [
    "require 'daru'"
   ]
  },
  {
   "cell_type": "markdown",
   "metadata": {},
   "source": [
    "Lets first create a hierarchically indexed DataFrame."
   ]
  },
  {
   "cell_type": "code",
   "execution_count": 2,
   "metadata": {
    "collapsed": false
   },
   "outputs": [
    {
     "data": {
      "text/html": [
       "<table><tr><th colspan=\"5\">Daru::DataFrame:24162060  rows: 12  cols: 4<tr><th></th><th>[:a, :one, :bar]</th><th>[:a, :two, :baz]</th><th>[:b, :two, :foo]</th><th>[:b, :one, :foo]</th></tr><tr><td>[:a, :one, :bar]</td><td>11</td><td>1</td><td>11</td><td>1</td></tr><tr><td>[:a, :one, :baz]</td><td>12</td><td>2</td><td>12</td><td>2</td></tr><tr><td>[:a, :two, :bar]</td><td>13</td><td>3</td><td>13</td><td>3</td></tr><tr><td>[:a, :two, :baz]</td><td>14</td><td>4</td><td>14</td><td>4</td></tr><tr><td>[:b, :one, :bar]</td><td>11</td><td>1</td><td>11</td><td>1</td></tr><tr><td>[:b, :two, :bar]</td><td>12</td><td>2</td><td>12</td><td>2</td></tr><tr><td>[:b, :two, :baz]</td><td>13</td><td>3</td><td>13</td><td>3</td></tr><tr><td>[:b, :one, :foo]</td><td>14</td><td>4</td><td>14</td><td>4</td></tr><tr><td>[:c, :one, :bar]</td><td>11</td><td>1</td><td>11</td><td>1</td></tr><tr><td>[:c, :one, :baz]</td><td>12</td><td>2</td><td>12</td><td>2</td></tr><tr><td>[:c, :two, :foo]</td><td>13</td><td>3</td><td>13</td><td>3</td></tr><tr><td>[:c, :two, :bar]</td><td>14</td><td>4</td><td>14</td><td>4</td></tr></table>"
      ],
      "text/plain": [
       "\n",
       "#<Daru::DataFrame:24162060 @name = fc18d1e0-9c0d-4d82-8824-fbd5fe85b5de @size = 12>\n",
       "           [:a, :one, [:a, :two, [:b, :two, [:b, :one, \n",
       "[:a, :one,         11          1         11          1 \n",
       "[:a, :one,         12          2         12          2 \n",
       "[:a, :two,         13          3         13          3 \n",
       "[:a, :two,         14          4         14          4 \n",
       "[:b, :one,         11          1         11          1 \n",
       "[:b, :two,         12          2         12          2 \n",
       "[:b, :two,         13          3         13          3 \n",
       "[:b, :one,         14          4         14          4 \n",
       "[:c, :one,         11          1         11          1 \n",
       "[:c, :one,         12          2         12          2 \n",
       "[:c, :two,         13          3         13          3 \n",
       "[:c, :two,         14          4         14          4 \n"
      ]
     },
     "execution_count": 2,
     "metadata": {},
     "output_type": "execute_result"
    }
   ],
   "source": [
    "# Create a multi-indexed DataFrame\n",
    "\n",
    "tuples = [\n",
    "  [:a,:one,:bar],\n",
    "  [:a,:one,:baz],\n",
    "  [:a,:two,:bar],\n",
    "  [:a,:two,:baz],\n",
    "  [:b,:one,:bar],\n",
    "  [:b,:two,:bar],\n",
    "  [:b,:two,:baz],\n",
    "  [:b,:one,:foo],\n",
    "  [:c,:one,:bar],\n",
    "  [:c,:one,:baz],\n",
    "  [:c,:two,:foo],\n",
    "  [:c,:two,:bar]\n",
    "]\n",
    "multi_index = Daru::MultiIndex.from_tuples(tuples)\n",
    "\n",
    "vector_arry1 = [11,12,13,14,11,12,13,14,11,12,13,14]\n",
    "vector_arry2 = [1,2,3,4,1,2,3,4,1,2,3,4]\n",
    "\n",
    "order_mi = Daru::MultiIndex.from_tuples([\n",
    "  [:a,:one,:bar],\n",
    "  [:a,:two,:baz],\n",
    "  [:b,:two,:foo],\n",
    "  [:b,:one,:foo]])\n",
    "\n",
    "df_mi = Daru::DataFrame.new([\n",
    "  vector_arry1, \n",
    "  vector_arry2, \n",
    "  vector_arry1, \n",
    "  vector_arry2], order: order_mi, index: multi_index)"
   ]
  },
  {
   "cell_type": "markdown",
   "metadata": {},
   "source": [
    "To select a row from a multi-indexed dataframe, you should pass the full tuple to the `#row[]` method. Partial tuples will return whatever row that match the tuple partially."
   ]
  },
  {
   "cell_type": "code",
   "execution_count": 3,
   "metadata": {
    "collapsed": false
   },
   "outputs": [
    {
     "data": {
      "text/html": [
       "<table><tr><th colspan=\"2\">Daru::Vector:22866540  size: 4</th></tr><tr><th> </th><th>0</th></tr><tr><td>[:a, :one, :bar]</td><td>11</td></tr><tr><td>[:a, :two, :baz]</td><td>1</td></tr><tr><td>[:b, :two, :foo]</td><td>11</td></tr><tr><td>[:b, :one, :foo]</td><td>1</td></tr></table>"
      ],
      "text/plain": [
       "\n",
       "#<Daru::Vector:22866540 @name = 0 @size = 4 >\n",
       "                                0\n",
       "[:a, :one, :bar]               11\n",
       "[:a, :two, :baz]                1\n",
       "[:b, :two, :foo]               11\n",
       "[:b, :one, :foo]                1\n"
      ]
     },
     "execution_count": 3,
     "metadata": {},
     "output_type": "execute_result"
    }
   ],
   "source": [
    "# Specify complete tuple to choose a single row\n",
    "df_mi.row[:a, :one,:bar]"
   ]
  },
  {
   "cell_type": "code",
   "execution_count": 4,
   "metadata": {
    "collapsed": false
   },
   "outputs": [
    {
     "data": {
      "text/html": [
       "<table><tr><th colspan=\"5\">Daru::DataFrame:22500640  rows: 4  cols: 4<tr><th></th><th>[:a, :one, :bar]</th><th>[:a, :two, :baz]</th><th>[:b, :two, :foo]</th><th>[:b, :one, :foo]</th></tr><tr><td>[:one, :bar]</td><td>11</td><td>1</td><td>11</td><td>1</td></tr><tr><td>[:one, :baz]</td><td>12</td><td>2</td><td>12</td><td>2</td></tr><tr><td>[:two, :bar]</td><td>13</td><td>3</td><td>13</td><td>3</td></tr><tr><td>[:two, :baz]</td><td>14</td><td>4</td><td>14</td><td>4</td></tr></table>"
      ],
      "text/plain": [
       "\n",
       "#<Daru::DataFrame:22500640 @name = fc18d1e0-9c0d-4d82-8824-fbd5fe85b5de @size = 4>\n",
       "           [:a, :one, [:a, :two, [:b, :two, [:b, :one, \n",
       "[:one, :ba         11          1         11          1 \n",
       "[:one, :ba         12          2         12          2 \n",
       "[:two, :ba         13          3         13          3 \n",
       "[:two, :ba         14          4         14          4 \n"
      ]
     },
     "execution_count": 4,
     "metadata": {},
     "output_type": "execute_result"
    }
   ],
   "source": [
    "# Specify partial tuple to select index hierarchially\n",
    "df_mi.row[:a]"
   ]
  },
  {
   "cell_type": "markdown",
   "metadata": {},
   "source": [
    "## Grouping\n",
    "\n",
    "The DataFrame#group_by method allows you to group elements in the dataframe by name. This is similar to SQL GROUP BY."
   ]
  },
  {
   "cell_type": "code",
   "execution_count": 5,
   "metadata": {
    "collapsed": false
   },
   "outputs": [
    {
     "data": {
      "text/plain": [
       "{[\"bar\", \"one\"]=>[1], [\"bar\", \"three\"]=>[3], [\"bar\", \"two\"]=>[5], [\"foo\", \"one\"]=>[0, 6], [\"foo\", \"three\"]=>[7], [\"foo\", \"two\"]=>[2, 4]}"
      ]
     },
     "execution_count": 5,
     "metadata": {},
     "output_type": "execute_result"
    }
   ],
   "source": [
    "# See grouped rows with the 'groups' method\n",
    "\n",
    "df = Daru::DataFrame.new({\n",
    "  a: %w{foo bar foo bar   foo bar foo foo},\n",
    "  b: %w{one one two three two two one three},\n",
    "  c:   [1  ,2  ,3  ,1    ,3  ,6  ,3  ,8],\n",
    "  d:   [11 ,22 ,33 ,44   ,55 ,66 ,77 ,88]\n",
    "})\n",
    "\n",
    "# Pass the vectors that are to be grouped in an Array to the group_by method. This \n",
    "# will return a Daru::Core::GroupBy object.\n",
    "grouped = df.group_by([:a, :b])\n",
    "\n",
    "# See the groups created using the 'groups' method.\n",
    "grouped.groups"
   ]
  },
  {
   "cell_type": "code",
   "execution_count": 6,
   "metadata": {
    "collapsed": false
   },
   "outputs": [
    {
     "data": {
      "text/html": [
       "<table><tr><th colspan=\"3\">Daru::DataFrame:21484420  rows: 6  cols: 2<tr><th></th><th>c</th><th>d</th></tr><tr><td>[\"bar\", \"one\"]</td><td>2</td><td>22</td></tr><tr><td>[\"bar\", \"three\"]</td><td>1</td><td>44</td></tr><tr><td>[\"bar\", \"two\"]</td><td>6</td><td>66</td></tr><tr><td>[\"foo\", \"one\"]</td><td>2.0</td><td>44.0</td></tr><tr><td>[\"foo\", \"three\"]</td><td>8</td><td>88</td></tr><tr><td>[\"foo\", \"two\"]</td><td>3.0</td><td>44.0</td></tr></table>"
      ],
      "text/plain": [
       "\n",
       "#<Daru::DataFrame:21484420 @name = 13b06aed-710a-404b-a81d-7044bcbebbe5 @size = 6>\n",
       "                    c          d \n",
       "[\"bar\", \"o          2         22 \n",
       "[\"bar\", \"t          1         44 \n",
       "[\"bar\", \"t          6         66 \n",
       "[\"foo\", \"o        2.0       44.0 \n",
       "[\"foo\", \"t          8         88 \n",
       "[\"foo\", \"t        3.0       44.0 \n"
      ]
     },
     "execution_count": 6,
     "metadata": {},
     "output_type": "execute_result"
    }
   ],
   "source": [
    "# First group by the columns :a and :b and then calculate mean of the grouped rows.\n",
    "grouped.mean"
   ]
  },
  {
   "cell_type": "markdown",
   "metadata": {},
   "source": [
    "The #get_group method can be used for accessing a particualar group(s)."
   ]
  },
  {
   "cell_type": "code",
   "execution_count": 7,
   "metadata": {
    "collapsed": false
   },
   "outputs": [
    {
     "data": {
      "text/html": [
       "<table><tr><th colspan=\"5\">Daru::DataFrame:21046320  rows: 2  cols: 4<tr><th></th><th>a</th><th>b</th><th>c</th><th>d</th></tr><tr><td>0</td><td>foo</td><td>one</td><td>1</td><td>11</td></tr><tr><td>6</td><td>foo</td><td>one</td><td>3</td><td>77</td></tr></table>"
      ],
      "text/plain": [
       "\n",
       "#<Daru::DataFrame:21046320 @name = 784a3d6a-05c2-4b65-b8b9-e97f22f7c2ac @size = 2>\n",
       "                    a          b          c          d \n",
       "         0        foo        one          1         11 \n",
       "         6        foo        one          3         77 \n"
      ]
     },
     "execution_count": 7,
     "metadata": {},
     "output_type": "execute_result"
    }
   ],
   "source": [
    "grouped.get_group([\"foo\", \"one\"])"
   ]
  },
  {
   "cell_type": "markdown",
   "metadata": {},
   "source": [
    "## Pivoting Data\n",
    "\n",
    "Similar to Excel's Pivot Table, DataFrame provides the #pivot_table functions for quickly pivoting data around a particular value(s) and getting quick insights.\n",
    "\n",
    "Lets demonstrate using some sales data."
   ]
  },
  {
   "cell_type": "code",
   "execution_count": 8,
   "metadata": {
    "collapsed": false
   },
   "outputs": [
    {
     "data": {
      "text/html": [
       "<table><tr><th colspan=\"9\">Daru::DataFrame:18812540  rows: 17  cols: 8<tr><th></th><th>Account</th><th>Manager</th><th>Name</th><th>Price</th><th>Product</th><th>Quantity</th><th>Rep</th><th>Status</th></tr><tr><td>0</td><td>714466</td><td>Debra Henley</td><td>Trantow-Barrows</td><td>30000</td><td>CPU</td><td>1</td><td>Craig Booker</td><td>presented</td></tr><tr><td>1</td><td>714466</td><td>Debra Henley</td><td>Trantow-Barrows</td><td>10000</td><td>Software</td><td>1</td><td>Craig Booker</td><td>presented</td></tr><tr><td>2</td><td>714466</td><td>Debra Henley</td><td>Trantow-Barrows</td><td>5000</td><td>Maintenance</td><td>2</td><td>Craig Booker</td><td>pending</td></tr><tr><td>3</td><td>737550</td><td>Debra Henley</td><td>Fritsch, Russel and Anderson</td><td>35000</td><td>CPU</td><td>1</td><td>Craig Booker</td><td>declined</td></tr><tr><td>4</td><td>146832</td><td>Debra Henley</td><td>Kiehn-Spinka</td><td>65000</td><td>CPU</td><td>2</td><td>Daniel Hilton</td><td>won</td></tr><tr><td>5</td><td>218895</td><td>Debra Henley</td><td>Kulas Inc</td><td>40000</td><td>CPU</td><td>2</td><td>Daniel Hilton</td><td>pending</td></tr><tr><td>6</td><td>218895</td><td>Debra Henley</td><td>Kulas Inc</td><td>10000</td><td>Software</td><td>1</td><td>Daniel Hilton</td><td>presented</td></tr><tr><td>7</td><td>412290</td><td>Debra Henley</td><td>Jerde-Hilpert</td><td>5000</td><td>Maintenance</td><td>2</td><td>John Smith</td><td>pending</td></tr><tr><td>8</td><td>740150</td><td>Debra Henley</td><td>Barton LLC</td><td>35000</td><td>CPU</td><td>1</td><td>John Smith</td><td>declined</td></tr><tr><td>9</td><td>141962</td><td>Fred Anderson</td><td>Herman LLC</td><td>65000</td><td>CPU</td><td>2</td><td>Cedric Moss</td><td>won</td></tr><tr><td>10</td><td>163416</td><td>Fred Anderson</td><td>Purdy-Kunde</td><td>30000</td><td>CPU</td><td>1</td><td>Cedric Moss</td><td>presented</td></tr><tr><td>11</td><td>239344</td><td>Fred Anderson</td><td>Stokes LLC</td><td>5000</td><td>Maintenance</td><td>1</td><td>Cedric Moss</td><td>pending</td></tr><tr><td>12</td><td>239344</td><td>Fred Anderson</td><td>Stokes LLC</td><td>10000</td><td>Software</td><td>1</td><td>Cedric Moss</td><td>presented</td></tr><tr><td>13</td><td>307599</td><td>Fred Anderson</td><td>Kassulke, Ondricka and Metz</td><td>7000</td><td>Maintenance</td><td>3</td><td>Wendy Yule</td><td>won</td></tr><tr><td>14</td><td>688981</td><td>Fred Anderson</td><td>Keeling LLC</td><td>100000</td><td>CPU</td><td>5</td><td>Wendy Yule</td><td>won</td></tr><tr><td>15</td><td>729833</td><td>Fred Anderson</td><td>Koepp Ltd</td><td>65000</td><td>CPU</td><td>2</td><td>Wendy Yule</td><td>declined</td></tr><tr><td>16</td><td>729833</td><td>Fred Anderson</td><td>Koepp Ltd</td><td>5000</td><td>Monitor</td><td>2</td><td>Wendy Yule</td><td>presented</td></tr></table>"
      ],
      "text/plain": [
       "\n",
       "#<Daru::DataFrame:18812540 @name = 44ad74b5-8812-48cf-a39f-21228df4c413 @size = 17>\n",
       "              Account    Manager       Name      Price    Product   Quantity        Rep     Status \n",
       "         0     714466 Debra Henl Trantow-Ba      30000        CPU          1 Craig Book  presented \n",
       "         1     714466 Debra Henl Trantow-Ba      10000   Software          1 Craig Book  presented \n",
       "         2     714466 Debra Henl Trantow-Ba       5000 Maintenanc          2 Craig Book    pending \n",
       "         3     737550 Debra Henl Fritsch, R      35000        CPU          1 Craig Book   declined \n",
       "         4     146832 Debra Henl Kiehn-Spin      65000        CPU          2 Daniel Hil        won \n",
       "         5     218895 Debra Henl  Kulas Inc      40000        CPU          2 Daniel Hil    pending \n",
       "         6     218895 Debra Henl  Kulas Inc      10000   Software          1 Daniel Hil  presented \n",
       "         7     412290 Debra Henl Jerde-Hilp       5000 Maintenanc          2 John Smith    pending \n",
       "         8     740150 Debra Henl Barton LLC      35000        CPU          1 John Smith   declined \n",
       "         9     141962 Fred Ander Herman LLC      65000        CPU          2 Cedric Mos        won \n",
       "        10     163416 Fred Ander Purdy-Kund      30000        CPU          1 Cedric Mos  presented \n",
       "        11     239344 Fred Ander Stokes LLC       5000 Maintenanc          1 Cedric Mos    pending \n",
       "        12     239344 Fred Ander Stokes LLC      10000   Software          1 Cedric Mos  presented \n",
       "        13     307599 Fred Ander Kassulke,        7000 Maintenanc          3 Wendy Yule        won \n",
       "        14     688981 Fred Ander Keeling LL     100000        CPU          5 Wendy Yule        won \n",
       "       ...        ...        ...        ...        ...        ...        ...        ...        ... \n"
      ]
     },
     "execution_count": 8,
     "metadata": {},
     "output_type": "execute_result"
    }
   ],
   "source": [
    "sales = Daru::DataFrame.from_csv 'data/sales-funnel.csv'"
   ]
  },
  {
   "cell_type": "markdown",
   "metadata": {},
   "source": [
    "The #pivot_table method accepts an option :index, in which you can specify what vectors you want to index your DataFrame against."
   ]
  },
  {
   "cell_type": "code",
   "execution_count": 9,
   "metadata": {
    "collapsed": false
   },
   "outputs": [
    {
     "data": {
      "text/html": [
       "<table><tr><th colspan=\"4\">Daru::DataFrame:17258300  rows: 5  cols: 3<tr><th></th><th>Account</th><th>Price</th><th>Quantity</th></tr><tr><td>[\"Debra Henley\", \"Craig Booker\"]</td><td>720237.0</td><td>20000.0</td><td>1.25</td></tr><tr><td>[\"Debra Henley\", \"Daniel Hilton\"]</td><td>194874.0</td><td>38333.333333333336</td><td>1.6666666666666667</td></tr><tr><td>[\"Debra Henley\", \"John Smith\"]</td><td>576220.0</td><td>20000.0</td><td>1.5</td></tr><tr><td>[\"Fred Anderson\", \"Cedric Moss\"]</td><td>196016.5</td><td>27500.0</td><td>1.25</td></tr><tr><td>[\"Fred Anderson\", \"Wendy Yule\"]</td><td>614061.5</td><td>44250.0</td><td>3.0</td></tr></table>"
      ],
      "text/plain": [
       "\n",
       "#<Daru::DataFrame:17258300 @name = 94222eb4-5a5d-4951-ad23-dd5d46ce6955 @size = 5>\n",
       "              Account      Price   Quantity \n",
       "[\"Debra He   720237.0    20000.0       1.25 \n",
       "[\"Debra He   194874.0 38333.3333 1.66666666 \n",
       "[\"Debra He   576220.0    20000.0        1.5 \n",
       "[\"Fred And   196016.5    27500.0       1.25 \n",
       "[\"Fred And   614061.5    44250.0        3.0 \n"
      ]
     },
     "execution_count": 9,
     "metadata": {},
     "output_type": "execute_result"
    }
   ],
   "source": [
    "sales.pivot_table index: ['Manager', 'Rep']"
   ]
  },
  {
   "cell_type": "markdown",
   "metadata": {},
   "source": [
    "You can also specify the `:values` option for specifying which Vector is to be used for the values.\n",
    "\n",
    "The `:vectors` options lets you specify the columns to pivot against.\n",
    "\n",
    "The `:agg` option specifies the aggregation function. This can be any stats method like :mean, :median, :product, etc."
   ]
  },
  {
   "cell_type": "code",
   "execution_count": 10,
   "metadata": {
    "collapsed": false
   },
   "outputs": [
    {
     "data": {
      "text/html": [
       "<table><tr><th colspan=\"13\">Daru::DataFrame:15752920  rows: 5  cols: 12<tr><th></th><th>[\"Account\", \"CPU\"]</th><th>[\"Account\", \"Software\"]</th><th>[\"Account\", \"Maintenance\"]</th><th>[\"Price\", \"CPU\"]</th><th>[\"Price\", \"Software\"]</th><th>[\"Price\", \"Maintenance\"]</th><th>[\"Quantity\", \"CPU\"]</th><th>[\"Quantity\", \"Software\"]</th><th>[\"Quantity\", \"Maintenance\"]</th><th>[\"Account\", \"Monitor\"]</th><th>[\"Price\", \"Monitor\"]</th><th>[\"Quantity\", \"Monitor\"]</th></tr><tr><td>[\"Debra Henley\", \"Craig Booker\"]</td><td>1452016</td><td>714466</td><td>714466</td><td>65000</td><td>10000</td><td>5000</td><td>2</td><td>1</td><td>2</td><td></td><td></td><td></td></tr><tr><td>[\"Debra Henley\", \"Daniel Hilton\"]</td><td>365727</td><td>218895</td><td></td><td>105000</td><td>10000</td><td></td><td>4</td><td>1</td><td></td><td></td><td></td><td></td></tr><tr><td>[\"Debra Henley\", \"John Smith\"]</td><td>740150</td><td></td><td>412290</td><td>35000</td><td></td><td>5000</td><td>1</td><td></td><td>2</td><td></td><td></td><td></td></tr><tr><td>[\"Fred Anderson\", \"Cedric Moss\"]</td><td>305378</td><td>239344</td><td>239344</td><td>95000</td><td>10000</td><td>5000</td><td>3</td><td>1</td><td>1</td><td></td><td></td><td></td></tr><tr><td>[\"Fred Anderson\", \"Wendy Yule\"]</td><td>1418814</td><td></td><td>307599</td><td>165000</td><td></td><td>7000</td><td>7</td><td></td><td>3</td><td>729833</td><td>5000</td><td>2</td></tr></table>"
      ],
      "text/plain": [
       "\n",
       "#<Daru::DataFrame:15752920 @name = 4d2eecf8-37b3-4719-b9e8-c2efe31bdab9 @size = 5>\n",
       "           [\"Account\" [\"Account\" [\"Account\" [\"Price\",  [\"Price\",  [\"Price\",  [\"Quantity [\"Quantity [\"Quantity [\"Account\" [\"Price\",  [\"Quantity \n",
       "[\"Debra He    1452016     714466     714466      65000      10000       5000          2          1          2        nil        nil        nil \n",
       "[\"Debra He     365727     218895        nil     105000      10000        nil          4          1        nil        nil        nil        nil \n",
       "[\"Debra He     740150        nil     412290      35000        nil       5000          1        nil          2        nil        nil        nil \n",
       "[\"Fred And     305378     239344     239344      95000      10000       5000          3          1          1        nil        nil        nil \n",
       "[\"Fred And    1418814        nil     307599     165000        nil       7000          7        nil          3     729833       5000          2 \n"
      ]
     },
     "execution_count": 10,
     "metadata": {},
     "output_type": "execute_result"
    }
   ],
   "source": [
    "sales.pivot_table(index: ['Manager','Rep'], values: 'Price', vectors: ['Product'], agg: :sum)"
   ]
  }
 ],
 "metadata": {
  "kernelspec": {
   "display_name": "Ruby 2.2.1",
   "language": "ruby",
   "name": "ruby"
  },
  "language_info": {
   "file_extension": ".rb",
   "mimetype": "application/x-ruby",
   "name": "ruby",
   "version": "2.2.1"
  }
 },
 "nbformat": 4,
 "nbformat_minor": 0
}
