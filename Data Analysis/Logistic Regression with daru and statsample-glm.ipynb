{
 "cells": [
  {
   "cell_type": "markdown",
   "metadata": {},
   "source": [
    "# Logistic Regression with daru and statsample-glm\n",
    "\n",
    "In this notebook we'll see with some examples how the probability of a given outcome can be predicted with logistic regression using daru and statsample-glm."
   ]
  },
  {
   "cell_type": "code",
   "execution_count": 1,
   "metadata": {
    "collapsed": false
   },
   "outputs": [
    {
     "data": {
      "application/javascript": [
       "if(window['d3'] === undefined ||\n",
       "   window['Nyaplot'] === undefined){\n",
       "    var path = {\"d3\":\"http://d3js.org/d3.v3.min\",\"downloadable\":\"http://cdn.rawgit.com/domitry/d3-downloadable/master/d3-downloadable\"};\n",
       "\n",
       "\n",
       "\n",
       "    var shim = {\"d3\":{\"exports\":\"d3\"},\"downloadable\":{\"exports\":\"downloadable\"}};\n",
       "\n",
       "    require.config({paths: path, shim:shim});\n",
       "\n",
       "\n",
       "require(['d3'], function(d3){window['d3']=d3;console.log('finished loading d3');require(['downloadable'], function(downloadable){window['downloadable']=downloadable;console.log('finished loading downloadable');\n",
       "\n",
       "\tvar script = d3.select(\"head\")\n",
       "\t    .append(\"script\")\n",
       "\t    .attr(\"src\", \"http://cdn.rawgit.com/domitry/Nyaplotjs/master/release/nyaplot.js\")\n",
       "\t    .attr(\"async\", true);\n",
       "\n",
       "\tscript[0][0].onload = script[0][0].onreadystatechange = function(){\n",
       "\n",
       "\n",
       "\t    var event = document.createEvent(\"HTMLEvents\");\n",
       "\t    event.initEvent(\"load_nyaplot\",false,false);\n",
       "\t    window.dispatchEvent(event);\n",
       "\t    console.log('Finished loading Nyaplotjs');\n",
       "\n",
       "\t};\n",
       "\n",
       "\n",
       "});});\n",
       "}\n"
      ],
      "text/plain": [
       "\"if(window['d3'] === undefined ||\\n   window['Nyaplot'] === undefined){\\n    var path = {\\\"d3\\\":\\\"http://d3js.org/d3.v3.min\\\",\\\"downloadable\\\":\\\"http://cdn.rawgit.com/domitry/d3-downloadable/master/d3-downloadable\\\"};\\n\\n\\n\\n    var shim = {\\\"d3\\\":{\\\"exports\\\":\\\"d3\\\"},\\\"downloadable\\\":{\\\"exports\\\":\\\"downloadable\\\"}};\\n\\n    require.config({paths: path, shim:shim});\\n\\n\\nrequire(['d3'], function(d3){window['d3']=d3;console.log('finished loading d3');require(['downloadable'], function(downloadable){window['downloadable']=downloadable;console.log('finished loading downloadable');\\n\\n\\tvar script = d3.select(\\\"head\\\")\\n\\t    .append(\\\"script\\\")\\n\\t    .attr(\\\"src\\\", \\\"http://cdn.rawgit.com/domitry/Nyaplotjs/master/release/nyaplot.js\\\")\\n\\t    .attr(\\\"async\\\", true);\\n\\n\\tscript[0][0].onload = script[0][0].onreadystatechange = function(){\\n\\n\\n\\t    var event = document.createEvent(\\\"HTMLEvents\\\");\\n\\t    event.initEvent(\\\"load_nyaplot\\\",false,false);\\n\\t    window.dispatchEvent(event);\\n\\t    console.log('Finished loading Nyaplotjs');\\n\\n\\t};\\n\\n\\n});});\\n}\\n\""
      ]
     },
     "metadata": {},
     "output_type": "display_data"
    },
    {
     "data": {
      "text/plain": [
       "true"
      ]
     },
     "execution_count": 1,
     "metadata": {},
     "output_type": "execute_result"
    }
   ],
   "source": [
    "require 'daru'\n",
    "require 'statsample-glm'\n",
    "require 'open-uri'"
   ]
  },
  {
   "cell_type": "markdown",
   "metadata": {},
   "source": [
    "For this notebook, we will utilize [this dataset](http://www.ats.ucla.edu/stat/data/binary.csv) denoting whether students got admission for a graduate degree program depending on their GRE scores, GPA and rank of the institute they did an undergraduate degree in (ranked from 1 to 4).\n",
    "\n",
    "It should be noted that statsample-glm does not yet support categorical data so the ranks will be treated as continuos."
   ]
  },
  {
   "cell_type": "code",
   "execution_count": 2,
   "metadata": {
    "collapsed": false
   },
   "outputs": [
    {
     "data": {
      "text/html": [
       "<table><tr><th colspan=\"5\">Daru::DataFrame:86260390  rows: 400  cols: 4<tr><th></th><th>admit</th><th>gpa</th><th>gre</th><th>rank</th></tr><tr><td>0</td><td>0</td><td>3.61</td><td>380</td><td>3</td></tr><tr><td>1</td><td>1</td><td>3.67</td><td>660</td><td>3</td></tr><tr><td>2</td><td>1</td><td>4</td><td>800</td><td>1</td></tr><tr><td>3</td><td>1</td><td>3.19</td><td>640</td><td>4</td></tr><tr><td>4</td><td>0</td><td>2.93</td><td>520</td><td>4</td></tr><tr><td>5</td><td>1</td><td>3</td><td>760</td><td>2</td></tr><tr><td>6</td><td>1</td><td>2.98</td><td>560</td><td>1</td></tr><tr><td>7</td><td>0</td><td>3.08</td><td>400</td><td>2</td></tr><tr><td>8</td><td>1</td><td>3.39</td><td>540</td><td>3</td></tr><tr><td>9</td><td>0</td><td>3.92</td><td>700</td><td>2</td></tr><tr><td>10</td><td>0</td><td>4</td><td>800</td><td>4</td></tr><tr><td>11</td><td>0</td><td>3.22</td><td>440</td><td>1</td></tr><tr><td>12</td><td>1</td><td>4</td><td>760</td><td>1</td></tr><tr><td>13</td><td>0</td><td>3.08</td><td>700</td><td>2</td></tr><tr><td>14</td><td>1</td><td>4</td><td>700</td><td>1</td></tr><tr><td>15</td><td>0</td><td>3.44</td><td>480</td><td>3</td></tr><tr><td>16</td><td>0</td><td>3.87</td><td>780</td><td>4</td></tr><tr><td>17</td><td>0</td><td>2.56</td><td>360</td><td>3</td></tr><tr><td>18</td><td>0</td><td>3.75</td><td>800</td><td>2</td></tr><tr><td>19</td><td>1</td><td>3.81</td><td>540</td><td>1</td></tr><tr><td>20</td><td>0</td><td>3.17</td><td>500</td><td>3</td></tr><tr><td>21</td><td>1</td><td>3.63</td><td>660</td><td>2</td></tr><tr><td>22</td><td>0</td><td>2.82</td><td>600</td><td>4</td></tr><tr><td>23</td><td>0</td><td>3.19</td><td>680</td><td>4</td></tr><tr><td>24</td><td>1</td><td>3.35</td><td>760</td><td>2</td></tr><tr><td>25</td><td>1</td><td>3.66</td><td>800</td><td>1</td></tr><tr><td>26</td><td>1</td><td>3.61</td><td>620</td><td>1</td></tr><tr><td>27</td><td>1</td><td>3.74</td><td>520</td><td>4</td></tr><tr><td>28</td><td>1</td><td>3.22</td><td>780</td><td>2</td></tr><tr><td>29</td><td>0</td><td>3.29</td><td>520</td><td>1</td></tr><tr><td>30</td><td>0</td><td>3.78</td><td>540</td><td>4</td></tr><tr><td>31</td><td>0</td><td>3.35</td><td>760</td><td>3</td></tr><tr><td>...</td><td>...</td><td>...</td><td>...</td><td>...</td></tr><tr><td>399</td><td>0</td><td>3.89</td><td>600</td><td>3</td></tr></table>"
      ],
      "text/plain": [
       "\n",
       "#<Daru::DataFrame:86260390 @name = f90ecc05-5f22-48a8-9fa4-aeaea413f31a @size = 400>\n",
       "                admit        gpa        gre       rank \n",
       "         0          0       3.61        380          3 \n",
       "         1          1       3.67        660          3 \n",
       "         2          1          4        800          1 \n",
       "         3          1       3.19        640          4 \n",
       "         4          0       2.93        520          4 \n",
       "         5          1          3        760          2 \n",
       "         6          1       2.98        560          1 \n",
       "         7          0       3.08        400          2 \n",
       "         8          1       3.39        540          3 \n",
       "         9          0       3.92        700          2 \n",
       "        10          0          4        800          4 \n",
       "        11          0       3.22        440          1 \n",
       "        12          1          4        760          1 \n",
       "        13          0       3.08        700          2 \n",
       "        14          1          4        700          1 \n",
       "       ...        ...        ...        ...        ... \n"
      ]
     },
     "execution_count": 2,
     "metadata": {},
     "output_type": "execute_result"
    }
   ],
   "source": [
    "content = open('http://www.ats.ucla.edu/stat/data/binary.csv')\n",
    "File.write('binary.csv', content.read)\n",
    "\n",
    "df = Daru::DataFrame.from_csv \"binary.csv\"\n",
    "df.vectors = Daru::Index.new([:admit, :gpa, :gre, :rank])\n",
    "df"
   ]
  },
  {
   "cell_type": "markdown",
   "metadata": {},
   "source": [
    "Use the `Statsampel::GLM.compute` method for logisitic regression analysis.\n",
    "\n",
    "The first method in the `compute` function is the DataFrame object, followed by the Vector that is to be the dependent variable, and then the method to be used for the link function. Can be :logit, :probit, :poisson or :normal.\n",
    "\n",
    "The `coefficients` method calculates the coefficients of the GLM and returns them as a Hash."
   ]
  },
  {
   "cell_type": "code",
   "execution_count": 3,
   "metadata": {
    "collapsed": false
   },
   "outputs": [
    {
     "data": {
      "text/plain": [
       "{:gpa=>0.777013573719857, :gre=>0.0022939595044433273, :rank=>-0.5600313868499897, :constant=>-3.4495483976684773}"
      ]
     },
     "execution_count": 3,
     "metadata": {},
     "output_type": "execute_result"
    }
   ],
   "source": [
    "glm = Statsample::GLM::compute df, :admit, :logistic, constant: 1\n",
    "c = glm.coefficients :hash"
   ]
  },
  {
   "cell_type": "markdown",
   "metadata": {},
   "source": [
    "The logistic regression coefficients give the change in the log odds of the outcome for a one unit increase in the predictor variable.\n",
    "\n",
    "Therefore, to interpret each of the above co-efficients:\n",
    "* For every one unit change in gre, the log odds of admission (versus non-admission) increases by **0.002**.\n",
    "* For a one unit increase in gpa, the log odds of being admitted to graduate school increases by **0.777**.\n",
    "* For every increase in the rank number of the institute (aka decrease in quality of the institute), the log odds of being admitted to graduate school increase by **-0.56**.\n",
    "\n",
    "Log odds become a little difficult to interpret, so we'll exponentiate each of the co-efficients so that each co-efficient can be interpreted as an odds-ratio."
   ]
  },
  {
   "cell_type": "code",
   "execution_count": 4,
   "metadata": {
    "collapsed": false
   },
   "outputs": [
    {
     "data": {
      "text/html": [
       "<table><tr><th colspan=\"2\">Daru::Vector:84429200  size: 4</th></tr><tr><th> </th><th>nil</th></tr><tr><td>gpa</td><td>2.174967177712439</td></tr><tr><td>gre</td><td>1.0022965926425997</td></tr><tr><td>rank</td><td>0.571191135676971</td></tr><tr><td>constant</td><td>0.03175997601913591</td></tr></table>"
      ],
      "text/plain": [
       "\n",
       "#<Daru::Vector:84429200 @name = nil @size = 4 >\n",
       "                                    nil\n",
       "                gpa   2.174967177712439\n",
       "                gre  1.0022965926425997\n",
       "               rank   0.571191135676971\n",
       "           constant 0.03175997601913591\n"
      ]
     },
     "execution_count": 4,
     "metadata": {},
     "output_type": "execute_result"
    }
   ],
   "source": [
    "Daru::Vector.new(c).exp # Calling `#exp` on Daru::Vector exponentiates each element of the Vector."
   ]
  },
  {
   "cell_type": "markdown",
   "metadata": {},
   "source": [
    "We can now compute the probability of gaining admission into a graduate college based on the rank of the undergraduate college, by keeping the GRE score and GPA constant.\n",
    "\n",
    "As you can see in the result below, the `rankp` Vector shows the probability of admission based on the rank. The person from the most highly rated undergrad school (rank 1) has a probability of **0.49** of getting admitted into graduate school."
   ]
  },
  {
   "cell_type": "code",
   "execution_count": 5,
   "metadata": {
    "collapsed": false
   },
   "outputs": [
    {
     "data": {
      "text/html": [
       "<table><tr><th colspan=\"5\">Daru::DataFrame:84134020  rows: 4  cols: 4<tr><th></th><th>gpa</th><th>gre</th><th>rank</th><th>rankp</th></tr><tr><td>1</td><td>3.3899000000000017</td><td>587.7</td><td>1</td><td>0.4931450619837156</td></tr><tr><td>3</td><td>3.3899000000000017</td><td>587.7</td><td>2</td><td>0.357219500353945</td></tr><tr><td>0</td><td>3.3899000000000017</td><td>587.7</td><td>3</td><td>0.240948896129993</td></tr><tr><td>2</td><td>3.3899000000000017</td><td>587.7</td><td>4</td><td>0.1534862275970381</td></tr></table>"
      ],
      "text/plain": [
       "\n",
       "#<Daru::DataFrame:84134020 @name = 46d7d77b-dda4-4c43-93d7-246aea410724 @size = 4>\n",
       "                  gpa        gre       rank      rankp \n",
       "         1 3.38990000      587.7          1 0.49314506 \n",
       "         3 3.38990000      587.7          2 0.35721950 \n",
       "         0 3.38990000      587.7          3 0.24094889 \n",
       "         2 3.38990000      587.7          4 0.15348622 \n"
      ]
     },
     "execution_count": 5,
     "metadata": {},
     "output_type": "execute_result"
    }
   ],
   "source": [
    "e = Math::E\n",
    "new_data = Daru::DataFrame.new({\n",
    "  gre: [df[:gre].mean]*4,\n",
    "  gpa: [df[:gpa].mean]*4,\n",
    "  rank: df[:rank].factors\n",
    "  })\n",
    "\n",
    "new_data[:rankp] = new_data.collect(:row) do |x|\n",
    "  1 / (1 + e ** -(c[:constant]  + x[:gre] * c[:gre] + x[:gpa] * c[:gpa] + x[:rank] * c[:rank]))\n",
    "end\n",
    "\n",
    "new_data.sort! [:rank]"
   ]
  },
  {
   "cell_type": "markdown",
   "metadata": {},
   "source": [
    "To demonstrate with another example, lets create a hypothetical dataset consisting of the body weight of 20 people and whether they survived or not.\n",
    "\n",
    "For this example we will just assume that people with less body weight have lesser chances of survival."
   ]
  },
  {
   "cell_type": "code",
   "execution_count": 6,
   "metadata": {
    "collapsed": false
   },
   "outputs": [
    {
     "data": {
      "text/html": [
       "<table><tr><th colspan=\"3\">Daru::DataFrame:79607500  rows: 20  cols: 2<tr><th></th><th>body_weight</th><th>survive</th></tr><tr><td>0</td><td>26.549216068624</td><td>0</td></tr><tr><td>1</td><td>27.536951405895802</td><td>0</td></tr><tr><td>2</td><td>27.630415185983107</td><td>0</td></tr><tr><td>3</td><td>27.690055295887653</td><td>0</td></tr><tr><td>4</td><td>28.523206001468417</td><td>0</td></tr><tr><td>5</td><td>29.030312984729367</td><td>1</td></tr><tr><td>6</td><td>29.807943543035645</td><td>0</td></tr><tr><td>7</td><td>29.99535853392751</td><td>1</td></tr><tr><td>8</td><td>30.091673469038692</td><td>0</td></tr><tr><td>9</td><td>30.29761751710971</td><td>0</td></tr><tr><td>10</td><td>30.50341566956734</td><td>1</td></tr><tr><td>11</td><td>30.514699417152965</td><td>1</td></tr><tr><td>12</td><td>30.571179195500545</td><td>0</td></tr><tr><td>13</td><td>31.015315802803272</td><td>1</td></tr><tr><td>14</td><td>31.557123074483492</td><td>1</td></tr><tr><td>15</td><td>31.851186176960134</td><td>1</td></tr><tr><td>16</td><td>32.20991302793521</td><td>0</td></tr><tr><td>17</td><td>32.25127969292785</td><td>1</td></tr><tr><td>18</td><td>33.31693339495288</td><td>1</td></tr><tr><td>19</td><td>33.515674562486545</td><td>1</td></tr></table>"
      ],
      "text/plain": [
       "\n",
       "#<Daru::DataFrame:79607500 @name = 645bceb6-8e8a-4205-87db-73360cd88118 @size = 20>\n",
       "           body_weigh    survive \n",
       "         0 26.5492160          0 \n",
       "         1 27.5369514          0 \n",
       "         2 27.6304151          0 \n",
       "         3 27.6900552          0 \n",
       "         4 28.5232060          0 \n",
       "         5 29.0303129          1 \n",
       "         6 29.8079435          0 \n",
       "         7 29.9953585          1 \n",
       "         8 30.0916734          0 \n",
       "         9 30.2976175          0 \n",
       "        10 30.5034156          1 \n",
       "        11 30.5146994          1 \n",
       "        12 30.5711791          0 \n",
       "        13 31.0153158          1 \n",
       "        14 31.5571230          1 \n",
       "       ...        ...        ... \n"
      ]
     },
     "execution_count": 6,
     "metadata": {},
     "output_type": "execute_result"
    }
   ],
   "source": [
    "require 'distribution'\n",
    "\n",
    "# Create a normally distributed Vector with mean 30 and standard deviation 2\n",
    "rng = Distribution::Normal.rng(30,2)\n",
    "body_weight = Daru::Vector.new(20.times.map { rng.call }.sort)\n",
    "\n",
    "# Populate chances of survival, assume that people with less body weight on average\n",
    "# are less likely to survive.\n",
    "survive = Daru::Vector.new [0,0,0,0,0,1,0,1,0,0,1,1,0,1,1,1,0,1,1,1]\n",
    "\n",
    "df = Daru::DataFrame.new({\n",
    "  body_weight: body_weight,\n",
    "  survive: survive\n",
    "})"
   ]
  },
  {
   "cell_type": "markdown",
   "metadata": {},
   "source": [
    "Compute the logistic regression co-efficients."
   ]
  },
  {
   "cell_type": "code",
   "execution_count": 7,
   "metadata": {
    "collapsed": false
   },
   "outputs": [
    {
     "data": {
      "text/plain": [
       "{:body_weight=>0.9276058710911881, :constant=>-28.082815693129945}"
      ]
     },
     "execution_count": 7,
     "metadata": {},
     "output_type": "execute_result"
    }
   ],
   "source": [
    "glm    = Statsample::GLM.compute df, :survive, :logistic, constant: 1\n",
    "coeffs = glm.coefficients :hash"
   ]
  },
  {
   "cell_type": "markdown",
   "metadata": {},
   "source": [
    "Based on the coefficients, we compute the predicted probabilities for each number in the Vector :body_weight and store them in another Vector called `:survive_pred`."
   ]
  },
  {
   "cell_type": "code",
   "execution_count": 8,
   "metadata": {
    "collapsed": false
   },
   "outputs": [
    {
     "data": {
      "text/html": [
       "<table><tr><th colspan=\"4\">Daru::DataFrame:79607500  rows: 20  cols: 3<tr><th></th><th>body_weight</th><th>survive</th><th>survive_pred</th></tr><tr><td>0</td><td>26.549216068624</td><td>0</td><td>0.030602085999618323</td></tr><tr><td>1</td><td>27.536951405895802</td><td>0</td><td>0.07314333669065666</td></tr><tr><td>2</td><td>27.630415185983107</td><td>0</td><td>0.07924276148897372</td></tr><tr><td>3</td><td>27.690055295887653</td><td>0</td><td>0.08337439719954785</td></tr><tr><td>4</td><td>28.523206001468417</td><td>0</td><td>0.164582127639518</td></tr><tr><td>5</td><td>29.030312984729367</td><td>1</td><td>0.23973609014799296</td></tr><tr><td>6</td><td>29.807943543035645</td><td>0</td><td>0.39345976375888436</td></tr><tr><td>7</td><td>29.99535853392751</td><td>1</td><td>0.4356230653815916</td></tr><tr><td>8</td><td>30.091673469038692</td><td>0</td><td>0.45770066865408976</td></tr><tr><td>9</td><td>30.29761751710971</td><td>0</td><td>0.5053578438667367</td></tr><tr><td>10</td><td>30.50341566956734</td><td>1</td><td>0.5528844015750001</td></tr><tr><td>11</td><td>30.514699417152965</td><td>1</td><td>0.555470390835559</td></tr><tr><td>12</td><td>30.571179195500545</td><td>0</td><td>0.5683665015249316</td></tr><tr><td>13</td><td>31.015315802803272</td><td>1</td><td>0.6653378272920787</td></tr><tr><td>14</td><td>31.557123074483492</td><td>1</td><td>0.7666975913077382</td></tr><tr><td>15</td><td>31.851186176960134</td><td>1</td><td>0.8119195719539583</td></tr><tr><td>16</td><td>32.20991302793521</td><td>0</td><td>0.8575744681416743</td></tr><tr><td>17</td><td>32.25127969292785</td><td>1</td><td>0.862197243142135</td></tr><tr><td>18</td><td>33.31693339495288</td><td>1</td><td>0.9438620162584023</td></tr><tr><td>19</td><td>33.515674562486545</td><td>1</td><td>0.9528678471409187</td></tr></table>"
      ],
      "text/plain": [
       "\n",
       "#<Daru::DataFrame:79607500 @name = 645bceb6-8e8a-4205-87db-73360cd88118 @size = 20>\n",
       "           body_weigh    survive survive_pr \n",
       "         0 26.5492160          0 0.03060208 \n",
       "         1 27.5369514          0 0.07314333 \n",
       "         2 27.6304151          0 0.07924276 \n",
       "         3 27.6900552          0 0.08337439 \n",
       "         4 28.5232060          0 0.16458212 \n",
       "         5 29.0303129          1 0.23973609 \n",
       "         6 29.8079435          0 0.39345976 \n",
       "         7 29.9953585          1 0.43562306 \n",
       "         8 30.0916734          0 0.45770066 \n",
       "         9 30.2976175          0 0.50535784 \n",
       "        10 30.5034156          1 0.55288440 \n",
       "        11 30.5146994          1 0.55547039 \n",
       "        12 30.5711791          0 0.56836650 \n",
       "        13 31.0153158          1 0.66533782 \n",
       "        14 31.5571230          1 0.76669759 \n",
       "       ...        ...        ...        ... \n"
      ]
     },
     "execution_count": 8,
     "metadata": {},
     "output_type": "execute_result"
    }
   ],
   "source": [
    "e = Math::E\n",
    "df[:survive_pred] = df[:body_weight].map { |x| 1 / (1 + e ** -(coeffs[:constant] + x*coeffs[:body_weight])) }\n",
    "df"
   ]
  },
  {
   "cell_type": "markdown",
   "metadata": {},
   "source": [
    "The above results can then be plotted using the `plot` function.\n",
    "\n",
    "The curve looks is an ideal logit regression curve."
   ]
  },
  {
   "cell_type": "code",
   "execution_count": 9,
   "metadata": {
    "collapsed": false
   },
   "outputs": [
    {
     "data": {
      "text/html": [
       "<div id='vis-2541159b-1a35-467c-bb29-8a54b9329cf0'></div>\n",
       "<script>\n",
       "(function(){\n",
       "    var render = function(){\n",
       "        var model = {\"panes\":[{\"diagrams\":[{\"type\":\"scatter\",\"options\":{\"x\":\"body_weight\",\"y\":\"survive_pred\"},\"data\":\"17b0a257-b84b-4051-80ed-2987d958a692\"},{\"type\":\"line\",\"options\":{\"x\":\"body_weight\",\"y\":\"survive_pred\"},\"data\":\"17b0a257-b84b-4051-80ed-2987d958a692\"}],\"options\":{\"x_label\":\"Body Weight\",\"y_label\":\"Probability of Survival\",\"zoom\":true,\"width\":700,\"xrange\":[26.549216068624,33.515674562486545],\"yrange\":[0.030602085999618323,0.9528678471409187]}}],\"data\":{\"17b0a257-b84b-4051-80ed-2987d958a692\":[{\"body_weight\":26.549216068624,\"survive\":0,\"survive_pred\":0.030602085999618323},{\"body_weight\":27.536951405895802,\"survive\":0,\"survive_pred\":0.07314333669065666},{\"body_weight\":27.630415185983107,\"survive\":0,\"survive_pred\":0.07924276148897372},{\"body_weight\":27.690055295887653,\"survive\":0,\"survive_pred\":0.08337439719954785},{\"body_weight\":28.523206001468417,\"survive\":0,\"survive_pred\":0.164582127639518},{\"body_weight\":29.030312984729367,\"survive\":1,\"survive_pred\":0.23973609014799296},{\"body_weight\":29.807943543035645,\"survive\":0,\"survive_pred\":0.39345976375888436},{\"body_weight\":29.99535853392751,\"survive\":1,\"survive_pred\":0.4356230653815916},{\"body_weight\":30.091673469038692,\"survive\":0,\"survive_pred\":0.45770066865408976},{\"body_weight\":30.29761751710971,\"survive\":0,\"survive_pred\":0.5053578438667367},{\"body_weight\":30.50341566956734,\"survive\":1,\"survive_pred\":0.5528844015750001},{\"body_weight\":30.514699417152965,\"survive\":1,\"survive_pred\":0.555470390835559},{\"body_weight\":30.571179195500545,\"survive\":0,\"survive_pred\":0.5683665015249316},{\"body_weight\":31.015315802803272,\"survive\":1,\"survive_pred\":0.6653378272920787},{\"body_weight\":31.557123074483492,\"survive\":1,\"survive_pred\":0.7666975913077382},{\"body_weight\":31.851186176960134,\"survive\":1,\"survive_pred\":0.8119195719539583},{\"body_weight\":32.20991302793521,\"survive\":0,\"survive_pred\":0.8575744681416743},{\"body_weight\":32.25127969292785,\"survive\":1,\"survive_pred\":0.862197243142135},{\"body_weight\":33.31693339495288,\"survive\":1,\"survive_pred\":0.9438620162584023},{\"body_weight\":33.515674562486545,\"survive\":1,\"survive_pred\":0.9528678471409187}]},\"extension\":[]}\n",
       "        var id_name = '#vis-2541159b-1a35-467c-bb29-8a54b9329cf0';\n",
       "        Nyaplot.core.parse(model, id_name);\n",
       "\n",
       "        require(['downloadable'], function(downloadable){\n",
       "          var svg = d3.select(id_name).select(\"svg\");\n",
       "\t  if(!svg.empty())\n",
       "\t    svg.call(downloadable().filename('fig'));\n",
       "\t});\n",
       "    };\n",
       "    if(window['Nyaplot']==undefined){\n",
       "        window.addEventListener('load_nyaplot', render, false);\n",
       "\treturn;\n",
       "    } else {\n",
       "       render();\n",
       "    }\n",
       "})();\n",
       "</script>\n"
      ],
      "text/plain": [
       "#<Nyaplot::Frame:0x8e84f60 @properties={:panes=>[#<Nyaplot::Plot:0x8ea0224 @properties={:diagrams=>[#<Nyaplot::Diagram:0x8e85b18 @properties={:type=>:scatter, :options=>{:x=>:body_weight, :y=>:survive_pred}, :data=>\"17b0a257-b84b-4051-80ed-2987d958a692\"}, @xrange=[26.549216068624, 33.515674562486545], @yrange=[0.030602085999618323, 0.9528678471409187]>, #<Nyaplot::Diagram:0x8e855c8 @properties={:type=>:line, :options=>{:x=>:body_weight, :y=>:survive_pred}, :data=>\"17b0a257-b84b-4051-80ed-2987d958a692\"}, @xrange=[26.549216068624, 33.515674562486545], @yrange=[0.030602085999618323, 0.9528678471409187]>], :options=>{:x_label=>\"Body Weight\", :y_label=>\"Probability of Survival\", :zoom=>true, :width=>700, :xrange=>[26.549216068624, 33.515674562486545], :yrange=>[0.030602085999618323, 0.9528678471409187]}}>], :data=>{\"17b0a257-b84b-4051-80ed-2987d958a692\"=>#<Nyaplot::DataFrame:0x8e864b4 @name=\"17b0a257-b84b-4051-80ed-2987d958a692\", @rows=[{:body_weight=>26.549216068624, :survive=>0, :survive_pred=>0.030602085999618323}, {:body_weight=>27.536951405895802, :survive=>0, :survive_pred=>0.07314333669065666}, {:body_weight=>27.630415185983107, :survive=>0, :survive_pred=>0.07924276148897372}, {:body_weight=>27.690055295887653, :survive=>0, :survive_pred=>0.08337439719954785}, {:body_weight=>28.523206001468417, :survive=>0, :survive_pred=>0.164582127639518}, {:body_weight=>29.030312984729367, :survive=>1, :survive_pred=>0.23973609014799296}, {:body_weight=>29.807943543035645, :survive=>0, :survive_pred=>0.39345976375888436}, {:body_weight=>29.99535853392751, :survive=>1, :survive_pred=>0.4356230653815916}, {:body_weight=>30.091673469038692, :survive=>0, :survive_pred=>0.45770066865408976}, {:body_weight=>30.29761751710971, :survive=>0, :survive_pred=>0.5053578438667367}, {:body_weight=>30.50341566956734, :survive=>1, :survive_pred=>0.5528844015750001}, {:body_weight=>30.514699417152965, :survive=>1, :survive_pred=>0.555470390835559}, {:body_weight=>30.571179195500545, :survive=>0, :survive_pred=>0.5683665015249316}, {:body_weight=>31.015315802803272, :survive=>1, :survive_pred=>0.6653378272920787}, {:body_weight=>31.557123074483492, :survive=>1, :survive_pred=>0.7666975913077382}, {:body_weight=>31.851186176960134, :survive=>1, :survive_pred=>0.8119195719539583}, {:body_weight=>32.20991302793521, :survive=>0, :survive_pred=>0.8575744681416743}, {:body_weight=>32.25127969292785, :survive=>1, :survive_pred=>0.862197243142135}, {:body_weight=>33.31693339495288, :survive=>1, :survive_pred=>0.9438620162584023}, {:body_weight=>33.515674562486545, :survive=>1, :survive_pred=>0.9528678471409187}]>}, :extension=>[]}>"
      ]
     },
     "metadata": {},
     "output_type": "display_data"
    }
   ],
   "source": [
    "df.plot type: [:scatter,:line], x: [:body_weight]*2, y: [:survive_pred]*2 do |plot, diagram|\n",
    "  plot.x_label \"Body Weight\"\n",
    "  plot.y_label \"Probability of Survival\"\n",
    "end"
   ]
  }
 ],
 "metadata": {
  "kernelspec": {
   "display_name": "Ruby 2.2.1",
   "language": "ruby",
   "name": "ruby"
  },
  "language_info": {
   "file_extension": ".rb",
   "mimetype": "application/x-ruby",
   "name": "ruby",
   "version": "2.2.1"
  }
 },
 "nbformat": 4,
 "nbformat_minor": 0
}
