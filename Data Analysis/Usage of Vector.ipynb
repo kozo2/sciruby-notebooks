{
 "cells": [
  {
   "cell_type": "markdown",
   "metadata": {},
   "source": [
    "# A Glimpse of Daru::Vector\n",
    "\n",
    "In [daru](https://github.com/v0dro/daru), the Daru::Vector is a 1 dimensional array with axis labels.\n",
    "\n",
    "Labels should be unique. The object supports both integer- and label-based indexing and provides a host of methods for performing operations involving the index. Statistical methods automatically exclude missing data (currently represented by default as nil).\n",
    "\n",
    "Operations between Vectors (+, -, /, , \\*) align values based on their associated index values. The Vectors need not be of similar length. The result index will be the sorted union of the two indexes.\n",
    "\n",
    "Daru::Vector is similar to pandas.Series."
   ]
  },
  {
   "cell_type": "markdown",
   "metadata": {},
   "source": [
    "The examples below demonstrates how a simple Daru::Vector can be created and its data viewed.\n",
    "\n",
    "This first example shows very basic creation of a Vector with missing data (represented by *nil*)."
   ]
  },
  {
   "cell_type": "code",
   "execution_count": 1,
   "metadata": {
    "collapsed": false
   },
   "outputs": [
    {
     "data": {
      "application/javascript": [
       "if(window['d3'] === undefined ||\n",
       "   window['Nyaplot'] === undefined){\n",
       "    var path = {\"d3\":\"http://d3js.org/d3.v3.min\",\"downloadable\":\"http://cdn.rawgit.com/domitry/d3-downloadable/master/d3-downloadable\"};\n",
       "\n",
       "\n",
       "\n",
       "    var shim = {\"d3\":{\"exports\":\"d3\"},\"downloadable\":{\"exports\":\"downloadable\"}};\n",
       "\n",
       "    require.config({paths: path, shim:shim});\n",
       "\n",
       "\n",
       "require(['d3'], function(d3){window['d3']=d3;console.log('finished loading d3');require(['downloadable'], function(downloadable){window['downloadable']=downloadable;console.log('finished loading downloadable');\n",
       "\n",
       "\tvar script = d3.select(\"head\")\n",
       "\t    .append(\"script\")\n",
       "\t    .attr(\"src\", \"http://cdn.rawgit.com/domitry/Nyaplotjs/master/release/nyaplot.js\")\n",
       "\t    .attr(\"async\", true);\n",
       "\n",
       "\tscript[0][0].onload = script[0][0].onreadystatechange = function(){\n",
       "\n",
       "\n",
       "\t    var event = document.createEvent(\"HTMLEvents\");\n",
       "\t    event.initEvent(\"load_nyaplot\",false,false);\n",
       "\t    window.dispatchEvent(event);\n",
       "\t    console.log('Finished loading Nyaplotjs');\n",
       "\n",
       "\t};\n",
       "\n",
       "\n",
       "});});\n",
       "}\n"
      ],
      "text/plain": [
       "\"if(window['d3'] === undefined ||\\n   window['Nyaplot'] === undefined){\\n    var path = {\\\"d3\\\":\\\"http://d3js.org/d3.v3.min\\\",\\\"downloadable\\\":\\\"http://cdn.rawgit.com/domitry/d3-downloadable/master/d3-downloadable\\\"};\\n\\n\\n\\n    var shim = {\\\"d3\\\":{\\\"exports\\\":\\\"d3\\\"},\\\"downloadable\\\":{\\\"exports\\\":\\\"downloadable\\\"}};\\n\\n    require.config({paths: path, shim:shim});\\n\\n\\nrequire(['d3'], function(d3){window['d3']=d3;console.log('finished loading d3');require(['downloadable'], function(downloadable){window['downloadable']=downloadable;console.log('finished loading downloadable');\\n\\n\\tvar script = d3.select(\\\"head\\\")\\n\\t    .append(\\\"script\\\")\\n\\t    .attr(\\\"src\\\", \\\"http://cdn.rawgit.com/domitry/Nyaplotjs/master/release/nyaplot.js\\\")\\n\\t    .attr(\\\"async\\\", true);\\n\\n\\tscript[0][0].onload = script[0][0].onreadystatechange = function(){\\n\\n\\n\\t    var event = document.createEvent(\\\"HTMLEvents\\\");\\n\\t    event.initEvent(\\\"load_nyaplot\\\",false,false);\\n\\t    window.dispatchEvent(event);\\n\\t    console.log('Finished loading Nyaplotjs');\\n\\n\\t};\\n\\n\\n});});\\n}\\n\""
      ]
     },
     "metadata": {},
     "output_type": "display_data"
    },
    {
     "data": {
      "text/plain": [
       "true"
      ]
     },
     "execution_count": 1,
     "metadata": {},
     "output_type": "execute_result"
    }
   ],
   "source": [
    "require 'daru'"
   ]
  },
  {
   "cell_type": "markdown",
   "metadata": {},
   "source": [
    "The very basic way to create a Vector is by just passing an Array of values into the constructor.\n",
    "\n",
    "Index labels can be specified using the `:index` option and you can also name your Vector something using the `:name` option. In case `:index` isn't specified, the Vector will be assigned an index starting from 0."
   ]
  },
  {
   "cell_type": "code",
   "execution_count": 2,
   "metadata": {
    "collapsed": false
   },
   "outputs": [
    {
     "data": {
      "text/html": [
       "<table><tr><th colspan=\"2\">Daru::Vector:84386160  size: 5</th></tr><tr><th> </th><th>bazinga</th></tr><tr><td>a</td><td>1</td></tr><tr><td>b</td><td>2</td></tr><tr><td>c</td><td>3</td></tr><tr><td>d</td><td>4</td></tr><tr><td>e</td><td>5</td></tr></table>"
      ],
      "text/plain": [
       "\n",
       "#<Daru::Vector:84386160 @name = bazinga @size = 5 >\n",
       "        bazinga\n",
       "      a       1\n",
       "      b       2\n",
       "      c       3\n",
       "      d       4\n",
       "      e       5\n"
      ]
     },
     "execution_count": 2,
     "metadata": {},
     "output_type": "execute_result"
    }
   ],
   "source": [
    "a = Daru::Vector.new([1,2,3,4,5], index: [:a, :b, :c, :d, :e], name: :bazinga)"
   ]
  },
  {
   "cell_type": "markdown",
   "metadata": {},
   "source": [
    "Values can be accessed using their labels with the `#[]` operator."
   ]
  },
  {
   "cell_type": "code",
   "execution_count": 3,
   "metadata": {
    "collapsed": false
   },
   "outputs": [
    {
     "data": {
      "text/plain": [
       "2"
      ]
     },
     "execution_count": 3,
     "metadata": {},
     "output_type": "execute_result"
    }
   ],
   "source": [
    "a[:b]"
   ]
  },
  {
   "cell_type": "markdown",
   "metadata": {},
   "source": [
    "OR you can even specify a range with labels..."
   ]
  },
  {
   "cell_type": "code",
   "execution_count": 4,
   "metadata": {
    "collapsed": false
   },
   "outputs": [
    {
     "data": {
      "text/html": [
       "<table><tr><th colspan=\"2\">Daru::Vector:86637370  size: 3</th></tr><tr><th> </th><th>bazinga</th></tr><tr><td>b</td><td>2</td></tr><tr><td>c</td><td>3</td></tr><tr><td>d</td><td>4</td></tr></table>"
      ],
      "text/plain": [
       "\n",
       "#<Daru::Vector:86637370 @name = bazinga @size = 3 >\n",
       "        bazinga\n",
       "      b       2\n",
       "      c       3\n",
       "      d       4\n"
      ]
     },
     "execution_count": 4,
     "metadata": {},
     "output_type": "execute_result"
    }
   ],
   "source": [
    "a[:b..:d]"
   ]
  },
  {
   "cell_type": "markdown",
   "metadata": {},
   "source": [
    "Values can be assigned with the `#[]=` operator."
   ]
  },
  {
   "cell_type": "code",
   "execution_count": 5,
   "metadata": {
    "collapsed": false
   },
   "outputs": [
    {
     "data": {
      "text/html": [
       "<table><tr><th colspan=\"2\">Daru::Vector:84386160  size: 5</th></tr><tr><th> </th><th>bazinga</th></tr><tr><td>a</td><td>1</td></tr><tr><td>b</td><td>999</td></tr><tr><td>c</td><td>3</td></tr><tr><td>d</td><td>4</td></tr><tr><td>e</td><td>5</td></tr></table>"
      ],
      "text/plain": [
       "\n",
       "#<Daru::Vector:84386160 @name = bazinga @size = 5 >\n",
       "        bazinga\n",
       "      a       1\n",
       "      b     999\n",
       "      c       3\n",
       "      d       4\n",
       "      e       5\n"
      ]
     },
     "execution_count": 5,
     "metadata": {},
     "output_type": "execute_result"
    }
   ],
   "source": [
    "a[:b] = 999\n",
    "a"
   ]
  },
  {
   "cell_type": "markdown",
   "metadata": {},
   "source": [
    "If you want to treat values apart from *nil* as missing, you can specify them using the `:missing_values` option.\n",
    "\n",
    "The `#only_valid` method can then be used for obtaining all the *non-missing* values of the Vector. Notice that `only_valid` preserves the indexes (labels) of the data."
   ]
  },
  {
   "cell_type": "code",
   "execution_count": 6,
   "metadata": {
    "collapsed": false
   },
   "outputs": [
    {
     "data": {
      "text/html": [
       "<table><tr><th colspan=\"2\">Daru::Vector:87093190  size: 5</th></tr><tr><th> </th><th>nil</th></tr><tr><td>0</td><td>1</td></tr><tr><td>1</td><td>2</td></tr><tr><td>2</td><td>3</td></tr><tr><td>5</td><td>4</td></tr><tr><td>6</td><td>6</td></tr></table>"
      ],
      "text/plain": [
       "\n",
       "#<Daru::Vector:87093190 @name = nil @size = 5 >\n",
       "    nil\n",
       "  0   1\n",
       "  1   2\n",
       "  2   3\n",
       "  5   4\n",
       "  6   6\n"
      ]
     },
     "execution_count": 6,
     "metadata": {},
     "output_type": "execute_result"
    }
   ],
   "source": [
    "a = Daru::Vector.new([1,2,3,5,5,4,6,nil,nil], missing_values: [5,nil])\n",
    "a.only_valid"
   ]
  },
  {
   "cell_type": "markdown",
   "metadata": {},
   "source": [
    "The `Vector.[]` class method creates a vector from almost any object that has a `#to_a` method defined on it. It is similar to R's `c` method."
   ]
  },
  {
   "cell_type": "code",
   "execution_count": 7,
   "metadata": {
    "collapsed": false
   },
   "outputs": [
    {
     "data": {
      "text/html": [
       "<table><tr><th colspan=\"2\">Daru::Vector:87279580  size: 9</th></tr><tr><th> </th><th>nil</th></tr><tr><td>0</td><td>1</td></tr><tr><td>1</td><td>2</td></tr><tr><td>2</td><td>3</td></tr><tr><td>3</td><td>4</td></tr><tr><td>4</td><td>6</td></tr><tr><td>5</td><td>7</td></tr><tr><td>6</td><td>8</td></tr><tr><td>7</td><td>9</td></tr><tr><td>8</td><td>10</td></tr></table>"
      ],
      "text/plain": [
       "\n",
       "#<Daru::Vector:87279580 @name = nil @size = 9 >\n",
       "    nil\n",
       "  0   1\n",
       "  1   2\n",
       "  2   3\n",
       "  3   4\n",
       "  4   6\n",
       "  5   7\n",
       "  6   8\n",
       "  7   9\n",
       "  8  10\n"
      ]
     },
     "execution_count": 7,
     "metadata": {},
     "output_type": "execute_result"
    }
   ],
   "source": [
    "b = Daru::Vector[1,2,3,4,6..10]"
   ]
  },
  {
   "cell_type": "markdown",
   "metadata": {},
   "source": [
    "The *new_with_size* class method lets you create a Daru::Vector by specifying the size as the argument. The optional block, if supplied, is run once for populating each element in the Vector.\n",
    "\n",
    "The result of each run of the block is the value that is ultimately assigned to that position in the Vector."
   ]
  },
  {
   "cell_type": "code",
   "execution_count": 8,
   "metadata": {
    "collapsed": false
   },
   "outputs": [
    {
     "data": {
      "text/html": [
       "<table><tr><th colspan=\"2\">Daru::Vector:86435440  size: 1000</th></tr><tr><th> </th><th>new_vector</th></tr><tr><td>0</td><td></td></tr><tr><td>1</td><td>0</td></tr><tr><td>2</td><td>2</td></tr><tr><td>3</td><td></td></tr><tr><td>4</td><td>0</td></tr><tr><td>5</td><td></td></tr><tr><td>6</td><td></td></tr><tr><td>7</td><td>2</td></tr><tr><td>8</td><td></td></tr><tr><td>9</td><td>2</td></tr><tr><td>10</td><td>1</td></tr><tr><td>11</td><td>3</td></tr><tr><td>12</td><td>1</td></tr><tr><td>13</td><td>3</td></tr><tr><td>14</td><td>1</td></tr><tr><td>15</td><td>3</td></tr><tr><td>16</td><td>2</td></tr><tr><td>17</td><td>3</td></tr><tr><td>18</td><td></td></tr><tr><td>19</td><td>2</td></tr><tr><td>20</td><td>2</td></tr><tr><td>21</td><td>0</td></tr><tr><td>22</td><td>1</td></tr><tr><td>23</td><td>3</td></tr><tr><td>24</td><td>3</td></tr><tr><td>25</td><td>0</td></tr><tr><td>26</td><td>0</td></tr><tr><td>27</td><td>1</td></tr><tr><td>28</td><td>3</td></tr><tr><td>29</td><td>0</td></tr><tr><td>30</td><td>3</td></tr><tr><td>31</td><td>2</td></tr><tr><td>...</td><td>...</td></tr></table>"
      ],
      "text/plain": [
       "\n",
       "#<Daru::Vector:86435440 @name = new_vector @size = 1000 >\n",
       "           new_vector\n",
       "         0        nil\n",
       "         1          0\n",
       "         2          2\n",
       "         3        nil\n",
       "         4          0\n",
       "         5        nil\n",
       "         6        nil\n",
       "         7          2\n",
       "         8        nil\n",
       "         9          2\n",
       "        10          1\n",
       "        11          3\n",
       "        12          1\n",
       "        13          3\n",
       "        14          1\n",
       "        15          3\n",
       "        16          2\n",
       "       ...        ...\n"
      ]
     },
     "execution_count": 8,
     "metadata": {},
     "output_type": "execute_result"
    }
   ],
   "source": [
    "a = Daru::Vector.new_with_size(1000, name: :new_vector) { r=rand(5); r == 4 ? nil: r; }"
   ]
  },
  {
   "cell_type": "markdown",
   "metadata": {},
   "source": [
    "Use the `#head` method for obtaining the top 10 values of the Vector."
   ]
  },
  {
   "cell_type": "code",
   "execution_count": 9,
   "metadata": {
    "collapsed": false
   },
   "outputs": [
    {
     "data": {
      "text/html": [
       "<table><tr><th colspan=\"2\">Daru::Vector:86448270  size: 10</th></tr><tr><th> </th><th>new_vector</th></tr><tr><td>0</td><td></td></tr><tr><td>1</td><td>0</td></tr><tr><td>2</td><td>2</td></tr><tr><td>3</td><td></td></tr><tr><td>4</td><td>0</td></tr><tr><td>5</td><td></td></tr><tr><td>6</td><td></td></tr><tr><td>7</td><td>2</td></tr><tr><td>8</td><td></td></tr><tr><td>9</td><td>2</td></tr></table>"
      ],
      "text/plain": [
       "\n",
       "#<Daru::Vector:86448270 @name = new_vector @size = 10 >\n",
       "           new_vector\n",
       "         0        nil\n",
       "         1          0\n",
       "         2          2\n",
       "         3        nil\n",
       "         4          0\n",
       "         5        nil\n",
       "         6        nil\n",
       "         7          2\n",
       "         8        nil\n",
       "         9          2\n"
      ]
     },
     "execution_count": 9,
     "metadata": {},
     "output_type": "execute_result"
    }
   ],
   "source": [
    "a.head"
   ]
  },
  {
   "cell_type": "markdown",
   "metadata": {},
   "source": [
    "### Sorting\n",
    "\n",
    "The `Daru::Vector#sort` method will sort the Vector and preserve the indexes."
   ]
  },
  {
   "cell_type": "code",
   "execution_count": 10,
   "metadata": {
    "collapsed": false
   },
   "outputs": [
    {
     "data": {
      "text/html": [
       "<table><tr><th colspan=\"2\">Daru::Vector:87335220  size: 8</th></tr><tr><th> </th><th>nil</th></tr><tr><td>0</td><td>23</td></tr><tr><td>1</td><td>144</td></tr><tr><td>2</td><td>332</td></tr><tr><td>3</td><td>11</td></tr><tr><td>4</td><td>2</td></tr><tr><td>5</td><td>5</td></tr><tr><td>6</td><td>6765</td></tr><tr><td>7</td><td>3</td></tr></table>"
      ],
      "text/plain": [
       "\n",
       "#<Daru::Vector:87335220 @name = nil @size = 8 >\n",
       "      nil\n",
       "   0   23\n",
       "   1  144\n",
       "   2  332\n",
       "   3   11\n",
       "   4    2\n",
       "   5    5\n",
       "   6 6765\n",
       "   7    3\n"
      ]
     },
     "execution_count": 10,
     "metadata": {},
     "output_type": "execute_result"
    }
   ],
   "source": [
    "a = Daru::Vector.new([23,144,332,11,2,5,6765,3])"
   ]
  },
  {
   "cell_type": "code",
   "execution_count": 11,
   "metadata": {
    "collapsed": false
   },
   "outputs": [
    {
     "data": {
      "text/html": [
       "<table><tr><th colspan=\"2\">Daru::Vector:87202710  size: 8</th></tr><tr><th> </th><th>nil</th></tr><tr><td>4</td><td>2</td></tr><tr><td>7</td><td>3</td></tr><tr><td>5</td><td>5</td></tr><tr><td>3</td><td>11</td></tr><tr><td>0</td><td>23</td></tr><tr><td>1</td><td>144</td></tr><tr><td>2</td><td>332</td></tr><tr><td>6</td><td>6765</td></tr></table>"
      ],
      "text/plain": [
       "\n",
       "#<Daru::Vector:87202710 @name = nil @size = 8 >\n",
       "      nil\n",
       "   4    2\n",
       "   7    3\n",
       "   5    5\n",
       "   3   11\n",
       "   0   23\n",
       "   1  144\n",
       "   2  332\n",
       "   6 6765\n"
      ]
     },
     "execution_count": 11,
     "metadata": {},
     "output_type": "execute_result"
    }
   ],
   "source": [
    "a.sort"
   ]
  },
  {
   "cell_type": "markdown",
   "metadata": {},
   "source": [
    "### Basic Math\n",
    "\n",
    "Arithmetic operations done between two vectors will always perform the arithmetic on corresponding elements of the same index.\n",
    "\n",
    "The concerned vectors need not have the same size of even the same index. In case of a mismatch, a sorted union of the indexes of both the Vectors is used as an index for the resulting vector.\n",
    "\n",
    "In case a particular index exists in one vector but not in the other, the result Vector has a *nil* placed in that index position.\n",
    "\n",
    "Daru::Vector supports +, -, \\*, / and \\*\\* operators."
   ]
  },
  {
   "cell_type": "code",
   "execution_count": 12,
   "metadata": {
    "collapsed": false
   },
   "outputs": [
    {
     "data": {
      "text/html": [
       "<table><tr><th colspan=\"2\">Daru::Vector:87071380  size: 7</th></tr><tr><th> </th><th>nil</th></tr><tr><td>a</td><td>2</td></tr><tr><td>b</td><td>4</td></tr><tr><td>c</td><td>6</td></tr><tr><td>d</td><td></td></tr><tr><td>f</td><td></td></tr><tr><td>ff</td><td></td></tr><tr><td>five</td><td>10</td></tr></table>"
      ],
      "text/plain": [
       "\n",
       "#<Daru::Vector:87071380 @name = nil @size = 7 >\n",
       "      nil\n",
       "   a    2\n",
       "   b    4\n",
       "   c    6\n",
       "   d  nil\n",
       "   f  nil\n",
       "  ff  nil\n",
       "five   10\n"
      ]
     },
     "execution_count": 12,
     "metadata": {},
     "output_type": "execute_result"
    }
   ],
   "source": [
    "a = Daru::Vector.new([1,2,3,4,5,6], index: [:a, :b, :c, :d, :five, :f])\n",
    "b = Daru::Vector.new([1,2,3,4,5], index: [:a, :b, :c, :ff,:five])\n",
    "\n",
    "a + b"
   ]
  },
  {
   "cell_type": "code",
   "execution_count": 13,
   "metadata": {
    "collapsed": false
   },
   "outputs": [
    {
     "data": {
      "text/html": [
       "<table><tr><th colspan=\"2\">Daru::Vector:86965550  size: 7</th></tr><tr><th> </th><th>nil</th></tr><tr><td>a</td><td>1</td></tr><tr><td>b</td><td>4</td></tr><tr><td>c</td><td>27</td></tr><tr><td>d</td><td></td></tr><tr><td>f</td><td></td></tr><tr><td>ff</td><td></td></tr><tr><td>five</td><td>3125</td></tr></table>"
      ],
      "text/plain": [
       "\n",
       "#<Daru::Vector:86965550 @name = nil @size = 7 >\n",
       "      nil\n",
       "   a    1\n",
       "   b    4\n",
       "   c   27\n",
       "   d  nil\n",
       "   f  nil\n",
       "  ff  nil\n",
       "five 3125\n"
      ]
     },
     "execution_count": 13,
     "metadata": {},
     "output_type": "execute_result"
    }
   ],
   "source": [
    "a ** b"
   ]
  },
  {
   "cell_type": "markdown",
   "metadata": {},
   "source": [
    "Performing arithmetic with a single number will perform the operation on each element in the Vector and return the resultant Vector."
   ]
  },
  {
   "cell_type": "code",
   "execution_count": 14,
   "metadata": {
    "collapsed": false
   },
   "outputs": [
    {
     "data": {
      "text/html": [
       "<table><tr><th colspan=\"2\">Daru::Vector:86902630  size: 6</th></tr><tr><th> </th><th>nil</th></tr><tr><td>a</td><td>5</td></tr><tr><td>b</td><td>10</td></tr><tr><td>c</td><td>15</td></tr><tr><td>d</td><td>20</td></tr><tr><td>five</td><td>25</td></tr><tr><td>f</td><td>30</td></tr></table>"
      ],
      "text/plain": [
       "\n",
       "#<Daru::Vector:86902630 @name = nil @size = 6 >\n",
       "      nil\n",
       "   a    5\n",
       "   b   10\n",
       "   c   15\n",
       "   d   20\n",
       "five   25\n",
       "   f   30\n"
      ]
     },
     "execution_count": 14,
     "metadata": {},
     "output_type": "execute_result"
    }
   ],
   "source": [
    "a * 5"
   ]
  },
  {
   "cell_type": "markdown",
   "metadata": {},
   "source": [
    "### Statistics\n",
    "\n",
    "Daru::Vector defines a host of statistics methods, which are useful for performing ephemeral statistics on numeric data. All the statistics methods ignore the *missing* values and work only on the valid data.\n",
    "\n",
    "For a complete list of statistics functions see the Daru::Maths::Statistics::Vector module in the [docs](https://rubygems.org/gems/daru)."
   ]
  },
  {
   "cell_type": "code",
   "execution_count": 15,
   "metadata": {
    "collapsed": false
   },
   "outputs": [
    {
     "data": {
      "text/plain": [
       "4.0"
      ]
     },
     "execution_count": 15,
     "metadata": {},
     "output_type": "execute_result"
    }
   ],
   "source": [
    "v = Daru::Vector.new([1,2,3,4,5,nil,6,nil,7])\n",
    "v.mean"
   ]
  },
  {
   "cell_type": "code",
   "execution_count": 16,
   "metadata": {
    "collapsed": false
   },
   "outputs": [
    {
     "data": {
      "text/plain": [
       "4.666666666666667"
      ]
     },
     "execution_count": 16,
     "metadata": {},
     "output_type": "execute_result"
    }
   ],
   "source": [
    "v.variance"
   ]
  },
  {
   "cell_type": "code",
   "execution_count": 17,
   "metadata": {
    "collapsed": false
   },
   "outputs": [
    {
     "data": {
      "text/plain": [
       "4"
      ]
     },
     "execution_count": 17,
     "metadata": {},
     "output_type": "execute_result"
    }
   ],
   "source": [
    "v.median"
   ]
  },
  {
   "cell_type": "markdown",
   "metadata": {},
   "source": [
    "### Plotting\n",
    "\n",
    "Daru uses [nyaplot](https://github.com/domitry/nyaplot/tree/master) internally for generating interactive plots.\n",
    "\n",
    "You can also use rubyvis through [statsample](https://github.com/SciRuby/statsample) for quickly generating scatter plots, histograms and box plots."
   ]
  },
  {
   "cell_type": "markdown",
   "metadata": {},
   "source": [
    "A simple scatter plot can be generated by simply calling the `#plot` function on Daru::Vector. Feel free to interact with the generated plot."
   ]
  },
  {
   "cell_type": "code",
   "execution_count": 18,
   "metadata": {
    "collapsed": false
   },
   "outputs": [
    {
     "data": {
      "text/html": [
       "<div id='vis-f1306f92-1b87-4eec-af79-9d907ee6ed99'></div>\n",
       "<script>\n",
       "(function(){\n",
       "    var render = function(){\n",
       "        var model = {\"panes\":[{\"diagrams\":[{\"type\":\"scatter\",\"options\":{\"x\":\"data0\",\"y\":\"data1\"},\"data\":\"a06b51c4-ab50-446c-9123-a6e36e9216b3\"}],\"options\":{\"zoom\":true,\"width\":700,\"xrange\":[0,51],\"yrange\":[-0.9986295347545738,0.9998476951563913]}}],\"data\":{\"a06b51c4-ab50-446c-9123-a6e36e9216b3\":[{\"data0\":0,\"data1\":0.0},{\"data0\":1,\"data1\":0.12186934340514748},{\"data0\":2,\"data1\":0.24192189559966773},{\"data0\":3,\"data1\":0.35836794954530027},{\"data0\":4,\"data1\":0.4694715627858908},{\"data0\":5,\"data1\":0.573576436351046},{\"data0\":6,\"data1\":0.6691306063588582},{\"data0\":7,\"data1\":0.754709580222772},{\"data0\":8,\"data1\":0.8290375725550417},{\"data0\":9,\"data1\":0.8910065241883678},{\"data0\":10,\"data1\":0.9396926207859083},{\"data0\":11,\"data1\":0.9743700647852352},{\"data0\":12,\"data1\":0.9945218953682733},{\"data0\":13,\"data1\":0.9998476951563913},{\"data0\":14,\"data1\":0.9902680687415704},{\"data0\":15,\"data1\":0.9659258262890683},{\"data0\":16,\"data1\":0.9271838545667874},{\"data0\":17,\"data1\":0.8746197071393959},{\"data0\":18,\"data1\":0.8090169943749475},{\"data0\":19,\"data1\":0.7313537016191706},{\"data0\":20,\"data1\":0.6427876096865395},{\"data0\":21,\"data1\":0.544639035015027},{\"data0\":22,\"data1\":0.4383711467890773},{\"data0\":23,\"data1\":0.32556815445715703},{\"data0\":24,\"data1\":0.20791169081775931},{\"data0\":25,\"data1\":0.08715574274765864},{\"data0\":26,\"data1\":-0.0348994967025009},{\"data0\":27,\"data1\":-0.15643446504023073},{\"data0\":28,\"data1\":-0.275637355816999},{\"data0\":29,\"data1\":-0.39073112848927355},{\"data0\":30,\"data1\":-0.5000000000000001},{\"data0\":31,\"data1\":-0.601815023152048},{\"data0\":32,\"data1\":-0.6946583704589974},{\"data0\":33,\"data1\":-0.7771459614569711},{\"data0\":34,\"data1\":-0.848048096156426},{\"data0\":35,\"data1\":-0.9063077870366497},{\"data0\":36,\"data1\":-0.9510565162951535},{\"data0\":37,\"data1\":-0.9816271834476639},{\"data0\":38,\"data1\":-0.9975640502598242},{\"data0\":39,\"data1\":-0.9986295347545738},{\"data0\":40,\"data1\":-0.9848077530122081},{\"data0\":41,\"data1\":-0.9563047559630354},{\"data0\":42,\"data1\":-0.9135454576426008},{\"data0\":43,\"data1\":-0.8571673007021123},{\"data0\":44,\"data1\":-0.7880107536067218},{\"data0\":45,\"data1\":-0.7071067811865477},{\"data0\":46,\"data1\":-0.6156614753256588},{\"data0\":47,\"data1\":-0.5150380749100545},{\"data0\":48,\"data1\":-0.40673664307580015},{\"data0\":49,\"data1\":-0.29237170472273627},{\"data0\":50,\"data1\":-0.17364817766693127},{\"data0\":51,\"data1\":-0.05233595624294437}]},\"extension\":[]}\n",
       "        var id_name = '#vis-f1306f92-1b87-4eec-af79-9d907ee6ed99';\n",
       "        Nyaplot.core.parse(model, id_name);\n",
       "\n",
       "        require(['downloadable'], function(downloadable){\n",
       "          var svg = d3.select(id_name).select(\"svg\");\n",
       "\t  if(!svg.empty())\n",
       "\t    svg.call(downloadable().filename('fig'));\n",
       "\t});\n",
       "    };\n",
       "    if(window['Nyaplot']==undefined){\n",
       "        window.addEventListener('load_nyaplot', render, false);\n",
       "\treturn;\n",
       "    } else {\n",
       "       render();\n",
       "    }\n",
       "})();\n",
       "</script>\n"
      ],
      "text/plain": [
       "#<Nyaplot::Frame:0xa507f58 @properties={:panes=>[#<Nyaplot::Plot:0xa50ff50 @properties={:diagrams=>[#<Nyaplot::Diagram:0xa50c378 @properties={:type=>:scatter, :options=>{:x=>\"data0\", :y=>\"data1\"}, :data=>\"a06b51c4-ab50-446c-9123-a6e36e9216b3\"}, @xrange=[0, 51], @yrange=[-0.9986295347545738, 0.9998476951563913]>], :options=>{:zoom=>true, :width=>700, :xrange=>[0, 51], :yrange=>[-0.9986295347545738, 0.9998476951563913]}}>], :data=>{\"a06b51c4-ab50-446c-9123-a6e36e9216b3\"=>#<Nyaplot::DataFrame:0xa50fa64 @name=\"a06b51c4-ab50-446c-9123-a6e36e9216b3\", @rows=[{:data0=>0, :data1=>0.0}, {:data0=>1, :data1=>0.12186934340514748}, {:data0=>2, :data1=>0.24192189559966773}, {:data0=>3, :data1=>0.35836794954530027}, {:data0=>4, :data1=>0.4694715627858908}, {:data0=>5, :data1=>0.573576436351046}, {:data0=>6, :data1=>0.6691306063588582}, {:data0=>7, :data1=>0.754709580222772}, {:data0=>8, :data1=>0.8290375725550417}, {:data0=>9, :data1=>0.8910065241883678}, {:data0=>10, :data1=>0.9396926207859083}, {:data0=>11, :data1=>0.9743700647852352}, {:data0=>12, :data1=>0.9945218953682733}, {:data0=>13, :data1=>0.9998476951563913}, {:data0=>14, :data1=>0.9902680687415704}, {:data0=>15, :data1=>0.9659258262890683}, {:data0=>16, :data1=>0.9271838545667874}, {:data0=>17, :data1=>0.8746197071393959}, {:data0=>18, :data1=>0.8090169943749475}, {:data0=>19, :data1=>0.7313537016191706}, {:data0=>20, :data1=>0.6427876096865395}, {:data0=>21, :data1=>0.544639035015027}, {:data0=>22, :data1=>0.4383711467890773}, {:data0=>23, :data1=>0.32556815445715703}, {:data0=>24, :data1=>0.20791169081775931}, {:data0=>25, :data1=>0.08715574274765864}, {:data0=>26, :data1=>-0.0348994967025009}, {:data0=>27, :data1=>-0.15643446504023073}, {:data0=>28, :data1=>-0.275637355816999}, {:data0=>29, :data1=>-0.39073112848927355}, {:data0=>30, :data1=>-0.5000000000000001}, {:data0=>31, :data1=>-0.601815023152048}, {:data0=>32, :data1=>-0.6946583704589974}, {:data0=>33, :data1=>-0.7771459614569711}, {:data0=>34, :data1=>-0.848048096156426}, {:data0=>35, :data1=>-0.9063077870366497}, {:data0=>36, :data1=>-0.9510565162951535}, {:data0=>37, :data1=>-0.9816271834476639}, {:data0=>38, :data1=>-0.9975640502598242}, {:data0=>39, :data1=>-0.9986295347545738}, {:data0=>40, :data1=>-0.9848077530122081}, {:data0=>41, :data1=>-0.9563047559630354}, {:data0=>42, :data1=>-0.9135454576426008}, {:data0=>43, :data1=>-0.8571673007021123}, {:data0=>44, :data1=>-0.7880107536067218}, {:data0=>45, :data1=>-0.7071067811865477}, {:data0=>46, :data1=>-0.6156614753256588}, {:data0=>47, :data1=>-0.5150380749100545}, {:data0=>48, :data1=>-0.40673664307580015}, {:data0=>49, :data1=>-0.29237170472273627}, {:data0=>50, :data1=>-0.17364817766693127}, {:data0=>51, :data1=>-0.05233595624294437}]>}, :extension=>[]}>"
      ]
     },
     "metadata": {},
     "output_type": "display_data"
    }
   ],
   "source": [
    "v = Daru::Vector.new((0..360).step(7).map { |i| Math.sin((i*Math::PI)/180) })\n",
    "v.plot"
   ]
  },
  {
   "cell_type": "markdown",
   "metadata": {},
   "source": [
    "Now, lets take some dummy data of a survey that shows the number of people of each age group that are part of this survey. We want to plot the number of people from each age group who have taken the test in a bar graph.\n",
    "\n",
    "For this purpose we use the `#plot` function again, but this time supply it with the `:type` option, and set the value of this option as `:bar`. The plot function yeilds the corresponding `Nyaplot::Plot` object in the block, which can then be used for setting different parameters of the final plot. For more configuration methods see the [Nyaplot::Plot](https://rubygems.org/gems/nyaplot) documentation."
   ]
  },
  {
   "cell_type": "code",
   "execution_count": 19,
   "metadata": {
    "collapsed": false
   },
   "outputs": [
    {
     "data": {
      "text/html": [
       "<div id='vis-b13ec6cf-af28-476e-9e4c-ea62babf1157'></div>\n",
       "<script>\n",
       "(function(){\n",
       "    var render = function(){\n",
       "        var model = {\"panes\":[{\"diagrams\":[{\"type\":\"bar\",\"options\":{\"x\":\"data0\",\"y\":\"data1\"},\"data\":\"b6df8ff4-2c54-4109-a85d-19abd4e33b9e\"}],\"options\":{\"x_label\":\"Age Groups\",\"y_label\":\"Number of People Surveyed\",\"width\":700,\"xrange\":[\"18-24\",\"24-30\",\"Under 18\",\"30-40\",\"40-50\"],\"yrange\":[0,70]}}],\"data\":{\"b6df8ff4-2c54-4109-a85d-19abd4e33b9e\":[{\"data0\":\"18-24\",\"data1\":40},{\"data0\":\"24-30\",\"data1\":50},{\"data0\":\"Under 18\",\"data1\":20},{\"data0\":\"30-40\",\"data1\":70},{\"data0\":\"40-50\",\"data1\":10}]},\"extension\":[]}\n",
       "        var id_name = '#vis-b13ec6cf-af28-476e-9e4c-ea62babf1157';\n",
       "        Nyaplot.core.parse(model, id_name);\n",
       "\n",
       "        require(['downloadable'], function(downloadable){\n",
       "          var svg = d3.select(id_name).select(\"svg\");\n",
       "\t  if(!svg.empty())\n",
       "\t    svg.call(downloadable().filename('fig'));\n",
       "\t});\n",
       "    };\n",
       "    if(window['Nyaplot']==undefined){\n",
       "        window.addEventListener('load_nyaplot', render, false);\n",
       "\treturn;\n",
       "    } else {\n",
       "       render();\n",
       "    }\n",
       "})();\n",
       "</script>\n"
      ],
      "text/plain": [
       "#<Nyaplot::Frame:0xa4ccfc0 @properties={:panes=>[#<Nyaplot::Plot:0xa4ce5dc @properties={:diagrams=>[#<Nyaplot::Diagram:0xa4cd6f0 @properties={:type=>:bar, :options=>{:x=>\"data0\", :y=>\"data1\"}, :data=>\"b6df8ff4-2c54-4109-a85d-19abd4e33b9e\"}, @xrange=[:\"18-24\", :\"24-30\", :\"Under 18\", :\"30-40\", :\"40-50\"], @yrange=[0, 70]>], :options=>{:x_label=>\"Age Groups\", :y_label=>\"Number of People Surveyed\", :width=>700, :xrange=>[:\"18-24\", :\"24-30\", :\"Under 18\", :\"30-40\", :\"40-50\"], :yrange=>[0, 70]}}>], :data=>{\"b6df8ff4-2c54-4109-a85d-19abd4e33b9e\"=>#<Nyaplot::DataFrame:0xa4ce280 @name=\"b6df8ff4-2c54-4109-a85d-19abd4e33b9e\", @rows=[{:data0=>:\"18-24\", :data1=>40}, {:data0=>:\"24-30\", :data1=>50}, {:data0=>:\"Under 18\", :data1=>20}, {:data0=>:\"30-40\", :data1=>70}, {:data0=>:\"40-50\", :data1=>10}]>}, :extension=>[]}>"
      ]
     },
     "metadata": {},
     "output_type": "display_data"
    }
   ],
   "source": [
    "v = Daru::Vector.new([40,50,20,70,10], index: ['18-24', '24-30', 'Under 18', '30-40', '40-50'], name: \"Age Range\")\n",
    "v.plot(type: :bar) do |plt|\n",
    "  plt.x_label \"Age Groups\"\n",
    "  plt.y_label \"Number of People Surveyed\"\n",
    "end"
   ]
  },
  {
   "cell_type": "markdown",
   "metadata": {},
   "source": [
    "The third kind of plot that Daru::Vector can easily generate from nyaplot is the histogram.\n",
    "\n",
    "To demonstrate, we'll prepare some sample data using the `rnorm` function from the `statsample` ruby gem. The rnorm function just generates normally distributied random variables (1000 in this case) and returns a Daru::Vector object that contains these numbers (in variable `a`).\n",
    "\n",
    "A histogram of the normally distributed function has been generated below."
   ]
  },
  {
   "cell_type": "code",
   "execution_count": 20,
   "metadata": {
    "collapsed": false
   },
   "outputs": [
    {
     "data": {
      "text/html": [
       "<div id='vis-2e35c985-a0ef-4a38-887a-c0a3542a721f'></div>\n",
       "<script>\n",
       "(function(){\n",
       "    var render = function(){\n",
       "        var model = {\"panes\":[{\"diagrams\":[{\"type\":\"histogram\",\"options\":{\"value\":\"data0\"},\"data\":\"fde088fd-130a-4121-9141-ccb20bfd42a2\"}],\"options\":{\"yrange\":[0,200],\"y_label\":\"Frequency\",\"x_label\":\"Bins\",\"width\":700,\"xrange\":[-3.2594301803465755,2.8000551877997832]}}],\"data\":{\"fde088fd-130a-4121-9141-ccb20bfd42a2\":[{\"data0\":0.47888626121500977},{\"data0\":-0.7164087764954045},{\"data0\":1.7021372042846692},{\"data0\":-0.9339324759686349},{\"data0\":-0.9412029504473116},{\"data0\":-0.46990368078801703},{\"data0\":-1.666066012346936},{\"data0\":-0.6032474587084111},{\"data0\":-1.6340742431734006},{\"data0\":0.06587619801569564},{\"data0\":-1.2567603759380046},{\"data0\":0.1957104172375389},{\"data0\":0.8847146597097426},{\"data0\":0.3794324826787741},{\"data0\":1.0796120512732486},{\"data0\":-2.0600933278458737},{\"data0\":-0.5460169851635863},{\"data0\":-0.20306150474016102},{\"data0\":-1.557976782064549},{\"data0\":0.9022493480281409},{\"data0\":-0.20540075287796533},{\"data0\":-0.4005176495074727},{\"data0\":1.16491448518351},{\"data0\":0.017766479003085315},{\"data0\":-0.27502411871202326},{\"data0\":-0.6147720382148474},{\"data0\":-0.3487594345816061},{\"data0\":-0.4078083316611733},{\"data0\":0.6844386936267947},{\"data0\":0.06457077593994547},{\"data0\":0.02994972565911394},{\"data0\":0.5889930232474205},{\"data0\":-0.8945982431520605},{\"data0\":0.11966124791954152},{\"data0\":0.0026931679365961073},{\"data0\":1.0253439569346259},{\"data0\":-0.9994211307054793},{\"data0\":1.0890446702198733},{\"data0\":0.12337455120260232},{\"data0\":0.2262293898712007},{\"data0\":1.6608283946708164},{\"data0\":-0.03447123981548631},{\"data0\":-0.3620800514345159},{\"data0\":-0.12191010930134888},{\"data0\":-0.9388798239426004},{\"data0\":0.4587498472821218},{\"data0\":0.443466406774705},{\"data0\":0.18690288587108528},{\"data0\":-2.5255367458546103},{\"data0\":-0.022457929083914117},{\"data0\":1.5984778505777657},{\"data0\":0.4118547394257577},{\"data0\":-0.5578222333546387},{\"data0\":-1.0130054626717138},{\"data0\":0.6035616535293779},{\"data0\":-0.26036555437988573},{\"data0\":0.7633968339984173},{\"data0\":0.5302943651796941},{\"data0\":0.03732070809991711},{\"data0\":-0.6895991096373891},{\"data0\":-1.149371784918549},{\"data0\":0.15569183496128866},{\"data0\":0.4286241784911429},{\"data0\":0.010997385574385224},{\"data0\":0.522339161866817},{\"data0\":-0.6336543391819708},{\"data0\":2.202631673143828},{\"data0\":1.6468104989084873},{\"data0\":-0.391842993310577},{\"data0\":0.5306667713685563},{\"data0\":-0.15773698923820054},{\"data0\":-0.34031566023875887},{\"data0\":-0.622942625757199},{\"data0\":-0.007255711885492661},{\"data0\":-1.7018593394634398},{\"data0\":0.3667484251628982},{\"data0\":-1.170434781933139},{\"data0\":-0.12168274788458087},{\"data0\":0.6715882154862015},{\"data0\":-1.724612230325927},{\"data0\":-0.05266345553423892},{\"data0\":0.576987502964051},{\"data0\":-0.47481193460661136},{\"data0\":-0.8859342129482346},{\"data0\":1.660830697968077},{\"data0\":-1.0884264023381307},{\"data0\":-0.7419858466639416},{\"data0\":-0.6021631622868814},{\"data0\":0.15302662133167705},{\"data0\":-1.0988505051500725},{\"data0\":0.8539547443621119},{\"data0\":0.07618908545052469},{\"data0\":0.4755086836919866},{\"data0\":0.5209442592089122},{\"data0\":-1.2520134627538728},{\"data0\":0.2848295381320063},{\"data0\":-1.0389231523012659},{\"data0\":0.18667945008199155},{\"data0\":0.40202231182871506},{\"data0\":-0.11948008789786158},{\"data0\":-0.3513881676265024},{\"data0\":-0.10554595239094544},{\"data0\":1.5551889189001422},{\"data0\":-0.35899735444513453},{\"data0\":-0.4893051835908909},{\"data0\":-0.20318703878212208},{\"data0\":-0.6784431108271055},{\"data0\":-0.16175576149087473},{\"data0\":-0.04909623205981613},{\"data0\":0.5954149154286983},{\"data0\":-0.8844801126681179},{\"data0\":1.5198776798627234},{\"data0\":1.276652458214623},{\"data0\":-1.3706289730438312},{\"data0\":0.3525771578425701},{\"data0\":0.11507913118858679},{\"data0\":-0.1045855854079623},{\"data0\":0.33332091695168814},{\"data0\":0.04671776532041378},{\"data0\":0.10676920658798739},{\"data0\":0.39266696073379453},{\"data0\":0.7349945657389177},{\"data0\":-1.3084512190202968},{\"data0\":0.25205528558085016},{\"data0\":-1.5893902561376252},{\"data0\":-0.48296228808349534},{\"data0\":1.3738372962932281},{\"data0\":0.8259059862891333},{\"data0\":-0.7253246818586357},{\"data0\":0.3306565631714418},{\"data0\":-0.7172551671737596},{\"data0\":-1.1854037410613836},{\"data0\":0.2002650545235045},{\"data0\":-0.554761285464638},{\"data0\":-0.23476303845046184},{\"data0\":1.563357956196441},{\"data0\":-0.6217234837134982},{\"data0\":-0.9243069127964711},{\"data0\":-0.3871915686014141},{\"data0\":1.9857886790530206},{\"data0\":1.861901702576394},{\"data0\":-0.13764685090557524},{\"data0\":-0.9051809529391264},{\"data0\":-0.1935357541511775},{\"data0\":0.47117410585225405},{\"data0\":-0.4827558374015866},{\"data0\":0.4563795286110395},{\"data0\":1.2128005857365147},{\"data0\":-0.8809130856507859},{\"data0\":-0.1551480476987174},{\"data0\":-1.8415082553204996},{\"data0\":1.3558741610583247},{\"data0\":0.6441290194184139},{\"data0\":-0.3449199629297869},{\"data0\":-0.001775894934760795},{\"data0\":0.7423016914002979},{\"data0\":0.4954037380472238},{\"data0\":0.36022239457929084},{\"data0\":-1.6300876992960702},{\"data0\":0.22977484965667727},{\"data0\":-0.10938636366361505},{\"data0\":-0.32760618306661543},{\"data0\":-0.07569700090907225},{\"data0\":-0.40662279969483095},{\"data0\":-0.3273913680321971},{\"data0\":0.5887150705297675},{\"data0\":-1.1872299188836897},{\"data0\":-0.8853875706925263},{\"data0\":0.6370321441097947},{\"data0\":-1.3731503606671858},{\"data0\":-1.6507263356939266},{\"data0\":-0.051630821237397},{\"data0\":0.5608667744532101},{\"data0\":0.30625134106952306},{\"data0\":-0.8394082365101904},{\"data0\":-0.5043993542823305},{\"data0\":0.2548481353276279},{\"data0\":-0.8097611103736118},{\"data0\":2.084610715910135},{\"data0\":0.2182932910550672},{\"data0\":-0.81650608256771},{\"data0\":0.0632521639266602},{\"data0\":1.7325738588686967},{\"data0\":0.6632757510884338},{\"data0\":1.163342705902516},{\"data0\":-0.5692260740052169},{\"data0\":-1.1466196924876901},{\"data0\":-0.11221559025681672},{\"data0\":0.992218654685296},{\"data0\":1.5073704762602915},{\"data0\":0.23873764429838581},{\"data0\":0.7571232531962783},{\"data0\":0.35615702391924503},{\"data0\":-0.6856380476096798},{\"data0\":-2.8252595502791538},{\"data0\":0.6595322310374391},{\"data0\":0.9436097461080657},{\"data0\":-0.9150252075879634},{\"data0\":1.3023687909440773},{\"data0\":-0.10962958911075636},{\"data0\":-0.7307990321425394},{\"data0\":0.29285032603132527},{\"data0\":-0.30794865759351553},{\"data0\":-0.4177532036960747},{\"data0\":0.08329417356112286},{\"data0\":-0.63689770204011},{\"data0\":-1.0267066822350417},{\"data0\":0.553208290055111},{\"data0\":0.4707577411472495},{\"data0\":-0.8211159963687354},{\"data0\":-0.6843550046950423},{\"data0\":0.7817510403494788},{\"data0\":-0.5161604651615791},{\"data0\":-0.8430710911808107},{\"data0\":-1.1748188604610539},{\"data0\":-0.09293848893387974},{\"data0\":2.129718214833025},{\"data0\":-0.005303532220234653},{\"data0\":0.20105333909898085},{\"data0\":0.4155943060161708},{\"data0\":1.4312507206816245},{\"data0\":1.3246846034120963},{\"data0\":0.5520499709116569},{\"data0\":-2.092924275951676},{\"data0\":0.12206902053823998},{\"data0\":0.8107517585163561},{\"data0\":0.2093750846329682},{\"data0\":-0.8041275589202467},{\"data0\":-0.6497380055963178},{\"data0\":-1.4270160473044087},{\"data0\":-1.3061201602129136},{\"data0\":1.2265883059553422},{\"data0\":0.7565747571289252},{\"data0\":-0.04784304123609964},{\"data0\":1.4517601296790954},{\"data0\":0.303341814861094},{\"data0\":0.45779624401601127},{\"data0\":0.8601212314250058},{\"data0\":-0.46266025164276364},{\"data0\":-1.8433101502504117},{\"data0\":-0.8047462146610226},{\"data0\":1.1216643762198695},{\"data0\":-0.8485629924350218},{\"data0\":-1.2168107149997425},{\"data0\":-0.17262465249936212},{\"data0\":-1.217170800443073},{\"data0\":-3.2594301803465755},{\"data0\":-1.0462192406644901},{\"data0\":0.004602249758062638},{\"data0\":0.684563983026622},{\"data0\":-0.4423714139606692},{\"data0\":0.5128239512227032},{\"data0\":-0.43880235878061097},{\"data0\":0.30625027963282986},{\"data0\":1.9724393050829971},{\"data0\":-1.911254947620124},{\"data0\":-0.32996381817535064},{\"data0\":-1.1820021354438712},{\"data0\":-1.0112840572971045},{\"data0\":-0.2052498634216809},{\"data0\":0.4149798468824913},{\"data0\":0.05142560565510426},{\"data0\":0.45262331957938606},{\"data0\":0.8490051328690832},{\"data0\":-1.4698306181923204},{\"data0\":1.4747036208420008},{\"data0\":0.87495316216157},{\"data0\":-2.5576261960767455},{\"data0\":0.4891996857535854},{\"data0\":-0.10656635927193067},{\"data0\":1.4673996492264296},{\"data0\":0.22300220587324168},{\"data0\":1.946522443687531},{\"data0\":0.3698455607796766},{\"data0\":-0.40916504113126223},{\"data0\":-1.25149698480654},{\"data0\":-0.8808704723238407},{\"data0\":0.24109125762874795},{\"data0\":-0.20721397830613209},{\"data0\":-1.0906411461690486},{\"data0\":-0.09954111868933486},{\"data0\":-0.9247921077886418},{\"data0\":-1.2742239962810271},{\"data0\":-0.4822743196862631},{\"data0\":0.9259808232268005},{\"data0\":0.959489484667294},{\"data0\":0.28601514335081274},{\"data0\":0.6447171598954802},{\"data0\":1.0537256861835396},{\"data0\":1.4612941934727692},{\"data0\":-0.39299533055903113},{\"data0\":-0.9444999286344754},{\"data0\":-0.4269189350176718},{\"data0\":0.2928464990282914},{\"data0\":0.01247639221477353},{\"data0\":0.8248032101192979},{\"data0\":-1.3106615696767996},{\"data0\":-1.411577653156667},{\"data0\":1.0159216362477799},{\"data0\":-0.01334472217637502},{\"data0\":-0.2518508184461474},{\"data0\":0.06376495303330221},{\"data0\":-0.49396375924493896},{\"data0\":-0.9690189803527789},{\"data0\":-1.3067411283310797},{\"data0\":-0.8997989407623402},{\"data0\":0.15003500046252732},{\"data0\":2.3553752567680464},{\"data0\":-1.1102904346177118},{\"data0\":1.4306835787297725},{\"data0\":1.9100816096123887},{\"data0\":0.0665299549503833},{\"data0\":-0.5601545164395921},{\"data0\":0.2793659368572483},{\"data0\":0.6152635124923408},{\"data0\":-0.22983200322700525},{\"data0\":1.4305485151016473},{\"data0\":0.82184980155642},{\"data0\":0.34955285801401415},{\"data0\":-0.3099578744967568},{\"data0\":-0.5891396399194381},{\"data0\":0.7768855554861649},{\"data0\":1.4438081133925982},{\"data0\":0.09197762778616453},{\"data0\":-0.7308199360270585},{\"data0\":-0.3544407214452191},{\"data0\":-0.9103183628357074},{\"data0\":-0.7869343838416117},{\"data0\":0.296219329095286},{\"data0\":1.1236333084967791},{\"data0\":-1.8617295687233841},{\"data0\":1.7009947991835466},{\"data0\":0.3460214110038266},{\"data0\":-0.30387100385325666},{\"data0\":0.3336115298709668},{\"data0\":0.6322466420126704},{\"data0\":-0.0002413292070367509},{\"data0\":0.44178864660385647},{\"data0\":-0.6388937907475771},{\"data0\":-0.06929840148519903},{\"data0\":0.934284103994501},{\"data0\":-0.5040768645584967},{\"data0\":-0.8890239944450445},{\"data0\":-0.27415537853498967},{\"data0\":-0.24491291043670244},{\"data0\":-1.5137844741997224},{\"data0\":0.5701434127942203},{\"data0\":0.38121654697915847},{\"data0\":0.08663281515049963},{\"data0\":-0.5126677580747474},{\"data0\":-0.22417137074870178},{\"data0\":0.8954662098756673},{\"data0\":0.9809718162127802},{\"data0\":0.15484272815546196},{\"data0\":-1.0760616589074137},{\"data0\":-0.8899138688096433},{\"data0\":-0.8600199457264419},{\"data0\":0.25657591152404463},{\"data0\":-0.9753753626399232},{\"data0\":0.6633501795513308},{\"data0\":-1.1067644250557143},{\"data0\":-0.5045572064873326},{\"data0\":-0.47517182903890376},{\"data0\":1.1406131093901086},{\"data0\":-0.4937667303555668},{\"data0\":0.7088283925891212},{\"data0\":0.2385628314497042},{\"data0\":-0.6717923576508869},{\"data0\":-0.41992426095971963},{\"data0\":-0.11678110476775434},{\"data0\":1.2983772163103782},{\"data0\":0.4520065285382456},{\"data0\":0.2503674182700696},{\"data0\":0.9461366227216325},{\"data0\":1.2843428842910225},{\"data0\":0.22390981301694546},{\"data0\":-2.086945050785363},{\"data0\":1.0351627098739362},{\"data0\":0.16933668768538268},{\"data0\":0.4131259433068496},{\"data0\":0.7705134054681814},{\"data0\":0.5772221713825463},{\"data0\":1.0870438012615116},{\"data0\":0.19218145741908393},{\"data0\":-0.7829083158238721},{\"data0\":0.767317623070789},{\"data0\":0.23305642778817134},{\"data0\":1.42867838839247},{\"data0\":-0.987047794830326},{\"data0\":-1.2785399517066145},{\"data0\":-1.013361220900292},{\"data0\":0.7977230619303952},{\"data0\":1.3943572983533747},{\"data0\":1.978746974229955},{\"data0\":-0.11815744864506775},{\"data0\":0.09698768995073861},{\"data0\":-2.6725326623671797},{\"data0\":0.38821835933282595},{\"data0\":0.7082356919849898},{\"data0\":-1.3035533855445627},{\"data0\":1.593248449181295},{\"data0\":0.6813611211756919},{\"data0\":1.0323874926256862},{\"data0\":-0.6938539520273191},{\"data0\":-1.7439942215649682},{\"data0\":1.6801025270694638},{\"data0\":0.3548058862474898},{\"data0\":0.6756888275086548},{\"data0\":-0.8013342465094506},{\"data0\":0.5932323055528301},{\"data0\":-0.6260289022310813},{\"data0\":-0.3118161776991385},{\"data0\":-2.0365120642947914},{\"data0\":-0.9676778659436849},{\"data0\":-1.2653804246455123},{\"data0\":0.39021345244277983},{\"data0\":-1.0879129222796493},{\"data0\":-0.09329296991258713},{\"data0\":-0.19069945931837665},{\"data0\":0.5805608105170529},{\"data0\":-0.7272390240455148},{\"data0\":1.5855055291947373},{\"data0\":-0.6780359447857173},{\"data0\":-0.011920160264044929},{\"data0\":0.07809431524602424},{\"data0\":-1.0975297544941867},{\"data0\":0.9612268467454157},{\"data0\":-0.6553730354318007},{\"data0\":-1.0394589708133866},{\"data0\":-0.27133853505395983},{\"data0\":-0.3942947297506667},{\"data0\":-1.0326964826152538},{\"data0\":-1.0730686560824927},{\"data0\":0.5164867063092158},{\"data0\":-0.4119409734506777},{\"data0\":-0.6595487858270768},{\"data0\":-2.131408730642706},{\"data0\":-0.9939090592093246},{\"data0\":-0.5328062158220584},{\"data0\":-0.4722817435446632},{\"data0\":-0.2742778719874346},{\"data0\":-1.2130693309038425},{\"data0\":-0.1789005136312978},{\"data0\":0.445696308415928},{\"data0\":-1.5521444542190936},{\"data0\":-0.47163213285338},{\"data0\":1.7367162289501283},{\"data0\":-0.2915813505339074},{\"data0\":-0.9687721038969431},{\"data0\":-0.26385160018075676},{\"data0\":-1.109631109003237},{\"data0\":-0.577557000898267},{\"data0\":-0.3635490145946746},{\"data0\":1.4592824793359025},{\"data0\":1.2991152102295138},{\"data0\":-1.55271313851336},{\"data0\":-0.13786311180818359},{\"data0\":-0.6745363948110701},{\"data0\":0.18654408812057127},{\"data0\":0.2571816201695915},{\"data0\":-0.22116707972522734},{\"data0\":0.7049477698468574},{\"data0\":-0.8050614231975747},{\"data0\":-0.8694609552663568},{\"data0\":-0.6013894943973097},{\"data0\":-1.020867231984983},{\"data0\":1.0937481972936889},{\"data0\":1.139160030284275},{\"data0\":0.8282651146154354},{\"data0\":-1.4329914488613928},{\"data0\":0.33027827147615857},{\"data0\":0.870068309487045},{\"data0\":-0.47260689063541667},{\"data0\":1.5399702586307311},{\"data0\":-0.2618305146410183},{\"data0\":0.05472001738901784},{\"data0\":0.2567115249123426},{\"data0\":-0.9494639922248708},{\"data0\":0.42547396570498375},{\"data0\":-1.5630880166237087},{\"data0\":-0.738530047514518},{\"data0\":-0.39564536497250585},{\"data0\":-1.029932332654171},{\"data0\":-2.3554096579591657},{\"data0\":0.540399381195828},{\"data0\":-0.23960236041937766},{\"data0\":-0.6248111857144585},{\"data0\":-1.2416087529965285},{\"data0\":0.779998174304385},{\"data0\":0.2257104200908942},{\"data0\":-2.2109389418258947},{\"data0\":-1.4586656849682147},{\"data0\":0.23158757359819088},{\"data0\":0.9495721827485999},{\"data0\":0.1620071501144229},{\"data0\":0.11022346173762346},{\"data0\":0.2022731241498852},{\"data0\":0.7773591426009078},{\"data0\":0.43940700811624117},{\"data0\":-2.320581442348612},{\"data0\":-0.32443280777150857},{\"data0\":-0.30876021066720405},{\"data0\":-0.34461390841670064},{\"data0\":0.15265004437239385},{\"data0\":0.6343487736636895},{\"data0\":1.605010010888152},{\"data0\":-0.23745280986348852},{\"data0\":0.5100455682709342},{\"data0\":1.7477908120585819},{\"data0\":0.3993163134512751},{\"data0\":-2.95633965868123},{\"data0\":0.22355028602847396},{\"data0\":-0.017874224555468728},{\"data0\":1.0143172889141914},{\"data0\":0.1759708720857853},{\"data0\":0.6558145704424914},{\"data0\":0.012583973854511534},{\"data0\":-0.8535727723117146},{\"data0\":-0.38071019356780905},{\"data0\":-0.5067723946773355},{\"data0\":0.5440731761303238},{\"data0\":-0.8047915444118493},{\"data0\":-0.8820436945413028},{\"data0\":-1.8570878281442402},{\"data0\":-0.7643179742207766},{\"data0\":1.8155312261068057},{\"data0\":-0.7978795815823985},{\"data0\":-1.6455750915263379},{\"data0\":-0.11605931339042845},{\"data0\":1.6982503873535184},{\"data0\":1.5722804059789215},{\"data0\":-1.3789756520817968},{\"data0\":-0.10722384968329507},{\"data0\":2.3225769143460897},{\"data0\":-1.080075964378253},{\"data0\":-0.2836521046702711},{\"data0\":0.6345132850203434},{\"data0\":0.6945341811920392},{\"data0\":-1.4093422856238793},{\"data0\":0.09154077950329217},{\"data0\":0.24110227636370982},{\"data0\":0.8022389985692824},{\"data0\":-1.329696980262615},{\"data0\":-0.009340830140172387},{\"data0\":-1.6664425184682525},{\"data0\":-0.5404029712290218},{\"data0\":0.3149922206341071},{\"data0\":0.44787298889841765},{\"data0\":0.37415745868928024},{\"data0\":0.198721252997867},{\"data0\":0.6471120675085038},{\"data0\":-0.683360202987492},{\"data0\":-0.27564135826052066},{\"data0\":-0.4245938745838536},{\"data0\":0.21339367361666797},{\"data0\":0.2709899654047986},{\"data0\":0.382908466385661},{\"data0\":1.6413309934408096},{\"data0\":-0.268423417083218},{\"data0\":0.2385357011993727},{\"data0\":-0.805135402350497},{\"data0\":-0.37238800127578503},{\"data0\":-1.4164839147403243},{\"data0\":0.3827615276632438},{\"data0\":0.5748368218738851},{\"data0\":0.7014200268725441},{\"data0\":-1.5131820021428077},{\"data0\":-1.0005008710203012},{\"data0\":-0.07721910956162456},{\"data0\":-1.030532006462256},{\"data0\":1.8904225040705724},{\"data0\":0.6079495962177489},{\"data0\":-0.8750495608428829},{\"data0\":-0.6367865112749538},{\"data0\":0.8303272343208502},{\"data0\":-1.1934555306428722},{\"data0\":0.5403488617675799},{\"data0\":-1.140173069241979},{\"data0\":1.4988499814415557},{\"data0\":-0.7887867636533177},{\"data0\":-1.6830815063145943},{\"data0\":0.09885607409689112},{\"data0\":-0.5281978209086443},{\"data0\":-0.5442468654539655},{\"data0\":-1.0617729090306216},{\"data0\":0.2577084727823471},{\"data0\":-1.6609977529063036},{\"data0\":-1.0265100186791247},{\"data0\":-0.5242723625091813},{\"data0\":-0.020396475067553207},{\"data0\":0.739034599238964},{\"data0\":-0.2835864656550049},{\"data0\":1.0000185835354636},{\"data0\":0.5208764092274794},{\"data0\":0.8181231889692338},{\"data0\":-1.1291584944147857},{\"data0\":1.5392875908713324},{\"data0\":1.5302553505536267},{\"data0\":1.3264992118707244},{\"data0\":0.8403258636309887},{\"data0\":-1.5002898373561542},{\"data0\":-0.5960682517051128},{\"data0\":-0.05308261389450308},{\"data0\":0.10556228680492956},{\"data0\":-0.33215927560746533},{\"data0\":0.18661996077423185},{\"data0\":0.29139940876299997},{\"data0\":-0.5273615202917987},{\"data0\":0.7596670502959729},{\"data0\":-0.38265392447342045},{\"data0\":0.24323844659848962},{\"data0\":-0.12432050874797342},{\"data0\":0.28192781111087356},{\"data0\":0.6101634738516026},{\"data0\":-1.6858325389452298},{\"data0\":0.4000934989815741},{\"data0\":-1.7231175184915875},{\"data0\":-0.05476299987234205},{\"data0\":-0.7543204755246085},{\"data0\":-0.04683504413835047},{\"data0\":-0.3561537360290649},{\"data0\":-0.7832995386544648},{\"data0\":-1.6601566104627796},{\"data0\":-0.04711397723192406},{\"data0\":-1.3827507012357543},{\"data0\":-1.996906738153835},{\"data0\":0.27824582087561495},{\"data0\":1.204543037566941},{\"data0\":0.3491521949421654},{\"data0\":0.055749514419587524},{\"data0\":-0.6581607338949995},{\"data0\":0.3201179635486434},{\"data0\":-1.3645424907425623},{\"data0\":2.105565894532001},{\"data0\":1.917298969092338},{\"data0\":-0.3809744261161151},{\"data0\":-1.5127227919995503},{\"data0\":0.566783673956133},{\"data0\":0.7157948023336235},{\"data0\":-0.837000391902646},{\"data0\":-0.8105543653193056},{\"data0\":0.33988467831138186},{\"data0\":0.7705019057654561},{\"data0\":-0.8193092936101108},{\"data0\":-1.018355525131145},{\"data0\":-0.4400556639387364},{\"data0\":1.2908888282142794},{\"data0\":0.5462534503220783},{\"data0\":-0.5542047670106953},{\"data0\":-2.164774611032087},{\"data0\":1.2928411254229701},{\"data0\":-0.6823769093158678},{\"data0\":-1.538152832709837},{\"data0\":1.9425140273700185},{\"data0\":-0.5317749344115201},{\"data0\":1.4191600702447513},{\"data0\":0.06248730878640161},{\"data0\":-1.4918787967412972},{\"data0\":-0.1522745821626239},{\"data0\":-1.4849205641201302},{\"data0\":-0.8317764067380758},{\"data0\":1.1487581784693273},{\"data0\":-1.113362276158835},{\"data0\":-0.6724541751552692},{\"data0\":1.792573799457288},{\"data0\":1.287571366346757},{\"data0\":-0.0992477999742381},{\"data0\":-0.9954429311423139},{\"data0\":1.1238176908743722},{\"data0\":-0.9615010399161467},{\"data0\":-0.29985721984194114},{\"data0\":-1.0696133724767647},{\"data0\":0.195852623022298},{\"data0\":1.8573171448690295},{\"data0\":-2.593645589051371},{\"data0\":0.2155078516500246},{\"data0\":-0.9945563964004308},{\"data0\":1.3456763238616476},{\"data0\":-0.8179944392192836},{\"data0\":1.375330105714836},{\"data0\":-0.6810640525899359},{\"data0\":-0.35765069025898055},{\"data0\":1.6248143754635882},{\"data0\":-1.256092254892192},{\"data0\":1.0480226274325073},{\"data0\":0.17631727476993503},{\"data0\":0.36837853327243864},{\"data0\":0.02130866895721433},{\"data0\":1.3880278769986778},{\"data0\":-1.5046403515853952},{\"data0\":-0.9536242181743815},{\"data0\":0.48198195429647545},{\"data0\":0.02219896142964032},{\"data0\":-0.9965695293358715},{\"data0\":0.721301836638944},{\"data0\":-1.2895545068113132},{\"data0\":0.03034446666093623},{\"data0\":-1.7505622900359132},{\"data0\":-0.2144870419157331},{\"data0\":1.7129789746581023},{\"data0\":1.4353158959303198},{\"data0\":-0.21013457019925566},{\"data0\":-0.587964631308127},{\"data0\":-0.3865286618511027},{\"data0\":-1.9908328127021142},{\"data0\":-0.2533743284068586},{\"data0\":-0.43161915622095287},{\"data0\":-0.012264057297710573},{\"data0\":0.8669506369877701},{\"data0\":-0.52019859224443},{\"data0\":-1.0793590718411736},{\"data0\":-1.5882521796265352},{\"data0\":0.9350383973589279},{\"data0\":-0.2749799471657124},{\"data0\":-0.4919250238273435},{\"data0\":-1.1684950602979054},{\"data0\":-2.3873784364574284},{\"data0\":-1.1575603206409895},{\"data0\":0.31452596310373476},{\"data0\":0.5684347439693196},{\"data0\":2.1246716061872406},{\"data0\":-1.596003317778321},{\"data0\":-0.2544365771840976},{\"data0\":-2.1728487672141523},{\"data0\":1.067772802388473},{\"data0\":1.1119517615261345},{\"data0\":0.7960367873907369},{\"data0\":-0.3462236414186223},{\"data0\":-1.2494547436129106},{\"data0\":0.18295755191145247},{\"data0\":-1.3128221435354566},{\"data0\":0.3284932055263252},{\"data0\":-1.086871909016271},{\"data0\":0.5015448037482162},{\"data0\":0.03302834192802842},{\"data0\":-0.7303865926047536},{\"data0\":0.6966455797097374},{\"data0\":0.1997534994396233},{\"data0\":-0.4781197598137328},{\"data0\":1.866428864831352},{\"data0\":0.0366439072537956},{\"data0\":0.10580290996880355},{\"data0\":-0.14018739387729398},{\"data0\":0.06663176123399508},{\"data0\":0.21718876057553813},{\"data0\":1.4187036179123673},{\"data0\":0.6777009927868587},{\"data0\":0.8410267218513457},{\"data0\":0.6736456069877514},{\"data0\":1.2844369616750961},{\"data0\":-0.0007578302769311201},{\"data0\":0.26727785964122286},{\"data0\":0.6040713270258157},{\"data0\":1.3639303277547952},{\"data0\":0.20173782794407852},{\"data0\":0.855362960863034},{\"data0\":-0.3784610376880609},{\"data0\":0.047842895131604446},{\"data0\":-1.040660311225141},{\"data0\":0.02098290502817947},{\"data0\":-1.2728199361162373},{\"data0\":-0.8673899959267218},{\"data0\":-1.2927538544123287},{\"data0\":1.2516041913121925},{\"data0\":-0.8476261930390745},{\"data0\":-0.14660854200065673},{\"data0\":-0.875004610383164},{\"data0\":1.6669785999158848},{\"data0\":-0.9468447543743125},{\"data0\":-1.0628871137550617},{\"data0\":0.7045945143168808},{\"data0\":1.0131160586630845},{\"data0\":0.9660929646060874},{\"data0\":-1.525493946256926},{\"data0\":-1.702812124764252},{\"data0\":-0.004209122673461482},{\"data0\":-1.0624303971480369},{\"data0\":0.18848727259994358},{\"data0\":1.5845949812373856},{\"data0\":0.17427217754422136},{\"data0\":-0.14572952259275299},{\"data0\":0.8791117808354899},{\"data0\":0.37184793616539596},{\"data0\":-0.16545539122373887},{\"data0\":-0.21703146385188993},{\"data0\":0.7647215480575553},{\"data0\":-0.7241019571096319},{\"data0\":-0.03722910761625552},{\"data0\":0.751260690190976},{\"data0\":0.05751718485146406},{\"data0\":-1.6313727451118616},{\"data0\":0.12172469636966432},{\"data0\":-1.7553552909370234},{\"data0\":-0.9751815641805683},{\"data0\":-0.681173851110986},{\"data0\":1.6750761627139665},{\"data0\":0.280618756179859},{\"data0\":-0.16444018534640445},{\"data0\":0.7488839246537488},{\"data0\":-0.9021802205495099},{\"data0\":-0.09536424117599694},{\"data0\":-0.3805725367171868},{\"data0\":-0.20867837286059387},{\"data0\":-0.5498452201750924},{\"data0\":-1.5835772822144787},{\"data0\":1.0296590881359118},{\"data0\":1.240573349721571},{\"data0\":-0.598923509880147},{\"data0\":-1.2105356152930167},{\"data0\":-0.056039757368081415},{\"data0\":-1.8561686714291354},{\"data0\":0.6792063372663509},{\"data0\":-0.20943933976680584},{\"data0\":-0.33592457667905323},{\"data0\":-0.45936547792572346},{\"data0\":-0.7585037294808246},{\"data0\":2.8000551877997832},{\"data0\":-0.34621630767661404},{\"data0\":-2.650681665197741},{\"data0\":2.3122380566558136},{\"data0\":0.5144793595077701},{\"data0\":-0.10370174070665156},{\"data0\":-0.4597653977538201},{\"data0\":-1.0003775957016285},{\"data0\":0.7371660203616422},{\"data0\":-2.2546183865078384},{\"data0\":-1.6170820389338751},{\"data0\":-0.6530348251656847},{\"data0\":-0.13633474620276234},{\"data0\":-0.913705841621269},{\"data0\":-0.8322326956448116},{\"data0\":-2.2595804413324183},{\"data0\":-0.4750382117773252},{\"data0\":-0.984199568701611},{\"data0\":-0.3968454979790981},{\"data0\":-0.1657857864371768},{\"data0\":0.2722842911879957},{\"data0\":0.9536334802203176},{\"data0\":-0.8885842842026238},{\"data0\":-0.2134236072118529},{\"data0\":1.1719178552174119},{\"data0\":-0.5768471560441143},{\"data0\":-1.7622759149914886},{\"data0\":0.30512280951182463},{\"data0\":0.7312762428511962},{\"data0\":0.020822816232046397},{\"data0\":0.5712321102688394},{\"data0\":0.30103017681337446},{\"data0\":-0.396501140735858},{\"data0\":0.20830974208984634},{\"data0\":0.3159141425035249},{\"data0\":1.4957163033517182},{\"data0\":0.3471522160431206},{\"data0\":1.2073169219585007},{\"data0\":-1.956305815449871},{\"data0\":2.055523904749957},{\"data0\":1.65679377103383},{\"data0\":-0.2126240510408639},{\"data0\":-2.1488978641298258},{\"data0\":-1.2858470742191126},{\"data0\":0.4315926765207241},{\"data0\":0.6087158645839083},{\"data0\":0.7978315542745296},{\"data0\":0.3894683441602477},{\"data0\":1.291867251607463},{\"data0\":0.7701184112081925},{\"data0\":0.9684479069619821},{\"data0\":0.14213839957835248},{\"data0\":2.056746752657385},{\"data0\":0.7874610144933539},{\"data0\":-0.896701220730008},{\"data0\":1.3202604193631475},{\"data0\":-0.48298872627790707},{\"data0\":0.19220412911105103},{\"data0\":-0.1755546031799358},{\"data0\":-0.7937340419149573},{\"data0\":0.34707057329355817},{\"data0\":0.008766167656312598},{\"data0\":-0.7869875330673647},{\"data0\":-0.6278077132669272},{\"data0\":-1.344607355253148},{\"data0\":-0.744920160935017},{\"data0\":-2.1713715745529787},{\"data0\":-0.04490419893237062},{\"data0\":0.5671117612408522},{\"data0\":-0.21975689164359166},{\"data0\":-0.5413333819095609},{\"data0\":0.2675924695968724},{\"data0\":0.09102877841640383},{\"data0\":-0.07575649465564285},{\"data0\":-1.4133132252032259},{\"data0\":0.7555022920470678},{\"data0\":-0.06603798208604002},{\"data0\":0.9608592701579997},{\"data0\":0.4583263353706959},{\"data0\":1.1583397387324326},{\"data0\":1.219866212703607},{\"data0\":-0.9447756599533267},{\"data0\":0.37884138547657037},{\"data0\":-0.6486389392206457},{\"data0\":0.9824548482470392},{\"data0\":2.0849523914390096},{\"data0\":-0.013315728996477635},{\"data0\":0.3857639345020733},{\"data0\":-1.5333853205836203},{\"data0\":-0.6641202544585658},{\"data0\":-0.3110788610668977},{\"data0\":-1.4382306112505088},{\"data0\":-0.8894292249816823},{\"data0\":0.8594475275573193},{\"data0\":0.301890640392798},{\"data0\":-0.5014174772533299},{\"data0\":-0.29850407863070894},{\"data0\":0.6437801198385341},{\"data0\":0.8159816555485377},{\"data0\":0.5796703226161234},{\"data0\":-0.48209834340950436},{\"data0\":0.6822353508411232},{\"data0\":-0.47240736325751004},{\"data0\":-0.025786782523402194},{\"data0\":0.6315797311966301},{\"data0\":-1.9712820228188228},{\"data0\":0.4705354446236065},{\"data0\":-0.5405294541108864},{\"data0\":-0.19045159435059208},{\"data0\":1.251032662184031},{\"data0\":0.5823905870562827},{\"data0\":2.472861308597257},{\"data0\":-0.18074491720583544},{\"data0\":1.469693772602618},{\"data0\":-0.47841953827121},{\"data0\":-0.7164029804907083},{\"data0\":0.24937755176414736},{\"data0\":-2.333595762010216},{\"data0\":-1.1480127882318314},{\"data0\":0.7945233399731327},{\"data0\":-0.336295183825232},{\"data0\":-1.2312396323343873},{\"data0\":-0.07956314295451318},{\"data0\":-0.8121274552977775},{\"data0\":-1.5981220924447153},{\"data0\":-0.7526697701796738},{\"data0\":-0.4110773877451788},{\"data0\":0.6012504766719475},{\"data0\":1.0663629943737636},{\"data0\":-0.5336843820594391},{\"data0\":0.1201572741366057},{\"data0\":1.8399509881620413},{\"data0\":0.9735456327254625},{\"data0\":0.5722842977079913},{\"data0\":-1.939285944656343},{\"data0\":-0.6744263352398402},{\"data0\":1.7355314894430867},{\"data0\":0.764313709937807},{\"data0\":-1.2681956534022543},{\"data0\":1.2687221658348147},{\"data0\":0.95791906777179},{\"data0\":-0.09426573538616788},{\"data0\":-0.09968335684721406},{\"data0\":-0.33751766167571595},{\"data0\":0.4321443584366686},{\"data0\":0.8137563355192747},{\"data0\":-1.0552302256890422},{\"data0\":1.082880085172872},{\"data0\":-0.10675254306733842},{\"data0\":0.38251138416174424},{\"data0\":0.24689386213666728},{\"data0\":0.924347614773583},{\"data0\":-0.9399746156535983},{\"data0\":2.1140918916294313},{\"data0\":-0.7101155781252269},{\"data0\":-0.063593345530754},{\"data0\":0.49646930210589757},{\"data0\":-0.7881509535968864},{\"data0\":-0.25276977818422186},{\"data0\":0.055110754723470906},{\"data0\":0.9722329989045313},{\"data0\":1.7354552743386689},{\"data0\":-0.20777616282764813},{\"data0\":0.7218939294953335},{\"data0\":1.508833195531353},{\"data0\":-0.5630970012997759},{\"data0\":-1.1515140213309096},{\"data0\":-0.759404425812193},{\"data0\":-1.3898022669965469},{\"data0\":2.4940564866349297},{\"data0\":-0.46153768836857445},{\"data0\":-0.7734112026593702},{\"data0\":-0.5558128623680559},{\"data0\":0.4757859764649587},{\"data0\":-1.2443040580211897},{\"data0\":-0.03743272174378688},{\"data0\":-1.4295419745679407},{\"data0\":-0.009584146239586866},{\"data0\":0.9549535553660305},{\"data0\":0.4976640810396101},{\"data0\":0.8221461871801573},{\"data0\":-0.21161745989834713},{\"data0\":-0.9348033489114724},{\"data0\":0.7691575353552577}]},\"extension\":[]}\n",
       "        var id_name = '#vis-2e35c985-a0ef-4a38-887a-c0a3542a721f';\n",
       "        Nyaplot.core.parse(model, id_name);\n",
       "\n",
       "        require(['downloadable'], function(downloadable){\n",
       "          var svg = d3.select(id_name).select(\"svg\");\n",
       "\t  if(!svg.empty())\n",
       "\t    svg.call(downloadable().filename('fig'));\n",
       "\t});\n",
       "    };\n",
       "    if(window['Nyaplot']==undefined){\n",
       "        window.addEventListener('load_nyaplot', render, false);\n",
       "\treturn;\n",
       "    } else {\n",
       "       render();\n",
       "    }\n",
       "})();\n",
       "</script>\n"
      ],
      "text/plain": [
       "#<Nyaplot::Frame:0x9afbdc0 @properties={:panes=>[#<Nyaplot::Plot:0x9caab30 @properties={:diagrams=>[#<Nyaplot::Diagram:0x9afc658 @properties={:type=>:histogram, :options=>{:value=>\"data0\"}, :data=>\"fde088fd-130a-4121-9141-ccb20bfd42a2\"}, @xrange=[-3.2594301803465755, 2.8000551877997832], @yrange=[0, 1000]>], :options=>{:yrange=>[0, 200], :y_label=>\"Frequency\", :x_label=>\"Bins\", :width=>700, :xrange=>[-3.2594301803465755, 2.8000551877997832]}}>], :data=>{\"fde088fd-130a-4121-9141-ccb20bfd42a2\"=>#<Nyaplot::DataFrame:0x9caa680 @name=\"fde088fd-130a-4121-9141-ccb20bfd42a2\", @rows=[{:data0=>0.47888626121500977}, {:data0=>-0.7164087764954045}, {:data0=>1.7021372042846692}, {:data0=>-0.9339324759686349}, {:data0=>-0.9412029504473116}, {:data0=>-0.46990368078801703}, {:data0=>-1.666066012346936}, {:data0=>-0.6032474587084111}, {:data0=>-1.6340742431734006}, {:data0=>0.06587619801569564}, {:data0=>-1.2567603759380046}, {:data0=>0.1957104172375389}, {:data0=>0.8847146597097426}, {:data0=>0.3794324826787741}, {:data0=>1.0796120512732486}, {:data0=>-2.0600933278458737}, {:data0=>-0.5460169851635863}, {:data0=>-0.20306150474016102}, {:data0=>-1.557976782064549}, {:data0=>0.9022493480281409}, {:data0=>-0.20540075287796533}, {:data0=>-0.4005176495074727}, {:data0=>1.16491448518351}, {:data0=>0.017766479003085315}, {:data0=>-0.27502411871202326}, {:data0=>-0.6147720382148474}, {:data0=>-0.3487594345816061}, {:data0=>-0.4078083316611733}, {:data0=>0.6844386936267947}, {:data0=>0.06457077593994547}, {:data0=>0.02994972565911394}, {:data0=>0.5889930232474205}, {:data0=>-0.8945982431520605}, {:data0=>0.11966124791954152}, {:data0=>0.0026931679365961073}, {:data0=>1.0253439569346259}, {:data0=>-0.9994211307054793}, {:data0=>1.0890446702198733}, {:data0=>0.12337455120260232}, {:data0=>0.2262293898712007}, {:data0=>1.6608283946708164}, {:data0=>-0.03447123981548631}, {:data0=>-0.3620800514345159}, {:data0=>-0.12191010930134888}, {:data0=>-0.9388798239426004}, {:data0=>0.4587498472821218}, {:data0=>0.443466406774705}, {:data0=>0.18690288587108528}, {:data0=>-2.5255367458546103}, {:data0=>-0.022457929083914117}, {:data0=>1.5984778505777657}, {:data0=>0.4118547394257577}, {:data0=>-0.5578222333546387}, {:data0=>-1.0130054626717138}, {:data0=>0.6035616535293779}, {:data0=>-0.26036555437988573}, {:data0=>0.7633968339984173}, {:data0=>0.5302943651796941}, {:data0=>0.03732070809991711}, {:data0=>-0.6895991096373891}, {:data0=>-1.149371784918549}, {:data0=>0.15569183496128866}, {:data0=>0.4286241784911429}, {:data0=>0.010997385574385224}, {:data0=>0.522339161866817}, {:data0=>-0.6336543391819708}, {:data0=>2.202631673143828}, {:data0=>1.6468104989084873}, {:data0=>-0.391842993310577}, {:data0=>0.5306667713685563}, {:data0=>-0.15773698923820054}, {:data0=>-0.34031566023875887}, {:data0=>-0.622942625757199}, {:data0=>-0.007255711885492661}, {:data0=>-1.7018593394634398}, {:data0=>0.3667484251628982}, {:data0=>-1.170434781933139}, {:data0=>-0.12168274788458087}, {:data0=>0.6715882154862015}, {:data0=>-1.724612230325927}, {:data0=>-0.05266345553423892}, {:data0=>0.576987502964051}, {:data0=>-0.47481193460661136}, {:data0=>-0.8859342129482346}, {:data0=>1.660830697968077}, {:data0=>-1.0884264023381307}, {:data0=>-0.7419858466639416}, {:data0=>-0.6021631622868814}, {:data0=>0.15302662133167705}, {:data0=>-1.0988505051500725}, {:data0=>0.8539547443621119}, {:data0=>0.07618908545052469}, {:data0=>0.4755086836919866}, {:data0=>0.5209442592089122}, {:data0=>-1.2520134627538728}, {:data0=>0.2848295381320063}, {:data0=>-1.0389231523012659}, {:data0=>0.18667945008199155}, {:data0=>0.40202231182871506}, {:data0=>-0.11948008789786158}, {:data0=>-0.3513881676265024}, {:data0=>-0.10554595239094544}, {:data0=>1.5551889189001422}, {:data0=>-0.35899735444513453}, {:data0=>-0.4893051835908909}, {:data0=>-0.20318703878212208}, {:data0=>-0.6784431108271055}, {:data0=>-0.16175576149087473}, {:data0=>-0.04909623205981613}, {:data0=>0.5954149154286983}, {:data0=>-0.8844801126681179}, {:data0=>1.5198776798627234}, {:data0=>1.276652458214623}, {:data0=>-1.3706289730438312}, {:data0=>0.3525771578425701}, {:data0=>0.11507913118858679}, {:data0=>-0.1045855854079623}, {:data0=>0.33332091695168814}, {:data0=>0.04671776532041378}, {:data0=>0.10676920658798739}, {:data0=>0.39266696073379453}, {:data0=>0.7349945657389177}, {:data0=>-1.3084512190202968}, {:data0=>0.25205528558085016}, {:data0=>-1.5893902561376252}, {:data0=>-0.48296228808349534}, {:data0=>1.3738372962932281}, {:data0=>0.8259059862891333}, {:data0=>-0.7253246818586357}, {:data0=>0.3306565631714418}, {:data0=>-0.7172551671737596}, {:data0=>-1.1854037410613836}, {:data0=>0.2002650545235045}, {:data0=>-0.554761285464638}, {:data0=>-0.23476303845046184}, {:data0=>1.563357956196441}, {:data0=>-0.6217234837134982}, {:data0=>-0.9243069127964711}, {:data0=>-0.3871915686014141}, {:data0=>1.9857886790530206}, {:data0=>1.861901702576394}, {:data0=>-0.13764685090557524}, {:data0=>-0.9051809529391264}, {:data0=>-0.1935357541511775}, {:data0=>0.47117410585225405}, {:data0=>-0.4827558374015866}, {:data0=>0.4563795286110395}, {:data0=>1.2128005857365147}, {:data0=>-0.8809130856507859}, {:data0=>-0.1551480476987174}, {:data0=>-1.8415082553204996}, {:data0=>1.3558741610583247}, {:data0=>0.6441290194184139}, {:data0=>-0.3449199629297869}, {:data0=>-0.001775894934760795}, {:data0=>0.7423016914002979}, {:data0=>0.4954037380472238}, {:data0=>0.36022239457929084}, {:data0=>-1.6300876992960702}, {:data0=>0.22977484965667727}, {:data0=>-0.10938636366361505}, {:data0=>-0.32760618306661543}, {:data0=>-0.07569700090907225}, {:data0=>-0.40662279969483095}, {:data0=>-0.3273913680321971}, {:data0=>0.5887150705297675}, {:data0=>-1.1872299188836897}, {:data0=>-0.8853875706925263}, {:data0=>0.6370321441097947}, {:data0=>-1.3731503606671858}, {:data0=>-1.6507263356939266}, {:data0=>-0.051630821237397}, {:data0=>0.5608667744532101}, {:data0=>0.30625134106952306}, {:data0=>-0.8394082365101904}, {:data0=>-0.5043993542823305}, {:data0=>0.2548481353276279}, {:data0=>-0.8097611103736118}, {:data0=>2.084610715910135}, {:data0=>0.2182932910550672}, {:data0=>-0.81650608256771}, {:data0=>0.0632521639266602}, {:data0=>1.7325738588686967}, {:data0=>0.6632757510884338}, {:data0=>1.163342705902516}, {:data0=>-0.5692260740052169}, {:data0=>-1.1466196924876901}, {:data0=>-0.11221559025681672}, {:data0=>0.992218654685296}, {:data0=>1.5073704762602915}, {:data0=>0.23873764429838581}, {:data0=>0.7571232531962783}, {:data0=>0.35615702391924503}, {:data0=>-0.6856380476096798}, {:data0=>-2.8252595502791538}, {:data0=>0.6595322310374391}, {:data0=>0.9436097461080657}, {:data0=>-0.9150252075879634}, {:data0=>1.3023687909440773}, {:data0=>-0.10962958911075636}, {:data0=>-0.7307990321425394}, {:data0=>0.29285032603132527}, {:data0=>-0.30794865759351553}, {:data0=>-0.4177532036960747}, {:data0=>0.08329417356112286}, {:data0=>-0.63689770204011}, {:data0=>-1.0267066822350417}, {:data0=>0.553208290055111}, {:data0=>0.4707577411472495}, {:data0=>-0.8211159963687354}, {:data0=>-0.6843550046950423}, {:data0=>0.7817510403494788}, {:data0=>-0.5161604651615791}, {:data0=>-0.8430710911808107}, {:data0=>-1.1748188604610539}, {:data0=>-0.09293848893387974}, {:data0=>2.129718214833025}, {:data0=>-0.005303532220234653}, {:data0=>0.20105333909898085}, {:data0=>0.4155943060161708}, {:data0=>1.4312507206816245}, {:data0=>1.3246846034120963}, {:data0=>0.5520499709116569}, {:data0=>-2.092924275951676}, {:data0=>0.12206902053823998}, {:data0=>0.8107517585163561}, {:data0=>0.2093750846329682}, {:data0=>-0.8041275589202467}, {:data0=>-0.6497380055963178}, {:data0=>-1.4270160473044087}, {:data0=>-1.3061201602129136}, {:data0=>1.2265883059553422}, {:data0=>0.7565747571289252}, {:data0=>-0.04784304123609964}, {:data0=>1.4517601296790954}, {:data0=>0.303341814861094}, {:data0=>0.45779624401601127}, {:data0=>0.8601212314250058}, {:data0=>-0.46266025164276364}, {:data0=>-1.8433101502504117}, {:data0=>-0.8047462146610226}, {:data0=>1.1216643762198695}, {:data0=>-0.8485629924350218}, {:data0=>-1.2168107149997425}, {:data0=>-0.17262465249936212}, {:data0=>-1.217170800443073}, {:data0=>-3.2594301803465755}, {:data0=>-1.0462192406644901}, {:data0=>0.004602249758062638}, {:data0=>0.684563983026622}, {:data0=>-0.4423714139606692}, {:data0=>0.5128239512227032}, {:data0=>-0.43880235878061097}, {:data0=>0.30625027963282986}, {:data0=>1.9724393050829971}, {:data0=>-1.911254947620124}, {:data0=>-0.32996381817535064}, {:data0=>-1.1820021354438712}, {:data0=>-1.0112840572971045}, {:data0=>-0.2052498634216809}, {:data0=>0.4149798468824913}, {:data0=>0.05142560565510426}, {:data0=>0.45262331957938606}, {:data0=>0.8490051328690832}, {:data0=>-1.4698306181923204}, {:data0=>1.4747036208420008}, {:data0=>0.87495316216157}, {:data0=>-2.5576261960767455}, {:data0=>0.4891996857535854}, {:data0=>-0.10656635927193067}, {:data0=>1.4673996492264296}, {:data0=>0.22300220587324168}, {:data0=>1.946522443687531}, {:data0=>0.3698455607796766}, {:data0=>-0.40916504113126223}, {:data0=>-1.25149698480654}, {:data0=>-0.8808704723238407}, {:data0=>0.24109125762874795}, {:data0=>-0.20721397830613209}, {:data0=>-1.0906411461690486}, {:data0=>-0.09954111868933486}, {:data0=>-0.9247921077886418}, {:data0=>-1.2742239962810271}, {:data0=>-0.4822743196862631}, {:data0=>0.9259808232268005}, {:data0=>0.959489484667294}, {:data0=>0.28601514335081274}, {:data0=>0.6447171598954802}, {:data0=>1.0537256861835396}, {:data0=>1.4612941934727692}, {:data0=>-0.39299533055903113}, {:data0=>-0.9444999286344754}, {:data0=>-0.4269189350176718}, {:data0=>0.2928464990282914}, {:data0=>0.01247639221477353}, {:data0=>0.8248032101192979}, {:data0=>-1.3106615696767996}, {:data0=>-1.411577653156667}, {:data0=>1.0159216362477799}, {:data0=>-0.01334472217637502}, {:data0=>-0.2518508184461474}, {:data0=>0.06376495303330221}, {:data0=>-0.49396375924493896}, {:data0=>-0.9690189803527789}, {:data0=>-1.3067411283310797}, {:data0=>-0.8997989407623402}, {:data0=>0.15003500046252732}, {:data0=>2.3553752567680464}, {:data0=>-1.1102904346177118}, {:data0=>1.4306835787297725}, {:data0=>1.9100816096123887}, {:data0=>0.0665299549503833}, {:data0=>-0.5601545164395921}, {:data0=>0.2793659368572483}, {:data0=>0.6152635124923408}, {:data0=>-0.22983200322700525}, {:data0=>1.4305485151016473}, {:data0=>0.82184980155642}, {:data0=>0.34955285801401415}, {:data0=>-0.3099578744967568}, {:data0=>-0.5891396399194381}, {:data0=>0.7768855554861649}, {:data0=>1.4438081133925982}, {:data0=>0.09197762778616453}, {:data0=>-0.7308199360270585}, {:data0=>-0.3544407214452191}, {:data0=>-0.9103183628357074}, {:data0=>-0.7869343838416117}, {:data0=>0.296219329095286}, {:data0=>1.1236333084967791}, {:data0=>-1.8617295687233841}, {:data0=>1.7009947991835466}, {:data0=>0.3460214110038266}, {:data0=>-0.30387100385325666}, {:data0=>0.3336115298709668}, {:data0=>0.6322466420126704}, {:data0=>-0.0002413292070367509}, {:data0=>0.44178864660385647}, {:data0=>-0.6388937907475771}, {:data0=>-0.06929840148519903}, {:data0=>0.934284103994501}, {:data0=>-0.5040768645584967}, {:data0=>-0.8890239944450445}, {:data0=>-0.27415537853498967}, {:data0=>-0.24491291043670244}, {:data0=>-1.5137844741997224}, {:data0=>0.5701434127942203}, {:data0=>0.38121654697915847}, {:data0=>0.08663281515049963}, {:data0=>-0.5126677580747474}, {:data0=>-0.22417137074870178}, {:data0=>0.8954662098756673}, {:data0=>0.9809718162127802}, {:data0=>0.15484272815546196}, {:data0=>-1.0760616589074137}, {:data0=>-0.8899138688096433}, {:data0=>-0.8600199457264419}, {:data0=>0.25657591152404463}, {:data0=>-0.9753753626399232}, {:data0=>0.6633501795513308}, {:data0=>-1.1067644250557143}, {:data0=>-0.5045572064873326}, {:data0=>-0.47517182903890376}, {:data0=>1.1406131093901086}, {:data0=>-0.4937667303555668}, {:data0=>0.7088283925891212}, {:data0=>0.2385628314497042}, {:data0=>-0.6717923576508869}, {:data0=>-0.41992426095971963}, {:data0=>-0.11678110476775434}, {:data0=>1.2983772163103782}, {:data0=>0.4520065285382456}, {:data0=>0.2503674182700696}, {:data0=>0.9461366227216325}, {:data0=>1.2843428842910225}, {:data0=>0.22390981301694546}, {:data0=>-2.086945050785363}, {:data0=>1.0351627098739362}, {:data0=>0.16933668768538268}, {:data0=>0.4131259433068496}, {:data0=>0.7705134054681814}, {:data0=>0.5772221713825463}, {:data0=>1.0870438012615116}, {:data0=>0.19218145741908393}, {:data0=>-0.7829083158238721}, {:data0=>0.767317623070789}, {:data0=>0.23305642778817134}, {:data0=>1.42867838839247}, {:data0=>-0.987047794830326}, {:data0=>-1.2785399517066145}, {:data0=>-1.013361220900292}, {:data0=>0.7977230619303952}, {:data0=>1.3943572983533747}, {:data0=>1.978746974229955}, {:data0=>-0.11815744864506775}, {:data0=>0.09698768995073861}, {:data0=>-2.6725326623671797}, {:data0=>0.38821835933282595}, {:data0=>0.7082356919849898}, {:data0=>-1.3035533855445627}, {:data0=>1.593248449181295}, {:data0=>0.6813611211756919}, {:data0=>1.0323874926256862}, {:data0=>-0.6938539520273191}, {:data0=>-1.7439942215649682}, {:data0=>1.6801025270694638}, {:data0=>0.3548058862474898}, {:data0=>0.6756888275086548}, {:data0=>-0.8013342465094506}, {:data0=>0.5932323055528301}, {:data0=>-0.6260289022310813}, {:data0=>-0.3118161776991385}, {:data0=>-2.0365120642947914}, {:data0=>-0.9676778659436849}, {:data0=>-1.2653804246455123}, {:data0=>0.39021345244277983}, {:data0=>-1.0879129222796493}, {:data0=>-0.09329296991258713}, {:data0=>-0.19069945931837665}, {:data0=>0.5805608105170529}, {:data0=>-0.7272390240455148}, {:data0=>1.5855055291947373}, {:data0=>-0.6780359447857173}, {:data0=>-0.011920160264044929}, {:data0=>0.07809431524602424}, {:data0=>-1.0975297544941867}, {:data0=>0.9612268467454157}, {:data0=>-0.6553730354318007}, {:data0=>-1.0394589708133866}, {:data0=>-0.27133853505395983}, {:data0=>-0.3942947297506667}, {:data0=>-1.0326964826152538}, {:data0=>-1.0730686560824927}, {:data0=>0.5164867063092158}, {:data0=>-0.4119409734506777}, {:data0=>-0.6595487858270768}, {:data0=>-2.131408730642706}, {:data0=>-0.9939090592093246}, {:data0=>-0.5328062158220584}, {:data0=>-0.4722817435446632}, {:data0=>-0.2742778719874346}, {:data0=>-1.2130693309038425}, {:data0=>-0.1789005136312978}, {:data0=>0.445696308415928}, {:data0=>-1.5521444542190936}, {:data0=>-0.47163213285338}, {:data0=>1.7367162289501283}, {:data0=>-0.2915813505339074}, {:data0=>-0.9687721038969431}, {:data0=>-0.26385160018075676}, {:data0=>-1.109631109003237}, {:data0=>-0.577557000898267}, {:data0=>-0.3635490145946746}, {:data0=>1.4592824793359025}, {:data0=>1.2991152102295138}, {:data0=>-1.55271313851336}, {:data0=>-0.13786311180818359}, {:data0=>-0.6745363948110701}, {:data0=>0.18654408812057127}, {:data0=>0.2571816201695915}, {:data0=>-0.22116707972522734}, {:data0=>0.7049477698468574}, {:data0=>-0.8050614231975747}, {:data0=>-0.8694609552663568}, {:data0=>-0.6013894943973097}, {:data0=>-1.020867231984983}, {:data0=>1.0937481972936889}, {:data0=>1.139160030284275}, {:data0=>0.8282651146154354}, {:data0=>-1.4329914488613928}, {:data0=>0.33027827147615857}, {:data0=>0.870068309487045}, {:data0=>-0.47260689063541667}, {:data0=>1.5399702586307311}, {:data0=>-0.2618305146410183}, {:data0=>0.05472001738901784}, {:data0=>0.2567115249123426}, {:data0=>-0.9494639922248708}, {:data0=>0.42547396570498375}, {:data0=>-1.5630880166237087}, {:data0=>-0.738530047514518}, {:data0=>-0.39564536497250585}, {:data0=>-1.029932332654171}, {:data0=>-2.3554096579591657}, {:data0=>0.540399381195828}, {:data0=>-0.23960236041937766}, {:data0=>-0.6248111857144585}, {:data0=>-1.2416087529965285}, {:data0=>0.779998174304385}, {:data0=>0.2257104200908942}, {:data0=>-2.2109389418258947}, {:data0=>-1.4586656849682147}, {:data0=>0.23158757359819088}, {:data0=>0.9495721827485999}, {:data0=>0.1620071501144229}, {:data0=>0.11022346173762346}, {:data0=>0.2022731241498852}, {:data0=>0.7773591426009078}, {:data0=>0.43940700811624117}, {:data0=>-2.320581442348612}, {:data0=>-0.32443280777150857}, {:data0=>-0.30876021066720405}, {:data0=>-0.34461390841670064}, {:data0=>0.15265004437239385}, {:data0=>0.6343487736636895}, {:data0=>1.605010010888152}, {:data0=>-0.23745280986348852}, {:data0=>0.5100455682709342}, {:data0=>1.7477908120585819}, {:data0=>0.3993163134512751}, {:data0=>-2.95633965868123}, {:data0=>0.22355028602847396}, {:data0=>-0.017874224555468728}, {:data0=>1.0143172889141914}, {:data0=>0.1759708720857853}, {:data0=>0.6558145704424914}, {:data0=>0.012583973854511534}, {:data0=>-0.8535727723117146}, {:data0=>-0.38071019356780905}, {:data0=>-0.5067723946773355}, {:data0=>0.5440731761303238}, {:data0=>-0.8047915444118493}, {:data0=>-0.8820436945413028}, {:data0=>-1.8570878281442402}, {:data0=>-0.7643179742207766}, {:data0=>1.8155312261068057}, {:data0=>-0.7978795815823985}, {:data0=>-1.6455750915263379}, {:data0=>-0.11605931339042845}, {:data0=>1.6982503873535184}, {:data0=>1.5722804059789215}, {:data0=>-1.3789756520817968}, {:data0=>-0.10722384968329507}, {:data0=>2.3225769143460897}, {:data0=>-1.080075964378253}, {:data0=>-0.2836521046702711}, {:data0=>0.6345132850203434}, {:data0=>0.6945341811920392}, {:data0=>-1.4093422856238793}, {:data0=>0.09154077950329217}, {:data0=>0.24110227636370982}, {:data0=>0.8022389985692824}, {:data0=>-1.329696980262615}, {:data0=>-0.009340830140172387}, {:data0=>-1.6664425184682525}, {:data0=>-0.5404029712290218}, {:data0=>0.3149922206341071}, {:data0=>0.44787298889841765}, {:data0=>0.37415745868928024}, {:data0=>0.198721252997867}, {:data0=>0.6471120675085038}, {:data0=>-0.683360202987492}, {:data0=>-0.27564135826052066}, {:data0=>-0.4245938745838536}, {:data0=>0.21339367361666797}, {:data0=>0.2709899654047986}, {:data0=>0.382908466385661}, {:data0=>1.6413309934408096}, {:data0=>-0.268423417083218}, {:data0=>0.2385357011993727}, {:data0=>-0.805135402350497}, {:data0=>-0.37238800127578503}, {:data0=>-1.4164839147403243}, {:data0=>0.3827615276632438}, {:data0=>0.5748368218738851}, {:data0=>0.7014200268725441}, {:data0=>-1.5131820021428077}, {:data0=>-1.0005008710203012}, {:data0=>-0.07721910956162456}, {:data0=>-1.030532006462256}, {:data0=>1.8904225040705724}, {:data0=>0.6079495962177489}, {:data0=>-0.8750495608428829}, {:data0=>-0.6367865112749538}, {:data0=>0.8303272343208502}, {:data0=>-1.1934555306428722}, {:data0=>0.5403488617675799}, {:data0=>-1.140173069241979}, {:data0=>1.4988499814415557}, {:data0=>-0.7887867636533177}, {:data0=>-1.6830815063145943}, {:data0=>0.09885607409689112}, {:data0=>-0.5281978209086443}, {:data0=>-0.5442468654539655}, {:data0=>-1.0617729090306216}, {:data0=>0.2577084727823471}, {:data0=>-1.6609977529063036}, {:data0=>-1.0265100186791247}, {:data0=>-0.5242723625091813}, {:data0=>-0.020396475067553207}, {:data0=>0.739034599238964}, {:data0=>-0.2835864656550049}, {:data0=>1.0000185835354636}, {:data0=>0.5208764092274794}, {:data0=>0.8181231889692338}, {:data0=>-1.1291584944147857}, {:data0=>1.5392875908713324}, {:data0=>1.5302553505536267}, {:data0=>1.3264992118707244}, {:data0=>0.8403258636309887}, {:data0=>-1.5002898373561542}, {:data0=>-0.5960682517051128}, {:data0=>-0.05308261389450308}, {:data0=>0.10556228680492956}, {:data0=>-0.33215927560746533}, {:data0=>0.18661996077423185}, {:data0=>0.29139940876299997}, {:data0=>-0.5273615202917987}, {:data0=>0.7596670502959729}, {:data0=>-0.38265392447342045}, {:data0=>0.24323844659848962}, {:data0=>-0.12432050874797342}, {:data0=>0.28192781111087356}, {:data0=>0.6101634738516026}, {:data0=>-1.6858325389452298}, {:data0=>0.4000934989815741}, {:data0=>-1.7231175184915875}, {:data0=>-0.05476299987234205}, {:data0=>-0.7543204755246085}, {:data0=>-0.04683504413835047}, {:data0=>-0.3561537360290649}, {:data0=>-0.7832995386544648}, {:data0=>-1.6601566104627796}, {:data0=>-0.04711397723192406}, {:data0=>-1.3827507012357543}, {:data0=>-1.996906738153835}, {:data0=>0.27824582087561495}, {:data0=>1.204543037566941}, {:data0=>0.3491521949421654}, {:data0=>0.055749514419587524}, {:data0=>-0.6581607338949995}, {:data0=>0.3201179635486434}, {:data0=>-1.3645424907425623}, {:data0=>2.105565894532001}, {:data0=>1.917298969092338}, {:data0=>-0.3809744261161151}, {:data0=>-1.5127227919995503}, {:data0=>0.566783673956133}, {:data0=>0.7157948023336235}, {:data0=>-0.837000391902646}, {:data0=>-0.8105543653193056}, {:data0=>0.33988467831138186}, {:data0=>0.7705019057654561}, {:data0=>-0.8193092936101108}, {:data0=>-1.018355525131145}, {:data0=>-0.4400556639387364}, {:data0=>1.2908888282142794}, {:data0=>0.5462534503220783}, {:data0=>-0.5542047670106953}, {:data0=>-2.164774611032087}, {:data0=>1.2928411254229701}, {:data0=>-0.6823769093158678}, {:data0=>-1.538152832709837}, {:data0=>1.9425140273700185}, {:data0=>-0.5317749344115201}, {:data0=>1.4191600702447513}, {:data0=>0.06248730878640161}, {:data0=>-1.4918787967412972}, {:data0=>-0.1522745821626239}, {:data0=>-1.4849205641201302}, {:data0=>-0.8317764067380758}, {:data0=>1.1487581784693273}, {:data0=>-1.113362276158835}, {:data0=>-0.6724541751552692}, {:data0=>1.792573799457288}, {:data0=>1.287571366346757}, {:data0=>-0.0992477999742381}, {:data0=>-0.9954429311423139}, {:data0=>1.1238176908743722}, {:data0=>-0.9615010399161467}, {:data0=>-0.29985721984194114}, {:data0=>-1.0696133724767647}, {:data0=>0.195852623022298}, {:data0=>1.8573171448690295}, {:data0=>-2.593645589051371}, {:data0=>0.2155078516500246}, {:data0=>-0.9945563964004308}, {:data0=>1.3456763238616476}, {:data0=>-0.8179944392192836}, {:data0=>1.375330105714836}, {:data0=>-0.6810640525899359}, {:data0=>-0.35765069025898055}, {:data0=>1.6248143754635882}, {:data0=>-1.256092254892192}, {:data0=>1.0480226274325073}, {:data0=>0.17631727476993503}, {:data0=>0.36837853327243864}, {:data0=>0.02130866895721433}, {:data0=>1.3880278769986778}, {:data0=>-1.5046403515853952}, {:data0=>-0.9536242181743815}, {:data0=>0.48198195429647545}, {:data0=>0.02219896142964032}, {:data0=>-0.9965695293358715}, {:data0=>0.721301836638944}, {:data0=>-1.2895545068113132}, {:data0=>0.03034446666093623}, {:data0=>-1.7505622900359132}, {:data0=>-0.2144870419157331}, {:data0=>1.7129789746581023}, {:data0=>1.4353158959303198}, {:data0=>-0.21013457019925566}, {:data0=>-0.587964631308127}, {:data0=>-0.3865286618511027}, {:data0=>-1.9908328127021142}, {:data0=>-0.2533743284068586}, {:data0=>-0.43161915622095287}, {:data0=>-0.012264057297710573}, {:data0=>0.8669506369877701}, {:data0=>-0.52019859224443}, {:data0=>-1.0793590718411736}, {:data0=>-1.5882521796265352}, {:data0=>0.9350383973589279}, {:data0=>-0.2749799471657124}, {:data0=>-0.4919250238273435}, {:data0=>-1.1684950602979054}, {:data0=>-2.3873784364574284}, {:data0=>-1.1575603206409895}, {:data0=>0.31452596310373476}, {:data0=>0.5684347439693196}, {:data0=>2.1246716061872406}, {:data0=>-1.596003317778321}, {:data0=>-0.2544365771840976}, {:data0=>-2.1728487672141523}, {:data0=>1.067772802388473}, {:data0=>1.1119517615261345}, {:data0=>0.7960367873907369}, {:data0=>-0.3462236414186223}, {:data0=>-1.2494547436129106}, {:data0=>0.18295755191145247}, {:data0=>-1.3128221435354566}, {:data0=>0.3284932055263252}, {:data0=>-1.086871909016271}, {:data0=>0.5015448037482162}, {:data0=>0.03302834192802842}, {:data0=>-0.7303865926047536}, {:data0=>0.6966455797097374}, {:data0=>0.1997534994396233}, {:data0=>-0.4781197598137328}, {:data0=>1.866428864831352}, {:data0=>0.0366439072537956}, {:data0=>0.10580290996880355}, {:data0=>-0.14018739387729398}, {:data0=>0.06663176123399508}, {:data0=>0.21718876057553813}, {:data0=>1.4187036179123673}, {:data0=>0.6777009927868587}, {:data0=>0.8410267218513457}, {:data0=>0.6736456069877514}, {:data0=>1.2844369616750961}, {:data0=>-0.0007578302769311201}, {:data0=>0.26727785964122286}, {:data0=>0.6040713270258157}, {:data0=>1.3639303277547952}, {:data0=>0.20173782794407852}, {:data0=>0.855362960863034}, {:data0=>-0.3784610376880609}, {:data0=>0.047842895131604446}, {:data0=>-1.040660311225141}, {:data0=>0.02098290502817947}, {:data0=>-1.2728199361162373}, {:data0=>-0.8673899959267218}, {:data0=>-1.2927538544123287}, {:data0=>1.2516041913121925}, {:data0=>-0.8476261930390745}, {:data0=>-0.14660854200065673}, {:data0=>-0.875004610383164}, {:data0=>1.6669785999158848}, {:data0=>-0.9468447543743125}, {:data0=>-1.0628871137550617}, {:data0=>0.7045945143168808}, {:data0=>1.0131160586630845}, {:data0=>0.9660929646060874}, {:data0=>-1.525493946256926}, {:data0=>-1.702812124764252}, {:data0=>-0.004209122673461482}, {:data0=>-1.0624303971480369}, {:data0=>0.18848727259994358}, {:data0=>1.5845949812373856}, {:data0=>0.17427217754422136}, {:data0=>-0.14572952259275299}, {:data0=>0.8791117808354899}, {:data0=>0.37184793616539596}, {:data0=>-0.16545539122373887}, {:data0=>-0.21703146385188993}, {:data0=>0.7647215480575553}, {:data0=>-0.7241019571096319}, {:data0=>-0.03722910761625552}, {:data0=>0.751260690190976}, {:data0=>0.05751718485146406}, {:data0=>-1.6313727451118616}, {:data0=>0.12172469636966432}, {:data0=>-1.7553552909370234}, {:data0=>-0.9751815641805683}, {:data0=>-0.681173851110986}, {:data0=>1.6750761627139665}, {:data0=>0.280618756179859}, {:data0=>-0.16444018534640445}, {:data0=>0.7488839246537488}, {:data0=>-0.9021802205495099}, {:data0=>-0.09536424117599694}, {:data0=>-0.3805725367171868}, {:data0=>-0.20867837286059387}, {:data0=>-0.5498452201750924}, {:data0=>-1.5835772822144787}, {:data0=>1.0296590881359118}, {:data0=>1.240573349721571}, {:data0=>-0.598923509880147}, {:data0=>-1.2105356152930167}, {:data0=>-0.056039757368081415}, {:data0=>-1.8561686714291354}, {:data0=>0.6792063372663509}, {:data0=>-0.20943933976680584}, {:data0=>-0.33592457667905323}, {:data0=>-0.45936547792572346}, {:data0=>-0.7585037294808246}, {:data0=>2.8000551877997832}, {:data0=>-0.34621630767661404}, {:data0=>-2.650681665197741}, {:data0=>2.3122380566558136}, {:data0=>0.5144793595077701}, {:data0=>-0.10370174070665156}, {:data0=>-0.4597653977538201}, {:data0=>-1.0003775957016285}, {:data0=>0.7371660203616422}, {:data0=>-2.2546183865078384}, {:data0=>-1.6170820389338751}, {:data0=>-0.6530348251656847}, {:data0=>-0.13633474620276234}, {:data0=>-0.913705841621269}, {:data0=>-0.8322326956448116}, {:data0=>-2.2595804413324183}, {:data0=>-0.4750382117773252}, {:data0=>-0.984199568701611}, {:data0=>-0.3968454979790981}, {:data0=>-0.1657857864371768}, {:data0=>0.2722842911879957}, {:data0=>0.9536334802203176}, {:data0=>-0.8885842842026238}, {:data0=>-0.2134236072118529}, {:data0=>1.1719178552174119}, {:data0=>-0.5768471560441143}, {:data0=>-1.7622759149914886}, {:data0=>0.30512280951182463}, {:data0=>0.7312762428511962}, {:data0=>0.020822816232046397}, {:data0=>0.5712321102688394}, {:data0=>0.30103017681337446}, {:data0=>-0.396501140735858}, {:data0=>0.20830974208984634}, {:data0=>0.3159141425035249}, {:data0=>1.4957163033517182}, {:data0=>0.3471522160431206}, {:data0=>1.2073169219585007}, {:data0=>-1.956305815449871}, {:data0=>2.055523904749957}, {:data0=>1.65679377103383}, {:data0=>-0.2126240510408639}, {:data0=>-2.1488978641298258}, {:data0=>-1.2858470742191126}, {:data0=>0.4315926765207241}, {:data0=>0.6087158645839083}, {:data0=>0.7978315542745296}, {:data0=>0.3894683441602477}, {:data0=>1.291867251607463}, {:data0=>0.7701184112081925}, {:data0=>0.9684479069619821}, {:data0=>0.14213839957835248}, {:data0=>2.056746752657385}, {:data0=>0.7874610144933539}, {:data0=>-0.896701220730008}, {:data0=>1.3202604193631475}, {:data0=>-0.48298872627790707}, {:data0=>0.19220412911105103}, {:data0=>-0.1755546031799358}, {:data0=>-0.7937340419149573}, {:data0=>0.34707057329355817}, {:data0=>0.008766167656312598}, {:data0=>-0.7869875330673647}, {:data0=>-0.6278077132669272}, {:data0=>-1.344607355253148}, {:data0=>-0.744920160935017}, {:data0=>-2.1713715745529787}, {:data0=>-0.04490419893237062}, {:data0=>0.5671117612408522}, {:data0=>-0.21975689164359166}, {:data0=>-0.5413333819095609}, {:data0=>0.2675924695968724}, {:data0=>0.09102877841640383}, {:data0=>-0.07575649465564285}, {:data0=>-1.4133132252032259}, {:data0=>0.7555022920470678}, {:data0=>-0.06603798208604002}, {:data0=>0.9608592701579997}, {:data0=>0.4583263353706959}, {:data0=>1.1583397387324326}, {:data0=>1.219866212703607}, {:data0=>-0.9447756599533267}, {:data0=>0.37884138547657037}, {:data0=>-0.6486389392206457}, {:data0=>0.9824548482470392}, {:data0=>2.0849523914390096}, {:data0=>-0.013315728996477635}, {:data0=>0.3857639345020733}, {:data0=>-1.5333853205836203}, {:data0=>-0.6641202544585658}, {:data0=>-0.3110788610668977}, {:data0=>-1.4382306112505088}, {:data0=>-0.8894292249816823}, {:data0=>0.8594475275573193}, {:data0=>0.301890640392798}, {:data0=>-0.5014174772533299}, {:data0=>-0.29850407863070894}, {:data0=>0.6437801198385341}, {:data0=>0.8159816555485377}, {:data0=>0.5796703226161234}, {:data0=>-0.48209834340950436}, {:data0=>0.6822353508411232}, {:data0=>-0.47240736325751004}, {:data0=>-0.025786782523402194}, {:data0=>0.6315797311966301}, {:data0=>-1.9712820228188228}, {:data0=>0.4705354446236065}, {:data0=>-0.5405294541108864}, {:data0=>-0.19045159435059208}, {:data0=>1.251032662184031}, {:data0=>0.5823905870562827}, {:data0=>2.472861308597257}, {:data0=>-0.18074491720583544}, {:data0=>1.469693772602618}, {:data0=>-0.47841953827121}, {:data0=>-0.7164029804907083}, {:data0=>0.24937755176414736}, {:data0=>-2.333595762010216}, {:data0=>-1.1480127882318314}, {:data0=>0.7945233399731327}, {:data0=>-0.336295183825232}, {:data0=>-1.2312396323343873}, {:data0=>-0.07956314295451318}, {:data0=>-0.8121274552977775}, {:data0=>-1.5981220924447153}, {:data0=>-0.7526697701796738}, {:data0=>-0.4110773877451788}, {:data0=>0.6012504766719475}, {:data0=>1.0663629943737636}, {:data0=>-0.5336843820594391}, {:data0=>0.1201572741366057}, {:data0=>1.8399509881620413}, {:data0=>0.9735456327254625}, {:data0=>0.5722842977079913}, {:data0=>-1.939285944656343}, {:data0=>-0.6744263352398402}, {:data0=>1.7355314894430867}, {:data0=>0.764313709937807}, {:data0=>-1.2681956534022543}, {:data0=>1.2687221658348147}, {:data0=>0.95791906777179}, {:data0=>-0.09426573538616788}, {:data0=>-0.09968335684721406}, {:data0=>-0.33751766167571595}, {:data0=>0.4321443584366686}, {:data0=>0.8137563355192747}, {:data0=>-1.0552302256890422}, {:data0=>1.082880085172872}, {:data0=>-0.10675254306733842}, {:data0=>0.38251138416174424}, {:data0=>0.24689386213666728}, {:data0=>0.924347614773583}, {:data0=>-0.9399746156535983}, {:data0=>2.1140918916294313}, {:data0=>-0.7101155781252269}, {:data0=>-0.063593345530754}, {:data0=>0.49646930210589757}, {:data0=>-0.7881509535968864}, {:data0=>-0.25276977818422186}, {:data0=>0.055110754723470906}, {:data0=>0.9722329989045313}, {:data0=>1.7354552743386689}, {:data0=>-0.20777616282764813}, {:data0=>0.7218939294953335}, {:data0=>1.508833195531353}, {:data0=>-0.5630970012997759}, {:data0=>-1.1515140213309096}, {:data0=>-0.759404425812193}, {:data0=>-1.3898022669965469}, {:data0=>2.4940564866349297}, {:data0=>-0.46153768836857445}, {:data0=>-0.7734112026593702}, {:data0=>-0.5558128623680559}, {:data0=>0.4757859764649587}, {:data0=>-1.2443040580211897}, {:data0=>-0.03743272174378688}, {:data0=>-1.4295419745679407}, {:data0=>-0.009584146239586866}, {:data0=>0.9549535553660305}, {:data0=>0.4976640810396101}, {:data0=>0.8221461871801573}, {:data0=>-0.21161745989834713}, {:data0=>-0.9348033489114724}, {:data0=>0.7691575353552577}]>}, :extension=>[]}>"
      ]
     },
     "metadata": {},
     "output_type": "display_data"
    }
   ],
   "source": [
    "require 'statsample'\n",
    "include Statsample::Shorthand\n",
    "\n",
    "a = rnorm(1000)\n",
    "a.plot type: :histogram do |p|\n",
    "  p.yrange [0,200]\n",
    "  p.y_label \"Frequency\"\n",
    "  p.x_label \"Bins\"\n",
    "end"
   ]
  },
  {
   "cell_type": "markdown",
   "metadata": {},
   "source": [
    "#### More plotting support\n",
    "\n",
    "Apart from interfacing with nyaplot, Daru::Vector also works out-of-the-box with rubyvis through statsample. To see generating plots with statsample and rubyvis in action, checkout the following notebooks:\n",
    "\n",
    "* [Histogram](http://nbviewer.ipython.org/github/SciRuby/sciruby-notebooks/blob/master/Visualization/Creating%20a%20Histogram.ipynb)\n",
    "* [Scatter Plot](http://nbviewer.ipython.org/github/SciRuby/sciruby-notebooks/blob/master/Visualization/Scatterplot%20with%20statsample.ipynb)\n",
    "* [Box Plot](http://nbviewer.ipython.org/github/SciRuby/sciruby-notebooks/blob/master/Visualization/Boxplot%20with%20daru%20and%20statsample.ipynb)"
   ]
  }
 ],
 "metadata": {
  "kernelspec": {
   "display_name": "Ruby 2.2.1",
   "language": "ruby",
   "name": "ruby"
  },
  "language_info": {
   "file_extension": "rb",
   "mimetype": "application/x-ruby",
   "name": "ruby",
   "version": "2.2.1"
  }
 },
 "nbformat": 4,
 "nbformat_minor": 0
}
